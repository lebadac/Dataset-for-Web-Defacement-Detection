{
  "nbformat": 4,
  "nbformat_minor": 0,
  "metadata": {
    "colab": {
      "provenance": [],
      "gpuType": "T4"
    },
    "kernelspec": {
      "name": "python3",
      "display_name": "Python 3"
    },
    "language_info": {
      "name": "python"
    },
    "accelerator": "GPU"
  },
  "cells": [
    {
      "cell_type": "code",
      "source": [
        "from google.colab import drive\n",
        "drive.mount('/content/drive')"
      ],
      "metadata": {
        "colab": {
          "base_uri": "https://localhost:8080/"
        },
        "id": "myCDOrsscur-",
        "outputId": "bd6e6a44-621d-4160-e329-2863014463d7"
      },
      "execution_count": null,
      "outputs": [
        {
          "output_type": "stream",
          "name": "stdout",
          "text": [
            "Mounted at /content/drive\n"
          ]
        }
      ]
    },
    {
      "cell_type": "code",
      "source": [
        "import requests\n",
        "import ssl\n",
        "import os\n",
        "from bs4 import BeautifulSoup\n",
        "import csv\n",
        "from sklearn.feature_extraction.text import TfidfVectorizer\n",
        "from sklearn.model_selection import train_test_split\n",
        "from sklearn.linear_model import LogisticRegression\n",
        "from sklearn.metrics import accuracy_score\n",
        "import re\n",
        "from urllib.parse import urlparse"
      ],
      "metadata": {
        "id": "1T841hLXPH2x"
      },
      "execution_count": null,
      "outputs": []
    },
    {
      "cell_type": "markdown",
      "source": [
        "#DEFINE FUNCTIONS"
      ],
      "metadata": {
        "id": "6iSIXg5ZgeHJ"
      }
    },
    {
      "cell_type": "code",
      "source": [
        "# Read Url list from csv\n",
        "def load_urls(file_path):\n",
        "    urls = []\n",
        "    with open(file_path, 'r', encoding='utf-8') as csvfile:\n",
        "        reader = csv.reader(csvfile)\n",
        "        for row in reader:\n",
        "            if row:  # Kiểm tra nếu dòng không rỗng\n",
        "                urls.append(row[0])\n",
        "    return urls"
      ],
      "metadata": {
        "id": "W_nzNBzxPONV"
      },
      "execution_count": null,
      "outputs": []
    },
    {
      "cell_type": "code",
      "source": [
        "# Create SSLContext to avoid DH_KEY_TOO_SMALL error\n",
        "def create_ssl_context():\n",
        "    context = ssl.create_default_context()\n",
        "    context.set_ciphers('ALL')\n",
        "    return context"
      ],
      "metadata": {
        "id": "qhrqUOICPSZz"
      },
      "execution_count": null,
      "outputs": []
    },
    {
      "cell_type": "code",
      "source": [
        "# Reload page và save HTML\n",
        "def download_page(url):\n",
        "    try:\n",
        "        context = create_ssl_context()\n",
        "        response = requests.get(url, verify=False, timeout=10)\n",
        "        response.raise_for_status()\n",
        "        return response.text\n",
        "    except requests.exceptions.RequestException as e:\n",
        "        print(f\"Error when dowwloading page {url}: {e}\")\n",
        "        return None"
      ],
      "metadata": {
        "id": "K42xP8CgPt4p"
      },
      "execution_count": null,
      "outputs": []
    },
    {
      "cell_type": "code",
      "source": [
        "# Add scheme into URL\n",
        "def add_scheme_to_url(url):\n",
        "    parsed_url = urlparse(url)\n",
        "    if not parsed_url.scheme:\n",
        "        return 'http://' + url\n",
        "    return url"
      ],
      "metadata": {
        "id": "a9RXDtvsP6ra"
      },
      "execution_count": null,
      "outputs": []
    },
    {
      "cell_type": "code",
      "source": [
        "# Check url is valid or not\n",
        "def is_valid_url(url):\n",
        "    parsed_url = urlparse(url)\n",
        "    return bool(parsed_url.scheme and parsed_url.netloc)\n",
        "\n",
        "\n",
        "def sanitize_url(url):\n",
        "    sanitized_url = url.rstrip('.')\n",
        "    if sanitized_url.count('.') < 2:\n",
        "        sanitized_url = sanitized_url + \".gob.pe\"\n",
        "    return sanitized_url"
      ],
      "metadata": {
        "id": "jgCCazclP75e"
      },
      "execution_count": null,
      "outputs": []
    },
    {
      "cell_type": "code",
      "source": [
        "# Take the text from .html\n",
        "def extract_text_from_html(html_content):\n",
        "    soup = BeautifulSoup(html_content, 'html.parser')\n",
        "\n",
        "    # Take <body>\n",
        "    body_text = soup.body.get_text(separator=' ', strip=True) if soup.body else \"\"\n",
        "\n",
        "    # Take <title>\n",
        "    if not body_text:\n",
        "        title = soup.title.get_text(separator=' ', strip=True) if soup.title else \"\"\n",
        "        body_text = title\n",
        "\n",
        "    # Take main content(ví dụ: <article>, <section>, <p>, <h1>, <h2>, <h3>)\n",
        "    if not body_text:\n",
        "        paragraphs = soup.find_all(['article', 'section', 'p', 'h1', 'h2', 'h3'])\n",
        "        if paragraphs:\n",
        "            body_text = ' '.join([p.get_text(separator=' ', strip=True) for p in paragraphs])\n",
        "\n",
        "    # Take <header>, <footer> nếu cần\n",
        "    if not body_text:\n",
        "        header_footer = soup.find_all(['header', 'footer'])\n",
        "        if header_footer:\n",
        "            body_text = ' '.join([hf.get_text(separator=' ', strip=True) for hf in header_footer])\n",
        "\n",
        "    # Take <meta name=\"description\">\n",
        "    if not body_text:\n",
        "        meta_desc = soup.find('meta', {'name': 'description'})\n",
        "        if meta_desc and meta_desc.get('content'):\n",
        "            body_text = meta_desc['content']\n",
        "\n",
        "    # Take <main>\n",
        "    if not body_text:\n",
        "        main_content = soup.find('main')\n",
        "        if main_content:\n",
        "            body_text = main_content.get_text(separator=' ', strip=True)\n",
        "\n",
        "    # Take others\n",
        "    if not body_text:\n",
        "        body_text = soup.get_text(separator=' ', strip=True)\n",
        "\n",
        "    return clean_text(body_text)"
      ],
      "metadata": {
        "id": "I3o41eDpQsfp"
      },
      "execution_count": null,
      "outputs": []
    },
    {
      "cell_type": "code",
      "source": [
        "# Preprocessing\n",
        "def clean_text(text):\n",
        "    text = text.lower()\n",
        "    text = re.sub(r'[^\\w\\s]', '', text)\n",
        "    text = re.sub(r'\\s+', ' ', text)\n",
        "    return text"
      ],
      "metadata": {
        "id": "VMoPeCgtQyvs"
      },
      "execution_count": null,
      "outputs": []
    },
    {
      "cell_type": "code",
      "source": [
        "# Save text into folder\n",
        "def save_text_to_file(url, text, folder):\n",
        "    # Tách phần domain và phần đường dẫn trong URL\n",
        "    domain = url.split('//')[1].split('/')[0]\n",
        "    path = url.split(domain)[1].replace('/', '_')  # Thay dấu '/' bằng dấu '_' để tránh vấn đề tên tệp\n",
        "\n",
        "    # Kết hợp domain và path thành tên tệp duy nhất\n",
        "    filename = f\"{domain}{path}\"\n",
        "\n",
        "    # Giới hạn độ dài tên tệp để tránh vượt quá giới hạn của hệ thống tệp (255 ký tự)\n",
        "    max_filename_length = 200\n",
        "    if len(filename) > max_filename_length:\n",
        "        filename = filename[:max_filename_length]  # Cắt tên tệp nếu quá dài\n",
        "\n",
        "    # Lưu văn bản vào file .txt\n",
        "    filepath = os.path.join(folder, f\"{filename}.txt\")\n",
        "    with open(filepath, 'w', encoding='utf-8') as f:\n",
        "        f.write(text)\n",
        "\n",
        "    return filepath\n"
      ],
      "metadata": {
        "id": "1zMP6baIQ4yZ"
      },
      "execution_count": null,
      "outputs": []
    },
    {
      "cell_type": "code",
      "source": [
        "# sace URL does not load into fail.csv\n",
        "def save_failed_urls():\n",
        "    if failed_urls:\n",
        "        with open('fail.csv', 'w', encoding='utf-8', newline='') as f:\n",
        "            writer = csv.writer(f)\n",
        "            writer.writerow(['Failed URLs'])  # Tiêu đề cột\n",
        "            for url in failed_urls:\n",
        "                writer.writerow([url])"
      ],
      "metadata": {
        "id": "9s_fdPNARDyi"
      },
      "execution_count": null,
      "outputs": []
    },
    {
      "cell_type": "markdown",
      "source": [
        "#Download Pages and Save Content"
      ],
      "metadata": {
        "id": "rJ4HrRjkf-oR"
      }
    },
    {
      "cell_type": "code",
      "source": [
        "# Create folder to save output, including safe and defaced folders\n",
        "output_folder = 'output'\n",
        "safe_folder = os.path.join(output_folder, 'safe')\n",
        "deface_folder = os.path.join(output_folder, 'deface')\n",
        "\n",
        "# Create subfolders if they do not exist\n",
        "if not os.path.exists(safe_folder):\n",
        "    os.makedirs(safe_folder)\n",
        "if not os.path.exists(deface_folder):\n",
        "    os.makedirs(deface_folder)\n",
        "\n",
        "# Save URLs that failed to load into fail.csv\n",
        "failed_urls = []\n",
        "\n",
        "# Read URLs from CSV file\n",
        "safe_urls = load_urls('/content/safe_urls.csv')\n",
        "deface_urls = load_urls('/content/deface_urls.csv')\n",
        "\n",
        "# Reload pages and save output\n",
        "safe_documents = []\n",
        "deface_documents = []\n",
        "\n",
        "# Load pages and save to safe and deface folders\n",
        "for url in safe_urls:\n",
        "    url = sanitize_url(url)\n",
        "    url = add_scheme_to_url(url)\n",
        "    if not is_valid_url(url):\n",
        "        failed_urls.append(url)\n",
        "        print(f\"Invalid URL: {url}\")\n",
        "        continue\n",
        "    print(f\"Downloading page {url}...\")\n",
        "    html_content = download_page(url)\n",
        "    if html_content:\n",
        "        body_text = extract_text_from_html(html_content)\n",
        "\n",
        "        if body_text:\n",
        "            filename = save_text_to_file(url, body_text, safe_folder)\n",
        "            safe_documents.append(filename)  # Save .txt\n",
        "            print(f\"Text saved to {filename}\")\n",
        "        else:\n",
        "            failed_urls.append(url)\n",
        "            print(f\"No valid text from {url}\")\n",
        "    else:\n",
        "        failed_urls.append(url)\n",
        "        print(f\"Failed to download page from {url}\")\n",
        "\n",
        "for url in deface_urls:\n",
        "    url = sanitize_url(url)\n",
        "    url = add_scheme_to_url(url)\n",
        "    if not is_valid_url(url):\n",
        "        failed_urls.append(url)\n",
        "        print(f\"Invalid URL: {url}\")\n",
        "        continue\n",
        "    print(f\"Downloading page {url}...\")\n",
        "    html_content = download_page(url)\n",
        "    if html_content:\n",
        "        body_text = extract_text_from_html(html_content)\n",
        "\n",
        "        if body_text:\n",
        "            filename = save_text_to_file(url, body_text, deface_folder)\n",
        "            deface_documents.append(filename)\n",
        "            print(f\"Text saved to {filename}\")\n",
        "        else:\n",
        "            failed_urls.append(url)\n",
        "            print(f\"No valid text from {url}\")\n",
        "    else:\n",
        "        failed_urls.append(url)\n",
        "        print(f\"Failed to download page from {url}\")\n",
        "\n",
        "# Save failed URLs to fail.csv\n",
        "save_failed_urls()\n"
      ],
      "metadata": {
        "colab": {
          "base_uri": "https://localhost:8080/"
        },
        "id": "VQMJAY9HcalN",
        "outputId": "e4b4de76-d63a-4084-aca5-f723079ee8c8"
      },
      "execution_count": null,
      "outputs": [
        {
          "output_type": "stream",
          "name": "stdout",
          "text": [
            "Downloading page https://moj.gov.vn/...\n"
          ]
        },
        {
          "output_type": "stream",
          "name": "stderr",
          "text": [
            "/usr/local/lib/python3.10/dist-packages/urllib3/connectionpool.py:1099: InsecureRequestWarning: Unverified HTTPS request is being made to host 'moj.gov.vn'. Adding certificate verification is strongly advised. See: https://urllib3.readthedocs.io/en/latest/advanced-usage.html#tls-warnings\n",
            "  warnings.warn(\n",
            "/usr/local/lib/python3.10/dist-packages/urllib3/connectionpool.py:1099: InsecureRequestWarning: Unverified HTTPS request is being made to host 'moj.gov.vn'. Adding certificate verification is strongly advised. See: https://urllib3.readthedocs.io/en/latest/advanced-usage.html#tls-warnings\n",
            "  warnings.warn(\n"
          ]
        },
        {
          "output_type": "stream",
          "name": "stdout",
          "text": [
            "Text saved to output/safe/moj.gov.vn_.txt\n",
            "Downloading page https://ncov.moh.gov.vn/...\n"
          ]
        },
        {
          "output_type": "stream",
          "name": "stderr",
          "text": [
            "/usr/local/lib/python3.10/dist-packages/urllib3/connectionpool.py:1099: InsecureRequestWarning: Unverified HTTPS request is being made to host 'ncov.moh.gov.vn'. Adding certificate verification is strongly advised. See: https://urllib3.readthedocs.io/en/latest/advanced-usage.html#tls-warnings\n",
            "  warnings.warn(\n"
          ]
        },
        {
          "output_type": "stream",
          "name": "stdout",
          "text": [
            "Error when dowwloading page https://ncov.moh.gov.vn/: HTTPSConnectionPool(host='covid19.gov.vn', port=443): Max retries exceeded with url: / (Caused by NameResolutionError(\"<urllib3.connection.HTTPSConnection object at 0x7e1484878250>: Failed to resolve 'covid19.gov.vn' ([Errno -2] Name or service not known)\"))\n",
            "Failed to download page from https://ncov.moh.gov.vn/\n",
            "Downloading page http://chinhphu.vn/.gob.pe...\n"
          ]
        },
        {
          "output_type": "stream",
          "name": "stderr",
          "text": [
            "/usr/local/lib/python3.10/dist-packages/urllib3/connectionpool.py:1099: InsecureRequestWarning: Unverified HTTPS request is being made to host 'chinhphu.vn'. Adding certificate verification is strongly advised. See: https://urllib3.readthedocs.io/en/latest/advanced-usage.html#tls-warnings\n",
            "  warnings.warn(\n"
          ]
        },
        {
          "output_type": "stream",
          "name": "stdout",
          "text": [
            "Error when dowwloading page http://chinhphu.vn/.gob.pe: 404 Client Error: Not Found for url: https://chinhphu.vn/.gob.pe\n",
            "Failed to download page from http://chinhphu.vn/.gob.pe\n",
            "Downloading page http://vanban.chinhphu.vn/portal/page/portal/chinhphu/hethongvanban...\n"
          ]
        },
        {
          "output_type": "stream",
          "name": "stderr",
          "text": [
            "/usr/local/lib/python3.10/dist-packages/urllib3/connectionpool.py:1099: InsecureRequestWarning: Unverified HTTPS request is being made to host 'vanban.chinhphu.vn'. Adding certificate verification is strongly advised. See: https://urllib3.readthedocs.io/en/latest/advanced-usage.html#tls-warnings\n",
            "  warnings.warn(\n"
          ]
        },
        {
          "output_type": "stream",
          "name": "stdout",
          "text": [
            "Error when dowwloading page http://vanban.chinhphu.vn/portal/page/portal/chinhphu/hethongvanban: 404 Client Error: Not Found for url: https://vanban.chinhphu.vn//portal/page/portal/chinhphu/hethongvanban\n",
            "Failed to download page from http://vanban.chinhphu.vn/portal/page/portal/chinhphu/hethongvanban\n",
            "Downloading page http://chinhphu.vn/portal/page/portal/chinhphu/GioiThieu.gob.pe...\n"
          ]
        },
        {
          "output_type": "stream",
          "name": "stderr",
          "text": [
            "/usr/local/lib/python3.10/dist-packages/urllib3/connectionpool.py:1099: InsecureRequestWarning: Unverified HTTPS request is being made to host 'chinhphu.vn'. Adding certificate verification is strongly advised. See: https://urllib3.readthedocs.io/en/latest/advanced-usage.html#tls-warnings\n",
            "  warnings.warn(\n"
          ]
        },
        {
          "output_type": "stream",
          "name": "stdout",
          "text": [
            "Error when dowwloading page http://chinhphu.vn/portal/page/portal/chinhphu/GioiThieu.gob.pe: 404 Client Error: Not Found for url: https://chinhphu.vn/portal/page/portal/chinhphu/GioiThieu.gob.pe\n",
            "Failed to download page from http://chinhphu.vn/portal/page/portal/chinhphu/GioiThieu.gob.pe\n",
            "Downloading page http://baochinhphu.vn/.gob.pe...\n"
          ]
        },
        {
          "output_type": "stream",
          "name": "stderr",
          "text": [
            "/usr/local/lib/python3.10/dist-packages/urllib3/connectionpool.py:1099: InsecureRequestWarning: Unverified HTTPS request is being made to host 'baochinhphu.vn'. Adding certificate verification is strongly advised. See: https://urllib3.readthedocs.io/en/latest/advanced-usage.html#tls-warnings\n",
            "  warnings.warn(\n"
          ]
        },
        {
          "output_type": "stream",
          "name": "stdout",
          "text": [
            "Error when dowwloading page http://baochinhphu.vn/.gob.pe: 404 Client Error: Not Found for url: https://baochinhphu.vn/.gob.pe\n",
            "Failed to download page from http://baochinhphu.vn/.gob.pe\n",
            "Downloading page http://baochinhphu.vn/Chinh-sach-moi/De-xuat-ho-tro-nan-nhan-bi-mua-ban-nguoi/402202.vgp...\n"
          ]
        },
        {
          "output_type": "stream",
          "name": "stderr",
          "text": [
            "/usr/local/lib/python3.10/dist-packages/urllib3/connectionpool.py:1099: InsecureRequestWarning: Unverified HTTPS request is being made to host 'baochinhphu.vn'. Adding certificate verification is strongly advised. See: https://urllib3.readthedocs.io/en/latest/advanced-usage.html#tls-warnings\n",
            "  warnings.warn(\n",
            "/usr/local/lib/python3.10/dist-packages/urllib3/connectionpool.py:1099: InsecureRequestWarning: Unverified HTTPS request is being made to host 'baochinhphu.vn'. Adding certificate verification is strongly advised. See: https://urllib3.readthedocs.io/en/latest/advanced-usage.html#tls-warnings\n",
            "  warnings.warn(\n"
          ]
        },
        {
          "output_type": "stream",
          "name": "stdout",
          "text": [
            "Text saved to output/safe/baochinhphu.vn_Chinh-sach-moi_De-xuat-ho-tro-nan-nhan-bi-mua-ban-nguoi_402202.vgp.txt\n",
            "Downloading page http://baochinhphu.vn/Hoi-nhap/453.vgp...\n"
          ]
        },
        {
          "output_type": "stream",
          "name": "stderr",
          "text": [
            "/usr/local/lib/python3.10/dist-packages/urllib3/connectionpool.py:1099: InsecureRequestWarning: Unverified HTTPS request is being made to host 'baochinhphu.vn'. Adding certificate verification is strongly advised. See: https://urllib3.readthedocs.io/en/latest/advanced-usage.html#tls-warnings\n",
            "  warnings.warn(\n",
            "/usr/local/lib/python3.10/dist-packages/urllib3/connectionpool.py:1099: InsecureRequestWarning: Unverified HTTPS request is being made to host 'baochinhphu.vn'. Adding certificate verification is strongly advised. See: https://urllib3.readthedocs.io/en/latest/advanced-usage.html#tls-warnings\n",
            "  warnings.warn(\n"
          ]
        },
        {
          "output_type": "stream",
          "name": "stdout",
          "text": [
            "Text saved to output/safe/baochinhphu.vn_Hoi-nhap_453.vgp.txt\n",
            "Downloading page http://chinhsachonline.chinhphu.vn/Danh-sach-cau-hoi/pagetype2/Chinh-sach-voi-nguoi-co-cong/section2.vgp...\n"
          ]
        },
        {
          "output_type": "stream",
          "name": "stderr",
          "text": [
            "/usr/local/lib/python3.10/dist-packages/urllib3/connectionpool.py:1099: InsecureRequestWarning: Unverified HTTPS request is being made to host 'chinhsachonline.chinhphu.vn'. Adding certificate verification is strongly advised. See: https://urllib3.readthedocs.io/en/latest/advanced-usage.html#tls-warnings\n",
            "  warnings.warn(\n",
            "/usr/local/lib/python3.10/dist-packages/urllib3/connectionpool.py:1099: InsecureRequestWarning: Unverified HTTPS request is being made to host 'chinhsachonline.chinhphu.vn'. Adding certificate verification is strongly advised. See: https://urllib3.readthedocs.io/en/latest/advanced-usage.html#tls-warnings\n",
            "  warnings.warn(\n"
          ]
        },
        {
          "output_type": "stream",
          "name": "stdout",
          "text": [
            "Text saved to output/safe/chinhsachonline.chinhphu.vn_Danh-sach-cau-hoi_pagetype2_Chinh-sach-voi-nguoi-co-cong_section2.vgp.txt\n",
            "Downloading page http://chinhsachonline.chinhphu.vn/Chi-tiet-cau-hoi/Ban-quan-ly-du-an-co-can-chung-chi-nang-luc-hoat-dong-xay-dung/26053.vgp...\n"
          ]
        },
        {
          "output_type": "stream",
          "name": "stderr",
          "text": [
            "/usr/local/lib/python3.10/dist-packages/urllib3/connectionpool.py:1099: InsecureRequestWarning: Unverified HTTPS request is being made to host 'chinhsachonline.chinhphu.vn'. Adding certificate verification is strongly advised. See: https://urllib3.readthedocs.io/en/latest/advanced-usage.html#tls-warnings\n",
            "  warnings.warn(\n",
            "/usr/local/lib/python3.10/dist-packages/urllib3/connectionpool.py:1099: InsecureRequestWarning: Unverified HTTPS request is being made to host 'chinhsachonline.chinhphu.vn'. Adding certificate verification is strongly advised. See: https://urllib3.readthedocs.io/en/latest/advanced-usage.html#tls-warnings\n",
            "  warnings.warn(\n"
          ]
        },
        {
          "output_type": "stream",
          "name": "stdout",
          "text": [
            "Text saved to output/safe/chinhsachonline.chinhphu.vn_Chi-tiet-cau-hoi_Ban-quan-ly-du-an-co-can-chung-chi-nang-luc-hoat-dong-xay-dung_26053.vgp.txt\n",
            "Downloading page https://dichvucong.gov.vn/...\n"
          ]
        },
        {
          "output_type": "stream",
          "name": "stderr",
          "text": [
            "/usr/local/lib/python3.10/dist-packages/urllib3/connectionpool.py:1099: InsecureRequestWarning: Unverified HTTPS request is being made to host 'dichvucong.gov.vn'. Adding certificate verification is strongly advised. See: https://urllib3.readthedocs.io/en/latest/advanced-usage.html#tls-warnings\n",
            "  warnings.warn(\n"
          ]
        },
        {
          "output_type": "stream",
          "name": "stdout",
          "text": [
            "No valid text from https://dichvucong.gov.vn/\n",
            "Downloading page https://dangkykinhdoanh.gov.vn/...\n"
          ]
        },
        {
          "output_type": "stream",
          "name": "stderr",
          "text": [
            "/usr/local/lib/python3.10/dist-packages/urllib3/connectionpool.py:1099: InsecureRequestWarning: Unverified HTTPS request is being made to host 'dangkykinhdoanh.gov.vn'. Adding certificate verification is strongly advised. See: https://urllib3.readthedocs.io/en/latest/advanced-usage.html#tls-warnings\n",
            "  warnings.warn(\n",
            "/usr/local/lib/python3.10/dist-packages/urllib3/connectionpool.py:1099: InsecureRequestWarning: Unverified HTTPS request is being made to host 'dangkykinhdoanh.gov.vn'. Adding certificate verification is strongly advised. See: https://urllib3.readthedocs.io/en/latest/advanced-usage.html#tls-warnings\n",
            "  warnings.warn(\n"
          ]
        },
        {
          "output_type": "stream",
          "name": "stdout",
          "text": [
            "Text saved to output/safe/dangkykinhdoanh.gov.vn_.txt\n",
            "Downloading page https://www.gso.gov.vn/...\n"
          ]
        },
        {
          "output_type": "stream",
          "name": "stderr",
          "text": [
            "/usr/local/lib/python3.10/dist-packages/urllib3/connectionpool.py:1099: InsecureRequestWarning: Unverified HTTPS request is being made to host 'www.gso.gov.vn'. Adding certificate verification is strongly advised. See: https://urllib3.readthedocs.io/en/latest/advanced-usage.html#tls-warnings\n",
            "  warnings.warn(\n"
          ]
        },
        {
          "output_type": "stream",
          "name": "stdout",
          "text": [
            "Text saved to output/safe/www.gso.gov.vn_.txt\n",
            "Downloading page https://vnsw.gov.vn/...\n"
          ]
        },
        {
          "output_type": "stream",
          "name": "stderr",
          "text": [
            "/usr/local/lib/python3.10/dist-packages/urllib3/connectionpool.py:1099: InsecureRequestWarning: Unverified HTTPS request is being made to host 'vnsw.gov.vn'. Adding certificate verification is strongly advised. See: https://urllib3.readthedocs.io/en/latest/advanced-usage.html#tls-warnings\n",
            "  warnings.warn(\n"
          ]
        },
        {
          "output_type": "stream",
          "name": "stdout",
          "text": [
            "Text saved to output/safe/vnsw.gov.vn_.txt\n",
            "Downloading page https://www.moit.gov.vn/...\n"
          ]
        },
        {
          "output_type": "stream",
          "name": "stderr",
          "text": [
            "/usr/local/lib/python3.10/dist-packages/urllib3/connectionpool.py:1099: InsecureRequestWarning: Unverified HTTPS request is being made to host 'www.moit.gov.vn'. Adding certificate verification is strongly advised. See: https://urllib3.readthedocs.io/en/latest/advanced-usage.html#tls-warnings\n",
            "  warnings.warn(\n",
            "/usr/local/lib/python3.10/dist-packages/urllib3/connectionpool.py:1099: InsecureRequestWarning: Unverified HTTPS request is being made to host 'moit.gov.vn'. Adding certificate verification is strongly advised. See: https://urllib3.readthedocs.io/en/latest/advanced-usage.html#tls-warnings\n",
            "  warnings.warn(\n"
          ]
        },
        {
          "output_type": "stream",
          "name": "stdout",
          "text": [
            "Text saved to output/safe/www.moit.gov.vn_.txt\n",
            "Downloading page https://dichvuthongtin.dkkd.gov.vn/...\n"
          ]
        },
        {
          "output_type": "stream",
          "name": "stderr",
          "text": [
            "/usr/local/lib/python3.10/dist-packages/urllib3/connectionpool.py:1099: InsecureRequestWarning: Unverified HTTPS request is being made to host 'dichvuthongtin.dkkd.gov.vn'. Adding certificate verification is strongly advised. See: https://urllib3.readthedocs.io/en/latest/advanced-usage.html#tls-warnings\n",
            "  warnings.warn(\n",
            "/usr/local/lib/python3.10/dist-packages/urllib3/connectionpool.py:1099: InsecureRequestWarning: Unverified HTTPS request is being made to host 'dichvuthongtin.dkkd.gov.vn'. Adding certificate verification is strongly advised. See: https://urllib3.readthedocs.io/en/latest/advanced-usage.html#tls-warnings\n",
            "  warnings.warn(\n",
            "/usr/local/lib/python3.10/dist-packages/urllib3/connectionpool.py:1099: InsecureRequestWarning: Unverified HTTPS request is being made to host 'dichvuthongtin.dkkd.gov.vn'. Adding certificate verification is strongly advised. See: https://urllib3.readthedocs.io/en/latest/advanced-usage.html#tls-warnings\n",
            "  warnings.warn(\n"
          ]
        },
        {
          "output_type": "stream",
          "name": "stdout",
          "text": [
            "Text saved to output/safe/dichvuthongtin.dkkd.gov.vn_.txt\n",
            "Downloading page https://moet.gov.vn/...\n",
            "Error when dowwloading page https://moet.gov.vn/: HTTPSConnectionPool(host='moet.gov.vn', port=443): Max retries exceeded with url: / (Caused by ConnectTimeoutError(<urllib3.connection.HTTPSConnection object at 0x7e14839a6ce0>, 'Connection to moet.gov.vn timed out. (connect timeout=10)'))\n",
            "Failed to download page from https://moet.gov.vn/\n",
            "Downloading page https://mic.gov.vn/...\n"
          ]
        },
        {
          "output_type": "stream",
          "name": "stderr",
          "text": [
            "/usr/local/lib/python3.10/dist-packages/urllib3/connectionpool.py:1099: InsecureRequestWarning: Unverified HTTPS request is being made to host 'mic.gov.vn'. Adding certificate verification is strongly advised. See: https://urllib3.readthedocs.io/en/latest/advanced-usage.html#tls-warnings\n",
            "  warnings.warn(\n"
          ]
        },
        {
          "output_type": "stream",
          "name": "stdout",
          "text": [
            "Text saved to output/safe/mic.gov.vn_.txt\n",
            "Downloading page http://baocaobtn.vncdc.gov.vn/...\n"
          ]
        },
        {
          "output_type": "stream",
          "name": "stderr",
          "text": [
            "/usr/local/lib/python3.10/dist-packages/urllib3/connectionpool.py:1099: InsecureRequestWarning: Unverified HTTPS request is being made to host 'baocaobtn.vncdc.gov.vn'. Adding certificate verification is strongly advised. See: https://urllib3.readthedocs.io/en/latest/advanced-usage.html#tls-warnings\n",
            "  warnings.warn(\n",
            "/usr/local/lib/python3.10/dist-packages/urllib3/connectionpool.py:1099: InsecureRequestWarning: Unverified HTTPS request is being made to host 'baocaobtn.vncdc.gov.vn'. Adding certificate verification is strongly advised. See: https://urllib3.readthedocs.io/en/latest/advanced-usage.html#tls-warnings\n",
            "  warnings.warn(\n"
          ]
        },
        {
          "output_type": "stream",
          "name": "stdout",
          "text": [
            "Text saved to output/safe/baocaobtn.vncdc.gov.vn_.txt\n",
            "Downloading page http://vncdc.gov.vn/...\n"
          ]
        },
        {
          "output_type": "stream",
          "name": "stderr",
          "text": [
            "/usr/local/lib/python3.10/dist-packages/urllib3/connectionpool.py:1099: InsecureRequestWarning: Unverified HTTPS request is being made to host 'vncdc.gov.vn'. Adding certificate verification is strongly advised. See: https://urllib3.readthedocs.io/en/latest/advanced-usage.html#tls-warnings\n",
            "  warnings.warn(\n"
          ]
        },
        {
          "output_type": "stream",
          "name": "stdout",
          "text": [
            "Error when dowwloading page http://vncdc.gov.vn/: HTTPSConnectionPool(host='vncdc.gov.vn', port=443): Read timed out.\n",
            "Failed to download page from http://vncdc.gov.vn/\n",
            "Downloading page https://egov.danang.gov.vn/...\n"
          ]
        },
        {
          "output_type": "stream",
          "name": "stderr",
          "text": [
            "/usr/local/lib/python3.10/dist-packages/urllib3/connectionpool.py:1099: InsecureRequestWarning: Unverified HTTPS request is being made to host 'egov.danang.gov.vn'. Adding certificate verification is strongly advised. See: https://urllib3.readthedocs.io/en/latest/advanced-usage.html#tls-warnings\n",
            "  warnings.warn(\n"
          ]
        },
        {
          "output_type": "stream",
          "name": "stdout",
          "text": [
            "Text saved to output/safe/egov.danang.gov.vn_.txt\n",
            "Downloading page https://dichvucong.danang.gov.vn/...\n",
            "Error when dowwloading page https://dichvucong.danang.gov.vn/: HTTPSConnectionPool(host='dichvucong.danang.gov.vn', port=443): Max retries exceeded with url: / (Caused by ConnectTimeoutError(<urllib3.connection.HTTPSConnection object at 0x7e14841d0c10>, 'Connection to dichvucong.danang.gov.vn timed out. (connect timeout=10)'))\n",
            "Failed to download page from https://dichvucong.danang.gov.vn/\n",
            "Downloading page https://baohiemxahoi.gov.vn/...\n"
          ]
        },
        {
          "output_type": "stream",
          "name": "stderr",
          "text": [
            "/usr/local/lib/python3.10/dist-packages/urllib3/connectionpool.py:1099: InsecureRequestWarning: Unverified HTTPS request is being made to host 'baohiemxahoi.gov.vn'. Adding certificate verification is strongly advised. See: https://urllib3.readthedocs.io/en/latest/advanced-usage.html#tls-warnings\n",
            "  warnings.warn(\n",
            "/usr/local/lib/python3.10/dist-packages/urllib3/connectionpool.py:1099: InsecureRequestWarning: Unverified HTTPS request is being made to host 'baohiemxahoi.gov.vn'. Adding certificate verification is strongly advised. See: https://urllib3.readthedocs.io/en/latest/advanced-usage.html#tls-warnings\n",
            "  warnings.warn(\n"
          ]
        },
        {
          "output_type": "stream",
          "name": "stdout",
          "text": [
            "Text saved to output/safe/baohiemxahoi.gov.vn_.txt\n",
            "Downloading page https://baohiemxahoi.gov.vn/gioithieu/Pages/gioi-thieu-chung.aspx...\n"
          ]
        },
        {
          "output_type": "stream",
          "name": "stderr",
          "text": [
            "/usr/local/lib/python3.10/dist-packages/urllib3/connectionpool.py:1099: InsecureRequestWarning: Unverified HTTPS request is being made to host 'baohiemxahoi.gov.vn'. Adding certificate verification is strongly advised. See: https://urllib3.readthedocs.io/en/latest/advanced-usage.html#tls-warnings\n",
            "  warnings.warn(\n"
          ]
        },
        {
          "output_type": "stream",
          "name": "stdout",
          "text": [
            "Text saved to output/safe/baohiemxahoi.gov.vn_gioithieu_Pages_gioi-thieu-chung.aspx.txt\n",
            "Downloading page https://mt.gov.vn/...\n"
          ]
        },
        {
          "output_type": "stream",
          "name": "stderr",
          "text": [
            "/usr/local/lib/python3.10/dist-packages/urllib3/connectionpool.py:1099: InsecureRequestWarning: Unverified HTTPS request is being made to host 'mt.gov.vn'. Adding certificate verification is strongly advised. See: https://urllib3.readthedocs.io/en/latest/advanced-usage.html#tls-warnings\n",
            "  warnings.warn(\n"
          ]
        },
        {
          "output_type": "stream",
          "name": "stdout",
          "text": [
            "Error when dowwloading page https://mt.gov.vn/: 403 Client Error: Forbidden for url: https://mt.gov.vn/\n",
            "Failed to download page from https://mt.gov.vn/\n",
            "Downloading page https://egov.danang.gov.vn/gioithieu...\n"
          ]
        },
        {
          "output_type": "stream",
          "name": "stderr",
          "text": [
            "/usr/local/lib/python3.10/dist-packages/urllib3/connectionpool.py:1099: InsecureRequestWarning: Unverified HTTPS request is being made to host 'egov.danang.gov.vn'. Adding certificate verification is strongly advised. See: https://urllib3.readthedocs.io/en/latest/advanced-usage.html#tls-warnings\n",
            "  warnings.warn(\n"
          ]
        },
        {
          "output_type": "stream",
          "name": "stdout",
          "text": [
            "Text saved to output/safe/egov.danang.gov.vn_gioithieu.txt\n",
            "Downloading page http://www.nchmf.gov.vn/...\n"
          ]
        },
        {
          "output_type": "stream",
          "name": "stderr",
          "text": [
            "/usr/local/lib/python3.10/dist-packages/urllib3/connectionpool.py:1099: InsecureRequestWarning: Unverified HTTPS request is being made to host 'www.nchmf.gov.vn'. Adding certificate verification is strongly advised. See: https://urllib3.readthedocs.io/en/latest/advanced-usage.html#tls-warnings\n",
            "  warnings.warn(\n",
            "/usr/local/lib/python3.10/dist-packages/urllib3/connectionpool.py:1099: InsecureRequestWarning: Unverified HTTPS request is being made to host 'www.nchmf.gov.vn'. Adding certificate verification is strongly advised. See: https://urllib3.readthedocs.io/en/latest/advanced-usage.html#tls-warnings\n",
            "  warnings.warn(\n"
          ]
        },
        {
          "output_type": "stream",
          "name": "stdout",
          "text": [
            "Text saved to output/safe/www.nchmf.gov.vn_.txt\n",
            "Downloading page https://www.quangtri.gov.vn/...\n"
          ]
        },
        {
          "output_type": "stream",
          "name": "stderr",
          "text": [
            "/usr/local/lib/python3.10/dist-packages/urllib3/connectionpool.py:1099: InsecureRequestWarning: Unverified HTTPS request is being made to host 'www.quangtri.gov.vn'. Adding certificate verification is strongly advised. See: https://urllib3.readthedocs.io/en/latest/advanced-usage.html#tls-warnings\n",
            "  warnings.warn(\n"
          ]
        },
        {
          "output_type": "stream",
          "name": "stdout",
          "text": [
            "Text saved to output/safe/www.quangtri.gov.vn_.txt\n",
            "Downloading page https://gplx.gov.vn/...\n"
          ]
        },
        {
          "output_type": "stream",
          "name": "stderr",
          "text": [
            "/usr/local/lib/python3.10/dist-packages/urllib3/connectionpool.py:1099: InsecureRequestWarning: Unverified HTTPS request is being made to host 'gplx.gov.vn'. Adding certificate verification is strongly advised. See: https://urllib3.readthedocs.io/en/latest/advanced-usage.html#tls-warnings\n",
            "  warnings.warn(\n"
          ]
        },
        {
          "output_type": "stream",
          "name": "stdout",
          "text": [
            "No valid text from https://gplx.gov.vn/\n",
            "Downloading page https://dichvucong.gplx.gov.vn/...\n"
          ]
        },
        {
          "output_type": "stream",
          "name": "stderr",
          "text": [
            "/usr/local/lib/python3.10/dist-packages/urllib3/connectionpool.py:1099: InsecureRequestWarning: Unverified HTTPS request is being made to host 'dichvucong.gplx.gov.vn'. Adding certificate verification is strongly advised. See: https://urllib3.readthedocs.io/en/latest/advanced-usage.html#tls-warnings\n",
            "  warnings.warn(\n",
            "/usr/local/lib/python3.10/dist-packages/urllib3/connectionpool.py:1099: InsecureRequestWarning: Unverified HTTPS request is being made to host 'dichvucong.gplx.gov.vn'. Adding certificate verification is strongly advised. See: https://urllib3.readthedocs.io/en/latest/advanced-usage.html#tls-warnings\n",
            "  warnings.warn(\n"
          ]
        },
        {
          "output_type": "stream",
          "name": "stdout",
          "text": [
            "Error when dowwloading page https://dichvucong.gplx.gov.vn/: 403 Client Error: Forbidden for url: https://dichvucong.gplx.gov.vn/\n",
            "Failed to download page from https://dichvucong.gplx.gov.vn/\n",
            "Downloading page https://dichvucong.gplx.gov.vn/faces/registration/guide.xhtml...\n",
            "Error when dowwloading page https://dichvucong.gplx.gov.vn/faces/registration/guide.xhtml: 403 Client Error: Forbidden for url: https://dichvucong.gplx.gov.vn/faces/registration/guide.xhtml\n",
            "Failed to download page from https://dichvucong.gplx.gov.vn/faces/registration/guide.xhtml\n",
            "Downloading page https://www.mof.gov.vn/...\n"
          ]
        },
        {
          "output_type": "stream",
          "name": "stderr",
          "text": [
            "/usr/local/lib/python3.10/dist-packages/urllib3/connectionpool.py:1099: InsecureRequestWarning: Unverified HTTPS request is being made to host 'www.mof.gov.vn'. Adding certificate verification is strongly advised. See: https://urllib3.readthedocs.io/en/latest/advanced-usage.html#tls-warnings\n",
            "  warnings.warn(\n",
            "/usr/local/lib/python3.10/dist-packages/urllib3/connectionpool.py:1099: InsecureRequestWarning: Unverified HTTPS request is being made to host 'www.mof.gov.vn'. Adding certificate verification is strongly advised. See: https://urllib3.readthedocs.io/en/latest/advanced-usage.html#tls-warnings\n",
            "  warnings.warn(\n",
            "/usr/local/lib/python3.10/dist-packages/urllib3/connectionpool.py:1099: InsecureRequestWarning: Unverified HTTPS request is being made to host 'www.mof.gov.vn'. Adding certificate verification is strongly advised. See: https://urllib3.readthedocs.io/en/latest/advanced-usage.html#tls-warnings\n",
            "  warnings.warn(\n"
          ]
        },
        {
          "output_type": "stream",
          "name": "stdout",
          "text": [
            "Text saved to output/safe/www.mof.gov.vn_.txt\n",
            "Downloading page https://haiphong.gov.vn/...\n"
          ]
        },
        {
          "output_type": "stream",
          "name": "stderr",
          "text": [
            "/usr/local/lib/python3.10/dist-packages/urllib3/connectionpool.py:1099: InsecureRequestWarning: Unverified HTTPS request is being made to host 'haiphong.gov.vn'. Adding certificate verification is strongly advised. See: https://urllib3.readthedocs.io/en/latest/advanced-usage.html#tls-warnings\n",
            "  warnings.warn(\n"
          ]
        },
        {
          "output_type": "stream",
          "name": "stdout",
          "text": [
            "Text saved to output/safe/haiphong.gov.vn_.txt\n",
            "Downloading page https://www.moha.gov.vn/...\n"
          ]
        },
        {
          "output_type": "stream",
          "name": "stderr",
          "text": [
            "/usr/local/lib/python3.10/dist-packages/urllib3/connectionpool.py:1099: InsecureRequestWarning: Unverified HTTPS request is being made to host 'www.moha.gov.vn'. Adding certificate verification is strongly advised. See: https://urllib3.readthedocs.io/en/latest/advanced-usage.html#tls-warnings\n",
            "  warnings.warn(\n",
            "/usr/local/lib/python3.10/dist-packages/urllib3/connectionpool.py:1099: InsecureRequestWarning: Unverified HTTPS request is being made to host 'moha.gov.vn'. Adding certificate verification is strongly advised. See: https://urllib3.readthedocs.io/en/latest/advanced-usage.html#tls-warnings\n",
            "  warnings.warn(\n"
          ]
        },
        {
          "output_type": "stream",
          "name": "stdout",
          "text": [
            "Text saved to output/safe/www.moha.gov.vn_.txt\n",
            "Downloading page https://haiphong.gov.vn/tin-tuc-su-kien.html...\n"
          ]
        },
        {
          "output_type": "stream",
          "name": "stderr",
          "text": [
            "/usr/local/lib/python3.10/dist-packages/urllib3/connectionpool.py:1099: InsecureRequestWarning: Unverified HTTPS request is being made to host 'haiphong.gov.vn'. Adding certificate verification is strongly advised. See: https://urllib3.readthedocs.io/en/latest/advanced-usage.html#tls-warnings\n",
            "  warnings.warn(\n"
          ]
        },
        {
          "output_type": "stream",
          "name": "stdout",
          "text": [
            "Text saved to output/safe/haiphong.gov.vn_tin-tuc-su-kien.html.txt\n",
            "Downloading page https://dichvucong.moit.gov.vn/...\n"
          ]
        },
        {
          "output_type": "stream",
          "name": "stderr",
          "text": [
            "/usr/local/lib/python3.10/dist-packages/urllib3/connectionpool.py:1099: InsecureRequestWarning: Unverified HTTPS request is being made to host 'dichvucong.moit.gov.vn'. Adding certificate verification is strongly advised. See: https://urllib3.readthedocs.io/en/latest/advanced-usage.html#tls-warnings\n",
            "  warnings.warn(\n",
            "/usr/local/lib/python3.10/dist-packages/urllib3/connectionpool.py:1099: InsecureRequestWarning: Unverified HTTPS request is being made to host 'dichvucong.moit.gov.vn'. Adding certificate verification is strongly advised. See: https://urllib3.readthedocs.io/en/latest/advanced-usage.html#tls-warnings\n",
            "  warnings.warn(\n"
          ]
        },
        {
          "output_type": "stream",
          "name": "stdout",
          "text": [
            "Text saved to output/safe/dichvucong.moit.gov.vn_.txt\n",
            "Downloading page http://dangcongsan.vn/.gob.pe...\n"
          ]
        },
        {
          "output_type": "stream",
          "name": "stderr",
          "text": [
            "/usr/local/lib/python3.10/dist-packages/urllib3/connectionpool.py:1099: InsecureRequestWarning: Unverified HTTPS request is being made to host 'dangcongsan.vn'. Adding certificate verification is strongly advised. See: https://urllib3.readthedocs.io/en/latest/advanced-usage.html#tls-warnings\n",
            "  warnings.warn(\n",
            "/usr/local/lib/python3.10/dist-packages/urllib3/connectionpool.py:1099: InsecureRequestWarning: Unverified HTTPS request is being made to host 'dangcongsan.vn'. Adding certificate verification is strongly advised. See: https://urllib3.readthedocs.io/en/latest/advanced-usage.html#tls-warnings\n",
            "  warnings.warn(\n"
          ]
        },
        {
          "output_type": "stream",
          "name": "stdout",
          "text": [
            "Error when dowwloading page http://dangcongsan.vn/.gob.pe: 404 Client Error: Not Found for url: https://dangcongsan.vn/404.aspx\n",
            "Failed to download page from http://dangcongsan.vn/.gob.pe\n",
            "Downloading page http://bacninh.gov.vn/...\n"
          ]
        },
        {
          "output_type": "stream",
          "name": "stderr",
          "text": [
            "/usr/local/lib/python3.10/dist-packages/urllib3/connectionpool.py:1099: InsecureRequestWarning: Unverified HTTPS request is being made to host 'bacninh.gov.vn'. Adding certificate verification is strongly advised. See: https://urllib3.readthedocs.io/en/latest/advanced-usage.html#tls-warnings\n",
            "  warnings.warn(\n"
          ]
        },
        {
          "output_type": "stream",
          "name": "stdout",
          "text": [
            "Text saved to output/safe/bacninh.gov.vn_.txt\n",
            "Downloading page http://cangvuhaiphong.gov.vn/...\n",
            "Error when dowwloading page http://cangvuhaiphong.gov.vn/: HTTPSConnectionPool(host='cangvuhaiphong.gov.vn', port=443): Max retries exceeded with url: / (Caused by ConnectTimeoutError(<urllib3.connection.HTTPSConnection object at 0x7e1486a3b490>, 'Connection to cangvuhaiphong.gov.vn timed out. (connect timeout=10)'))\n",
            "Failed to download page from http://cangvuhaiphong.gov.vn/\n",
            "Downloading page https://www.sav.gov.vn/...\n"
          ]
        },
        {
          "output_type": "stream",
          "name": "stderr",
          "text": [
            "/usr/local/lib/python3.10/dist-packages/urllib3/connectionpool.py:1099: InsecureRequestWarning: Unverified HTTPS request is being made to host 'www.sav.gov.vn'. Adding certificate verification is strongly advised. See: https://urllib3.readthedocs.io/en/latest/advanced-usage.html#tls-warnings\n",
            "  warnings.warn(\n",
            "/usr/local/lib/python3.10/dist-packages/urllib3/connectionpool.py:1099: InsecureRequestWarning: Unverified HTTPS request is being made to host 'www.sav.gov.vn'. Adding certificate verification is strongly advised. See: https://urllib3.readthedocs.io/en/latest/advanced-usage.html#tls-warnings\n",
            "  warnings.warn(\n"
          ]
        },
        {
          "output_type": "stream",
          "name": "stdout",
          "text": [
            "Text saved to output/safe/www.sav.gov.vn_.txt\n",
            "Downloading page http://vietnamtourism.gov.vn/...\n"
          ]
        },
        {
          "output_type": "stream",
          "name": "stderr",
          "text": [
            "/usr/local/lib/python3.10/dist-packages/urllib3/connectionpool.py:1099: InsecureRequestWarning: Unverified HTTPS request is being made to host 'vietnamtourism.gov.vn'. Adding certificate verification is strongly advised. See: https://urllib3.readthedocs.io/en/latest/advanced-usage.html#tls-warnings\n",
            "  warnings.warn(\n"
          ]
        },
        {
          "output_type": "stream",
          "name": "stdout",
          "text": [
            "No valid text from http://vietnamtourism.gov.vn/\n",
            "Downloading page http://moc.gov.vn/...\n"
          ]
        },
        {
          "output_type": "stream",
          "name": "stderr",
          "text": [
            "/usr/local/lib/python3.10/dist-packages/urllib3/connectionpool.py:1099: InsecureRequestWarning: Unverified HTTPS request is being made to host 'moc.gov.vn'. Adding certificate verification is strongly advised. See: https://urllib3.readthedocs.io/en/latest/advanced-usage.html#tls-warnings\n",
            "  warnings.warn(\n"
          ]
        },
        {
          "output_type": "stream",
          "name": "stdout",
          "text": [
            "Text saved to output/safe/moc.gov.vn_.txt\n",
            "Downloading page http://dichvucong.xaydung.gov.vn/web/cong-dich-vu-cong...\n"
          ]
        },
        {
          "output_type": "stream",
          "name": "stderr",
          "text": [
            "/usr/local/lib/python3.10/dist-packages/urllib3/connectionpool.py:1099: InsecureRequestWarning: Unverified HTTPS request is being made to host 'dichvucong.xaydung.gov.vn'. Adding certificate verification is strongly advised. See: https://urllib3.readthedocs.io/en/latest/advanced-usage.html#tls-warnings\n",
            "  warnings.warn(\n"
          ]
        },
        {
          "output_type": "stream",
          "name": "stdout",
          "text": [
            "Text saved to output/safe/dichvucong.xaydung.gov.vn_web_cong-dich-vu-cong.txt\n",
            "Downloading page https://daklak.gov.vn/...\n"
          ]
        },
        {
          "output_type": "stream",
          "name": "stderr",
          "text": [
            "/usr/local/lib/python3.10/dist-packages/urllib3/connectionpool.py:1099: InsecureRequestWarning: Unverified HTTPS request is being made to host 'daklak.gov.vn'. Adding certificate verification is strongly advised. See: https://urllib3.readthedocs.io/en/latest/advanced-usage.html#tls-warnings\n",
            "  warnings.warn(\n"
          ]
        },
        {
          "output_type": "stream",
          "name": "stdout",
          "text": [
            "Text saved to output/safe/daklak.gov.vn_.txt\n",
            "Downloading page https://daklak.gov.vn/kinh-te...\n"
          ]
        },
        {
          "output_type": "stream",
          "name": "stderr",
          "text": [
            "/usr/local/lib/python3.10/dist-packages/urllib3/connectionpool.py:1099: InsecureRequestWarning: Unverified HTTPS request is being made to host 'daklak.gov.vn'. Adding certificate verification is strongly advised. See: https://urllib3.readthedocs.io/en/latest/advanced-usage.html#tls-warnings\n",
            "  warnings.warn(\n"
          ]
        },
        {
          "output_type": "stream",
          "name": "stdout",
          "text": [
            "Text saved to output/safe/daklak.gov.vn_kinh-te.txt\n",
            "Downloading page https://daklak.gov.vn/van-hoa-xa-hoi...\n"
          ]
        },
        {
          "output_type": "stream",
          "name": "stderr",
          "text": [
            "/usr/local/lib/python3.10/dist-packages/urllib3/connectionpool.py:1099: InsecureRequestWarning: Unverified HTTPS request is being made to host 'daklak.gov.vn'. Adding certificate verification is strongly advised. See: https://urllib3.readthedocs.io/en/latest/advanced-usage.html#tls-warnings\n",
            "  warnings.warn(\n"
          ]
        },
        {
          "output_type": "stream",
          "name": "stdout",
          "text": [
            "Text saved to output/safe/daklak.gov.vn_van-hoa-xa-hoi.txt\n",
            "Downloading page https://daklak.gov.vn/cai-cach-thu-tuc-hanh-chinh...\n"
          ]
        },
        {
          "output_type": "stream",
          "name": "stderr",
          "text": [
            "/usr/local/lib/python3.10/dist-packages/urllib3/connectionpool.py:1099: InsecureRequestWarning: Unverified HTTPS request is being made to host 'daklak.gov.vn'. Adding certificate verification is strongly advised. See: https://urllib3.readthedocs.io/en/latest/advanced-usage.html#tls-warnings\n",
            "  warnings.warn(\n"
          ]
        },
        {
          "output_type": "stream",
          "name": "stdout",
          "text": [
            "Text saved to output/safe/daklak.gov.vn_cai-cach-thu-tuc-hanh-chinh.txt\n",
            "Downloading page http://vbpl.vn/.gob.pe...\n"
          ]
        },
        {
          "output_type": "stream",
          "name": "stderr",
          "text": [
            "/usr/local/lib/python3.10/dist-packages/urllib3/connectionpool.py:1099: InsecureRequestWarning: Unverified HTTPS request is being made to host 'vbpl.vn'. Adding certificate verification is strongly advised. See: https://urllib3.readthedocs.io/en/latest/advanced-usage.html#tls-warnings\n",
            "  warnings.warn(\n"
          ]
        },
        {
          "output_type": "stream",
          "name": "stdout",
          "text": [
            "Error when dowwloading page http://vbpl.vn/.gob.pe: 500 Server Error: INTERNAL SERVER ERROR for url: https://vbpl.vn/.gob.pe\n",
            "Failed to download page from http://vbpl.vn/.gob.pe\n",
            "Downloading page https://thanhhoa.gov.vn/portal/Pages/2020-7-17/Bo-Chinh-tri-thong-qua-De-an-Xay-dung-va-phat-trieeuift2.aspx...\n"
          ]
        },
        {
          "output_type": "stream",
          "name": "stderr",
          "text": [
            "/usr/local/lib/python3.10/dist-packages/urllib3/connectionpool.py:1099: InsecureRequestWarning: Unverified HTTPS request is being made to host 'thanhhoa.gov.vn'. Adding certificate verification is strongly advised. See: https://urllib3.readthedocs.io/en/latest/advanced-usage.html#tls-warnings\n",
            "  warnings.warn(\n"
          ]
        },
        {
          "output_type": "stream",
          "name": "stdout",
          "text": [
            "Text saved to output/safe/thanhhoa.gov.vn_portal_Pages_2020-7-17_Bo-Chinh-tri-thong-qua-De-an-Xay-dung-va-phat-trieeuift2.aspx.txt\n",
            "Downloading page https://thanhhoa.gov.vn/portal/Pages/default.aspx...\n"
          ]
        },
        {
          "output_type": "stream",
          "name": "stderr",
          "text": [
            "/usr/local/lib/python3.10/dist-packages/urllib3/connectionpool.py:1099: InsecureRequestWarning: Unverified HTTPS request is being made to host 'thanhhoa.gov.vn'. Adding certificate verification is strongly advised. See: https://urllib3.readthedocs.io/en/latest/advanced-usage.html#tls-warnings\n",
            "  warnings.warn(\n"
          ]
        },
        {
          "output_type": "stream",
          "name": "stdout",
          "text": [
            "Text saved to output/safe/thanhhoa.gov.vn_portal_Pages_default.aspx.txt\n",
            "Downloading page https://thanhhoa.gov.vn/portal/Pages/Chinh-tri.aspx...\n"
          ]
        },
        {
          "output_type": "stream",
          "name": "stderr",
          "text": [
            "/usr/local/lib/python3.10/dist-packages/urllib3/connectionpool.py:1099: InsecureRequestWarning: Unverified HTTPS request is being made to host 'thanhhoa.gov.vn'. Adding certificate verification is strongly advised. See: https://urllib3.readthedocs.io/en/latest/advanced-usage.html#tls-warnings\n",
            "  warnings.warn(\n"
          ]
        },
        {
          "output_type": "stream",
          "name": "stdout",
          "text": [
            "Text saved to output/safe/thanhhoa.gov.vn_portal_Pages_Chinh-tri.aspx.txt\n",
            "Downloading page http://baochinhphu.vn/Xay-dung-Chinh-phu-dien-tu/Day-manh-ung-dung-Cong-dich-vu-cong-quoc-gia/400194.vgp...\n"
          ]
        },
        {
          "output_type": "stream",
          "name": "stderr",
          "text": [
            "/usr/local/lib/python3.10/dist-packages/urllib3/connectionpool.py:1099: InsecureRequestWarning: Unverified HTTPS request is being made to host 'baochinhphu.vn'. Adding certificate verification is strongly advised. See: https://urllib3.readthedocs.io/en/latest/advanced-usage.html#tls-warnings\n",
            "  warnings.warn(\n",
            "/usr/local/lib/python3.10/dist-packages/urllib3/connectionpool.py:1099: InsecureRequestWarning: Unverified HTTPS request is being made to host 'baochinhphu.vn'. Adding certificate verification is strongly advised. See: https://urllib3.readthedocs.io/en/latest/advanced-usage.html#tls-warnings\n",
            "  warnings.warn(\n"
          ]
        },
        {
          "output_type": "stream",
          "name": "stdout",
          "text": [
            "Text saved to output/safe/baochinhphu.vn_Xay-dung-Chinh-phu-dien-tu_Day-manh-ung-dung-Cong-dich-vu-cong-quoc-gia_400194.vgp.txt\n",
            "Downloading page https://dichvucong.quangtri.gov.vn/quangtri/bothutuc...\n",
            "Error when dowwloading page https://dichvucong.quangtri.gov.vn/quangtri/bothutuc: HTTPSConnectionPool(host='dichvucong.quangtri.gov.vn', port=443): Max retries exceeded with url: /quangtri/bothutuc (Caused by ConnectTimeoutError(<urllib3.connection.HTTPSConnection object at 0x7e1485538b50>, 'Connection to dichvucong.quangtri.gov.vn timed out. (connect timeout=10)'))\n",
            "Failed to download page from https://dichvucong.quangtri.gov.vn/quangtri/bothutuc\n",
            "Downloading page https://nopthue.gdt.gov.vn/epay_nnt/home.jsp...\n",
            "Error when dowwloading page https://nopthue.gdt.gov.vn/epay_nnt/home.jsp: HTTPSConnectionPool(host='nopthue.gdt.gov.vn', port=443): Max retries exceeded with url: /epay_nnt/home.jsp (Caused by ConnectTimeoutError(<urllib3.connection.HTTPSConnection object at 0x7e1485538be0>, 'Connection to nopthue.gdt.gov.vn timed out. (connect timeout=10)'))\n",
            "Failed to download page from https://nopthue.gdt.gov.vn/epay_nnt/home.jsp\n",
            "Downloading page http://nopthue.gdt.gov.vn/epay_nnt/LoginNTPage.jsp...\n",
            "Error when dowwloading page http://nopthue.gdt.gov.vn/epay_nnt/LoginNTPage.jsp: HTTPConnectionPool(host='nopthue.gdt.gov.vn', port=80): Max retries exceeded with url: /epay_nnt/LoginNTPage.jsp (Caused by ConnectTimeoutError(<urllib3.connection.HTTPConnection object at 0x7e1485538880>, 'Connection to nopthue.gdt.gov.vn timed out. (connect timeout=10)'))\n",
            "Failed to download page from http://nopthue.gdt.gov.vn/epay_nnt/LoginNTPage.jsp\n",
            "Downloading page http://soyte.namdinh.gov.vn/...\n"
          ]
        },
        {
          "output_type": "stream",
          "name": "stderr",
          "text": [
            "/usr/local/lib/python3.10/dist-packages/urllib3/connectionpool.py:1099: InsecureRequestWarning: Unverified HTTPS request is being made to host 'soyte.namdinh.gov.vn'. Adding certificate verification is strongly advised. See: https://urllib3.readthedocs.io/en/latest/advanced-usage.html#tls-warnings\n",
            "  warnings.warn(\n"
          ]
        },
        {
          "output_type": "stream",
          "name": "stdout",
          "text": [
            "Text saved to output/safe/soyte.namdinh.gov.vn_.txt\n",
            "Downloading page http://soyte.namdinh.gov.vn/home/tin-tuc/cap-nhat-tinh-hinh-dich-benh-viem-duong-ho-hap-do-covid-19-tinh-den-6h-ngay-2972020-2134...\n"
          ]
        },
        {
          "output_type": "stream",
          "name": "stderr",
          "text": [
            "/usr/local/lib/python3.10/dist-packages/urllib3/connectionpool.py:1099: InsecureRequestWarning: Unverified HTTPS request is being made to host 'soyte.namdinh.gov.vn'. Adding certificate verification is strongly advised. See: https://urllib3.readthedocs.io/en/latest/advanced-usage.html#tls-warnings\n",
            "  warnings.warn(\n"
          ]
        },
        {
          "output_type": "stream",
          "name": "stdout",
          "text": [
            "Text saved to output/safe/soyte.namdinh.gov.vn_home_tin-tuc_cap-nhat-tinh-hinh-dich-benh-viem-duong-ho-hap-do-covid-19-tinh-den-6h-ngay-2972020-2134.txt\n",
            "Downloading page http://soyte.namdinh.gov.vn/home/hoat-dong-nganh...\n"
          ]
        },
        {
          "output_type": "stream",
          "name": "stderr",
          "text": [
            "/usr/local/lib/python3.10/dist-packages/urllib3/connectionpool.py:1099: InsecureRequestWarning: Unverified HTTPS request is being made to host 'soyte.namdinh.gov.vn'. Adding certificate verification is strongly advised. See: https://urllib3.readthedocs.io/en/latest/advanced-usage.html#tls-warnings\n",
            "  warnings.warn(\n"
          ]
        },
        {
          "output_type": "stream",
          "name": "stdout",
          "text": [
            "Text saved to output/safe/soyte.namdinh.gov.vn_home_hoat-dong-nganh.txt\n",
            "Downloading page http://soyte.namdinh.gov.vn/home/van-ban...\n"
          ]
        },
        {
          "output_type": "stream",
          "name": "stderr",
          "text": [
            "/usr/local/lib/python3.10/dist-packages/urllib3/connectionpool.py:1099: InsecureRequestWarning: Unverified HTTPS request is being made to host 'soyte.namdinh.gov.vn'. Adding certificate verification is strongly advised. See: https://urllib3.readthedocs.io/en/latest/advanced-usage.html#tls-warnings\n",
            "  warnings.warn(\n"
          ]
        },
        {
          "output_type": "stream",
          "name": "stdout",
          "text": [
            "Text saved to output/safe/soyte.namdinh.gov.vn_home_van-ban.txt\n",
            "Downloading page http://soyte.namdinh.gov.vn/home/hoi-dap...\n"
          ]
        },
        {
          "output_type": "stream",
          "name": "stderr",
          "text": [
            "/usr/local/lib/python3.10/dist-packages/urllib3/connectionpool.py:1099: InsecureRequestWarning: Unverified HTTPS request is being made to host 'soyte.namdinh.gov.vn'. Adding certificate verification is strongly advised. See: https://urllib3.readthedocs.io/en/latest/advanced-usage.html#tls-warnings\n",
            "  warnings.warn(\n"
          ]
        },
        {
          "output_type": "stream",
          "name": "stdout",
          "text": [
            "Text saved to output/safe/soyte.namdinh.gov.vn_home_hoi-dap.txt\n",
            "Downloading page http://soyte.namdinh.gov.vn/home/video...\n"
          ]
        },
        {
          "output_type": "stream",
          "name": "stderr",
          "text": [
            "/usr/local/lib/python3.10/dist-packages/urllib3/connectionpool.py:1099: InsecureRequestWarning: Unverified HTTPS request is being made to host 'soyte.namdinh.gov.vn'. Adding certificate verification is strongly advised. See: https://urllib3.readthedocs.io/en/latest/advanced-usage.html#tls-warnings\n",
            "  warnings.warn(\n"
          ]
        },
        {
          "output_type": "stream",
          "name": "stdout",
          "text": [
            "Text saved to output/safe/soyte.namdinh.gov.vn_home_video.txt\n",
            "Downloading page https://www.cantho.gov.vn/wps/portal/home/Trang-chu...\n"
          ]
        },
        {
          "output_type": "stream",
          "name": "stderr",
          "text": [
            "/usr/local/lib/python3.10/dist-packages/urllib3/connectionpool.py:1099: InsecureRequestWarning: Unverified HTTPS request is being made to host 'www.cantho.gov.vn'. Adding certificate verification is strongly advised. See: https://urllib3.readthedocs.io/en/latest/advanced-usage.html#tls-warnings\n",
            "  warnings.warn(\n"
          ]
        },
        {
          "output_type": "stream",
          "name": "stdout",
          "text": [
            "Text saved to output/safe/www.cantho.gov.vn_wps_portal_home_Trang-chu.txt\n",
            "Downloading page http://laichau.gov.vn/...\n"
          ]
        },
        {
          "output_type": "stream",
          "name": "stderr",
          "text": [
            "/usr/local/lib/python3.10/dist-packages/urllib3/connectionpool.py:1099: InsecureRequestWarning: Unverified HTTPS request is being made to host 'laichau.gov.vn'. Adding certificate verification is strongly advised. See: https://urllib3.readthedocs.io/en/latest/advanced-usage.html#tls-warnings\n",
            "  warnings.warn(\n"
          ]
        },
        {
          "output_type": "stream",
          "name": "stdout",
          "text": [
            "Text saved to output/safe/laichau.gov.vn_.txt\n",
            "Downloading page http://laichau.gov.vn/danh-muc/thong-bao...\n"
          ]
        },
        {
          "output_type": "stream",
          "name": "stderr",
          "text": [
            "/usr/local/lib/python3.10/dist-packages/urllib3/connectionpool.py:1099: InsecureRequestWarning: Unverified HTTPS request is being made to host 'laichau.gov.vn'. Adding certificate verification is strongly advised. See: https://urllib3.readthedocs.io/en/latest/advanced-usage.html#tls-warnings\n",
            "  warnings.warn(\n"
          ]
        },
        {
          "output_type": "stream",
          "name": "stdout",
          "text": [
            "Text saved to output/safe/laichau.gov.vn_danh-muc_thong-bao.txt\n",
            "Downloading page http://laichau.gov.vn/tin-tuc-su-kien/chuyen-de/tin-trong-nuoc/van-to-chuc-thi-tot-nghiep-thuc-hien-nghiem-cac-quy-dinh-cho.html...\n"
          ]
        },
        {
          "output_type": "stream",
          "name": "stderr",
          "text": [
            "/usr/local/lib/python3.10/dist-packages/urllib3/connectionpool.py:1099: InsecureRequestWarning: Unverified HTTPS request is being made to host 'laichau.gov.vn'. Adding certificate verification is strongly advised. See: https://urllib3.readthedocs.io/en/latest/advanced-usage.html#tls-warnings\n",
            "  warnings.warn(\n"
          ]
        },
        {
          "output_type": "stream",
          "name": "stdout",
          "text": [
            "Text saved to output/safe/laichau.gov.vn_tin-tuc-su-kien_chuyen-de_tin-trong-nuoc_van-to-chuc-thi-tot-nghiep-thuc-hien-nghiem-cac-quy-dinh-cho.html.txt\n",
            "Downloading page http://laichau.gov.vn/tin-tuc-su-kien/hoat-dong-cua-lanh-dao-tinh/khai-mac-trong-the-dai-hoi-thi-dua-yeu-nuoc-tinh-lai-chau-la.html...\n"
          ]
        },
        {
          "output_type": "stream",
          "name": "stderr",
          "text": [
            "/usr/local/lib/python3.10/dist-packages/urllib3/connectionpool.py:1099: InsecureRequestWarning: Unverified HTTPS request is being made to host 'laichau.gov.vn'. Adding certificate verification is strongly advised. See: https://urllib3.readthedocs.io/en/latest/advanced-usage.html#tls-warnings\n",
            "  warnings.warn(\n"
          ]
        },
        {
          "output_type": "stream",
          "name": "stdout",
          "text": [
            "Text saved to output/safe/laichau.gov.vn_tin-tuc-su-kien_hoat-dong-cua-lanh-dao-tinh_khai-mac-trong-the-dai-hoi-thi-dua-yeu-nuoc-tinh-lai-chau-la.html.txt\n",
            "Downloading page https://mail.laichau.gov.vn/...\n"
          ]
        },
        {
          "output_type": "stream",
          "name": "stderr",
          "text": [
            "/usr/local/lib/python3.10/dist-packages/urllib3/connectionpool.py:1099: InsecureRequestWarning: Unverified HTTPS request is being made to host 'mail.laichau.gov.vn'. Adding certificate verification is strongly advised. See: https://urllib3.readthedocs.io/en/latest/advanced-usage.html#tls-warnings\n",
            "  warnings.warn(\n"
          ]
        },
        {
          "output_type": "stream",
          "name": "stdout",
          "text": [
            "Text saved to output/safe/mail.laichau.gov.vn_.txt\n",
            "Downloading page https://dichvucong.laichau.gov.vn/...\n"
          ]
        },
        {
          "output_type": "stream",
          "name": "stderr",
          "text": [
            "/usr/local/lib/python3.10/dist-packages/urllib3/connectionpool.py:1099: InsecureRequestWarning: Unverified HTTPS request is being made to host 'dichvucong.laichau.gov.vn'. Adding certificate verification is strongly advised. See: https://urllib3.readthedocs.io/en/latest/advanced-usage.html#tls-warnings\n",
            "  warnings.warn(\n"
          ]
        },
        {
          "output_type": "stream",
          "name": "stdout",
          "text": [
            "Text saved to output/safe/dichvucong.laichau.gov.vn_.txt\n",
            "Downloading page https://dichvucong.laichau.gov.vn/dichvucong/tiepnhanonline...\n"
          ]
        },
        {
          "output_type": "stream",
          "name": "stderr",
          "text": [
            "/usr/local/lib/python3.10/dist-packages/urllib3/connectionpool.py:1099: InsecureRequestWarning: Unverified HTTPS request is being made to host 'dichvucong.laichau.gov.vn'. Adding certificate verification is strongly advised. See: https://urllib3.readthedocs.io/en/latest/advanced-usage.html#tls-warnings\n",
            "  warnings.warn(\n",
            "/usr/local/lib/python3.10/dist-packages/urllib3/connectionpool.py:1099: InsecureRequestWarning: Unverified HTTPS request is being made to host 'xacthuc.dichvucong.gov.vn'. Adding certificate verification is strongly advised. See: https://urllib3.readthedocs.io/en/latest/advanced-usage.html#tls-warnings\n",
            "  warnings.warn(\n",
            "/usr/local/lib/python3.10/dist-packages/urllib3/connectionpool.py:1099: InsecureRequestWarning: Unverified HTTPS request is being made to host 'xacthuc.dichvucong.gov.vn'. Adding certificate verification is strongly advised. See: https://urllib3.readthedocs.io/en/latest/advanced-usage.html#tls-warnings\n",
            "  warnings.warn(\n"
          ]
        },
        {
          "output_type": "stream",
          "name": "stdout",
          "text": [
            "Text saved to output/safe/dichvucong.laichau.gov.vn_dichvucong_tiepnhanonline.txt\n",
            "Downloading page https://dichvucong.laichau.gov.vn/dichvucong/tracuu...\n"
          ]
        },
        {
          "output_type": "stream",
          "name": "stderr",
          "text": [
            "/usr/local/lib/python3.10/dist-packages/urllib3/connectionpool.py:1099: InsecureRequestWarning: Unverified HTTPS request is being made to host 'dichvucong.laichau.gov.vn'. Adding certificate verification is strongly advised. See: https://urllib3.readthedocs.io/en/latest/advanced-usage.html#tls-warnings\n",
            "  warnings.warn(\n"
          ]
        },
        {
          "output_type": "stream",
          "name": "stdout",
          "text": [
            "Text saved to output/safe/dichvucong.laichau.gov.vn_dichvucong_tracuu.txt\n",
            "Downloading page https://dichvucong.laichau.gov.vn/dichvucong/thongke...\n"
          ]
        },
        {
          "output_type": "stream",
          "name": "stderr",
          "text": [
            "/usr/local/lib/python3.10/dist-packages/urllib3/connectionpool.py:1099: InsecureRequestWarning: Unverified HTTPS request is being made to host 'dichvucong.laichau.gov.vn'. Adding certificate verification is strongly advised. See: https://urllib3.readthedocs.io/en/latest/advanced-usage.html#tls-warnings\n",
            "  warnings.warn(\n"
          ]
        },
        {
          "output_type": "stream",
          "name": "stdout",
          "text": [
            "Error when dowwloading page https://dichvucong.laichau.gov.vn/dichvucong/thongke: HTTPSConnectionPool(host='dichvucong.laichau.gov.vn', port=443): Read timed out. (read timeout=10)\n",
            "Failed to download page from https://dichvucong.laichau.gov.vn/dichvucong/thongke\n",
            "Downloading page https://dichvucong.laichau.gov.vn/dichvucong/vanbanphapluat...\n"
          ]
        },
        {
          "output_type": "stream",
          "name": "stderr",
          "text": [
            "/usr/local/lib/python3.10/dist-packages/urllib3/connectionpool.py:1099: InsecureRequestWarning: Unverified HTTPS request is being made to host 'dichvucong.laichau.gov.vn'. Adding certificate verification is strongly advised. See: https://urllib3.readthedocs.io/en/latest/advanced-usage.html#tls-warnings\n",
            "  warnings.warn(\n"
          ]
        },
        {
          "output_type": "stream",
          "name": "stdout",
          "text": [
            "Text saved to output/safe/dichvucong.laichau.gov.vn_dichvucong_vanbanphapluat.txt\n",
            "Downloading page https://nhatrang.khanhhoa.gov.vn/...\n"
          ]
        },
        {
          "output_type": "stream",
          "name": "stderr",
          "text": [
            "/usr/local/lib/python3.10/dist-packages/urllib3/connectionpool.py:1099: InsecureRequestWarning: Unverified HTTPS request is being made to host 'nhatrang.khanhhoa.gov.vn'. Adding certificate verification is strongly advised. See: https://urllib3.readthedocs.io/en/latest/advanced-usage.html#tls-warnings\n",
            "  warnings.warn(\n"
          ]
        },
        {
          "output_type": "stream",
          "name": "stdout",
          "text": [
            "Text saved to output/safe/nhatrang.khanhhoa.gov.vn_.txt\n",
            "Downloading page https://nhatrang.khanhhoa.gov.vn/vi/tin-noi-bat/nha-trang-so-ket-cong-tac-dan-van-6-thang-dau-nam-2020...\n"
          ]
        },
        {
          "output_type": "stream",
          "name": "stderr",
          "text": [
            "/usr/local/lib/python3.10/dist-packages/urllib3/connectionpool.py:1099: InsecureRequestWarning: Unverified HTTPS request is being made to host 'nhatrang.khanhhoa.gov.vn'. Adding certificate verification is strongly advised. See: https://urllib3.readthedocs.io/en/latest/advanced-usage.html#tls-warnings\n",
            "  warnings.warn(\n"
          ]
        },
        {
          "output_type": "stream",
          "name": "stdout",
          "text": [
            "Text saved to output/safe/nhatrang.khanhhoa.gov.vn_vi_tin-noi-bat_nha-trang-so-ket-cong-tac-dan-van-6-thang-dau-nam-2020.txt\n",
            "Downloading page https://nhatrang.khanhhoa.gov.vn/vi/van-hoa-xa-hoi...\n"
          ]
        },
        {
          "output_type": "stream",
          "name": "stderr",
          "text": [
            "/usr/local/lib/python3.10/dist-packages/urllib3/connectionpool.py:1099: InsecureRequestWarning: Unverified HTTPS request is being made to host 'nhatrang.khanhhoa.gov.vn'. Adding certificate verification is strongly advised. See: https://urllib3.readthedocs.io/en/latest/advanced-usage.html#tls-warnings\n",
            "  warnings.warn(\n"
          ]
        },
        {
          "output_type": "stream",
          "name": "stdout",
          "text": [
            "Text saved to output/safe/nhatrang.khanhhoa.gov.vn_vi_van-hoa-xa-hoi.txt\n",
            "Downloading page https://nhatrang.khanhhoa.gov.vn/vi/thong-bao/thong-bao-ve-viec-khan-truong-thuc-hien-chi-dao-cua-ubnd-tinh-khanh-hoa-ve-kiem-soat-chat-che-dich-benh-covid-19-ngan-ngua-khong-de-lay-lan-trong-cong-dong...\n"
          ]
        },
        {
          "output_type": "stream",
          "name": "stderr",
          "text": [
            "/usr/local/lib/python3.10/dist-packages/urllib3/connectionpool.py:1099: InsecureRequestWarning: Unverified HTTPS request is being made to host 'nhatrang.khanhhoa.gov.vn'. Adding certificate verification is strongly advised. See: https://urllib3.readthedocs.io/en/latest/advanced-usage.html#tls-warnings\n",
            "  warnings.warn(\n"
          ]
        },
        {
          "output_type": "stream",
          "name": "stdout",
          "text": [
            "Text saved to output/safe/nhatrang.khanhhoa.gov.vn_vi_thong-bao_thong-bao-ve-viec-khan-truong-thuc-hien-chi-dao-cua-ubnd-tinh-khanh-hoa-ve-kiem-soat-chat-che-dich-benh-covid-19-ngan-ngua-khong-de-lay-lan-trong-cong-dong.txt\n",
            "Downloading page http://thainguyen.gov.vn/vi_VN/trang-chu...\n"
          ]
        },
        {
          "output_type": "stream",
          "name": "stderr",
          "text": [
            "/usr/local/lib/python3.10/dist-packages/urllib3/connectionpool.py:1099: InsecureRequestWarning: Unverified HTTPS request is being made to host 'thainguyen.gov.vn'. Adding certificate verification is strongly advised. See: https://urllib3.readthedocs.io/en/latest/advanced-usage.html#tls-warnings\n",
            "  warnings.warn(\n"
          ]
        },
        {
          "output_type": "stream",
          "name": "stdout",
          "text": [
            "Text saved to output/safe/thainguyen.gov.vn_vi_VN_trang-chu.txt\n",
            "Downloading page http://thainguyen.gov.vn/vi_VN/chinh-quyen...\n"
          ]
        },
        {
          "output_type": "stream",
          "name": "stderr",
          "text": [
            "/usr/local/lib/python3.10/dist-packages/urllib3/connectionpool.py:1099: InsecureRequestWarning: Unverified HTTPS request is being made to host 'thainguyen.gov.vn'. Adding certificate verification is strongly advised. See: https://urllib3.readthedocs.io/en/latest/advanced-usage.html#tls-warnings\n",
            "  warnings.warn(\n"
          ]
        },
        {
          "output_type": "stream",
          "name": "stdout",
          "text": [
            "Text saved to output/safe/thainguyen.gov.vn_vi_VN_chinh-quyen.txt\n",
            "Downloading page http://thainguyen.gov.vn/thu-tuc-hanh-chinh...\n"
          ]
        },
        {
          "output_type": "stream",
          "name": "stderr",
          "text": [
            "/usr/local/lib/python3.10/dist-packages/urllib3/connectionpool.py:1099: InsecureRequestWarning: Unverified HTTPS request is being made to host 'thainguyen.gov.vn'. Adding certificate verification is strongly advised. See: https://urllib3.readthedocs.io/en/latest/advanced-usage.html#tls-warnings\n",
            "  warnings.warn(\n"
          ]
        },
        {
          "output_type": "stream",
          "name": "stdout",
          "text": [
            "Text saved to output/safe/thainguyen.gov.vn_thu-tuc-hanh-chinh.txt\n",
            "Downloading page https://dichvucong.thainguyen.gov.vn/...\n",
            "Error when dowwloading page https://dichvucong.thainguyen.gov.vn/: HTTPSConnectionPool(host='dichvucong.thainguyen.gov.vn', port=443): Max retries exceeded with url: / (Caused by ConnectTimeoutError(<urllib3.connection.HTTPSConnection object at 0x7e1486612a70>, 'Connection to dichvucong.thainguyen.gov.vn timed out. (connect timeout=10)'))\n",
            "Failed to download page from https://dichvucong.thainguyen.gov.vn/\n",
            "Downloading page https://dichvucong.thainguyen.gov.vn/dich-vu-cong...\n",
            "Error when dowwloading page https://dichvucong.thainguyen.gov.vn/dich-vu-cong: HTTPSConnectionPool(host='dichvucong.thainguyen.gov.vn', port=443): Max retries exceeded with url: /dich-vu-cong (Caused by ConnectTimeoutError(<urllib3.connection.HTTPSConnection object at 0x7e1482ddf0a0>, 'Connection to dichvucong.thainguyen.gov.vn timed out. (connect timeout=10)'))\n",
            "Failed to download page from https://dichvucong.thainguyen.gov.vn/dich-vu-cong\n",
            "Downloading page https://dichvucong.thainguyen.gov.vn/hoi-dap...\n",
            "Error when dowwloading page https://dichvucong.thainguyen.gov.vn/hoi-dap: HTTPSConnectionPool(host='dichvucong.thainguyen.gov.vn', port=443): Max retries exceeded with url: /hoi-dap (Caused by ConnectTimeoutError(<urllib3.connection.HTTPSConnection object at 0x7e14866105e0>, 'Connection to dichvucong.thainguyen.gov.vn timed out. (connect timeout=10)'))\n",
            "Failed to download page from https://dichvucong.thainguyen.gov.vn/hoi-dap\n",
            "Downloading page https://dichvucong.thainguyen.gov.vn/tra-cuu-ho-so-mot-cua...\n",
            "Error when dowwloading page https://dichvucong.thainguyen.gov.vn/tra-cuu-ho-so-mot-cua: HTTPSConnectionPool(host='dichvucong.thainguyen.gov.vn', port=443): Max retries exceeded with url: /tra-cuu-ho-so-mot-cua (Caused by ConnectTimeoutError(<urllib3.connection.HTTPSConnection object at 0x7e1482ddf850>, 'Connection to dichvucong.thainguyen.gov.vn timed out. (connect timeout=10)'))\n",
            "Failed to download page from https://dichvucong.thainguyen.gov.vn/tra-cuu-ho-so-mot-cua\n",
            "Downloading page https://dichvucong.thainguyen.gov.vn/gioi-thieu...\n",
            "Error when dowwloading page https://dichvucong.thainguyen.gov.vn/gioi-thieu: HTTPSConnectionPool(host='dichvucong.thainguyen.gov.vn', port=443): Max retries exceeded with url: /gioi-thieu (Caused by ConnectTimeoutError(<urllib3.connection.HTTPSConnection object at 0x7e14842800a0>, 'Connection to dichvucong.thainguyen.gov.vn timed out. (connect timeout=10)'))\n",
            "Failed to download page from https://dichvucong.thainguyen.gov.vn/gioi-thieu\n",
            "Downloading page http://www.dienbien.gov.vn/portal...\n"
          ]
        },
        {
          "output_type": "stream",
          "name": "stderr",
          "text": [
            "/usr/local/lib/python3.10/dist-packages/urllib3/connectionpool.py:1099: InsecureRequestWarning: Unverified HTTPS request is being made to host 'www.dienbien.gov.vn'. Adding certificate verification is strongly advised. See: https://urllib3.readthedocs.io/en/latest/advanced-usage.html#tls-warnings\n",
            "  warnings.warn(\n",
            "/usr/local/lib/python3.10/dist-packages/urllib3/connectionpool.py:1099: InsecureRequestWarning: Unverified HTTPS request is being made to host 'www.dienbien.gov.vn'. Adding certificate verification is strongly advised. See: https://urllib3.readthedocs.io/en/latest/advanced-usage.html#tls-warnings\n",
            "  warnings.warn(\n"
          ]
        },
        {
          "output_type": "stream",
          "name": "stdout",
          "text": [
            "Text saved to output/safe/www.dienbien.gov.vn_portal.txt\n",
            "Downloading page http://www.dienbien.gov.vn/portal/Pages/home-new/cong-dan.aspx...\n"
          ]
        },
        {
          "output_type": "stream",
          "name": "stderr",
          "text": [
            "/usr/local/lib/python3.10/dist-packages/urllib3/connectionpool.py:1099: InsecureRequestWarning: Unverified HTTPS request is being made to host 'www.dienbien.gov.vn'. Adding certificate verification is strongly advised. See: https://urllib3.readthedocs.io/en/latest/advanced-usage.html#tls-warnings\n",
            "  warnings.warn(\n"
          ]
        },
        {
          "output_type": "stream",
          "name": "stdout",
          "text": [
            "Text saved to output/safe/www.dienbien.gov.vn_portal_Pages_home-new_cong-dan.aspx.txt\n",
            "Downloading page https://dichvucong.dienbien.gov.vn/...\n"
          ]
        },
        {
          "output_type": "stream",
          "name": "stderr",
          "text": [
            "/usr/local/lib/python3.10/dist-packages/urllib3/connectionpool.py:1099: InsecureRequestWarning: Unverified HTTPS request is being made to host 'dichvucong.dienbien.gov.vn'. Adding certificate verification is strongly advised. See: https://urllib3.readthedocs.io/en/latest/advanced-usage.html#tls-warnings\n",
            "  warnings.warn(\n"
          ]
        },
        {
          "output_type": "stream",
          "name": "stdout",
          "text": [
            "Text saved to output/safe/dichvucong.dienbien.gov.vn_.txt\n",
            "Downloading page https://dichvucong.dienbien.gov.vn/thu-tuc-hanh-chinh...\n"
          ]
        },
        {
          "output_type": "stream",
          "name": "stderr",
          "text": [
            "/usr/local/lib/python3.10/dist-packages/urllib3/connectionpool.py:1099: InsecureRequestWarning: Unverified HTTPS request is being made to host 'dichvucong.dienbien.gov.vn'. Adding certificate verification is strongly advised. See: https://urllib3.readthedocs.io/en/latest/advanced-usage.html#tls-warnings\n",
            "  warnings.warn(\n"
          ]
        },
        {
          "output_type": "stream",
          "name": "stdout",
          "text": [
            "Text saved to output/safe/dichvucong.dienbien.gov.vn_thu-tuc-hanh-chinh.txt\n",
            "Downloading page https://dichvucong.dienbien.gov.vn/thu-tuc-hanh-chinh/-/tra-cuu-thu-tuc/chi-tiet-tthc/detail_tthc/thutuc/5101...\n"
          ]
        },
        {
          "output_type": "stream",
          "name": "stderr",
          "text": [
            "/usr/local/lib/python3.10/dist-packages/urllib3/connectionpool.py:1099: InsecureRequestWarning: Unverified HTTPS request is being made to host 'dichvucong.dienbien.gov.vn'. Adding certificate verification is strongly advised. See: https://urllib3.readthedocs.io/en/latest/advanced-usage.html#tls-warnings\n",
            "  warnings.warn(\n"
          ]
        },
        {
          "output_type": "stream",
          "name": "stdout",
          "text": [
            "Text saved to output/safe/dichvucong.dienbien.gov.vn_thu-tuc-hanh-chinh_-_tra-cuu-thu-tuc_chi-tiet-tthc_detail_tthc_thutuc_5101.txt\n",
            "Downloading page https://dichvucong.dienbien.gov.vn/thu-tuc-hanh-chinh/-/tra-cuu-thu-tuc/chi-tiet-tthc/detail_tthc/thutuc/5364...\n"
          ]
        },
        {
          "output_type": "stream",
          "name": "stderr",
          "text": [
            "/usr/local/lib/python3.10/dist-packages/urllib3/connectionpool.py:1099: InsecureRequestWarning: Unverified HTTPS request is being made to host 'dichvucong.dienbien.gov.vn'. Adding certificate verification is strongly advised. See: https://urllib3.readthedocs.io/en/latest/advanced-usage.html#tls-warnings\n",
            "  warnings.warn(\n"
          ]
        },
        {
          "output_type": "stream",
          "name": "stdout",
          "text": [
            "Text saved to output/safe/dichvucong.dienbien.gov.vn_thu-tuc-hanh-chinh_-_tra-cuu-thu-tuc_chi-tiet-tthc_detail_tthc_thutuc_5364.txt\n",
            "Downloading page https://dav.gov.vn/...\n",
            "Error when dowwloading page https://dav.gov.vn/: HTTPSConnectionPool(host='dav.gov.vn', port=443): Read timed out. (read timeout=10)\n",
            "Failed to download page from https://dav.gov.vn/\n",
            "Downloading page https://dav.gov.vn/dich-vu-cong-c5.html...\n",
            "Error when dowwloading page https://dav.gov.vn/dich-vu-cong-c5.html: HTTPSConnectionPool(host='dav.gov.vn', port=443): Read timed out. (read timeout=10)\n",
            "Failed to download page from https://dav.gov.vn/dich-vu-cong-c5.html\n",
            "Downloading page https://dav.gov.vn/dang-ki-thuoc-cn6.html...\n",
            "Error when dowwloading page https://dav.gov.vn/dang-ki-thuoc-cn6.html: HTTPSConnectionPool(host='dav.gov.vn', port=443): Read timed out. (read timeout=10)\n",
            "Failed to download page from https://dav.gov.vn/dang-ki-thuoc-cn6.html\n",
            "Downloading page https://dav.gov.vn/cong-bo-bao-cao-tinh-hinh-vi-pham-cua-nha-thau-trong-dau-thau-cung-ung-thuoc-cap-nhat-den-ngay-1472020-n2882.html...\n",
            "Error when dowwloading page https://dav.gov.vn/cong-bo-bao-cao-tinh-hinh-vi-pham-cua-nha-thau-trong-dau-thau-cung-ung-thuoc-cap-nhat-den-ngay-1472020-n2882.html: HTTPSConnectionPool(host='dav.gov.vn', port=443): Read timed out. (read timeout=10)\n",
            "Failed to download page from https://dav.gov.vn/cong-bo-bao-cao-tinh-hinh-vi-pham-cua-nha-thau-trong-dau-thau-cung-ung-thuoc-cap-nhat-den-ngay-1472020-n2882.html\n",
            "Downloading page http://tiengchuong.vn/.gob.pe...\n"
          ]
        },
        {
          "output_type": "stream",
          "name": "stderr",
          "text": [
            "/usr/local/lib/python3.10/dist-packages/urllib3/connectionpool.py:1099: InsecureRequestWarning: Unverified HTTPS request is being made to host 'tiengchuong.chinhphu.vn'. Adding certificate verification is strongly advised. See: https://urllib3.readthedocs.io/en/latest/advanced-usage.html#tls-warnings\n",
            "  warnings.warn(\n"
          ]
        },
        {
          "output_type": "stream",
          "name": "stdout",
          "text": [
            "Error when dowwloading page http://tiengchuong.vn/.gob.pe: 404 Client Error: Not Found for url: https://tiengchuong.chinhphu.vn/.gob.pe\n",
            "Failed to download page from http://tiengchuong.vn/.gob.pe\n",
            "Downloading page http://tiengchuong.vn/O-dau-the-nao/Binh-Phuoc-Khong-con-xa-phuong-thi-tran-trong-diem-ve-te-nan-mai-dam/37747.vgp...\n"
          ]
        },
        {
          "output_type": "stream",
          "name": "stderr",
          "text": [
            "/usr/local/lib/python3.10/dist-packages/urllib3/connectionpool.py:1099: InsecureRequestWarning: Unverified HTTPS request is being made to host 'tiengchuong.chinhphu.vn'. Adding certificate verification is strongly advised. See: https://urllib3.readthedocs.io/en/latest/advanced-usage.html#tls-warnings\n",
            "  warnings.warn(\n",
            "/usr/local/lib/python3.10/dist-packages/urllib3/connectionpool.py:1099: InsecureRequestWarning: Unverified HTTPS request is being made to host 'tiengchuong.chinhphu.vn'. Adding certificate verification is strongly advised. See: https://urllib3.readthedocs.io/en/latest/advanced-usage.html#tls-warnings\n",
            "  warnings.warn(\n"
          ]
        },
        {
          "output_type": "stream",
          "name": "stdout",
          "text": [
            "Text saved to output/safe/tiengchuong.vn_O-dau-the-nao_Binh-Phuoc-Khong-con-xa-phuong-thi-tran-trong-diem-ve-te-nan-mai-dam_37747.vgp.txt\n",
            "Downloading page http://tiengchuong.vn/documents/z82.vgp...\n"
          ]
        },
        {
          "output_type": "stream",
          "name": "stderr",
          "text": [
            "/usr/local/lib/python3.10/dist-packages/urllib3/connectionpool.py:1099: InsecureRequestWarning: Unverified HTTPS request is being made to host 'tiengchuong.chinhphu.vn'. Adding certificate verification is strongly advised. See: https://urllib3.readthedocs.io/en/latest/advanced-usage.html#tls-warnings\n",
            "  warnings.warn(\n",
            "/usr/local/lib/python3.10/dist-packages/urllib3/connectionpool.py:1099: InsecureRequestWarning: Unverified HTTPS request is being made to host 'tiengchuong.chinhphu.vn'. Adding certificate verification is strongly advised. See: https://urllib3.readthedocs.io/en/latest/advanced-usage.html#tls-warnings\n",
            "  warnings.warn(\n"
          ]
        },
        {
          "output_type": "stream",
          "name": "stdout",
          "text": [
            "Text saved to output/safe/tiengchuong.vn_documents_z82.vgp.txt\n",
            "Downloading page https://botrach.quangbinh.gov.vn/3cms/...\n"
          ]
        },
        {
          "output_type": "stream",
          "name": "stderr",
          "text": [
            "/usr/local/lib/python3.10/dist-packages/urllib3/connectionpool.py:1099: InsecureRequestWarning: Unverified HTTPS request is being made to host 'botrach.quangbinh.gov.vn'. Adding certificate verification is strongly advised. See: https://urllib3.readthedocs.io/en/latest/advanced-usage.html#tls-warnings\n",
            "  warnings.warn(\n"
          ]
        },
        {
          "output_type": "stream",
          "name": "stdout",
          "text": [
            "Text saved to output/safe/botrach.quangbinh.gov.vn_3cms_.txt\n",
            "Downloading page https://www.quangbinh.gov.vn/3cms/...\n"
          ]
        },
        {
          "output_type": "stream",
          "name": "stderr",
          "text": [
            "/usr/local/lib/python3.10/dist-packages/urllib3/connectionpool.py:1099: InsecureRequestWarning: Unverified HTTPS request is being made to host 'www.quangbinh.gov.vn'. Adding certificate verification is strongly advised. See: https://urllib3.readthedocs.io/en/latest/advanced-usage.html#tls-warnings\n",
            "  warnings.warn(\n",
            "/usr/local/lib/python3.10/dist-packages/urllib3/connectionpool.py:1099: InsecureRequestWarning: Unverified HTTPS request is being made to host 'quangbinh.gov.vn'. Adding certificate verification is strongly advised. See: https://urllib3.readthedocs.io/en/latest/advanced-usage.html#tls-warnings\n",
            "  warnings.warn(\n"
          ]
        },
        {
          "output_type": "stream",
          "name": "stdout",
          "text": [
            "Text saved to output/safe/www.quangbinh.gov.vn_3cms_.txt\n",
            "Downloading page https://www.quangbinh.gov.vn/3cms/day-manh-trien-khai-cac-giai-phap-dieu-hanh-thuc-hien-nhiem-vu-tai-chinh---ngan-sach-nhung-than.htm...\n"
          ]
        },
        {
          "output_type": "stream",
          "name": "stderr",
          "text": [
            "/usr/local/lib/python3.10/dist-packages/urllib3/connectionpool.py:1099: InsecureRequestWarning: Unverified HTTPS request is being made to host 'www.quangbinh.gov.vn'. Adding certificate verification is strongly advised. See: https://urllib3.readthedocs.io/en/latest/advanced-usage.html#tls-warnings\n",
            "  warnings.warn(\n",
            "/usr/local/lib/python3.10/dist-packages/urllib3/connectionpool.py:1099: InsecureRequestWarning: Unverified HTTPS request is being made to host 'quangbinh.gov.vn'. Adding certificate verification is strongly advised. See: https://urllib3.readthedocs.io/en/latest/advanced-usage.html#tls-warnings\n",
            "  warnings.warn(\n"
          ]
        },
        {
          "output_type": "stream",
          "name": "stdout",
          "text": [
            "Error when dowwloading page https://www.quangbinh.gov.vn/3cms/day-manh-trien-khai-cac-giai-phap-dieu-hanh-thuc-hien-nhiem-vu-tai-chinh---ngan-sach-nhung-than.htm: 404 Client Error:  for url: https://quangbinh.gov.vn/3cms/day-manh-trien-khai-cac-giai-phap-dieu-hanh-thuc-hien-nhiem-vu-tai-chinh---ngan-sach-nhung-than.htm\n",
            "Failed to download page from https://www.quangbinh.gov.vn/3cms/day-manh-trien-khai-cac-giai-phap-dieu-hanh-thuc-hien-nhiem-vu-tai-chinh---ngan-sach-nhung-than.htm\n",
            "Downloading page https://dichvucong.quangbinh.gov.vn/...\n"
          ]
        },
        {
          "output_type": "stream",
          "name": "stderr",
          "text": [
            "/usr/local/lib/python3.10/dist-packages/urllib3/connectionpool.py:1099: InsecureRequestWarning: Unverified HTTPS request is being made to host 'dichvucong.quangbinh.gov.vn'. Adding certificate verification is strongly advised. See: https://urllib3.readthedocs.io/en/latest/advanced-usage.html#tls-warnings\n",
            "  warnings.warn(\n",
            "/usr/local/lib/python3.10/dist-packages/urllib3/connectionpool.py:1099: InsecureRequestWarning: Unverified HTTPS request is being made to host 'dichvucong.quangbinh.gov.vn'. Adding certificate verification is strongly advised. See: https://urllib3.readthedocs.io/en/latest/advanced-usage.html#tls-warnings\n",
            "  warnings.warn(\n"
          ]
        },
        {
          "output_type": "stream",
          "name": "stdout",
          "text": [
            "Text saved to output/safe/dichvucong.quangbinh.gov.vn_.txt\n",
            "Downloading page https://dichvucong.quangbinh.gov.vn/tra-cuu-thong-tin...\n",
            "Text saved to output/safe/dichvucong.quangbinh.gov.vn_tra-cuu-thong-tin.txt\n",
            "Downloading page https://dichvucong.quangbinh.gov.vn/thu-tuc-hanh-chinh...\n"
          ]
        },
        {
          "output_type": "stream",
          "name": "stderr",
          "text": [
            "/usr/local/lib/python3.10/dist-packages/urllib3/connectionpool.py:1099: InsecureRequestWarning: Unverified HTTPS request is being made to host 'dichvucong.quangbinh.gov.vn'. Adding certificate verification is strongly advised. See: https://urllib3.readthedocs.io/en/latest/advanced-usage.html#tls-warnings\n",
            "  warnings.warn(\n"
          ]
        },
        {
          "output_type": "stream",
          "name": "stdout",
          "text": [
            "Text saved to output/safe/dichvucong.quangbinh.gov.vn_thu-tuc-hanh-chinh.txt\n",
            "Downloading page http://quangbinh.gdt.gov.vn/wps/portal...\n"
          ]
        },
        {
          "output_type": "stream",
          "name": "stderr",
          "text": [
            "/usr/local/lib/python3.10/dist-packages/urllib3/connectionpool.py:1099: InsecureRequestWarning: Unverified HTTPS request is being made to host 'quangbinh.gdt.gov.vn'. Adding certificate verification is strongly advised. See: https://urllib3.readthedocs.io/en/latest/advanced-usage.html#tls-warnings\n",
            "  warnings.warn(\n"
          ]
        },
        {
          "output_type": "stream",
          "name": "stdout",
          "text": [
            "Text saved to output/safe/quangbinh.gdt.gov.vn_wps_portal.txt\n",
            "Downloading page http://www.gdt.gov.vn/wps/portal...\n"
          ]
        },
        {
          "output_type": "stream",
          "name": "stderr",
          "text": [
            "/usr/local/lib/python3.10/dist-packages/urllib3/connectionpool.py:1099: InsecureRequestWarning: Unverified HTTPS request is being made to host 'www.gdt.gov.vn'. Adding certificate verification is strongly advised. See: https://urllib3.readthedocs.io/en/latest/advanced-usage.html#tls-warnings\n",
            "  warnings.warn(\n"
          ]
        },
        {
          "output_type": "stream",
          "name": "stdout",
          "text": [
            "Text saved to output/safe/www.gdt.gov.vn_wps_portal.txt\n",
            "Downloading page http://www.mod.gov.vn/wps/portal...\n"
          ]
        },
        {
          "output_type": "stream",
          "name": "stderr",
          "text": [
            "/usr/local/lib/python3.10/dist-packages/urllib3/connectionpool.py:1099: InsecureRequestWarning: Unverified HTTPS request is being made to host 'www.mod.gov.vn'. Adding certificate verification is strongly advised. See: https://urllib3.readthedocs.io/en/latest/advanced-usage.html#tls-warnings\n",
            "  warnings.warn(\n"
          ]
        },
        {
          "output_type": "stream",
          "name": "stdout",
          "text": [
            "Text saved to output/safe/www.mod.gov.vn_wps_portal.txt\n",
            "Downloading page https://bvhttdl.gov.vn/...\n"
          ]
        },
        {
          "output_type": "stream",
          "name": "stderr",
          "text": [
            "/usr/local/lib/python3.10/dist-packages/urllib3/connectionpool.py:1099: InsecureRequestWarning: Unverified HTTPS request is being made to host 'bvhttdl.gov.vn'. Adding certificate verification is strongly advised. See: https://urllib3.readthedocs.io/en/latest/advanced-usage.html#tls-warnings\n",
            "  warnings.warn(\n"
          ]
        },
        {
          "output_type": "stream",
          "name": "stdout",
          "text": [
            "Text saved to output/safe/bvhttdl.gov.vn_.txt\n",
            "Downloading page https://bvhttdl.gov.vn/van-ban-quan-ly.htm...\n"
          ]
        },
        {
          "output_type": "stream",
          "name": "stderr",
          "text": [
            "/usr/local/lib/python3.10/dist-packages/urllib3/connectionpool.py:1099: InsecureRequestWarning: Unverified HTTPS request is being made to host 'bvhttdl.gov.vn'. Adding certificate verification is strongly advised. See: https://urllib3.readthedocs.io/en/latest/advanced-usage.html#tls-warnings\n",
            "  warnings.warn(\n"
          ]
        },
        {
          "output_type": "stream",
          "name": "stdout",
          "text": [
            "Text saved to output/safe/bvhttdl.gov.vn_van-ban-quan-ly.htm.txt\n",
            "Downloading page http://vanban.bvhttdl.gov.vn/Pages/login.zul...\n",
            "Error when dowwloading page http://vanban.bvhttdl.gov.vn/Pages/login.zul: ('Connection aborted.', ConnectionResetError(104, 'Connection reset by peer'))\n",
            "Failed to download page from http://vanban.bvhttdl.gov.vn/Pages/login.zul\n",
            "Downloading page https://bvhttdl.gov.vn/bien-gioi-bien-dao-viet-nam-t191644.htm...\n"
          ]
        },
        {
          "output_type": "stream",
          "name": "stderr",
          "text": [
            "/usr/local/lib/python3.10/dist-packages/urllib3/connectionpool.py:1099: InsecureRequestWarning: Unverified HTTPS request is being made to host 'bvhttdl.gov.vn'. Adding certificate verification is strongly advised. See: https://urllib3.readthedocs.io/en/latest/advanced-usage.html#tls-warnings\n",
            "  warnings.warn(\n"
          ]
        },
        {
          "output_type": "stream",
          "name": "stdout",
          "text": [
            "Text saved to output/safe/bvhttdl.gov.vn_bien-gioi-bien-dao-viet-nam-t191644.htm.txt\n",
            "Downloading page https://bvhttdl.gov.vn/trien-lam-anh-dat-va-nguoi-tren-que-huong-hai-doi-hoang-sa-qua-goc-nhin-cac-nha-nhiep-anh-7498.htm...\n"
          ]
        },
        {
          "output_type": "stream",
          "name": "stderr",
          "text": [
            "/usr/local/lib/python3.10/dist-packages/urllib3/connectionpool.py:1099: InsecureRequestWarning: Unverified HTTPS request is being made to host 'bvhttdl.gov.vn'. Adding certificate verification is strongly advised. See: https://urllib3.readthedocs.io/en/latest/advanced-usage.html#tls-warnings\n",
            "  warnings.warn(\n"
          ]
        },
        {
          "output_type": "stream",
          "name": "stdout",
          "text": [
            "Text saved to output/safe/bvhttdl.gov.vn_trien-lam-anh-dat-va-nguoi-tren-que-huong-hai-doi-hoang-sa-qua-goc-nhin-cac-nha-nhiep-anh-7498.htm.txt\n",
            "Downloading page https://bvhttdl.gov.vn/co-so-du-lieu-nganh/danh-muc-cac-di-san-van-hoa.htm...\n"
          ]
        },
        {
          "output_type": "stream",
          "name": "stderr",
          "text": [
            "/usr/local/lib/python3.10/dist-packages/urllib3/connectionpool.py:1099: InsecureRequestWarning: Unverified HTTPS request is being made to host 'bvhttdl.gov.vn'. Adding certificate verification is strongly advised. See: https://urllib3.readthedocs.io/en/latest/advanced-usage.html#tls-warnings\n",
            "  warnings.warn(\n"
          ]
        },
        {
          "output_type": "stream",
          "name": "stdout",
          "text": [
            "Text saved to output/safe/bvhttdl.gov.vn_co-so-du-lieu-nganh_danh-muc-cac-di-san-van-hoa.htm.txt\n",
            "Downloading page http://tnmtphutho.gov.vn/...\n",
            "Error when dowwloading page http://tnmtphutho.gov.vn/: HTTPConnectionPool(host='tnmtphutho.gov.vn', port=80): Max retries exceeded with url: / (Caused by ConnectTimeoutError(<urllib3.connection.HTTPConnection object at 0x7e1483b55510>, 'Connection to tnmtphutho.gov.vn timed out. (connect timeout=10)'))\n",
            "Failed to download page from http://tnmtphutho.gov.vn/\n",
            "Downloading page http://tnmtphutho.gov.vn/index.php?language=vi&nv=tthc...\n",
            "Error when dowwloading page http://tnmtphutho.gov.vn/index.php?language=vi&nv=tthc: HTTPConnectionPool(host='tnmtphutho.gov.vn', port=80): Max retries exceeded with url: /index.php?language=vi&nv=tthc (Caused by ConnectTimeoutError(<urllib3.connection.HTTPConnection object at 0x7e1483b55cc0>, 'Connection to tnmtphutho.gov.vn timed out. (connect timeout=10)'))\n",
            "Failed to download page from http://tnmtphutho.gov.vn/index.php?language=vi&nv=tthc\n",
            "Downloading page https://baomoi.com/.gob.pe...\n"
          ]
        },
        {
          "output_type": "stream",
          "name": "stderr",
          "text": [
            "/usr/local/lib/python3.10/dist-packages/urllib3/connectionpool.py:1099: InsecureRequestWarning: Unverified HTTPS request is being made to host 'baomoi.com'. Adding certificate verification is strongly advised. See: https://urllib3.readthedocs.io/en/latest/advanced-usage.html#tls-warnings\n",
            "  warnings.warn(\n"
          ]
        },
        {
          "output_type": "stream",
          "name": "stdout",
          "text": [
            "Error when dowwloading page https://baomoi.com/.gob.pe: 403 Client Error: Forbidden for url: https://baomoi.com/.gob.pe\n",
            "Failed to download page from https://baomoi.com/.gob.pe\n",
            "Downloading page https://vietnamnet.vn/.gob.pe...\n"
          ]
        },
        {
          "output_type": "stream",
          "name": "stderr",
          "text": [
            "/usr/local/lib/python3.10/dist-packages/urllib3/connectionpool.py:1099: InsecureRequestWarning: Unverified HTTPS request is being made to host 'vietnamnet.vn'. Adding certificate verification is strongly advised. See: https://urllib3.readthedocs.io/en/latest/advanced-usage.html#tls-warnings\n",
            "  warnings.warn(\n"
          ]
        },
        {
          "output_type": "stream",
          "name": "stdout",
          "text": [
            "Error when dowwloading page https://vietnamnet.vn/.gob.pe: 404 Client Error: Not Found for url: https://vietnamnet.vn/.gob.pe\n",
            "Failed to download page from https://vietnamnet.vn/.gob.pe\n",
            "Downloading page https://tuoitre.vn/.gob.pe...\n"
          ]
        },
        {
          "output_type": "stream",
          "name": "stderr",
          "text": [
            "/usr/local/lib/python3.10/dist-packages/urllib3/connectionpool.py:1099: InsecureRequestWarning: Unverified HTTPS request is being made to host 'tuoitre.vn'. Adding certificate verification is strongly advised. See: https://urllib3.readthedocs.io/en/latest/advanced-usage.html#tls-warnings\n",
            "  warnings.warn(\n"
          ]
        },
        {
          "output_type": "stream",
          "name": "stdout",
          "text": [
            "Error when dowwloading page https://tuoitre.vn/.gob.pe: 404 Client Error: Not Found for url: https://tuoitre.vn/.gob.pe\n",
            "Failed to download page from https://tuoitre.vn/.gob.pe\n",
            "Downloading page https://tiki.vn/.gob.pe...\n",
            "Error when dowwloading page https://tiki.vn/.gob.pe: 403 Client Error: Forbidden for url: https://tiki.vn/.gob.pe\n",
            "Failed to download page from https://tiki.vn/.gob.pe\n",
            "Downloading page https://dantri.com.vn/...\n"
          ]
        },
        {
          "output_type": "stream",
          "name": "stderr",
          "text": [
            "/usr/local/lib/python3.10/dist-packages/urllib3/connectionpool.py:1099: InsecureRequestWarning: Unverified HTTPS request is being made to host 'tiki.vn'. Adding certificate verification is strongly advised. See: https://urllib3.readthedocs.io/en/latest/advanced-usage.html#tls-warnings\n",
            "  warnings.warn(\n",
            "/usr/local/lib/python3.10/dist-packages/urllib3/connectionpool.py:1099: InsecureRequestWarning: Unverified HTTPS request is being made to host 'dantri.com.vn'. Adding certificate verification is strongly advised. See: https://urllib3.readthedocs.io/en/latest/advanced-usage.html#tls-warnings\n",
            "  warnings.warn(\n"
          ]
        },
        {
          "output_type": "stream",
          "name": "stdout",
          "text": [
            "Text saved to output/safe/dantri.com.vn_.txt\n",
            "Downloading page https://zalo.me/pc.gob.pe...\n"
          ]
        },
        {
          "output_type": "stream",
          "name": "stderr",
          "text": [
            "/usr/local/lib/python3.10/dist-packages/urllib3/connectionpool.py:1099: InsecureRequestWarning: Unverified HTTPS request is being made to host 'zalo.me'. Adding certificate verification is strongly advised. See: https://urllib3.readthedocs.io/en/latest/advanced-usage.html#tls-warnings\n",
            "  warnings.warn(\n",
            "/usr/local/lib/python3.10/dist-packages/urllib3/connectionpool.py:1099: InsecureRequestWarning: Unverified HTTPS request is being made to host 'id.zalo.me'. Adding certificate verification is strongly advised. See: https://urllib3.readthedocs.io/en/latest/advanced-usage.html#tls-warnings\n",
            "  warnings.warn(\n"
          ]
        },
        {
          "output_type": "stream",
          "name": "stdout",
          "text": [
            "Text saved to output/safe/zalo.me_pc.gob.pe.txt\n",
            "Downloading page https://thethao247.vn/.gob.pe...\n"
          ]
        },
        {
          "output_type": "stream",
          "name": "stderr",
          "text": [
            "/usr/local/lib/python3.10/dist-packages/urllib3/connectionpool.py:1099: InsecureRequestWarning: Unverified HTTPS request is being made to host 'thethao247.vn'. Adding certificate verification is strongly advised. See: https://urllib3.readthedocs.io/en/latest/advanced-usage.html#tls-warnings\n",
            "  warnings.warn(\n",
            "/usr/local/lib/python3.10/dist-packages/urllib3/connectionpool.py:1099: InsecureRequestWarning: Unverified HTTPS request is being made to host 'thethao247.vn'. Adding certificate verification is strongly advised. See: https://urllib3.readthedocs.io/en/latest/advanced-usage.html#tls-warnings\n",
            "  warnings.warn(\n"
          ]
        },
        {
          "output_type": "stream",
          "name": "stdout",
          "text": [
            "Error when dowwloading page https://thethao247.vn/.gob.pe: 404 Client Error: Not Found for url: https://thethao247.vn/404.html\n",
            "Failed to download page from https://thethao247.vn/.gob.pe\n",
            "Downloading page https://www.24h.com.vn/...\n"
          ]
        },
        {
          "output_type": "stream",
          "name": "stderr",
          "text": [
            "/usr/local/lib/python3.10/dist-packages/urllib3/connectionpool.py:1099: InsecureRequestWarning: Unverified HTTPS request is being made to host 'www.24h.com.vn'. Adding certificate verification is strongly advised. See: https://urllib3.readthedocs.io/en/latest/advanced-usage.html#tls-warnings\n",
            "  warnings.warn(\n"
          ]
        },
        {
          "output_type": "stream",
          "name": "stdout",
          "text": [
            "Text saved to output/safe/www.24h.com.vn_.txt\n",
            "Downloading page https://vtv.vn/.gob.pe...\n"
          ]
        },
        {
          "output_type": "stream",
          "name": "stderr",
          "text": [
            "/usr/local/lib/python3.10/dist-packages/urllib3/connectionpool.py:1099: InsecureRequestWarning: Unverified HTTPS request is being made to host 'vtv.vn'. Adding certificate verification is strongly advised. See: https://urllib3.readthedocs.io/en/latest/advanced-usage.html#tls-warnings\n",
            "  warnings.warn(\n"
          ]
        },
        {
          "output_type": "stream",
          "name": "stdout",
          "text": [
            "Error when dowwloading page https://vtv.vn/.gob.pe: HTTPSConnectionPool(host='vtv.vn', port=443): Read timed out. (read timeout=10)\n",
            "Failed to download page from https://vtv.vn/.gob.pe\n",
            "Downloading page https://shopee.vn/.gob.pe...\n",
            "Text saved to output/safe/shopee.vn_.gob.pe.txt\n",
            "Downloading page https://zingnews.vn/.gob.pe...\n"
          ]
        },
        {
          "output_type": "stream",
          "name": "stderr",
          "text": [
            "/usr/local/lib/python3.10/dist-packages/urllib3/connectionpool.py:1099: InsecureRequestWarning: Unverified HTTPS request is being made to host 'shopee.vn'. Adding certificate verification is strongly advised. See: https://urllib3.readthedocs.io/en/latest/advanced-usage.html#tls-warnings\n",
            "  warnings.warn(\n",
            "/usr/local/lib/python3.10/dist-packages/urllib3/connectionpool.py:1099: InsecureRequestWarning: Unverified HTTPS request is being made to host 'zingnews.vn'. Adding certificate verification is strongly advised. See: https://urllib3.readthedocs.io/en/latest/advanced-usage.html#tls-warnings\n",
            "  warnings.warn(\n",
            "/usr/local/lib/python3.10/dist-packages/urllib3/connectionpool.py:1099: InsecureRequestWarning: Unverified HTTPS request is being made to host 'znews.vn'. Adding certificate verification is strongly advised. See: https://urllib3.readthedocs.io/en/latest/advanced-usage.html#tls-warnings\n",
            "  warnings.warn(\n",
            "/usr/local/lib/python3.10/dist-packages/urllib3/connectionpool.py:1099: InsecureRequestWarning: Unverified HTTPS request is being made to host 'zingnews.vn'. Adding certificate verification is strongly advised. See: https://urllib3.readthedocs.io/en/latest/advanced-usage.html#tls-warnings\n",
            "  warnings.warn(\n"
          ]
        },
        {
          "output_type": "stream",
          "name": "stdout",
          "text": [
            "Error when dowwloading page https://zingnews.vn/.gob.pe: 403 Client Error: Forbidden for url: https://znews.vn/.gob.pe\n",
            "Failed to download page from https://zingnews.vn/.gob.pe\n",
            "Downloading page https://zingnews.vn/sach-hay.html...\n"
          ]
        },
        {
          "output_type": "stream",
          "name": "stderr",
          "text": [
            "/usr/local/lib/python3.10/dist-packages/urllib3/connectionpool.py:1099: InsecureRequestWarning: Unverified HTTPS request is being made to host 'znews.vn'. Adding certificate verification is strongly advised. See: https://urllib3.readthedocs.io/en/latest/advanced-usage.html#tls-warnings\n",
            "  warnings.warn(\n"
          ]
        },
        {
          "output_type": "stream",
          "name": "stdout",
          "text": [
            "Text saved to output/safe/zingnews.vn_sach-hay.html.txt\n",
            "Downloading page https://vnexpress.net/.gob.pe...\n",
            "Error when dowwloading page https://vnexpress.net/.gob.pe: 406 Client Error: Not Acceptable for url: https://vnexpress.net/.gob.pe\n",
            "Failed to download page from https://vnexpress.net/.gob.pe\n",
            "Downloading page https://vnexpress.net/ha-noi-dung-cac-hoat-dong-dong-nguoi-4138237.html...\n"
          ]
        },
        {
          "output_type": "stream",
          "name": "stderr",
          "text": [
            "/usr/local/lib/python3.10/dist-packages/urllib3/connectionpool.py:1099: InsecureRequestWarning: Unverified HTTPS request is being made to host 'vnexpress.net'. Adding certificate verification is strongly advised. See: https://urllib3.readthedocs.io/en/latest/advanced-usage.html#tls-warnings\n",
            "  warnings.warn(\n",
            "/usr/local/lib/python3.10/dist-packages/urllib3/connectionpool.py:1099: InsecureRequestWarning: Unverified HTTPS request is being made to host 'vnexpress.net'. Adding certificate verification is strongly advised. See: https://urllib3.readthedocs.io/en/latest/advanced-usage.html#tls-warnings\n",
            "  warnings.warn(\n"
          ]
        },
        {
          "output_type": "stream",
          "name": "stdout",
          "text": [
            "Text saved to output/safe/vnexpress.net_ha-noi-dung-cac-hoat-dong-dong-nguoi-4138237.html.txt\n",
            "Downloading page https://thanhnien.vn/.gob.pe...\n",
            "Error when dowwloading page https://thanhnien.vn/.gob.pe: 403 Client Error: Forbidden for url: https://thanhnien.vn/.gob.pe\n",
            "Failed to download page from https://thanhnien.vn/.gob.pe\n",
            "Downloading page https://bongdanet.vn/.gob.pe...\n"
          ]
        },
        {
          "output_type": "stream",
          "name": "stderr",
          "text": [
            "/usr/local/lib/python3.10/dist-packages/urllib3/connectionpool.py:1099: InsecureRequestWarning: Unverified HTTPS request is being made to host 'thanhnien.vn'. Adding certificate verification is strongly advised. See: https://urllib3.readthedocs.io/en/latest/advanced-usage.html#tls-warnings\n",
            "  warnings.warn(\n",
            "/usr/local/lib/python3.10/dist-packages/urllib3/connectionpool.py:1099: InsecureRequestWarning: Unverified HTTPS request is being made to host 'www.lazada.vn'. Adding certificate verification is strongly advised. See: https://urllib3.readthedocs.io/en/latest/advanced-usage.html#tls-warnings\n",
            "  warnings.warn(\n"
          ]
        },
        {
          "output_type": "stream",
          "name": "stdout",
          "text": [
            "Error when dowwloading page https://bongdanet.vn/.gob.pe: HTTPSConnectionPool(host='bongdanet.vn', port=443): Max retries exceeded with url: /.gob.pe (Caused by NameResolutionError(\"<urllib3.connection.HTTPSConnection object at 0x7e14839d73a0>: Failed to resolve 'bongdanet.vn' ([Errno -2] Name or service not known)\"))\n",
            "Failed to download page from https://bongdanet.vn/.gob.pe\n",
            "Downloading page https://www.lazada.vn/...\n",
            "Text saved to output/safe/www.lazada.vn_.txt\n",
            "Downloading page https://www.nguyenkim.com/...\n"
          ]
        },
        {
          "output_type": "stream",
          "name": "stderr",
          "text": [
            "/usr/local/lib/python3.10/dist-packages/urllib3/connectionpool.py:1099: InsecureRequestWarning: Unverified HTTPS request is being made to host 'www.nguyenkim.com'. Adding certificate verification is strongly advised. See: https://urllib3.readthedocs.io/en/latest/advanced-usage.html#tls-warnings\n",
            "  warnings.warn(\n",
            "/usr/local/lib/python3.10/dist-packages/urllib3/connectionpool.py:1099: InsecureRequestWarning: Unverified HTTPS request is being made to host 'www.nguyenkim.com'. Adding certificate verification is strongly advised. See: https://urllib3.readthedocs.io/en/latest/advanced-usage.html#tls-warnings\n",
            "  warnings.warn(\n"
          ]
        },
        {
          "output_type": "stream",
          "name": "stdout",
          "text": [
            "Text saved to output/safe/www.nguyenkim.com_.txt\n",
            "Downloading page https://thanhnien.vn/suc-khoe/chang-trai-roi-tu-tang-2-dam-vao-hang-rao-sat-duoc-cuu-song-1257855.html...\n"
          ]
        },
        {
          "output_type": "stream",
          "name": "stderr",
          "text": [
            "/usr/local/lib/python3.10/dist-packages/urllib3/connectionpool.py:1099: InsecureRequestWarning: Unverified HTTPS request is being made to host 'thanhnien.vn'. Adding certificate verification is strongly advised. See: https://urllib3.readthedocs.io/en/latest/advanced-usage.html#tls-warnings\n",
            "  warnings.warn(\n",
            "/usr/local/lib/python3.10/dist-packages/urllib3/connectionpool.py:1099: InsecureRequestWarning: Unverified HTTPS request is being made to host 'thanhnien.vn'. Adding certificate verification is strongly advised. See: https://urllib3.readthedocs.io/en/latest/advanced-usage.html#tls-warnings\n",
            "  warnings.warn(\n"
          ]
        },
        {
          "output_type": "stream",
          "name": "stdout",
          "text": [
            "Text saved to output/safe/thanhnien.vn_suc-khoe_chang-trai-roi-tu-tang-2-dam-vao-hang-rao-sat-duoc-cuu-song-1257855.html.txt\n",
            "Downloading page https://www.2banh.vn/...\n"
          ]
        },
        {
          "output_type": "stream",
          "name": "stderr",
          "text": [
            "/usr/local/lib/python3.10/dist-packages/urllib3/connectionpool.py:1099: InsecureRequestWarning: Unverified HTTPS request is being made to host 'www.2banh.vn'. Adding certificate verification is strongly advised. See: https://urllib3.readthedocs.io/en/latest/advanced-usage.html#tls-warnings\n",
            "  warnings.warn(\n"
          ]
        },
        {
          "output_type": "stream",
          "name": "stdout",
          "text": [
            "Text saved to output/safe/www.2banh.vn_.txt\n",
            "Downloading page https://www.thuocbietduoc.com.vn/home/...\n"
          ]
        },
        {
          "output_type": "stream",
          "name": "stderr",
          "text": [
            "/usr/local/lib/python3.10/dist-packages/urllib3/connectionpool.py:1099: InsecureRequestWarning: Unverified HTTPS request is being made to host 'www.thuocbietduoc.com.vn'. Adding certificate verification is strongly advised. See: https://urllib3.readthedocs.io/en/latest/advanced-usage.html#tls-warnings\n",
            "  warnings.warn(\n"
          ]
        },
        {
          "output_type": "stream",
          "name": "stdout",
          "text": [
            "Text saved to output/safe/www.thuocbietduoc.com.vn_home_.txt\n",
            "Downloading page http://xemphimplus.net/.gob.pe...\n",
            "No valid text from http://xemphimplus.net/.gob.pe\n",
            "Downloading page https://soha.vn/.gob.pe...\n"
          ]
        },
        {
          "output_type": "stream",
          "name": "stderr",
          "text": [
            "/usr/local/lib/python3.10/dist-packages/urllib3/connectionpool.py:1099: InsecureRequestWarning: Unverified HTTPS request is being made to host 'soha.vn'. Adding certificate verification is strongly advised. See: https://urllib3.readthedocs.io/en/latest/advanced-usage.html#tls-warnings\n",
            "  warnings.warn(\n",
            "/usr/local/lib/python3.10/dist-packages/urllib3/connectionpool.py:1099: InsecureRequestWarning: Unverified HTTPS request is being made to host 'cafef.vn'. Adding certificate verification is strongly advised. See: https://urllib3.readthedocs.io/en/latest/advanced-usage.html#tls-warnings\n",
            "  warnings.warn(\n"
          ]
        },
        {
          "output_type": "stream",
          "name": "stdout",
          "text": [
            "Error when dowwloading page https://soha.vn/.gob.pe: 403 Client Error: Forbidden for url: https://soha.vn/.gob.pe\n",
            "Failed to download page from https://soha.vn/.gob.pe\n",
            "Downloading page https://cafef.vn/.gob.pe...\n",
            "Error when dowwloading page https://cafef.vn/.gob.pe: 403 Client Error: Forbidden for url: https://cafef.vn/.gob.pe\n",
            "Failed to download page from https://cafef.vn/.gob.pe\n",
            "Downloading page https://taimienphi.vn/.gob.pe...\n"
          ]
        },
        {
          "output_type": "stream",
          "name": "stderr",
          "text": [
            "/usr/local/lib/python3.10/dist-packages/urllib3/connectionpool.py:1099: InsecureRequestWarning: Unverified HTTPS request is being made to host 'taimienphi.vn'. Adding certificate verification is strongly advised. See: https://urllib3.readthedocs.io/en/latest/advanced-usage.html#tls-warnings\n",
            "  warnings.warn(\n"
          ]
        },
        {
          "output_type": "stream",
          "name": "stdout",
          "text": [
            "Error when dowwloading page https://taimienphi.vn/.gob.pe: 404 Client Error: Not Found for url: https://taimienphi.vn/.gob.pe\n",
            "Failed to download page from https://taimienphi.vn/.gob.pe\n",
            "Downloading page http://www.nettruyen.com/...\n",
            "Error when dowwloading page http://www.nettruyen.com/: HTTPConnectionPool(host='www.nettruyen.com', port=80): Max retries exceeded with url: / (Caused by NameResolutionError(\"<urllib3.connection.HTTPConnection object at 0x7e14830bcb20>: Failed to resolve 'www.nettruyen.com' ([Errno -2] Name or service not known)\"))\n",
            "Failed to download page from http://www.nettruyen.com/\n",
            "Downloading page https://tinhte.vn/.gob.pe...\n"
          ]
        },
        {
          "output_type": "stream",
          "name": "stderr",
          "text": [
            "/usr/local/lib/python3.10/dist-packages/urllib3/connectionpool.py:1099: InsecureRequestWarning: Unverified HTTPS request is being made to host 'tinhte.vn'. Adding certificate verification is strongly advised. See: https://urllib3.readthedocs.io/en/latest/advanced-usage.html#tls-warnings\n",
            "  warnings.warn(\n"
          ]
        },
        {
          "output_type": "stream",
          "name": "stdout",
          "text": [
            "Error when dowwloading page https://tinhte.vn/.gob.pe: 404 Client Error: Not Found for url: https://tinhte.vn/.gob.pe\n",
            "Failed to download page from https://tinhte.vn/.gob.pe\n",
            "Downloading page https://91.com.vn/...\n",
            "Error when dowwloading page https://91.com.vn/: HTTPSConnectionPool(host='91.com.vn', port=443): Max retries exceeded with url: / (Caused by ConnectTimeoutError(<urllib3.connection.HTTPSConnection object at 0x7e14830be0b0>, 'Connection to 91.com.vn timed out. (connect timeout=10)'))\n",
            "Failed to download page from https://91.com.vn/\n",
            "Downloading page https://ngoisao.net/.gob.pe...\n"
          ]
        },
        {
          "output_type": "stream",
          "name": "stderr",
          "text": [
            "/usr/local/lib/python3.10/dist-packages/urllib3/connectionpool.py:1099: InsecureRequestWarning: Unverified HTTPS request is being made to host 'ngoisao.net'. Adding certificate verification is strongly advised. See: https://urllib3.readthedocs.io/en/latest/advanced-usage.html#tls-warnings\n",
            "  warnings.warn(\n",
            "/usr/local/lib/python3.10/dist-packages/urllib3/connectionpool.py:1099: InsecureRequestWarning: Unverified HTTPS request is being made to host 'ngoisao.vnexpress.net'. Adding certificate verification is strongly advised. See: https://urllib3.readthedocs.io/en/latest/advanced-usage.html#tls-warnings\n",
            "  warnings.warn(\n"
          ]
        },
        {
          "output_type": "stream",
          "name": "stdout",
          "text": [
            "Error when dowwloading page https://ngoisao.net/.gob.pe: 406 Client Error: Not Acceptable for url: https://ngoisao.vnexpress.net/.gob.pe\n",
            "Failed to download page from https://ngoisao.net/.gob.pe\n",
            "Downloading page https://zingmp3.vn/.gob.pe...\n"
          ]
        },
        {
          "output_type": "stream",
          "name": "stderr",
          "text": [
            "/usr/local/lib/python3.10/dist-packages/urllib3/connectionpool.py:1099: InsecureRequestWarning: Unverified HTTPS request is being made to host 'zingmp3.vn'. Adding certificate verification is strongly advised. See: https://urllib3.readthedocs.io/en/latest/advanced-usage.html#tls-warnings\n",
            "  warnings.warn(\n",
            "/usr/local/lib/python3.10/dist-packages/urllib3/connectionpool.py:1099: InsecureRequestWarning: Unverified HTTPS request is being made to host 'zingmp3.vn'. Adding certificate verification is strongly advised. See: https://urllib3.readthedocs.io/en/latest/advanced-usage.html#tls-warnings\n",
            "  warnings.warn(\n",
            "/usr/local/lib/python3.10/dist-packages/urllib3/connectionpool.py:1099: InsecureRequestWarning: Unverified HTTPS request is being made to host 'petrotimes.vn'. Adding certificate verification is strongly advised. See: https://urllib3.readthedocs.io/en/latest/advanced-usage.html#tls-warnings\n",
            "  warnings.warn(\n"
          ]
        },
        {
          "output_type": "stream",
          "name": "stdout",
          "text": [
            "Text saved to output/safe/zingmp3.vn_.gob.pe.txt\n",
            "Downloading page https://petrotimes.vn/.gob.pe...\n",
            "Error when dowwloading page https://petrotimes.vn/.gob.pe: 404 Client Error: Not Found for url: https://petrotimes.vn/.gob.pe\n",
            "Failed to download page from https://petrotimes.vn/.gob.pe\n",
            "Downloading page https://quantrimang.com/.gob.pe...\n"
          ]
        },
        {
          "output_type": "stream",
          "name": "stderr",
          "text": [
            "/usr/local/lib/python3.10/dist-packages/urllib3/connectionpool.py:1099: InsecureRequestWarning: Unverified HTTPS request is being made to host 'quantrimang.com'. Adding certificate verification is strongly advised. See: https://urllib3.readthedocs.io/en/latest/advanced-usage.html#tls-warnings\n",
            "  warnings.warn(\n",
            "/usr/local/lib/python3.10/dist-packages/urllib3/connectionpool.py:1099: InsecureRequestWarning: Unverified HTTPS request is being made to host 'quantrimang.com'. Adding certificate verification is strongly advised. See: https://urllib3.readthedocs.io/en/latest/advanced-usage.html#tls-warnings\n",
            "  warnings.warn(\n"
          ]
        },
        {
          "output_type": "stream",
          "name": "stdout",
          "text": [
            "Error when dowwloading page https://quantrimang.com/.gob.pe: 400 Client Error: Bad Request for url: https://quantrimang.com/s?q=gob\n",
            "Failed to download page from https://quantrimang.com/.gob.pe\n",
            "Downloading page https://portal.vietcombank.com.vn/Pages/Home.aspx?devicechannel=default...\n"
          ]
        },
        {
          "output_type": "stream",
          "name": "stderr",
          "text": [
            "/usr/local/lib/python3.10/dist-packages/urllib3/connectionpool.py:1099: InsecureRequestWarning: Unverified HTTPS request is being made to host 'portal.vietcombank.com.vn'. Adding certificate verification is strongly advised. See: https://urllib3.readthedocs.io/en/latest/advanced-usage.html#tls-warnings\n",
            "  warnings.warn(\n",
            "/usr/local/lib/python3.10/dist-packages/urllib3/connectionpool.py:1099: InsecureRequestWarning: Unverified HTTPS request is being made to host 'www.vietcombank.com.vn'. Adding certificate verification is strongly advised. See: https://urllib3.readthedocs.io/en/latest/advanced-usage.html#tls-warnings\n",
            "  warnings.warn(\n"
          ]
        },
        {
          "output_type": "stream",
          "name": "stdout",
          "text": [
            "Text saved to output/safe/portal.vietcombank.com.vn_Pages_Home.aspx?devicechannel=default.txt\n",
            "Downloading page https://www.sendo.vn/...\n"
          ]
        },
        {
          "output_type": "stream",
          "name": "stderr",
          "text": [
            "/usr/local/lib/python3.10/dist-packages/urllib3/connectionpool.py:1099: InsecureRequestWarning: Unverified HTTPS request is being made to host 'www.sendo.vn'. Adding certificate verification is strongly advised. See: https://urllib3.readthedocs.io/en/latest/advanced-usage.html#tls-warnings\n",
            "  warnings.warn(\n"
          ]
        },
        {
          "output_type": "stream",
          "name": "stdout",
          "text": [
            "Text saved to output/safe/www.sendo.vn_.txt\n",
            "Downloading page https://bomboxtv.com/.gob.pe...\n",
            "Error when dowwloading page https://bomboxtv.com/.gob.pe: HTTPSConnectionPool(host='bomboxtv.com', port=443): Max retries exceeded with url: /.gob.pe (Caused by NameResolutionError(\"<urllib3.connection.HTTPSConnection object at 0x7e148408d390>: Failed to resolve 'bomboxtv.com' ([Errno -2] Name or service not known)\"))\n",
            "Failed to download page from https://bomboxtv.com/.gob.pe\n",
            "Downloading page https://coccoc.com/.gob.pe...\n"
          ]
        },
        {
          "output_type": "stream",
          "name": "stderr",
          "text": [
            "/usr/local/lib/python3.10/dist-packages/urllib3/connectionpool.py:1099: InsecureRequestWarning: Unverified HTTPS request is being made to host 'coccoc.com'. Adding certificate verification is strongly advised. See: https://urllib3.readthedocs.io/en/latest/advanced-usage.html#tls-warnings\n",
            "  warnings.warn(\n"
          ]
        },
        {
          "output_type": "stream",
          "name": "stdout",
          "text": [
            "Error when dowwloading page https://coccoc.com/.gob.pe: 404 Client Error: Not Found for url: https://coccoc.com/.gob.pe\n",
            "Failed to download page from https://coccoc.com/.gob.pe\n",
            "Downloading page https://www.nhaccuatui.com/...\n"
          ]
        },
        {
          "output_type": "stream",
          "name": "stderr",
          "text": [
            "/usr/local/lib/python3.10/dist-packages/urllib3/connectionpool.py:1099: InsecureRequestWarning: Unverified HTTPS request is being made to host 'www.nhaccuatui.com'. Adding certificate verification is strongly advised. See: https://urllib3.readthedocs.io/en/latest/advanced-usage.html#tls-warnings\n",
            "  warnings.warn(\n"
          ]
        },
        {
          "output_type": "stream",
          "name": "stdout",
          "text": [
            "Text saved to output/safe/www.nhaccuatui.com_.txt\n",
            "Downloading page https://www.yes24.vn/...\n",
            "Text saved to output/safe/www.yes24.vn_.txt\n",
            "Downloading page https://nld.com.vn/...\n"
          ]
        },
        {
          "output_type": "stream",
          "name": "stderr",
          "text": [
            "/usr/local/lib/python3.10/dist-packages/urllib3/connectionpool.py:1099: InsecureRequestWarning: Unverified HTTPS request is being made to host 'www.yes24.vn'. Adding certificate verification is strongly advised. See: https://urllib3.readthedocs.io/en/latest/advanced-usage.html#tls-warnings\n",
            "  warnings.warn(\n",
            "/usr/local/lib/python3.10/dist-packages/urllib3/connectionpool.py:1099: InsecureRequestWarning: Unverified HTTPS request is being made to host 'nld.com.vn'. Adding certificate verification is strongly advised. See: https://urllib3.readthedocs.io/en/latest/advanced-usage.html#tls-warnings\n",
            "  warnings.warn(\n"
          ]
        },
        {
          "output_type": "stream",
          "name": "stdout",
          "text": [
            "Text saved to output/safe/nld.com.vn_.txt\n",
            "Downloading page http://accesstrade.vn/.gob.pe...\n"
          ]
        },
        {
          "output_type": "stream",
          "name": "stderr",
          "text": [
            "/usr/local/lib/python3.10/dist-packages/urllib3/connectionpool.py:1099: InsecureRequestWarning: Unverified HTTPS request is being made to host 'accesstrade.vn'. Adding certificate verification is strongly advised. See: https://urllib3.readthedocs.io/en/latest/advanced-usage.html#tls-warnings\n",
            "  warnings.warn(\n",
            "/usr/local/lib/python3.10/dist-packages/urllib3/connectionpool.py:1099: InsecureRequestWarning: Unverified HTTPS request is being made to host 'accesstrade.vn'. Adding certificate verification is strongly advised. See: https://urllib3.readthedocs.io/en/latest/advanced-usage.html#tls-warnings\n",
            "  warnings.warn(\n"
          ]
        },
        {
          "output_type": "stream",
          "name": "stdout",
          "text": [
            "Text saved to output/safe/accesstrade.vn_.gob.pe.txt\n",
            "Downloading page https://afamily.vn/.gob.pe...\n"
          ]
        },
        {
          "output_type": "stream",
          "name": "stderr",
          "text": [
            "/usr/local/lib/python3.10/dist-packages/urllib3/connectionpool.py:1099: InsecureRequestWarning: Unverified HTTPS request is being made to host 'afamily.vn'. Adding certificate verification is strongly advised. See: https://urllib3.readthedocs.io/en/latest/advanced-usage.html#tls-warnings\n",
            "  warnings.warn(\n",
            "/usr/local/lib/python3.10/dist-packages/urllib3/connectionpool.py:1099: InsecureRequestWarning: Unverified HTTPS request is being made to host 'voz.vn'. Adding certificate verification is strongly advised. See: https://urllib3.readthedocs.io/en/latest/advanced-usage.html#tls-warnings\n",
            "  warnings.warn(\n"
          ]
        },
        {
          "output_type": "stream",
          "name": "stdout",
          "text": [
            "Error when dowwloading page https://afamily.vn/.gob.pe: 403 Client Error: Forbidden for url: https://afamily.vn/.gob.pe\n",
            "Failed to download page from https://afamily.vn/.gob.pe\n",
            "Downloading page https://voz.vn/.gob.pe...\n",
            "Error when dowwloading page https://voz.vn/.gob.pe: 403 Client Error: Forbidden for url: https://voz.vn/.gob.pe\n",
            "Failed to download page from https://voz.vn/.gob.pe\n",
            "Downloading page https://plo.vn/.gob.pe...\n"
          ]
        },
        {
          "output_type": "stream",
          "name": "stderr",
          "text": [
            "/usr/local/lib/python3.10/dist-packages/urllib3/connectionpool.py:1099: InsecureRequestWarning: Unverified HTTPS request is being made to host 'plo.vn'. Adding certificate verification is strongly advised. See: https://urllib3.readthedocs.io/en/latest/advanced-usage.html#tls-warnings\n",
            "  warnings.warn(\n",
            "/usr/local/lib/python3.10/dist-packages/urllib3/connectionpool.py:1099: InsecureRequestWarning: Unverified HTTPS request is being made to host 'plo.vn'. Adding certificate verification is strongly advised. See: https://urllib3.readthedocs.io/en/latest/advanced-usage.html#tls-warnings\n",
            "  warnings.warn(\n"
          ]
        },
        {
          "output_type": "stream",
          "name": "stdout",
          "text": [
            "Error when dowwloading page https://plo.vn/.gob.pe: 404 Client Error: Not Found for url: https://plo.vn/404\n",
            "Failed to download page from https://plo.vn/.gob.pe\n",
            "Downloading page https://kienthuc.net.vn/...\n"
          ]
        },
        {
          "output_type": "stream",
          "name": "stderr",
          "text": [
            "/usr/local/lib/python3.10/dist-packages/urllib3/connectionpool.py:1099: InsecureRequestWarning: Unverified HTTPS request is being made to host 'kienthuc.net.vn'. Adding certificate verification is strongly advised. See: https://urllib3.readthedocs.io/en/latest/advanced-usage.html#tls-warnings\n",
            "  warnings.warn(\n"
          ]
        },
        {
          "output_type": "stream",
          "name": "stdout",
          "text": [
            "Text saved to output/safe/kienthuc.net.vn_.txt\n",
            "Downloading page http://www.bongda.com.vn/...\n"
          ]
        },
        {
          "output_type": "stream",
          "name": "stderr",
          "text": [
            "/usr/local/lib/python3.10/dist-packages/urllib3/connectionpool.py:1099: InsecureRequestWarning: Unverified HTTPS request is being made to host 'www.bongda.com.vn'. Adding certificate verification is strongly advised. See: https://urllib3.readthedocs.io/en/latest/advanced-usage.html#tls-warnings\n",
            "  warnings.warn(\n",
            "/usr/local/lib/python3.10/dist-packages/urllib3/connectionpool.py:1099: InsecureRequestWarning: Unverified HTTPS request is being made to host 'www.chotot.com'. Adding certificate verification is strongly advised. See: https://urllib3.readthedocs.io/en/latest/advanced-usage.html#tls-warnings\n",
            "  warnings.warn(\n"
          ]
        },
        {
          "output_type": "stream",
          "name": "stdout",
          "text": [
            "Text saved to output/safe/www.bongda.com.vn_.txt\n",
            "Downloading page https://www.chotot.com/...\n",
            "Text saved to output/safe/www.chotot.com_.txt\n",
            "Downloading page https://thuvienphapluat.vn/.gob.pe...\n",
            "Error when dowwloading page https://thuvienphapluat.vn/.gob.pe: 403 Client Error: Forbidden for url: https://thuvienphapluat.vn/.gob.pe\n",
            "Failed to download page from https://thuvienphapluat.vn/.gob.pe\n",
            "Downloading page https://download.com.vn/...\n"
          ]
        },
        {
          "output_type": "stream",
          "name": "stderr",
          "text": [
            "/usr/local/lib/python3.10/dist-packages/urllib3/connectionpool.py:1099: InsecureRequestWarning: Unverified HTTPS request is being made to host 'thuvienphapluat.vn'. Adding certificate verification is strongly advised. See: https://urllib3.readthedocs.io/en/latest/advanced-usage.html#tls-warnings\n",
            "  warnings.warn(\n",
            "/usr/local/lib/python3.10/dist-packages/urllib3/connectionpool.py:1099: InsecureRequestWarning: Unverified HTTPS request is being made to host 'download.com.vn'. Adding certificate verification is strongly advised. See: https://urllib3.readthedocs.io/en/latest/advanced-usage.html#tls-warnings\n",
            "  warnings.warn(\n"
          ]
        },
        {
          "output_type": "stream",
          "name": "stdout",
          "text": [
            "Text saved to output/safe/download.com.vn_.txt\n",
            "Downloading page https://www.tienphong.vn/...\n"
          ]
        },
        {
          "output_type": "stream",
          "name": "stderr",
          "text": [
            "/usr/local/lib/python3.10/dist-packages/urllib3/connectionpool.py:1099: InsecureRequestWarning: Unverified HTTPS request is being made to host 'www.tienphong.vn'. Adding certificate verification is strongly advised. See: https://urllib3.readthedocs.io/en/latest/advanced-usage.html#tls-warnings\n",
            "  warnings.warn(\n",
            "/usr/local/lib/python3.10/dist-packages/urllib3/connectionpool.py:1099: InsecureRequestWarning: Unverified HTTPS request is being made to host 'tienphong.vn'. Adding certificate verification is strongly advised. See: https://urllib3.readthedocs.io/en/latest/advanced-usage.html#tls-warnings\n",
            "  warnings.warn(\n"
          ]
        },
        {
          "output_type": "stream",
          "name": "stdout",
          "text": [
            "Text saved to output/safe/www.tienphong.vn_.txt\n",
            "Downloading page https://vietjack.com/.gob.pe...\n"
          ]
        },
        {
          "output_type": "stream",
          "name": "stderr",
          "text": [
            "/usr/local/lib/python3.10/dist-packages/urllib3/connectionpool.py:1099: InsecureRequestWarning: Unverified HTTPS request is being made to host 'vietjack.com'. Adding certificate verification is strongly advised. See: https://urllib3.readthedocs.io/en/latest/advanced-usage.html#tls-warnings\n",
            "  warnings.warn(\n",
            "/usr/local/lib/python3.10/dist-packages/urllib3/connectionpool.py:1099: InsecureRequestWarning: Unverified HTTPS request is being made to host 'vndoc.com'. Adding certificate verification is strongly advised. See: https://urllib3.readthedocs.io/en/latest/advanced-usage.html#tls-warnings\n",
            "  warnings.warn(\n",
            "/usr/local/lib/python3.10/dist-packages/urllib3/connectionpool.py:1099: InsecureRequestWarning: Unverified HTTPS request is being made to host 'vndoc.com'. Adding certificate verification is strongly advised. See: https://urllib3.readthedocs.io/en/latest/advanced-usage.html#tls-warnings\n",
            "  warnings.warn(\n"
          ]
        },
        {
          "output_type": "stream",
          "name": "stdout",
          "text": [
            "Error when dowwloading page https://vietjack.com/.gob.pe: 404 Client Error:  for url: https://vietjack.com/.gob.pe\n",
            "Failed to download page from https://vietjack.com/.gob.pe\n",
            "Downloading page https://vndoc.com/.gob.pe...\n",
            "Error when dowwloading page https://vndoc.com/.gob.pe: 400 Client Error: Bad Request for url: https://vndoc.com/s?q=gob\n",
            "Failed to download page from https://vndoc.com/.gob.pe\n",
            "Downloading page https://gamek.vn/.gob.pe...\n"
          ]
        },
        {
          "output_type": "stream",
          "name": "stderr",
          "text": [
            "/usr/local/lib/python3.10/dist-packages/urllib3/connectionpool.py:1099: InsecureRequestWarning: Unverified HTTPS request is being made to host 'gamek.vn'. Adding certificate verification is strongly advised. See: https://urllib3.readthedocs.io/en/latest/advanced-usage.html#tls-warnings\n",
            "  warnings.warn(\n",
            "/usr/local/lib/python3.10/dist-packages/urllib3/connectionpool.py:1099: InsecureRequestWarning: Unverified HTTPS request is being made to host 'baodautu.vn'. Adding certificate verification is strongly advised. See: https://urllib3.readthedocs.io/en/latest/advanced-usage.html#tls-warnings\n",
            "  warnings.warn(\n"
          ]
        },
        {
          "output_type": "stream",
          "name": "stdout",
          "text": [
            "Error when dowwloading page https://gamek.vn/.gob.pe: 404 Client Error: Not Found for url: https://gamek.vn/.gob.pe\n",
            "Failed to download page from https://gamek.vn/.gob.pe\n",
            "Downloading page https://baodautu.vn/.gob.pe...\n",
            "Error when dowwloading page https://baodautu.vn/.gob.pe: 404 Client Error: Not Found for url: https://baodautu.vn/.gob.pe\n",
            "Failed to download page from https://baodautu.vn/.gob.pe\n",
            "Downloading page https://saostar.vn/.gob.pe...\n"
          ]
        },
        {
          "output_type": "stream",
          "name": "stderr",
          "text": [
            "/usr/local/lib/python3.10/dist-packages/urllib3/connectionpool.py:1099: InsecureRequestWarning: Unverified HTTPS request is being made to host 'saostar.vn'. Adding certificate verification is strongly advised. See: https://urllib3.readthedocs.io/en/latest/advanced-usage.html#tls-warnings\n",
            "  warnings.warn(\n",
            "/usr/local/lib/python3.10/dist-packages/urllib3/connectionpool.py:1099: InsecureRequestWarning: Unverified HTTPS request is being made to host 'www.saostar.vn'. Adding certificate verification is strongly advised. See: https://urllib3.readthedocs.io/en/latest/advanced-usage.html#tls-warnings\n",
            "  warnings.warn(\n",
            "/usr/local/lib/python3.10/dist-packages/urllib3/connectionpool.py:1099: InsecureRequestWarning: Unverified HTTPS request is being made to host 'fptshop.com.vn'. Adding certificate verification is strongly advised. See: https://urllib3.readthedocs.io/en/latest/advanced-usage.html#tls-warnings\n",
            "  warnings.warn(\n"
          ]
        },
        {
          "output_type": "stream",
          "name": "stdout",
          "text": [
            "Error when dowwloading page https://saostar.vn/.gob.pe: 403 Client Error: Forbidden for url: https://www.saostar.vn/.gob.pe\n",
            "Failed to download page from https://saostar.vn/.gob.pe\n",
            "Downloading page https://fptshop.com.vn/...\n",
            "Error when dowwloading page https://fptshop.com.vn/: 403 Client Error: Forbidden for url: https://fptshop.com.vn/\n",
            "Failed to download page from https://fptshop.com.vn/\n",
            "Downloading page http://bongdaso.com/main.aspx...\n",
            "Text saved to output/safe/bongdaso.com_main.aspx.txt\n",
            "Downloading page https://docbao.vn/.gob.pe...\n"
          ]
        },
        {
          "output_type": "stream",
          "name": "stderr",
          "text": [
            "/usr/local/lib/python3.10/dist-packages/urllib3/connectionpool.py:1099: InsecureRequestWarning: Unverified HTTPS request is being made to host 'docbao.vn'. Adding certificate verification is strongly advised. See: https://urllib3.readthedocs.io/en/latest/advanced-usage.html#tls-warnings\n",
            "  warnings.warn(\n",
            "/usr/local/lib/python3.10/dist-packages/urllib3/connectionpool.py:1099: InsecureRequestWarning: Unverified HTTPS request is being made to host 'docnhanh.vn'. Adding certificate verification is strongly advised. See: https://urllib3.readthedocs.io/en/latest/advanced-usage.html#tls-warnings\n",
            "  warnings.warn(\n"
          ]
        },
        {
          "output_type": "stream",
          "name": "stdout",
          "text": [
            "Error when dowwloading page https://docbao.vn/.gob.pe: 404 Client Error: Not Found for url: https://docnhanh.vn/.gob.pe\n",
            "Failed to download page from https://docbao.vn/.gob.pe\n",
            "Downloading page https://vov.vn/.gob.pe...\n"
          ]
        },
        {
          "output_type": "stream",
          "name": "stderr",
          "text": [
            "/usr/local/lib/python3.10/dist-packages/urllib3/connectionpool.py:1099: InsecureRequestWarning: Unverified HTTPS request is being made to host 'vov.vn'. Adding certificate verification is strongly advised. See: https://urllib3.readthedocs.io/en/latest/advanced-usage.html#tls-warnings\n",
            "  warnings.warn(\n",
            "/usr/local/lib/python3.10/dist-packages/urllib3/connectionpool.py:1099: InsecureRequestWarning: Unverified HTTPS request is being made to host 'vov.vn'. Adding certificate verification is strongly advised. See: https://urllib3.readthedocs.io/en/latest/advanced-usage.html#tls-warnings\n",
            "  warnings.warn(\n"
          ]
        },
        {
          "output_type": "stream",
          "name": "stdout",
          "text": [
            "Error when dowwloading page https://vov.vn/.gob.pe: 403 Client Error: Forbidden for url: https://vov.vn/.gob.pe\n",
            "Failed to download page from https://vov.vn/.gob.pe\n",
            "Downloading page https://batdongsan.com.vn/...\n",
            "Error when dowwloading page https://batdongsan.com.vn/: 403 Client Error: Forbidden for url: https://batdongsan.com.vn/\n",
            "Failed to download page from https://batdongsan.com.vn/\n",
            "Downloading page http://xemvtvnet.net/.gob.pe...\n",
            "Error when dowwloading page http://xemvtvnet.net/.gob.pe: HTTPConnectionPool(host='xemvtvnet.net', port=80): Max retries exceeded with url: /.gob.pe (Caused by NameResolutionError(\"<urllib3.connection.HTTPConnection object at 0x7e1486ad6ec0>: Failed to resolve 'xemvtvnet.net' ([Errno -2] Name or service not known)\"))\n",
            "Failed to download page from http://xemvtvnet.net/.gob.pe\n",
            "Downloading page https://www.yan.vn/...\n"
          ]
        },
        {
          "output_type": "stream",
          "name": "stderr",
          "text": [
            "/usr/local/lib/python3.10/dist-packages/urllib3/connectionpool.py:1099: InsecureRequestWarning: Unverified HTTPS request is being made to host 'batdongsan.com.vn'. Adding certificate verification is strongly advised. See: https://urllib3.readthedocs.io/en/latest/advanced-usage.html#tls-warnings\n",
            "  warnings.warn(\n",
            "/usr/local/lib/python3.10/dist-packages/urllib3/connectionpool.py:1099: InsecureRequestWarning: Unverified HTTPS request is being made to host 'www.yan.vn'. Adding certificate verification is strongly advised. See: https://urllib3.readthedocs.io/en/latest/advanced-usage.html#tls-warnings\n",
            "  warnings.warn(\n"
          ]
        },
        {
          "output_type": "stream",
          "name": "stdout",
          "text": [
            "Error when dowwloading page https://www.yan.vn/: 403 Client Error: Forbidden for url: https://www.yan.vn/\n",
            "Failed to download page from https://www.yan.vn/\n",
            "Downloading page https://truyenfull.vn/.gob.pe...\n"
          ]
        },
        {
          "output_type": "stream",
          "name": "stderr",
          "text": [
            "/usr/local/lib/python3.10/dist-packages/urllib3/connectionpool.py:1099: InsecureRequestWarning: Unverified HTTPS request is being made to host 'truyenfull.vn'. Adding certificate verification is strongly advised. See: https://urllib3.readthedocs.io/en/latest/advanced-usage.html#tls-warnings\n",
            "  warnings.warn(\n",
            "/usr/local/lib/python3.10/dist-packages/urllib3/connectionpool.py:1099: InsecureRequestWarning: Unverified HTTPS request is being made to host 'truyenfull.io'. Adding certificate verification is strongly advised. See: https://urllib3.readthedocs.io/en/latest/advanced-usage.html#tls-warnings\n",
            "  warnings.warn(\n",
            "/usr/local/lib/python3.10/dist-packages/urllib3/connectionpool.py:1099: InsecureRequestWarning: Unverified HTTPS request is being made to host 'truyenfull.io'. Adding certificate verification is strongly advised. See: https://urllib3.readthedocs.io/en/latest/advanced-usage.html#tls-warnings\n",
            "  warnings.warn(\n"
          ]
        },
        {
          "output_type": "stream",
          "name": "stdout",
          "text": [
            "Error when dowwloading page https://truyenfull.vn/.gob.pe: 404 Client Error: Not Found for url: https://truyenfull.io/.gob.pe/\n",
            "Failed to download page from https://truyenfull.vn/.gob.pe\n",
            "Downloading page https://fptplay.vn/.gob.pe...\n"
          ]
        },
        {
          "output_type": "stream",
          "name": "stderr",
          "text": [
            "/usr/local/lib/python3.10/dist-packages/urllib3/connectionpool.py:1099: InsecureRequestWarning: Unverified HTTPS request is being made to host 'fptplay.vn'. Adding certificate verification is strongly advised. See: https://urllib3.readthedocs.io/en/latest/advanced-usage.html#tls-warnings\n",
            "  warnings.warn(\n"
          ]
        },
        {
          "output_type": "stream",
          "name": "stdout",
          "text": [
            "Error when dowwloading page https://fptplay.vn/.gob.pe: 404 Client Error: Not Found for url: https://fptplay.vn/.gob.pe\n",
            "Failed to download page from https://fptplay.vn/.gob.pe\n",
            "Downloading page https://bongdaplus.vn/.gob.pe...\n"
          ]
        },
        {
          "output_type": "stream",
          "name": "stderr",
          "text": [
            "/usr/local/lib/python3.10/dist-packages/urllib3/connectionpool.py:1099: InsecureRequestWarning: Unverified HTTPS request is being made to host 'bongdaplus.vn'. Adding certificate verification is strongly advised. See: https://urllib3.readthedocs.io/en/latest/advanced-usage.html#tls-warnings\n",
            "  warnings.warn(\n",
            "/usr/local/lib/python3.10/dist-packages/urllib3/connectionpool.py:1099: InsecureRequestWarning: Unverified HTTPS request is being made to host 'bongdaplus.vn'. Adding certificate verification is strongly advised. See: https://urllib3.readthedocs.io/en/latest/advanced-usage.html#tls-warnings\n",
            "  warnings.warn(\n"
          ]
        },
        {
          "output_type": "stream",
          "name": "stdout",
          "text": [
            "Text saved to output/safe/bongdaplus.vn_.gob.pe.txt\n",
            "Downloading page https://phongvu.vn/.gob.pe...\n"
          ]
        },
        {
          "output_type": "stream",
          "name": "stderr",
          "text": [
            "/usr/local/lib/python3.10/dist-packages/urllib3/connectionpool.py:1099: InsecureRequestWarning: Unverified HTTPS request is being made to host 'phongvu.vn'. Adding certificate verification is strongly advised. See: https://urllib3.readthedocs.io/en/latest/advanced-usage.html#tls-warnings\n",
            "  warnings.warn(\n"
          ]
        },
        {
          "output_type": "stream",
          "name": "stdout",
          "text": [
            "Error when dowwloading page https://phongvu.vn/.gob.pe: 404 Client Error: Not Found for url: https://phongvu.vn/.gob.pe\n",
            "Failed to download page from https://phongvu.vn/.gob.pe\n",
            "Downloading page https://cafebiz.vn/.gob.pe...\n"
          ]
        },
        {
          "output_type": "stream",
          "name": "stderr",
          "text": [
            "/usr/local/lib/python3.10/dist-packages/urllib3/connectionpool.py:1099: InsecureRequestWarning: Unverified HTTPS request is being made to host 'cafebiz.vn'. Adding certificate verification is strongly advised. See: https://urllib3.readthedocs.io/en/latest/advanced-usage.html#tls-warnings\n",
            "  warnings.warn(\n",
            "/usr/local/lib/python3.10/dist-packages/urllib3/connectionpool.py:1099: InsecureRequestWarning: Unverified HTTPS request is being made to host 'www.vietnamworks.com'. Adding certificate verification is strongly advised. See: https://urllib3.readthedocs.io/en/latest/advanced-usage.html#tls-warnings\n",
            "  warnings.warn(\n"
          ]
        },
        {
          "output_type": "stream",
          "name": "stdout",
          "text": [
            "Error when dowwloading page https://cafebiz.vn/.gob.pe: 403 Client Error: Forbidden for url: https://cafebiz.vn/.gob.pe\n",
            "Failed to download page from https://cafebiz.vn/.gob.pe\n",
            "Downloading page https://www.vietnamworks.com/...\n",
            "Text saved to output/safe/www.vietnamworks.com_.txt\n",
            "Downloading page https://luatvietnam.vn/.gob.pe...\n",
            "Error when dowwloading page https://luatvietnam.vn/.gob.pe: 403 Client Error: Forbidden for url: https://luatvietnam.vn/.gob.pe\n",
            "Failed to download page from https://luatvietnam.vn/.gob.pe\n",
            "Downloading page https://cellphones.com.vn/...\n"
          ]
        },
        {
          "output_type": "stream",
          "name": "stderr",
          "text": [
            "/usr/local/lib/python3.10/dist-packages/urllib3/connectionpool.py:1099: InsecureRequestWarning: Unverified HTTPS request is being made to host 'luatvietnam.vn'. Adding certificate verification is strongly advised. See: https://urllib3.readthedocs.io/en/latest/advanced-usage.html#tls-warnings\n",
            "  warnings.warn(\n",
            "/usr/local/lib/python3.10/dist-packages/urllib3/connectionpool.py:1099: InsecureRequestWarning: Unverified HTTPS request is being made to host 'cellphones.com.vn'. Adding certificate verification is strongly advised. See: https://urllib3.readthedocs.io/en/latest/advanced-usage.html#tls-warnings\n",
            "  warnings.warn(\n",
            "/usr/local/lib/python3.10/dist-packages/urllib3/connectionpool.py:1099: InsecureRequestWarning: Unverified HTTPS request is being made to host 'cellphones.com.vn'. Adding certificate verification is strongly advised. See: https://urllib3.readthedocs.io/en/latest/advanced-usage.html#tls-warnings\n",
            "  warnings.warn(\n"
          ]
        },
        {
          "output_type": "stream",
          "name": "stdout",
          "text": [
            "Text saved to output/safe/cellphones.com.vn_.txt\n",
            "Downloading page https://genk.vn/.gob.pe...\n"
          ]
        },
        {
          "output_type": "stream",
          "name": "stderr",
          "text": [
            "/usr/local/lib/python3.10/dist-packages/urllib3/connectionpool.py:1099: InsecureRequestWarning: Unverified HTTPS request is being made to host 'genk.vn'. Adding certificate verification is strongly advised. See: https://urllib3.readthedocs.io/en/latest/advanced-usage.html#tls-warnings\n",
            "  warnings.warn(\n"
          ]
        },
        {
          "output_type": "stream",
          "name": "stdout",
          "text": [
            "Error when dowwloading page https://genk.vn/.gob.pe: 403 Client Error: Forbidden for url: https://genk.vn/.gob.pe\n",
            "Failed to download page from https://genk.vn/.gob.pe\n",
            "Downloading page https://tinnhanhchungkhoan.vn/.gob.pe...\n"
          ]
        },
        {
          "output_type": "stream",
          "name": "stderr",
          "text": [
            "/usr/local/lib/python3.10/dist-packages/urllib3/connectionpool.py:1099: InsecureRequestWarning: Unverified HTTPS request is being made to host 'tinnhanhchungkhoan.vn'. Adding certificate verification is strongly advised. See: https://urllib3.readthedocs.io/en/latest/advanced-usage.html#tls-warnings\n",
            "  warnings.warn(\n",
            "/usr/local/lib/python3.10/dist-packages/urllib3/connectionpool.py:1099: InsecureRequestWarning: Unverified HTTPS request is being made to host 'www.tinnhanhchungkhoan.vn'. Adding certificate verification is strongly advised. See: https://urllib3.readthedocs.io/en/latest/advanced-usage.html#tls-warnings\n",
            "  warnings.warn(\n"
          ]
        },
        {
          "output_type": "stream",
          "name": "stdout",
          "text": [
            "Error when dowwloading page https://tinnhanhchungkhoan.vn/.gob.pe: 404 Client Error: Not Found for url: https://www.tinnhanhchungkhoan.vn/.gob.pe\n",
            "Failed to download page from https://tinnhanhchungkhoan.vn/.gob.pe\n",
            "Downloading page https://www.vtvgiaitri.vn/...\n",
            "Error when dowwloading page https://www.vtvgiaitri.vn/: HTTPSConnectionPool(host='www.vtvgiaitri.vn', port=443): Max retries exceeded with url: / (Caused by NewConnectionError('<urllib3.connection.HTTPSConnection object at 0x7e14842f5c00>: Failed to establish a new connection: [Errno 111] Connection refused'))\n",
            "Failed to download page from https://www.vtvgiaitri.vn/\n",
            "Downloading page https://www.otofun.net/forums/...\n"
          ]
        },
        {
          "output_type": "stream",
          "name": "stderr",
          "text": [
            "/usr/local/lib/python3.10/dist-packages/urllib3/connectionpool.py:1099: InsecureRequestWarning: Unverified HTTPS request is being made to host 'www.otofun.net'. Adding certificate verification is strongly advised. See: https://urllib3.readthedocs.io/en/latest/advanced-usage.html#tls-warnings\n",
            "  warnings.warn(\n"
          ]
        },
        {
          "output_type": "stream",
          "name": "stdout",
          "text": [
            "Text saved to output/safe/www.otofun.net_forums_.txt\n",
            "Downloading page https://www.garena.vn/...\n"
          ]
        },
        {
          "output_type": "stream",
          "name": "stderr",
          "text": [
            "/usr/local/lib/python3.10/dist-packages/urllib3/connectionpool.py:1099: InsecureRequestWarning: Unverified HTTPS request is being made to host 'www.garena.vn'. Adding certificate verification is strongly advised. See: https://urllib3.readthedocs.io/en/latest/advanced-usage.html#tls-warnings\n",
            "  warnings.warn(\n",
            "/usr/local/lib/python3.10/dist-packages/urllib3/connectionpool.py:1099: InsecureRequestWarning: Unverified HTTPS request is being made to host 'baoxaydung.com.vn'. Adding certificate verification is strongly advised. See: https://urllib3.readthedocs.io/en/latest/advanced-usage.html#tls-warnings\n",
            "  warnings.warn(\n"
          ]
        },
        {
          "output_type": "stream",
          "name": "stdout",
          "text": [
            "Text saved to output/safe/www.garena.vn_.txt\n",
            "Downloading page https://baoxaydung.com.vn/...\n",
            "Text saved to output/safe/baoxaydung.com.vn_.txt\n",
            "Downloading page https://www.vietnamplus.vn/...\n"
          ]
        },
        {
          "output_type": "stream",
          "name": "stderr",
          "text": [
            "/usr/local/lib/python3.10/dist-packages/urllib3/connectionpool.py:1099: InsecureRequestWarning: Unverified HTTPS request is being made to host 'www.vietnamplus.vn'. Adding certificate verification is strongly advised. See: https://urllib3.readthedocs.io/en/latest/advanced-usage.html#tls-warnings\n",
            "  warnings.warn(\n"
          ]
        },
        {
          "output_type": "stream",
          "name": "stdout",
          "text": [
            "Text saved to output/safe/www.vietnamplus.vn_.txt\n",
            "Downloading page http://truyenqq.com/.gob.pe...\n",
            "Error when dowwloading page http://truyenqq.com/.gob.pe: 403 Client Error: Forbidden for url: http://truyenqq.com/.gob.pe\n",
            "Failed to download page from http://truyenqq.com/.gob.pe\n",
            "Downloading page https://www.vietjetair.com/Sites/Web/vi-VN/Home...\n",
            "Text saved to output/safe/www.vietjetair.com_Sites_Web_vi-VN_Home.txt\n",
            "Downloading page https://vietstock.vn/.gob.pe...\n"
          ]
        },
        {
          "output_type": "stream",
          "name": "stderr",
          "text": [
            "/usr/local/lib/python3.10/dist-packages/urllib3/connectionpool.py:1099: InsecureRequestWarning: Unverified HTTPS request is being made to host 'www.vietjetair.com'. Adding certificate verification is strongly advised. See: https://urllib3.readthedocs.io/en/latest/advanced-usage.html#tls-warnings\n",
            "  warnings.warn(\n",
            "/usr/local/lib/python3.10/dist-packages/urllib3/connectionpool.py:1099: InsecureRequestWarning: Unverified HTTPS request is being made to host 'vietstock.vn'. Adding certificate verification is strongly advised. See: https://urllib3.readthedocs.io/en/latest/advanced-usage.html#tls-warnings\n",
            "  warnings.warn(\n"
          ]
        },
        {
          "output_type": "stream",
          "name": "stdout",
          "text": [
            "Error when dowwloading page https://vietstock.vn/.gob.pe: 403 Client Error: Forbidden for url: https://vietstock.vn/.gob.pe\n",
            "Failed to download page from https://vietstock.vn/.gob.pe\n",
            "Downloading page https://www.topcv.vn/...\n",
            "Error when dowwloading page https://www.topcv.vn/: 403 Client Error: Forbidden for url: https://www.topcv.vn/\n",
            "Failed to download page from https://www.topcv.vn/\n",
            "Downloading page https://vtc.vn/.gob.pe...\n"
          ]
        },
        {
          "output_type": "stream",
          "name": "stderr",
          "text": [
            "/usr/local/lib/python3.10/dist-packages/urllib3/connectionpool.py:1099: InsecureRequestWarning: Unverified HTTPS request is being made to host 'www.topcv.vn'. Adding certificate verification is strongly advised. See: https://urllib3.readthedocs.io/en/latest/advanced-usage.html#tls-warnings\n",
            "  warnings.warn(\n",
            "/usr/local/lib/python3.10/dist-packages/urllib3/connectionpool.py:1099: InsecureRequestWarning: Unverified HTTPS request is being made to host 'vtc.vn'. Adding certificate verification is strongly advised. See: https://urllib3.readthedocs.io/en/latest/advanced-usage.html#tls-warnings\n",
            "  warnings.warn(\n",
            "/usr/local/lib/python3.10/dist-packages/urllib3/connectionpool.py:1099: InsecureRequestWarning: Unverified HTTPS request is being made to host 'vtcnews.vn'. Adding certificate verification is strongly advised. See: https://urllib3.readthedocs.io/en/latest/advanced-usage.html#tls-warnings\n",
            "  warnings.warn(\n",
            "/usr/local/lib/python3.10/dist-packages/urllib3/connectionpool.py:1099: InsecureRequestWarning: Unverified HTTPS request is being made to host 'vtcnews.vn'. Adding certificate verification is strongly advised. See: https://urllib3.readthedocs.io/en/latest/advanced-usage.html#tls-warnings\n",
            "  warnings.warn(\n"
          ]
        },
        {
          "output_type": "stream",
          "name": "stdout",
          "text": [
            "Error when dowwloading page https://vtc.vn/.gob.pe: 404 Client Error: Not Found for url: https://vtcnews.vn/error.html\n",
            "Failed to download page from https://vtc.vn/.gob.pe\n",
            "Downloading page https://baodatviet.vn/.gob.pe...\n",
            "Error when dowwloading page https://baodatviet.vn/.gob.pe: 404 Client Error: Not Found for url: https://baodatviet.vn/.gob.pe\n",
            "Failed to download page from https://baodatviet.vn/.gob.pe\n",
            "Downloading page http://vinmec.com/vi/.gob.pe...\n"
          ]
        },
        {
          "output_type": "stream",
          "name": "stderr",
          "text": [
            "/usr/local/lib/python3.10/dist-packages/urllib3/connectionpool.py:1099: InsecureRequestWarning: Unverified HTTPS request is being made to host 'baodatviet.vn'. Adding certificate verification is strongly advised. See: https://urllib3.readthedocs.io/en/latest/advanced-usage.html#tls-warnings\n",
            "  warnings.warn(\n",
            "/usr/local/lib/python3.10/dist-packages/urllib3/connectionpool.py:1099: InsecureRequestWarning: Unverified HTTPS request is being made to host 'www.vinmec.com'. Adding certificate verification is strongly advised. See: https://urllib3.readthedocs.io/en/latest/advanced-usage.html#tls-warnings\n",
            "  warnings.warn(\n",
            "/usr/local/lib/python3.10/dist-packages/urllib3/connectionpool.py:1099: InsecureRequestWarning: Unverified HTTPS request is being made to host 'www.vinmec.com'. Adding certificate verification is strongly advised. See: https://urllib3.readthedocs.io/en/latest/advanced-usage.html#tls-warnings\n",
            "  warnings.warn(\n"
          ]
        },
        {
          "output_type": "stream",
          "name": "stdout",
          "text": [
            "Error when dowwloading page http://vinmec.com/vi/.gob.pe: 404 Client Error: Not Found for url: https://www.vinmec.com/vie/khong-tim-thay/\n",
            "Failed to download page from http://vinmec.com/vi/.gob.pe\n",
            "Downloading page https://careerbuilder.vn/.gob.pe...\n"
          ]
        },
        {
          "output_type": "stream",
          "name": "stderr",
          "text": [
            "/usr/local/lib/python3.10/dist-packages/urllib3/connectionpool.py:1099: InsecureRequestWarning: Unverified HTTPS request is being made to host 'careerbuilder.vn'. Adding certificate verification is strongly advised. See: https://urllib3.readthedocs.io/en/latest/advanced-usage.html#tls-warnings\n",
            "  warnings.warn(\n",
            "/usr/local/lib/python3.10/dist-packages/urllib3/connectionpool.py:1099: InsecureRequestWarning: Unverified HTTPS request is being made to host 'careerviet.vn'. Adding certificate verification is strongly advised. See: https://urllib3.readthedocs.io/en/latest/advanced-usage.html#tls-warnings\n",
            "  warnings.warn(\n"
          ]
        },
        {
          "output_type": "stream",
          "name": "stdout",
          "text": [
            "Error when dowwloading page https://careerbuilder.vn/.gob.pe: 410 Client Error: Gone for url: https://careerviet.vn/.gob.pe\n",
            "Failed to download page from https://careerbuilder.vn/.gob.pe\n",
            "Downloading page https://viettel.vn/.gob.pe...\n"
          ]
        },
        {
          "output_type": "stream",
          "name": "stderr",
          "text": [
            "/usr/local/lib/python3.10/dist-packages/urllib3/connectionpool.py:1099: InsecureRequestWarning: Unverified HTTPS request is being made to host 'viettel.vn'. Adding certificate verification is strongly advised. See: https://urllib3.readthedocs.io/en/latest/advanced-usage.html#tls-warnings\n",
            "  warnings.warn(\n"
          ]
        },
        {
          "output_type": "stream",
          "name": "stdout",
          "text": [
            "Error when dowwloading page https://viettel.vn/.gob.pe: 404 Client Error: Not Found for url: https://viettel.vn/.gob.pe\n",
            "Failed to download page from https://viettel.vn/.gob.pe\n",
            "Downloading page http://fanpage.gr/family/gineka/%ce%b1%cf%85%cf%84%ce%bf%ce%af-%ce%b5%ce%af%ce%bd%ce%b1%ce%b9-%ce%bf%ce%b9-13-%cf%89%cf%81%ce%b1%ce%b9%cf%8c%cf%84%ce%b5%cf%81%ce%bf%ce%b9-%ce%ad%ce%bb%ce%bb%ce%b7%ce%bd%ce%b5%cf%82-%ce%b1%ce%bd-2/.gob.pe...\n"
          ]
        },
        {
          "output_type": "stream",
          "name": "stderr",
          "text": [
            "/usr/local/lib/python3.10/dist-packages/urllib3/connectionpool.py:1099: InsecureRequestWarning: Unverified HTTPS request is being made to host 'fanpage.gr'. Adding certificate verification is strongly advised. See: https://urllib3.readthedocs.io/en/latest/advanced-usage.html#tls-warnings\n",
            "  warnings.warn(\n",
            "/usr/local/lib/python3.10/dist-packages/urllib3/connectionpool.py:1099: InsecureRequestWarning: Unverified HTTPS request is being made to host 'www.fanpage.gr'. Adding certificate verification is strongly advised. See: https://urllib3.readthedocs.io/en/latest/advanced-usage.html#tls-warnings\n",
            "  warnings.warn(\n",
            "/usr/local/lib/python3.10/dist-packages/urllib3/connectionpool.py:1099: InsecureRequestWarning: Unverified HTTPS request is being made to host 'fanpage.gr'. Adding certificate verification is strongly advised. See: https://urllib3.readthedocs.io/en/latest/advanced-usage.html#tls-warnings\n",
            "  warnings.warn(\n",
            "/usr/local/lib/python3.10/dist-packages/urllib3/connectionpool.py:1099: InsecureRequestWarning: Unverified HTTPS request is being made to host 'www.fanpage.gr'. Adding certificate verification is strongly advised. See: https://urllib3.readthedocs.io/en/latest/advanced-usage.html#tls-warnings\n",
            "  warnings.warn(\n"
          ]
        },
        {
          "output_type": "stream",
          "name": "stdout",
          "text": [
            "Text saved to output/safe/fanpage.gr_family_gineka_%ce%b1%cf%85%cf%84%ce%bf%ce%af-%ce%b5%ce%af%ce%bd%ce%b1%ce%b9-%ce%bf%ce%b9-13-%cf%89%cf%81%ce%b1%ce%b9%cf%8c%cf%84%ce%b5%cf%81%ce%bf%ce%b9-%ce%ad%ce%bb%ce%bb%ce%b7%ce%bd%ce%b5.txt\n",
            "Downloading page http://worldoftanks.ru/ru/content/guide/payments_instruction/mobile-payments-rostelekom-ural-utel/.gob.pe...\n"
          ]
        },
        {
          "output_type": "stream",
          "name": "stderr",
          "text": [
            "/usr/local/lib/python3.10/dist-packages/urllib3/connectionpool.py:1099: InsecureRequestWarning: Unverified HTTPS request is being made to host 'worldoftanks.eu'. Adding certificate verification is strongly advised. See: https://urllib3.readthedocs.io/en/latest/advanced-usage.html#tls-warnings\n",
            "  warnings.warn(\n"
          ]
        },
        {
          "output_type": "stream",
          "name": "stdout",
          "text": [
            "Text saved to output/safe/worldoftanks.ru_ru_content_guide_payments_instruction_mobile-payments-rostelekom-ural-utel_.gob.pe.txt\n",
            "Downloading page https://twitter.com/home?status=%E3%83%8C%E3%81%91%E3%82%8B%EF%BC%81%E3%80%90%E3%82%A2%E3%83%8B%E3%83%A1%E3%80%91+http%3A%2F%2Fero-video.net%2Ft%2FwjfL4fhPp1lPxTZb+%E3%82%A2%E3%83%AA%E3%82%B5%E5%86%8D%E3%81%B3%EF%BC%81%E3%82%A8%E3%83%AD%E3%82%A2%E3%83%8B%E3%83%A1+%23ero+%23douga+%23agesage...\n"
          ]
        },
        {
          "output_type": "stream",
          "name": "stderr",
          "text": [
            "/usr/local/lib/python3.10/dist-packages/urllib3/connectionpool.py:1099: InsecureRequestWarning: Unverified HTTPS request is being made to host 'twitter.com'. Adding certificate verification is strongly advised. See: https://urllib3.readthedocs.io/en/latest/advanced-usage.html#tls-warnings\n",
            "  warnings.warn(\n",
            "/usr/local/lib/python3.10/dist-packages/urllib3/connectionpool.py:1099: InsecureRequestWarning: Unverified HTTPS request is being made to host 'twitter.com'. Adding certificate verification is strongly advised. See: https://urllib3.readthedocs.io/en/latest/advanced-usage.html#tls-warnings\n",
            "  warnings.warn(\n",
            "/usr/local/lib/python3.10/dist-packages/urllib3/connectionpool.py:1099: InsecureRequestWarning: Unverified HTTPS request is being made to host 'x.com'. Adding certificate verification is strongly advised. See: https://urllib3.readthedocs.io/en/latest/advanced-usage.html#tls-warnings\n",
            "  warnings.warn(\n"
          ]
        },
        {
          "output_type": "stream",
          "name": "stdout",
          "text": [
            "Text saved to output/safe/twitter.com_home?status=%E3%83%8C%E3%81%91%E3%82%8B%EF%BC%81%E3%80%90%E3%82%A2%E3%83%8B%E3%83%A1%E3%80%91+http%3A%2F%2Fero-video.net%2Ft%2FwjfL4fhPp1lPxTZb+%E3%82%A2%E3%83%AA%E3%82%B5%E5%86%8D%E3%81%B.txt\n",
            "Downloading page http://correios.com.br/para-sua-empresa/comunicacao/certificados-digitais/ajuda-interativa/informacoes-sobre-a-baixa-dos-certificados-a1...\n"
          ]
        },
        {
          "output_type": "stream",
          "name": "stderr",
          "text": [
            "/usr/local/lib/python3.10/dist-packages/urllib3/connectionpool.py:1099: InsecureRequestWarning: Unverified HTTPS request is being made to host 'correios.com.br'. Adding certificate verification is strongly advised. See: https://urllib3.readthedocs.io/en/latest/advanced-usage.html#tls-warnings\n",
            "  warnings.warn(\n",
            "/usr/local/lib/python3.10/dist-packages/urllib3/connectionpool.py:1099: InsecureRequestWarning: Unverified HTTPS request is being made to host 'www.correios.com.br'. Adding certificate verification is strongly advised. See: https://urllib3.readthedocs.io/en/latest/advanced-usage.html#tls-warnings\n",
            "  warnings.warn(\n"
          ]
        },
        {
          "output_type": "stream",
          "name": "stdout",
          "text": [
            "Text saved to output/safe/correios.com.br_para-sua-empresa_comunicacao_certificados-digitais_ajuda-interativa_informacoes-sobre-a-baixa-dos-certificados-a1.txt\n",
            "Downloading page http://qz.com/403774/quartz-daily-brief-japanese-military-verizon-aol-sporty-branson-saucy-swedes/.gob.pe...\n"
          ]
        },
        {
          "output_type": "stream",
          "name": "stderr",
          "text": [
            "/usr/local/lib/python3.10/dist-packages/urllib3/connectionpool.py:1099: InsecureRequestWarning: Unverified HTTPS request is being made to host 'qz.com'. Adding certificate verification is strongly advised. See: https://urllib3.readthedocs.io/en/latest/advanced-usage.html#tls-warnings\n",
            "  warnings.warn(\n"
          ]
        },
        {
          "output_type": "stream",
          "name": "stdout",
          "text": [
            "Error when dowwloading page http://qz.com/403774/quartz-daily-brief-japanese-military-verizon-aol-sporty-branson-saucy-swedes/.gob.pe: 404 Client Error: Not Found for url: https://qz.com/403774/quartz-daily-brief-japanese-military-verizon-aol-sporty-branson-saucy-swedes/.gob.pe\n",
            "Failed to download page from http://qz.com/403774/quartz-daily-brief-japanese-military-verizon-aol-sporty-branson-saucy-swedes/.gob.pe\n",
            "Downloading page http://mylust.com/videos/232790/hentai-slut-with-big-juicy-tits-gets-fucked-doggy-style/.gob.pe...\n"
          ]
        },
        {
          "output_type": "stream",
          "name": "stderr",
          "text": [
            "/usr/local/lib/python3.10/dist-packages/urllib3/connectionpool.py:1099: InsecureRequestWarning: Unverified HTTPS request is being made to host 'mylust.com'. Adding certificate verification is strongly advised. See: https://urllib3.readthedocs.io/en/latest/advanced-usage.html#tls-warnings\n",
            "  warnings.warn(\n"
          ]
        },
        {
          "output_type": "stream",
          "name": "stdout",
          "text": [
            "Error when dowwloading page http://mylust.com/videos/232790/hentai-slut-with-big-juicy-tits-gets-fucked-doggy-style/.gob.pe: 404 Client Error: Not Found for url: https://mylust.com/videos/232790/hentai-slut-with-big-juicy-tits-gets-fucked-doggy-style/.gob.pe\n",
            "Failed to download page from http://mylust.com/videos/232790/hentai-slut-with-big-juicy-tits-gets-fucked-doggy-style/.gob.pe\n",
            "Downloading page http://mic.com/articles/117758/mtv-just-gave-these-artists-a-huge-platform-to-bring-attention-to-indigenous-rights.gob.pe...\n"
          ]
        },
        {
          "output_type": "stream",
          "name": "stderr",
          "text": [
            "/usr/local/lib/python3.10/dist-packages/urllib3/connectionpool.py:1099: InsecureRequestWarning: Unverified HTTPS request is being made to host 'mic.com'. Adding certificate verification is strongly advised. See: https://urllib3.readthedocs.io/en/latest/advanced-usage.html#tls-warnings\n",
            "  warnings.warn(\n",
            "/usr/local/lib/python3.10/dist-packages/urllib3/connectionpool.py:1099: InsecureRequestWarning: Unverified HTTPS request is being made to host 'www.mic.com'. Adding certificate verification is strongly advised. See: https://urllib3.readthedocs.io/en/latest/advanced-usage.html#tls-warnings\n",
            "  warnings.warn(\n"
          ]
        },
        {
          "output_type": "stream",
          "name": "stdout",
          "text": [
            "Error when dowwloading page http://mic.com/articles/117758/mtv-just-gave-these-artists-a-huge-platform-to-bring-attention-to-indigenous-rights.gob.pe: 404 Client Error: Not Found for url: https://www.mic.com/articles/117758/mtv-just-gave-these-artists-a-huge-platform-to-bring-attention-to-indigenous-rights.gob.pe\n",
            "Failed to download page from http://mic.com/articles/117758/mtv-just-gave-these-artists-a-huge-platform-to-bring-attention-to-indigenous-rights.gob.pe\n",
            "Downloading page http://grantland.com/the-triangle/2015-mlb-over-under-bets-chicago-cubs-houston-astros-oakland-as-tampa-bay-rays/.gob.pe...\n"
          ]
        },
        {
          "output_type": "stream",
          "name": "stderr",
          "text": [
            "/usr/local/lib/python3.10/dist-packages/urllib3/connectionpool.py:1099: InsecureRequestWarning: Unverified HTTPS request is being made to host 'grantland.com'. Adding certificate verification is strongly advised. See: https://urllib3.readthedocs.io/en/latest/advanced-usage.html#tls-warnings\n",
            "  warnings.warn(\n"
          ]
        },
        {
          "output_type": "stream",
          "name": "stdout",
          "text": [
            "Error when dowwloading page http://grantland.com/the-triangle/2015-mlb-over-under-bets-chicago-cubs-houston-astros-oakland-as-tampa-bay-rays/.gob.pe: 404 Client Error: Not Found for url: https://grantland.com/the-triangle/2015-mlb-over-under-bets-chicago-cubs-houston-astros-oakland-as-tampa-bay-rays/.gob.pe\n",
            "Failed to download page from http://grantland.com/the-triangle/2015-mlb-over-under-bets-chicago-cubs-houston-astros-oakland-as-tampa-bay-rays/.gob.pe\n",
            "Downloading page http://noticias.uol.com.br/album/bbc/2015/04/01/obras-de-anel-rodoviario-de-r-68-bilhoes-afetam-rios-e-nascentes-em-sp.htm...\n",
            "Error when dowwloading page http://noticias.uol.com.br/album/bbc/2015/04/01/obras-de-anel-rodoviario-de-r-68-bilhoes-afetam-rios-e-nascentes-em-sp.htm: HTTPConnectionPool(host='noticias.uol.com.br', port=80): Max retries exceeded with url: /album/bbc/2015/04/01/obras-de-anel-rodoviario-de-r-68-bilhoes-afetam-rios-e-nascentes-em-sp.htm (Caused by NameResolutionError(\"<urllib3.connection.HTTPConnection object at 0x7e14869d41c0>: Failed to resolve 'noticias.uol.com.br' ([Errno -2] Name or service not known)\"))\n",
            "Failed to download page from http://noticias.uol.com.br/album/bbc/2015/04/01/obras-de-anel-rodoviario-de-r-68-bilhoes-afetam-rios-e-nascentes-em-sp.htm\n",
            "Downloading page http://kienthuc.net.vn/diem-thi/diem-chuan-dai-hoc-bach-khoa-ha-noi-nam-2014-487293.html...\n"
          ]
        },
        {
          "output_type": "stream",
          "name": "stderr",
          "text": [
            "/usr/local/lib/python3.10/dist-packages/urllib3/connectionpool.py:1099: InsecureRequestWarning: Unverified HTTPS request is being made to host 'kienthuc.net.vn'. Adding certificate verification is strongly advised. See: https://urllib3.readthedocs.io/en/latest/advanced-usage.html#tls-warnings\n",
            "  warnings.warn(\n"
          ]
        },
        {
          "output_type": "stream",
          "name": "stdout",
          "text": [
            "Text saved to output/safe/kienthuc.net.vn_diem-thi_diem-chuan-dai-hoc-bach-khoa-ha-noi-nam-2014-487293.html.txt\n",
            "Downloading page http://pikabu.ru/tag/%D0%BC%D0%B8%D0%BD%D0%B8%D0%BC%D0%B0%D0%BB%D0%B8%D0%B7%D0%BC/hot.gob.pe...\n"
          ]
        },
        {
          "output_type": "stream",
          "name": "stderr",
          "text": [
            "/usr/local/lib/python3.10/dist-packages/urllib3/connectionpool.py:1099: InsecureRequestWarning: Unverified HTTPS request is being made to host 'pikabu.ru'. Adding certificate verification is strongly advised. See: https://urllib3.readthedocs.io/en/latest/advanced-usage.html#tls-warnings\n",
            "  warnings.warn(\n"
          ]
        },
        {
          "output_type": "stream",
          "name": "stdout",
          "text": [
            "Error when dowwloading page http://pikabu.ru/tag/%D0%BC%D0%B8%D0%BD%D0%B8%D0%BC%D0%B0%D0%BB%D0%B8%D0%B7%D0%BC/hot.gob.pe: 502 Server Error: Bad Gateway for url: https://pikabu.ru/tag/%D0%BC%D0%B8%D0%BD%D0%B8%D0%BC%D0%B0%D0%BB%D0%B8%D0%B7%D0%BC/hot.gob.pe\n",
            "Failed to download page from http://pikabu.ru/tag/%D0%BC%D0%B8%D0%BD%D0%B8%D0%BC%D0%B0%D0%BB%D0%B8%D0%B7%D0%BC/hot.gob.pe\n",
            "Downloading page http://gizmodo.com/one-year-after-the-first-snowden-leak-whats-really-cha-1586213046/all.gob.pe...\n"
          ]
        },
        {
          "output_type": "stream",
          "name": "stderr",
          "text": [
            "/usr/local/lib/python3.10/dist-packages/urllib3/connectionpool.py:1099: InsecureRequestWarning: Unverified HTTPS request is being made to host 'gizmodo.com'. Adding certificate verification is strongly advised. See: https://urllib3.readthedocs.io/en/latest/advanced-usage.html#tls-warnings\n",
            "  warnings.warn(\n"
          ]
        },
        {
          "output_type": "stream",
          "name": "stdout",
          "text": [
            "Error when dowwloading page http://gizmodo.com/one-year-after-the-first-snowden-leak-whats-really-cha-1586213046/all.gob.pe: 404 Client Error: Not Found for url: https://gizmodo.com/one-year-after-the-first-snowden-leak-whats-really-cha-1586213046/all.gob.pe\n",
            "Failed to download page from http://gizmodo.com/one-year-after-the-first-snowden-leak-whats-really-cha-1586213046/all.gob.pe\n",
            "Downloading page http://uproxx.com/dimemag/2015/05/lebron-instagram-like-wants-to-leave-school-to-be-model-she-shouldnt/.gob.pe...\n"
          ]
        },
        {
          "output_type": "stream",
          "name": "stderr",
          "text": [
            "/usr/local/lib/python3.10/dist-packages/urllib3/connectionpool.py:1099: InsecureRequestWarning: Unverified HTTPS request is being made to host 'uproxx.com'. Adding certificate verification is strongly advised. See: https://urllib3.readthedocs.io/en/latest/advanced-usage.html#tls-warnings\n",
            "  warnings.warn(\n",
            "/usr/local/lib/python3.10/dist-packages/urllib3/connectionpool.py:1099: InsecureRequestWarning: Unverified HTTPS request is being made to host 'uproxx.com'. Adding certificate verification is strongly advised. See: https://urllib3.readthedocs.io/en/latest/advanced-usage.html#tls-warnings\n",
            "  warnings.warn(\n",
            "/usr/local/lib/python3.10/dist-packages/urllib3/connectionpool.py:1099: InsecureRequestWarning: Unverified HTTPS request is being made to host 'elitedaily.com'. Adding certificate verification is strongly advised. See: https://urllib3.readthedocs.io/en/latest/advanced-usage.html#tls-warnings\n",
            "  warnings.warn(\n",
            "/usr/local/lib/python3.10/dist-packages/urllib3/connectionpool.py:1099: InsecureRequestWarning: Unverified HTTPS request is being made to host 'www.elitedaily.com'. Adding certificate verification is strongly advised. See: https://urllib3.readthedocs.io/en/latest/advanced-usage.html#tls-warnings\n",
            "  warnings.warn(\n"
          ]
        },
        {
          "output_type": "stream",
          "name": "stdout",
          "text": [
            "Text saved to output/safe/uproxx.com_dimemag_2015_05_lebron-instagram-like-wants-to-leave-school-to-be-model-she-shouldnt_.gob.pe.txt\n",
            "Downloading page http://elitedaily.com/entertainment/film/uncle-wears-princess-dress-movie-niece/976238/.gob.pe...\n",
            "Error when dowwloading page http://elitedaily.com/entertainment/film/uncle-wears-princess-dress-movie-niece/976238/.gob.pe: 404 Client Error: Not Found for url: https://www.elitedaily.com/entertainment/film/uncle-wears-princess-dress-movie-niece/976238/.gob.pe\n",
            "Failed to download page from http://elitedaily.com/entertainment/film/uncle-wears-princess-dress-movie-niece/976238/.gob.pe\n",
            "Downloading page https://medium.com/human-parts/the-laziest-coming-out-story-you-ve-ever-heard-a9f877acdd14?source=has-recommended.gob.pe...\n"
          ]
        },
        {
          "output_type": "stream",
          "name": "stderr",
          "text": [
            "/usr/local/lib/python3.10/dist-packages/urllib3/connectionpool.py:1099: InsecureRequestWarning: Unverified HTTPS request is being made to host 'medium.com'. Adding certificate verification is strongly advised. See: https://urllib3.readthedocs.io/en/latest/advanced-usage.html#tls-warnings\n",
            "  warnings.warn(\n",
            "/usr/local/lib/python3.10/dist-packages/urllib3/connectionpool.py:1099: InsecureRequestWarning: Unverified HTTPS request is being made to host 'humanparts.medium.com'. Adding certificate verification is strongly advised. See: https://urllib3.readthedocs.io/en/latest/advanced-usage.html#tls-warnings\n",
            "  warnings.warn(\n"
          ]
        },
        {
          "output_type": "stream",
          "name": "stdout",
          "text": [
            "Text saved to output/safe/medium.com_human-parts_the-laziest-coming-out-story-you-ve-ever-heard-a9f877acdd14?source=has-recommended.gob.pe.txt\n",
            "Downloading page http://qz.com/371908/the-greeks-money-already-stuffed-under-mattresses-may-learn-their-fate-this-weekend/.gob.pe...\n"
          ]
        },
        {
          "output_type": "stream",
          "name": "stderr",
          "text": [
            "/usr/local/lib/python3.10/dist-packages/urllib3/connectionpool.py:1099: InsecureRequestWarning: Unverified HTTPS request is being made to host 'qz.com'. Adding certificate verification is strongly advised. See: https://urllib3.readthedocs.io/en/latest/advanced-usage.html#tls-warnings\n",
            "  warnings.warn(\n"
          ]
        },
        {
          "output_type": "stream",
          "name": "stdout",
          "text": [
            "Error when dowwloading page http://qz.com/371908/the-greeks-money-already-stuffed-under-mattresses-may-learn-their-fate-this-weekend/.gob.pe: 404 Client Error: Not Found for url: https://qz.com/371908/the-greeks-money-already-stuffed-under-mattresses-may-learn-their-fate-this-weekend/.gob.pe\n",
            "Failed to download page from http://qz.com/371908/the-greeks-money-already-stuffed-under-mattresses-may-learn-their-fate-this-weekend/.gob.pe\n",
            "Downloading page http://mixi.jp/share.pl?u=http://alfalfalfa.com/articles/117917.html&k=e09afc106e473491952cfe324aa83aabe5b07446...\n"
          ]
        },
        {
          "output_type": "stream",
          "name": "stderr",
          "text": [
            "/usr/local/lib/python3.10/dist-packages/urllib3/connectionpool.py:1099: InsecureRequestWarning: Unverified HTTPS request is being made to host 'mixi.jp'. Adding certificate verification is strongly advised. See: https://urllib3.readthedocs.io/en/latest/advanced-usage.html#tls-warnings\n",
            "  warnings.warn(\n",
            "/usr/local/lib/python3.10/dist-packages/urllib3/connectionpool.py:1099: InsecureRequestWarning: Unverified HTTPS request is being made to host 'mixi.jp'. Adding certificate verification is strongly advised. See: https://urllib3.readthedocs.io/en/latest/advanced-usage.html#tls-warnings\n",
            "  warnings.warn(\n"
          ]
        },
        {
          "output_type": "stream",
          "name": "stdout",
          "text": [
            "Text saved to output/safe/mixi.jp_share.pl?u=http:__alfalfalfa.com_articles_117917.html&k=e09afc106e473491952cfe324aa83aabe5b07446.txt\n",
            "Downloading page http://kakaku.com/kaden/food-processor/ranking_2129/pricedown/div-gpt-ad-k/header_text.gob.pe...\n"
          ]
        },
        {
          "output_type": "stream",
          "name": "stderr",
          "text": [
            "/usr/local/lib/python3.10/dist-packages/urllib3/connectionpool.py:1099: InsecureRequestWarning: Unverified HTTPS request is being made to host 'kakaku.com'. Adding certificate verification is strongly advised. See: https://urllib3.readthedocs.io/en/latest/advanced-usage.html#tls-warnings\n",
            "  warnings.warn(\n",
            "/usr/local/lib/python3.10/dist-packages/urllib3/connectionpool.py:1099: InsecureRequestWarning: Unverified HTTPS request is being made to host 'mylust.com'. Adding certificate verification is strongly advised. See: https://urllib3.readthedocs.io/en/latest/advanced-usage.html#tls-warnings\n",
            "  warnings.warn(\n"
          ]
        },
        {
          "output_type": "stream",
          "name": "stdout",
          "text": [
            "Error when dowwloading page http://kakaku.com/kaden/food-processor/ranking_2129/pricedown/div-gpt-ad-k/header_text.gob.pe: 404 Client Error: Not Found. for url: https://kakaku.com/kaden/food-processor/ranking_2129/pricedown/div-gpt-ad-k/header_text.gob.pe\n",
            "Failed to download page from http://kakaku.com/kaden/food-processor/ranking_2129/pricedown/div-gpt-ad-k/header_text.gob.pe\n",
            "Downloading page http://mylust.com/videos/69734/a-small-cock-of-that-guy-is-still-good-for-this-vintage-whore/.gob.pe...\n",
            "Error when dowwloading page http://mylust.com/videos/69734/a-small-cock-of-that-guy-is-still-good-for-this-vintage-whore/.gob.pe: 404 Client Error: Not Found for url: https://mylust.com/videos/69734/a-small-cock-of-that-guy-is-still-good-for-this-vintage-whore/.gob.pe\n",
            "Failed to download page from http://mylust.com/videos/69734/a-small-cock-of-that-guy-is-still-good-for-this-vintage-whore/.gob.pe\n",
            "Downloading page http://torrentdn.com/bbs/s.php?bo_table=torrent_util&wr_id=15244&k=%ED%8F%AC%ED%86%A0%EC%83%B5&page=1...\n",
            "No valid text from http://torrentdn.com/bbs/s.php?bo_table=torrent_util&wr_id=15244&k=%ED%8F%AC%ED%86%A0%EC%83%B5&page=1\n",
            "Downloading page https://hollywoodlife.com/2015/05/14/new-york-rangers-beat-washington-capitals-overtime-game-7-fan-reaction/.gob.pe...\n"
          ]
        },
        {
          "output_type": "stream",
          "name": "stderr",
          "text": [
            "/usr/local/lib/python3.10/dist-packages/urllib3/connectionpool.py:1099: InsecureRequestWarning: Unverified HTTPS request is being made to host 'hollywoodlife.com'. Adding certificate verification is strongly advised. See: https://urllib3.readthedocs.io/en/latest/advanced-usage.html#tls-warnings\n",
            "  warnings.warn(\n"
          ]
        },
        {
          "output_type": "stream",
          "name": "stdout",
          "text": [
            "Error when dowwloading page https://hollywoodlife.com/2015/05/14/new-york-rangers-beat-washington-capitals-overtime-game-7-fan-reaction/.gob.pe: 404 Client Error: Not Found for url: https://hollywoodlife.com/2015/05/14/new-york-rangers-beat-washington-capitals-overtime-game-7-fan-reaction/.gob.pe\n",
            "Failed to download page from https://hollywoodlife.com/2015/05/14/new-york-rangers-beat-washington-capitals-overtime-game-7-fan-reaction/.gob.pe\n",
            "Downloading page http://twitter.com/home?status=%E3%83%8C%E3%81%91%E3%82%8B%EF%BC%81%E3%80%90%E7%BE%8E%E5%B0%91%E5%A5%B3%E3%80%91+http%3A%2F%2Fero-video.net%2Ft%2FmAsWlaomtJkLLbgk+%E6%95%99%E3%81%88%E5%AD%90%E3%81%AF%E7%BE%8E%E3%83%9E%E3%83%B3%E5%A5%B3%E5%AD%90%E6%A0%A1%E7%94%9F+%23ero+%23douga+%23agesage...\n"
          ]
        },
        {
          "output_type": "stream",
          "name": "stderr",
          "text": [
            "/usr/local/lib/python3.10/dist-packages/urllib3/connectionpool.py:1099: InsecureRequestWarning: Unverified HTTPS request is being made to host 'twitter.com'. Adding certificate verification is strongly advised. See: https://urllib3.readthedocs.io/en/latest/advanced-usage.html#tls-warnings\n",
            "  warnings.warn(\n",
            "/usr/local/lib/python3.10/dist-packages/urllib3/connectionpool.py:1099: InsecureRequestWarning: Unverified HTTPS request is being made to host 'twitter.com'. Adding certificate verification is strongly advised. See: https://urllib3.readthedocs.io/en/latest/advanced-usage.html#tls-warnings\n",
            "  warnings.warn(\n",
            "/usr/local/lib/python3.10/dist-packages/urllib3/connectionpool.py:1099: InsecureRequestWarning: Unverified HTTPS request is being made to host 'x.com'. Adding certificate verification is strongly advised. See: https://urllib3.readthedocs.io/en/latest/advanced-usage.html#tls-warnings\n",
            "  warnings.warn(\n"
          ]
        },
        {
          "output_type": "stream",
          "name": "stdout",
          "text": [
            "Text saved to output/safe/twitter.com_home?status=%E3%83%8C%E3%81%91%E3%82%8B%EF%BC%81%E3%80%90%E7%BE%8E%E5%B0%91%E5%A5%B3%E3%80%91+http%3A%2F%2Fero-video.net%2Ft%2FmAsWlaomtJkLLbgk+%E6%95%99%E3%81%88%E5%AD%90%E3%81%AF%E7%BE%8.txt\n",
            "Downloading page http://haberler.com/galatasaray-mersin-idman-yurdu-nu-1-0-yendi-7303426-haberi-yorumlari/.gob.pe...\n"
          ]
        },
        {
          "output_type": "stream",
          "name": "stderr",
          "text": [
            "/usr/local/lib/python3.10/dist-packages/urllib3/connectionpool.py:1099: InsecureRequestWarning: Unverified HTTPS request is being made to host 'www.haberler.com'. Adding certificate verification is strongly advised. See: https://urllib3.readthedocs.io/en/latest/advanced-usage.html#tls-warnings\n",
            "  warnings.warn(\n",
            "/usr/local/lib/python3.10/dist-packages/urllib3/connectionpool.py:1099: InsecureRequestWarning: Unverified HTTPS request is being made to host 'www.haberler.com'. Adding certificate verification is strongly advised. See: https://urllib3.readthedocs.io/en/latest/advanced-usage.html#tls-warnings\n",
            "  warnings.warn(\n",
            "/usr/local/lib/python3.10/dist-packages/urllib3/connectionpool.py:1099: InsecureRequestWarning: Unverified HTTPS request is being made to host 'www.haberler.com'. Adding certificate verification is strongly advised. See: https://urllib3.readthedocs.io/en/latest/advanced-usage.html#tls-warnings\n",
            "  warnings.warn(\n"
          ]
        },
        {
          "output_type": "stream",
          "name": "stdout",
          "text": [
            "Error when dowwloading page http://haberler.com/galatasaray-mersin-idman-yurdu-nu-1-0-yendi-7303426-haberi-yorumlari/.gob.pe: 404 Client Error: Not Found for url: https://www.haberler.com/galatasaray-mersin-idman-yurdu-nu-1-0-yendi-7303426-haberi/.gob.pe/\n",
            "Failed to download page from http://haberler.com/galatasaray-mersin-idman-yurdu-nu-1-0-yendi-7303426-haberi-yorumlari/.gob.pe\n",
            "Downloading page http://cheezburger.com/8440974848/funny-fail-photo-portrait-bobby-jindal-politics?ref=rightarrow&siteId=1264.gob.pe...\n"
          ]
        },
        {
          "output_type": "stream",
          "name": "stderr",
          "text": [
            "/usr/local/lib/python3.10/dist-packages/urllib3/connectionpool.py:1099: InsecureRequestWarning: Unverified HTTPS request is being made to host 'cheezburger.com'. Adding certificate verification is strongly advised. See: https://urllib3.readthedocs.io/en/latest/advanced-usage.html#tls-warnings\n",
            "  warnings.warn(\n"
          ]
        },
        {
          "output_type": "stream",
          "name": "stdout",
          "text": [
            "Text saved to output/safe/cheezburger.com_8440974848_funny-fail-photo-portrait-bobby-jindal-politics?ref=rightarrow&siteId=1264.gob.pe.txt\n",
            "Downloading page http://dribbble.com/shots/1269523-Sperant-mobile-sidebar-concepts/attachments/174429.gob.pe...\n"
          ]
        },
        {
          "output_type": "stream",
          "name": "stderr",
          "text": [
            "/usr/local/lib/python3.10/dist-packages/urllib3/connectionpool.py:1099: InsecureRequestWarning: Unverified HTTPS request is being made to host 'dribbble.com'. Adding certificate verification is strongly advised. See: https://urllib3.readthedocs.io/en/latest/advanced-usage.html#tls-warnings\n",
            "  warnings.warn(\n"
          ]
        },
        {
          "output_type": "stream",
          "name": "stdout",
          "text": [
            "Text saved to output/safe/dribbble.com_shots_1269523-Sperant-mobile-sidebar-concepts_attachments_174429.gob.pe.txt\n",
            "Downloading page http://nguyentandung.org/141-ha-noi-phat-hien-nhanh-2-xe-di-muon-la-xe-trom-cap.html...\n"
          ]
        },
        {
          "output_type": "stream",
          "name": "stderr",
          "text": [
            "/usr/local/lib/python3.10/dist-packages/urllib3/connectionpool.py:1099: InsecureRequestWarning: Unverified HTTPS request is being made to host 'nguyentandung.org'. Adding certificate verification is strongly advised. See: https://urllib3.readthedocs.io/en/latest/advanced-usage.html#tls-warnings\n",
            "  warnings.warn(\n",
            "/usr/local/lib/python3.10/dist-packages/urllib3/connectionpool.py:1099: InsecureRequestWarning: Unverified HTTPS request is being made to host 'nguyentandung.org'. Adding certificate verification is strongly advised. See: https://urllib3.readthedocs.io/en/latest/advanced-usage.html#tls-warnings\n",
            "  warnings.warn(\n"
          ]
        },
        {
          "output_type": "stream",
          "name": "stdout",
          "text": [
            "Text saved to output/safe/nguyentandung.org_141-ha-noi-phat-hien-nhanh-2-xe-di-muon-la-xe-trom-cap.html.txt\n",
            "Downloading page http://superuser.com/questions/811630/how-can-i-limit-the-speed-of-the-chasis-fan-on-an-asus-m5a78l-m-lx-plus.gob.pe...\n"
          ]
        },
        {
          "output_type": "stream",
          "name": "stderr",
          "text": [
            "/usr/local/lib/python3.10/dist-packages/urllib3/connectionpool.py:1099: InsecureRequestWarning: Unverified HTTPS request is being made to host 'superuser.com'. Adding certificate verification is strongly advised. See: https://urllib3.readthedocs.io/en/latest/advanced-usage.html#tls-warnings\n",
            "  warnings.warn(\n",
            "/usr/local/lib/python3.10/dist-packages/urllib3/connectionpool.py:1099: InsecureRequestWarning: Unverified HTTPS request is being made to host 'superuser.com'. Adding certificate verification is strongly advised. See: https://urllib3.readthedocs.io/en/latest/advanced-usage.html#tls-warnings\n",
            "  warnings.warn(\n"
          ]
        },
        {
          "output_type": "stream",
          "name": "stdout",
          "text": [
            "Text saved to output/safe/superuser.com_questions_811630_how-can-i-limit-the-speed-of-the-chasis-fan-on-an-asus-m5a78l-m-lx-plus.gob.pe.txt\n",
            "Downloading page http://elitedaily.com/humor/guys-donkey-prank-women-thinking-being-catcalled-video/922767/.gob.pe...\n"
          ]
        },
        {
          "output_type": "stream",
          "name": "stderr",
          "text": [
            "/usr/local/lib/python3.10/dist-packages/urllib3/connectionpool.py:1099: InsecureRequestWarning: Unverified HTTPS request is being made to host 'elitedaily.com'. Adding certificate verification is strongly advised. See: https://urllib3.readthedocs.io/en/latest/advanced-usage.html#tls-warnings\n",
            "  warnings.warn(\n",
            "/usr/local/lib/python3.10/dist-packages/urllib3/connectionpool.py:1099: InsecureRequestWarning: Unverified HTTPS request is being made to host 'www.elitedaily.com'. Adding certificate verification is strongly advised. See: https://urllib3.readthedocs.io/en/latest/advanced-usage.html#tls-warnings\n",
            "  warnings.warn(\n"
          ]
        },
        {
          "output_type": "stream",
          "name": "stdout",
          "text": [
            "Error when dowwloading page http://elitedaily.com/humor/guys-donkey-prank-women-thinking-being-catcalled-video/922767/.gob.pe: 404 Client Error: Not Found for url: https://www.elitedaily.com/humor/guys-donkey-prank-women-thinking-being-catcalled-video/922767/.gob.pe\n",
            "Failed to download page from http://elitedaily.com/humor/guys-donkey-prank-women-thinking-being-catcalled-video/922767/.gob.pe\n",
            "Downloading page http://techcrunch.com/2013/06/09/first-cut-pro-just-made-post-production-collaborative-video-editing-much-less-painful/.gob.pe...\n"
          ]
        },
        {
          "output_type": "stream",
          "name": "stderr",
          "text": [
            "/usr/local/lib/python3.10/dist-packages/urllib3/connectionpool.py:1099: InsecureRequestWarning: Unverified HTTPS request is being made to host 'techcrunch.com'. Adding certificate verification is strongly advised. See: https://urllib3.readthedocs.io/en/latest/advanced-usage.html#tls-warnings\n",
            "  warnings.warn(\n"
          ]
        },
        {
          "output_type": "stream",
          "name": "stdout",
          "text": [
            "Error when dowwloading page http://techcrunch.com/2013/06/09/first-cut-pro-just-made-post-production-collaborative-video-editing-much-less-painful/.gob.pe: 404 Client Error: Not Found for url: https://techcrunch.com/2013/06/09/first-cut-pro-just-made-post-production-collaborative-video-editing-much-less-painful/.gob.pe\n",
            "Failed to download page from http://techcrunch.com/2013/06/09/first-cut-pro-just-made-post-production-collaborative-video-editing-much-less-painful/.gob.pe\n",
            "Downloading page http://mic.com/articles/97512/here-s-the-one-simple-reason-why-we-need-more-openly-bisexual-characters-on-television.gob.pe...\n"
          ]
        },
        {
          "output_type": "stream",
          "name": "stderr",
          "text": [
            "/usr/local/lib/python3.10/dist-packages/urllib3/connectionpool.py:1099: InsecureRequestWarning: Unverified HTTPS request is being made to host 'mic.com'. Adding certificate verification is strongly advised. See: https://urllib3.readthedocs.io/en/latest/advanced-usage.html#tls-warnings\n",
            "  warnings.warn(\n",
            "/usr/local/lib/python3.10/dist-packages/urllib3/connectionpool.py:1099: InsecureRequestWarning: Unverified HTTPS request is being made to host 'www.mic.com'. Adding certificate verification is strongly advised. See: https://urllib3.readthedocs.io/en/latest/advanced-usage.html#tls-warnings\n",
            "  warnings.warn(\n"
          ]
        },
        {
          "output_type": "stream",
          "name": "stdout",
          "text": [
            "Error when dowwloading page http://mic.com/articles/97512/here-s-the-one-simple-reason-why-we-need-more-openly-bisexual-characters-on-television.gob.pe: 404 Client Error: Not Found for url: https://www.mic.com/articles/97512/here-s-the-one-simple-reason-why-we-need-more-openly-bisexual-characters-on-television.gob.pe\n",
            "Failed to download page from http://mic.com/articles/97512/here-s-the-one-simple-reason-why-we-need-more-openly-bisexual-characters-on-television.gob.pe\n",
            "Downloading page http://ecnavi.jp/redirect/?url=http://ad-4091.affit.jp/c.ts/35n.2/-/1g.html?mu=%user_id%...\n"
          ]
        },
        {
          "output_type": "stream",
          "name": "stderr",
          "text": [
            "/usr/local/lib/python3.10/dist-packages/urllib3/connectionpool.py:1099: InsecureRequestWarning: Unverified HTTPS request is being made to host 'ecnavi.jp'. Adding certificate verification is strongly advised. See: https://urllib3.readthedocs.io/en/latest/advanced-usage.html#tls-warnings\n",
            "  warnings.warn(\n",
            "/usr/local/lib/python3.10/dist-packages/urllib3/connectionpool.py:1099: InsecureRequestWarning: Unverified HTTPS request is being made to host 'ecnavi.jp'. Adding certificate verification is strongly advised. See: https://urllib3.readthedocs.io/en/latest/advanced-usage.html#tls-warnings\n",
            "  warnings.warn(\n"
          ]
        },
        {
          "output_type": "stream",
          "name": "stdout",
          "text": [
            "Text saved to output/safe/ecnavi.jp_redirect_?url=http:__ad-4091.affit.jp_c.ts_35n.2_-_1g.html?mu=%user_id%.txt\n",
            "Downloading page http://mashable.com/category/spacex/2014/04/25/elon-musk-spacex-booster-stage-atlantic.gob.pe...\n"
          ]
        },
        {
          "output_type": "stream",
          "name": "stderr",
          "text": [
            "/usr/local/lib/python3.10/dist-packages/urllib3/connectionpool.py:1099: InsecureRequestWarning: Unverified HTTPS request is being made to host 'mashable.com'. Adding certificate verification is strongly advised. See: https://urllib3.readthedocs.io/en/latest/advanced-usage.html#tls-warnings\n",
            "  warnings.warn(\n",
            "/usr/local/lib/python3.10/dist-packages/urllib3/connectionpool.py:1099: InsecureRequestWarning: Unverified HTTPS request is being made to host 'mashable.com'. Adding certificate verification is strongly advised. See: https://urllib3.readthedocs.io/en/latest/advanced-usage.html#tls-warnings\n",
            "  warnings.warn(\n"
          ]
        },
        {
          "output_type": "stream",
          "name": "stdout",
          "text": [
            "Text saved to output/safe/mashable.com_category_spacex_2014_04_25_elon-musk-spacex-booster-stage-atlantic.gob.pe.txt\n",
            "Downloading page http://serverfault.com/questions/674326/remote-location-management-copy-and-install-large-software-updates-to-50-lan.gob.pe...\n"
          ]
        },
        {
          "output_type": "stream",
          "name": "stderr",
          "text": [
            "/usr/local/lib/python3.10/dist-packages/urllib3/connectionpool.py:1099: InsecureRequestWarning: Unverified HTTPS request is being made to host 'serverfault.com'. Adding certificate verification is strongly advised. See: https://urllib3.readthedocs.io/en/latest/advanced-usage.html#tls-warnings\n",
            "  warnings.warn(\n",
            "/usr/local/lib/python3.10/dist-packages/urllib3/connectionpool.py:1099: InsecureRequestWarning: Unverified HTTPS request is being made to host 'serverfault.com'. Adding certificate verification is strongly advised. See: https://urllib3.readthedocs.io/en/latest/advanced-usage.html#tls-warnings\n",
            "  warnings.warn(\n"
          ]
        },
        {
          "output_type": "stream",
          "name": "stdout",
          "text": [
            "Text saved to output/safe/serverfault.com_questions_674326_remote-location-management-copy-and-install-large-software-updates-to-50-lan.gob.pe.txt\n",
            "Downloading page http://nguyentandung.org/vu-viec-tranh-go-sua-o-ha-noi-xu-ly-cham-do-doi-interpol-tra-loi.html...\n"
          ]
        },
        {
          "output_type": "stream",
          "name": "stderr",
          "text": [
            "/usr/local/lib/python3.10/dist-packages/urllib3/connectionpool.py:1099: InsecureRequestWarning: Unverified HTTPS request is being made to host 'nguyentandung.org'. Adding certificate verification is strongly advised. See: https://urllib3.readthedocs.io/en/latest/advanced-usage.html#tls-warnings\n",
            "  warnings.warn(\n",
            "/usr/local/lib/python3.10/dist-packages/urllib3/connectionpool.py:1099: InsecureRequestWarning: Unverified HTTPS request is being made to host 'nguyentandung.org'. Adding certificate verification is strongly advised. See: https://urllib3.readthedocs.io/en/latest/advanced-usage.html#tls-warnings\n",
            "  warnings.warn(\n"
          ]
        },
        {
          "output_type": "stream",
          "name": "stdout",
          "text": [
            "Text saved to output/safe/nguyentandung.org_vu-viec-tranh-go-sua-o-ha-noi-xu-ly-cham-do-doi-interpol-tra-loi.html.txt\n",
            "Downloading page http://udn.com/news/story/7321/900837-%E9%AB%98%E9%9B%842%E8%AD%B0%E5%93%A1%E7%95%B6%E9%81%B8%E7%84%A1%E6%95%88%E4%B9%8B%E8%A8%B4-1%E5%AF%A9%E9%A7%81%E5%9B%9E.gob.pe...\n",
            "No valid text from http://udn.com/news/story/7321/900837-%E9%AB%98%E9%9B%842%E8%AD%B0%E5%93%A1%E7%95%B6%E9%81%B8%E7%84%A1%E6%95%88%E4%B9%8B%E8%A8%B4-1%E5%AF%A9%E9%A7%81%E5%9B%9E.gob.pe\n",
            "Downloading page https://twitter.com/share?text=%D0%A4%D0%BE%D1%82%D0%BE%D0%BF%D0%BE%D0%B4%D0%B1%D0%BE%D1%80%D0%BA%D0%B0+%D0%B7%D0%B0+29.04.2015&url=http%3A%2F%2Ffishki.net%2Fphoto%2F1517170-fotopodborka-za-29042015.html%2Fgallery-1952358%2F...\n"
          ]
        },
        {
          "output_type": "stream",
          "name": "stderr",
          "text": [
            "/usr/local/lib/python3.10/dist-packages/urllib3/connectionpool.py:1099: InsecureRequestWarning: Unverified HTTPS request is being made to host 'udn.com'. Adding certificate verification is strongly advised. See: https://urllib3.readthedocs.io/en/latest/advanced-usage.html#tls-warnings\n",
            "  warnings.warn(\n",
            "/usr/local/lib/python3.10/dist-packages/urllib3/connectionpool.py:1099: InsecureRequestWarning: Unverified HTTPS request is being made to host 'twitter.com'. Adding certificate verification is strongly advised. See: https://urllib3.readthedocs.io/en/latest/advanced-usage.html#tls-warnings\n",
            "  warnings.warn(\n",
            "/usr/local/lib/python3.10/dist-packages/urllib3/connectionpool.py:1099: InsecureRequestWarning: Unverified HTTPS request is being made to host 'x.com'. Adding certificate verification is strongly advised. See: https://urllib3.readthedocs.io/en/latest/advanced-usage.html#tls-warnings\n",
            "  warnings.warn(\n",
            "/usr/local/lib/python3.10/dist-packages/urllib3/connectionpool.py:1099: InsecureRequestWarning: Unverified HTTPS request is being made to host 'kotaku.com'. Adding certificate verification is strongly advised. See: https://urllib3.readthedocs.io/en/latest/advanced-usage.html#tls-warnings\n",
            "  warnings.warn(\n"
          ]
        },
        {
          "output_type": "stream",
          "name": "stdout",
          "text": [
            "Text saved to output/safe/twitter.com_share?text=%D0%A4%D0%BE%D1%82%D0%BE%D0%BF%D0%BE%D0%B4%D0%B1%D0%BE%D1%80%D0%BA%D0%B0+%D0%B7%D0%B0+29.04.2015&url=http%3A%2F%2Ffishki.net%2Fphoto%2F1517170-fotopodborka-za-29042015.html%2Fga.txt\n",
            "Downloading page http://kotaku.com/the-classic-pc-games-you-must-play-1246823468/1440923931/@kirkhamilton.gob.pe...\n"
          ]
        },
        {
          "output_type": "stream",
          "name": "stderr",
          "text": [
            "/usr/local/lib/python3.10/dist-packages/urllib3/connectionpool.py:1099: InsecureRequestWarning: Unverified HTTPS request is being made to host 'kotaku.com'. Adding certificate verification is strongly advised. See: https://urllib3.readthedocs.io/en/latest/advanced-usage.html#tls-warnings\n",
            "  warnings.warn(\n"
          ]
        },
        {
          "output_type": "stream",
          "name": "stdout",
          "text": [
            "Text saved to output/safe/kotaku.com_the-classic-pc-games-you-must-play-1246823468_1440923931_@kirkhamilton.gob.pe.txt\n",
            "Downloading page http://atwiki.jp/wiki/%E3%83%89%E3%83%A9%E3%82%B4%E3%83%B3%E3%82%BA%E3%83%89%E3%82%B0%E3%83%9E%20%E3%81%8F%E3%81%88%E3%81%99%E3%81%A8.gob.pe...\n"
          ]
        },
        {
          "output_type": "stream",
          "name": "stderr",
          "text": [
            "/usr/local/lib/python3.10/dist-packages/urllib3/connectionpool.py:1099: InsecureRequestWarning: Unverified HTTPS request is being made to host 'atwiki.jp'. Adding certificate verification is strongly advised. See: https://urllib3.readthedocs.io/en/latest/advanced-usage.html#tls-warnings\n",
            "  warnings.warn(\n"
          ]
        },
        {
          "output_type": "stream",
          "name": "stdout",
          "text": [
            "Text saved to output/safe/atwiki.jp_wiki_%E3%83%89%E3%83%A9%E3%82%B4%E3%83%B3%E3%82%BA%E3%83%89%E3%82%B0%E3%83%9E%20%E3%81%8F%E3%81%88%E3%81%99%E3%81%A8.gob.pe.txt\n",
            "Downloading page http://superuser.com/questions/812639/troubleshooting-hardware-with-limited-resources.gob.pe...\n"
          ]
        },
        {
          "output_type": "stream",
          "name": "stderr",
          "text": [
            "/usr/local/lib/python3.10/dist-packages/urllib3/connectionpool.py:1099: InsecureRequestWarning: Unverified HTTPS request is being made to host 'superuser.com'. Adding certificate verification is strongly advised. See: https://urllib3.readthedocs.io/en/latest/advanced-usage.html#tls-warnings\n",
            "  warnings.warn(\n",
            "/usr/local/lib/python3.10/dist-packages/urllib3/connectionpool.py:1099: InsecureRequestWarning: Unverified HTTPS request is being made to host 'superuser.com'. Adding certificate verification is strongly advised. See: https://urllib3.readthedocs.io/en/latest/advanced-usage.html#tls-warnings\n",
            "  warnings.warn(\n"
          ]
        },
        {
          "output_type": "stream",
          "name": "stdout",
          "text": [
            "Text saved to output/safe/superuser.com_questions_812639_troubleshooting-hardware-with-limited-resources.gob.pe.txt\n",
            "Downloading page http://nesn.com/2014/08/tom-brady-patriots-involved-in-competitive-situations-vs-redskins-video/.gob.pe...\n"
          ]
        },
        {
          "output_type": "stream",
          "name": "stderr",
          "text": [
            "/usr/local/lib/python3.10/dist-packages/urllib3/connectionpool.py:1099: InsecureRequestWarning: Unverified HTTPS request is being made to host 'nesn.com'. Adding certificate verification is strongly advised. See: https://urllib3.readthedocs.io/en/latest/advanced-usage.html#tls-warnings\n",
            "  warnings.warn(\n"
          ]
        },
        {
          "output_type": "stream",
          "name": "stdout",
          "text": [
            "Error when dowwloading page http://nesn.com/2014/08/tom-brady-patriots-involved-in-competitive-situations-vs-redskins-video/.gob.pe: 404 Client Error: Not Found for url: https://nesn.com/2014/08/tom-brady-patriots-involved-in-competitive-situations-vs-redskins-video/.gob.pe\n",
            "Failed to download page from http://nesn.com/2014/08/tom-brady-patriots-involved-in-competitive-situations-vs-redskins-video/.gob.pe\n",
            "Downloading page http://slashdot.org/submission/2011137/the-optimum-attack-rate-for-ssh-bruteforce-1-per-10-seconds.gob.pe...\n"
          ]
        },
        {
          "output_type": "stream",
          "name": "stderr",
          "text": [
            "/usr/local/lib/python3.10/dist-packages/urllib3/connectionpool.py:1099: InsecureRequestWarning: Unverified HTTPS request is being made to host 'slashdot.org'. Adding certificate verification is strongly advised. See: https://urllib3.readthedocs.io/en/latest/advanced-usage.html#tls-warnings\n",
            "  warnings.warn(\n"
          ]
        },
        {
          "output_type": "stream",
          "name": "stdout",
          "text": [
            "Text saved to output/safe/slashdot.org_submission_2011137_the-optimum-attack-rate-for-ssh-bruteforce-1-per-10-seconds.gob.pe.txt\n",
            "Downloading page http://elitedaily.com/news/world/teens-dying-wish-to-donate-organs-has-affected-more-than-50-people-video/1025896/.gob.pe...\n"
          ]
        },
        {
          "output_type": "stream",
          "name": "stderr",
          "text": [
            "/usr/local/lib/python3.10/dist-packages/urllib3/connectionpool.py:1099: InsecureRequestWarning: Unverified HTTPS request is being made to host 'elitedaily.com'. Adding certificate verification is strongly advised. See: https://urllib3.readthedocs.io/en/latest/advanced-usage.html#tls-warnings\n",
            "  warnings.warn(\n",
            "/usr/local/lib/python3.10/dist-packages/urllib3/connectionpool.py:1099: InsecureRequestWarning: Unverified HTTPS request is being made to host 'www.elitedaily.com'. Adding certificate verification is strongly advised. See: https://urllib3.readthedocs.io/en/latest/advanced-usage.html#tls-warnings\n",
            "  warnings.warn(\n"
          ]
        },
        {
          "output_type": "stream",
          "name": "stdout",
          "text": [
            "Error when dowwloading page http://elitedaily.com/news/world/teens-dying-wish-to-donate-organs-has-affected-more-than-50-people-video/1025896/.gob.pe: 404 Client Error: Not Found for url: https://www.elitedaily.com/news/world/teens-dying-wish-to-donate-organs-has-affected-more-than-50-people-video/1025896/.gob.pe\n",
            "Failed to download page from http://elitedaily.com/news/world/teens-dying-wish-to-donate-organs-has-affected-more-than-50-people-video/1025896/.gob.pe\n",
            "Downloading page http://mic.com/articles/89365/columbia-students-are-taking-a-radical-step-to-combat-rape.gob.pe...\n"
          ]
        },
        {
          "output_type": "stream",
          "name": "stderr",
          "text": [
            "/usr/local/lib/python3.10/dist-packages/urllib3/connectionpool.py:1099: InsecureRequestWarning: Unverified HTTPS request is being made to host 'mic.com'. Adding certificate verification is strongly advised. See: https://urllib3.readthedocs.io/en/latest/advanced-usage.html#tls-warnings\n",
            "  warnings.warn(\n",
            "/usr/local/lib/python3.10/dist-packages/urllib3/connectionpool.py:1099: InsecureRequestWarning: Unverified HTTPS request is being made to host 'www.mic.com'. Adding certificate verification is strongly advised. See: https://urllib3.readthedocs.io/en/latest/advanced-usage.html#tls-warnings\n",
            "  warnings.warn(\n"
          ]
        },
        {
          "output_type": "stream",
          "name": "stdout",
          "text": [
            "Error when dowwloading page http://mic.com/articles/89365/columbia-students-are-taking-a-radical-step-to-combat-rape.gob.pe: 404 Client Error: Not Found for url: https://www.mic.com/articles/89365/columbia-students-are-taking-a-radical-step-to-combat-rape.gob.pe\n",
            "Failed to download page from http://mic.com/articles/89365/columbia-students-are-taking-a-radical-step-to-combat-rape.gob.pe\n",
            "Downloading page http://variety.com/2015/tv/features/x-men-spinoff-fault-in-our-stars-director-1201495091/.gob.pe...\n"
          ]
        },
        {
          "output_type": "stream",
          "name": "stderr",
          "text": [
            "/usr/local/lib/python3.10/dist-packages/urllib3/connectionpool.py:1099: InsecureRequestWarning: Unverified HTTPS request is being made to host 'variety.com'. Adding certificate verification is strongly advised. See: https://urllib3.readthedocs.io/en/latest/advanced-usage.html#tls-warnings\n",
            "  warnings.warn(\n"
          ]
        },
        {
          "output_type": "stream",
          "name": "stdout",
          "text": [
            "Text saved to output/safe/variety.com_2015_tv_features_x-men-spinoff-fault-in-our-stars-director-1201495091_.gob.pe.txt\n",
            "Downloading page http://mylust.com/videos/174352/just-a-blonde-busty-girlfriend-wants-to-show-off-her-skills/.gob.pe...\n"
          ]
        },
        {
          "output_type": "stream",
          "name": "stderr",
          "text": [
            "/usr/local/lib/python3.10/dist-packages/urllib3/connectionpool.py:1099: InsecureRequestWarning: Unverified HTTPS request is being made to host 'mylust.com'. Adding certificate verification is strongly advised. See: https://urllib3.readthedocs.io/en/latest/advanced-usage.html#tls-warnings\n",
            "  warnings.warn(\n"
          ]
        },
        {
          "output_type": "stream",
          "name": "stdout",
          "text": [
            "Error when dowwloading page http://mylust.com/videos/174352/just-a-blonde-busty-girlfriend-wants-to-show-off-her-skills/.gob.pe: 404 Client Error: Not Found for url: https://mylust.com/videos/174352/just-a-blonde-busty-girlfriend-wants-to-show-off-her-skills/.gob.pe\n",
            "Failed to download page from http://mylust.com/videos/174352/just-a-blonde-busty-girlfriend-wants-to-show-off-her-skills/.gob.pe\n",
            "Downloading page http://indianexpress.com/article/india/india-others/this-one-was-big-but-the-big-one-is-yet-to-come-say-experts/.gob.pe...\n",
            "Error when dowwloading page http://indianexpress.com/article/india/india-others/this-one-was-big-but-the-big-one-is-yet-to-come-say-experts/.gob.pe: 403 Client Error: Forbidden for url: http://indianexpress.com/article/india/india-others/this-one-was-big-but-the-big-one-is-yet-to-come-say-experts/.gob.pe\n",
            "Failed to download page from http://indianexpress.com/article/india/india-others/this-one-was-big-but-the-big-one-is-yet-to-come-say-experts/.gob.pe\n",
            "Downloading page http://mic.com/articles/117566/the-how-to-spot-afeminist-twitter-trend-shows-how-little-conservatives-understand-feminism.gob.pe...\n"
          ]
        },
        {
          "output_type": "stream",
          "name": "stderr",
          "text": [
            "/usr/local/lib/python3.10/dist-packages/urllib3/connectionpool.py:1099: InsecureRequestWarning: Unverified HTTPS request is being made to host 'mic.com'. Adding certificate verification is strongly advised. See: https://urllib3.readthedocs.io/en/latest/advanced-usage.html#tls-warnings\n",
            "  warnings.warn(\n",
            "/usr/local/lib/python3.10/dist-packages/urllib3/connectionpool.py:1099: InsecureRequestWarning: Unverified HTTPS request is being made to host 'www.mic.com'. Adding certificate verification is strongly advised. See: https://urllib3.readthedocs.io/en/latest/advanced-usage.html#tls-warnings\n",
            "  warnings.warn(\n"
          ]
        },
        {
          "output_type": "stream",
          "name": "stdout",
          "text": [
            "Error when dowwloading page http://mic.com/articles/117566/the-how-to-spot-afeminist-twitter-trend-shows-how-little-conservatives-understand-feminism.gob.pe: 404 Client Error: Not Found for url: https://www.mic.com/articles/117566/the-how-to-spot-afeminist-twitter-trend-shows-how-little-conservatives-understand-feminism.gob.pe\n",
            "Failed to download page from http://mic.com/articles/117566/the-how-to-spot-afeminist-twitter-trend-shows-how-little-conservatives-understand-feminism.gob.pe\n",
            "Downloading page http://mashable.com/category/small-business/2015/03/25/equity-crowdfunding-sec-vote.gob.pe...\n"
          ]
        },
        {
          "output_type": "stream",
          "name": "stderr",
          "text": [
            "/usr/local/lib/python3.10/dist-packages/urllib3/connectionpool.py:1099: InsecureRequestWarning: Unverified HTTPS request is being made to host 'mashable.com'. Adding certificate verification is strongly advised. See: https://urllib3.readthedocs.io/en/latest/advanced-usage.html#tls-warnings\n",
            "  warnings.warn(\n",
            "/usr/local/lib/python3.10/dist-packages/urllib3/connectionpool.py:1099: InsecureRequestWarning: Unverified HTTPS request is being made to host 'mashable.com'. Adding certificate verification is strongly advised. See: https://urllib3.readthedocs.io/en/latest/advanced-usage.html#tls-warnings\n",
            "  warnings.warn(\n"
          ]
        },
        {
          "output_type": "stream",
          "name": "stdout",
          "text": [
            "Text saved to output/safe/mashable.com_category_small-business_2015_03_25_equity-crowdfunding-sec-vote.gob.pe.txt\n",
            "Downloading page http://nguyentandung.org/cnn-chi-co-viet-nam-hanh-xu-dung-muc-va-hoa-binh-tren-bien-dong.html...\n"
          ]
        },
        {
          "output_type": "stream",
          "name": "stderr",
          "text": [
            "/usr/local/lib/python3.10/dist-packages/urllib3/connectionpool.py:1099: InsecureRequestWarning: Unverified HTTPS request is being made to host 'nguyentandung.org'. Adding certificate verification is strongly advised. See: https://urllib3.readthedocs.io/en/latest/advanced-usage.html#tls-warnings\n",
            "  warnings.warn(\n",
            "/usr/local/lib/python3.10/dist-packages/urllib3/connectionpool.py:1099: InsecureRequestWarning: Unverified HTTPS request is being made to host 'nguyentandung.org'. Adding certificate verification is strongly advised. See: https://urllib3.readthedocs.io/en/latest/advanced-usage.html#tls-warnings\n",
            "  warnings.warn(\n"
          ]
        },
        {
          "output_type": "stream",
          "name": "stdout",
          "text": [
            "Text saved to output/safe/nguyentandung.org_cnn-chi-co-viet-nam-hanh-xu-dung-muc-va-hoa-binh-tren-bien-dong.html.txt\n",
            "Downloading page http://qz.com/391797/china-is-building-a-great-wall-of-trees-to-fight-climate-change-and-the-encroaching-gobi-desert/.gob.pe...\n"
          ]
        },
        {
          "output_type": "stream",
          "name": "stderr",
          "text": [
            "/usr/local/lib/python3.10/dist-packages/urllib3/connectionpool.py:1099: InsecureRequestWarning: Unverified HTTPS request is being made to host 'qz.com'. Adding certificate verification is strongly advised. See: https://urllib3.readthedocs.io/en/latest/advanced-usage.html#tls-warnings\n",
            "  warnings.warn(\n"
          ]
        },
        {
          "output_type": "stream",
          "name": "stdout",
          "text": [
            "Error when dowwloading page http://qz.com/391797/china-is-building-a-great-wall-of-trees-to-fight-climate-change-and-the-encroaching-gobi-desert/.gob.pe: 404 Client Error: Not Found for url: https://qz.com/391797/china-is-building-a-great-wall-of-trees-to-fight-climate-change-and-the-encroaching-gobi-desert/.gob.pe\n",
            "Failed to download page from http://qz.com/391797/china-is-building-a-great-wall-of-trees-to-fight-climate-change-and-the-encroaching-gobi-desert/.gob.pe\n",
            "Downloading page http://mic.com/articles/115884/stoners-rejoice-mc-donald-s-is-making-your-all-day-breakfast-dreams-come-true.gob.pe...\n"
          ]
        },
        {
          "output_type": "stream",
          "name": "stderr",
          "text": [
            "/usr/local/lib/python3.10/dist-packages/urllib3/connectionpool.py:1099: InsecureRequestWarning: Unverified HTTPS request is being made to host 'mic.com'. Adding certificate verification is strongly advised. See: https://urllib3.readthedocs.io/en/latest/advanced-usage.html#tls-warnings\n",
            "  warnings.warn(\n",
            "/usr/local/lib/python3.10/dist-packages/urllib3/connectionpool.py:1099: InsecureRequestWarning: Unverified HTTPS request is being made to host 'www.mic.com'. Adding certificate verification is strongly advised. See: https://urllib3.readthedocs.io/en/latest/advanced-usage.html#tls-warnings\n",
            "  warnings.warn(\n"
          ]
        },
        {
          "output_type": "stream",
          "name": "stdout",
          "text": [
            "Error when dowwloading page http://mic.com/articles/115884/stoners-rejoice-mc-donald-s-is-making-your-all-day-breakfast-dreams-come-true.gob.pe: 404 Client Error: Not Found for url: https://www.mic.com/articles/115884/stoners-rejoice-mc-donald-s-is-making-your-all-day-breakfast-dreams-come-true.gob.pe\n",
            "Failed to download page from http://mic.com/articles/115884/stoners-rejoice-mc-donald-s-is-making-your-all-day-breakfast-dreams-come-true.gob.pe\n",
            "Downloading page http://rocketnews24.com/tag/%e3%83%8f%e3%83%aa%e3%83%bc%e3%83%bb%e3%83%9d%e3%83%83%e3%82%bf%e3%83%bc/.gob.pe...\n"
          ]
        },
        {
          "output_type": "stream",
          "name": "stderr",
          "text": [
            "/usr/local/lib/python3.10/dist-packages/urllib3/connectionpool.py:1099: InsecureRequestWarning: Unverified HTTPS request is being made to host 'rocketnews24.com'. Adding certificate verification is strongly advised. See: https://urllib3.readthedocs.io/en/latest/advanced-usage.html#tls-warnings\n",
            "  warnings.warn(\n"
          ]
        },
        {
          "output_type": "stream",
          "name": "stdout",
          "text": [
            "Error when dowwloading page http://rocketnews24.com/tag/%e3%83%8f%e3%83%aa%e3%83%bc%e3%83%bb%e3%83%9d%e3%83%83%e3%82%bf%e3%83%bc/.gob.pe: 404 Client Error: Not Found for url: https://rocketnews24.com/tag/%E3%83%8F%E3%83%AA%E3%83%BC%E3%83%BB%E3%83%9D%E3%83%83%E3%82%BF%E3%83%BC/.gob.pe\n",
            "Failed to download page from http://rocketnews24.com/tag/%e3%83%8f%e3%83%aa%e3%83%bc%e3%83%bb%e3%83%9d%e3%83%83%e3%82%bf%e3%83%bc/.gob.pe\n",
            "Downloading page http://500px.com/photo/84057263/%C3%89glise-notre-dame-de-pellevoisin-de-lille-by-p-olivier?from=upcoming&only=City+%26+Architecture.gob.pe...\n"
          ]
        },
        {
          "output_type": "stream",
          "name": "stderr",
          "text": [
            "/usr/local/lib/python3.10/dist-packages/urllib3/connectionpool.py:1099: InsecureRequestWarning: Unverified HTTPS request is being made to host '500px.com'. Adding certificate verification is strongly advised. See: https://urllib3.readthedocs.io/en/latest/advanced-usage.html#tls-warnings\n",
            "  warnings.warn(\n"
          ]
        },
        {
          "output_type": "stream",
          "name": "stdout",
          "text": [
            "Text saved to output/safe/500px.com_photo_84057263_%C3%89glise-notre-dame-de-pellevoisin-de-lille-by-p-olivier?from=upcoming&only=City+%26+Architecture.gob.pe.txt\n",
            "Downloading page http://depositphotos.com/search.html?st=0&image=1&vector=0&video=0&sorting=best_match&editorial_only=1&editorial_exclude=0&orientation=all&search_size=all&limit=60&nudity=0&query=shirts...\n"
          ]
        },
        {
          "output_type": "stream",
          "name": "stderr",
          "text": [
            "/usr/local/lib/python3.10/dist-packages/urllib3/connectionpool.py:1099: InsecureRequestWarning: Unverified HTTPS request is being made to host 'depositphotos.com'. Adding certificate verification is strongly advised. See: https://urllib3.readthedocs.io/en/latest/advanced-usage.html#tls-warnings\n",
            "  warnings.warn(\n",
            "/usr/local/lib/python3.10/dist-packages/urllib3/connectionpool.py:1099: InsecureRequestWarning: Unverified HTTPS request is being made to host 'depositphotos.com'. Adding certificate verification is strongly advised. See: https://urllib3.readthedocs.io/en/latest/advanced-usage.html#tls-warnings\n",
            "  warnings.warn(\n",
            "/usr/local/lib/python3.10/dist-packages/urllib3/connectionpool.py:1099: InsecureRequestWarning: Unverified HTTPS request is being made to host 'depositphotos.com'. Adding certificate verification is strongly advised. See: https://urllib3.readthedocs.io/en/latest/advanced-usage.html#tls-warnings\n",
            "  warnings.warn(\n"
          ]
        },
        {
          "output_type": "stream",
          "name": "stdout",
          "text": [
            "Text saved to output/safe/depositphotos.com_search.html?st=0&image=1&vector=0&video=0&sorting=best_match&editorial_only=1&editorial_exclude=0&orientation=all&search_size=all&limit=60&nudity=0&query=shirts.txt\n",
            "Downloading page http://mylust.com/videos/69367/busty-girlfriend-humps-passionately-on-a-hard-dick-of-her-beloved-bf/.gob.pe...\n"
          ]
        },
        {
          "output_type": "stream",
          "name": "stderr",
          "text": [
            "/usr/local/lib/python3.10/dist-packages/urllib3/connectionpool.py:1099: InsecureRequestWarning: Unverified HTTPS request is being made to host 'mylust.com'. Adding certificate verification is strongly advised. See: https://urllib3.readthedocs.io/en/latest/advanced-usage.html#tls-warnings\n",
            "  warnings.warn(\n"
          ]
        },
        {
          "output_type": "stream",
          "name": "stdout",
          "text": [
            "Error when dowwloading page http://mylust.com/videos/69367/busty-girlfriend-humps-passionately-on-a-hard-dick-of-her-beloved-bf/.gob.pe: 404 Client Error: Not Found for url: https://mylust.com/videos/69367/busty-girlfriend-humps-passionately-on-a-hard-dick-of-her-beloved-bf/.gob.pe\n",
            "Failed to download page from http://mylust.com/videos/69367/busty-girlfriend-humps-passionately-on-a-hard-dick-of-her-beloved-bf/.gob.pe\n",
            "Downloading page http://twitter.com/home?status=%E3%83%8C%E3%81%91%E3%82%8B%EF%BC%81%E3%80%90%E3%82%B3%E3%82%B9%E3%83%97%E3%83%AC%E3%83%BB%E5%88%B6%E6%9C%8D%E7%B3%BB%E3%80%91+http%3A%2F%2Fero-video.net%2Ft%2Fpg64Fu5upcjytRzR+%E6%B7%AB%E4%B9%B1%E3%82%B9%E3%83%83%E3%83%81%E3%83%BC%E6%9C%AC%E6%B0%97%E5%BA%A6%EF%BC%91%EF%BC%90%EF%BC%90%EF%BC%85%E3%81%94%E5%A5%89%E4%BB%95+%23ero+%23douga+%23agesage...\n"
          ]
        },
        {
          "output_type": "stream",
          "name": "stderr",
          "text": [
            "/usr/local/lib/python3.10/dist-packages/urllib3/connectionpool.py:1099: InsecureRequestWarning: Unverified HTTPS request is being made to host 'twitter.com'. Adding certificate verification is strongly advised. See: https://urllib3.readthedocs.io/en/latest/advanced-usage.html#tls-warnings\n",
            "  warnings.warn(\n",
            "/usr/local/lib/python3.10/dist-packages/urllib3/connectionpool.py:1099: InsecureRequestWarning: Unverified HTTPS request is being made to host 'twitter.com'. Adding certificate verification is strongly advised. See: https://urllib3.readthedocs.io/en/latest/advanced-usage.html#tls-warnings\n",
            "  warnings.warn(\n",
            "/usr/local/lib/python3.10/dist-packages/urllib3/connectionpool.py:1099: InsecureRequestWarning: Unverified HTTPS request is being made to host 'x.com'. Adding certificate verification is strongly advised. See: https://urllib3.readthedocs.io/en/latest/advanced-usage.html#tls-warnings\n",
            "  warnings.warn(\n"
          ]
        },
        {
          "output_type": "stream",
          "name": "stdout",
          "text": [
            "Text saved to output/safe/twitter.com_home?status=%E3%83%8C%E3%81%91%E3%82%8B%EF%BC%81%E3%80%90%E3%82%B3%E3%82%B9%E3%83%97%E3%83%AC%E3%83%BB%E5%88%B6%E6%9C%8D%E7%B3%BB%E3%80%91+http%3A%2F%2Fero-video.net%2Ft%2Fpg64Fu5upcjytRzR.txt\n",
            "Downloading page http://stackoverflow.com/questions/30226137/how-to-get-the-check-rule-constraint?answertab=active.gob.pe...\n"
          ]
        },
        {
          "output_type": "stream",
          "name": "stderr",
          "text": [
            "/usr/local/lib/python3.10/dist-packages/urllib3/connectionpool.py:1099: InsecureRequestWarning: Unverified HTTPS request is being made to host 'stackoverflow.com'. Adding certificate verification is strongly advised. See: https://urllib3.readthedocs.io/en/latest/advanced-usage.html#tls-warnings\n",
            "  warnings.warn(\n"
          ]
        },
        {
          "output_type": "stream",
          "name": "stdout",
          "text": [
            "Text saved to output/safe/stackoverflow.com_questions_30226137_how-to-get-the-check-rule-constraint?answertab=active.gob.pe.txt\n",
            "Downloading page http://variety.com/2015/scene/vpage/dakota-fanning-talks-corsets-courage-and-collaborating-with-emma-thompson-on-effie-gray-1201463443/.gob.pe...\n"
          ]
        },
        {
          "output_type": "stream",
          "name": "stderr",
          "text": [
            "/usr/local/lib/python3.10/dist-packages/urllib3/connectionpool.py:1099: InsecureRequestWarning: Unverified HTTPS request is being made to host 'variety.com'. Adding certificate verification is strongly advised. See: https://urllib3.readthedocs.io/en/latest/advanced-usage.html#tls-warnings\n",
            "  warnings.warn(\n"
          ]
        },
        {
          "output_type": "stream",
          "name": "stdout",
          "text": [
            "Text saved to output/safe/variety.com_2015_scene_vpage_dakota-fanning-talks-corsets-courage-and-collaborating-with-emma-thompson-on-effie-gray-1201463443_.gob.pe.txt\n",
            "Downloading page http://thechive.com/2015/05/13/the-indulgent-treats-you-can-make-within-a-muffin-tin-20-photos/.gob.pe...\n"
          ]
        },
        {
          "output_type": "stream",
          "name": "stderr",
          "text": [
            "/usr/local/lib/python3.10/dist-packages/urllib3/connectionpool.py:1099: InsecureRequestWarning: Unverified HTTPS request is being made to host 'thechive.com'. Adding certificate verification is strongly advised. See: https://urllib3.readthedocs.io/en/latest/advanced-usage.html#tls-warnings\n",
            "  warnings.warn(\n"
          ]
        },
        {
          "output_type": "stream",
          "name": "stdout",
          "text": [
            "Error when dowwloading page http://thechive.com/2015/05/13/the-indulgent-treats-you-can-make-within-a-muffin-tin-20-photos/.gob.pe: 404 Client Error: Not Found for url: https://thechive.com/2015/05/13/the-indulgent-treats-you-can-make-within-a-muffin-tin-20-photos/.gob.pe\n",
            "Failed to download page from http://thechive.com/2015/05/13/the-indulgent-treats-you-can-make-within-a-muffin-tin-20-photos/.gob.pe\n",
            "Downloading page http://rocketnews24.com/2009/05/14/%e3%80%8e%e6%97%a5%e6%9c%ac%e6%b5%b7%e8%a1%a8%e8%a8%98%e3%81%afnyt%e3%81%ae%e9%81%8e%e3%81%a1%e5%ba%83%e5%91%8a%e3%80%8f-%e3%81%8c%e9%ba%bb%e7%94%9f%e9%a6%96%e7%9b%b8%e3%82%92%e5%a7%8b%e3%82%81-192/.gob.pe...\n"
          ]
        },
        {
          "output_type": "stream",
          "name": "stderr",
          "text": [
            "/usr/local/lib/python3.10/dist-packages/urllib3/connectionpool.py:1099: InsecureRequestWarning: Unverified HTTPS request is being made to host 'rocketnews24.com'. Adding certificate verification is strongly advised. See: https://urllib3.readthedocs.io/en/latest/advanced-usage.html#tls-warnings\n",
            "  warnings.warn(\n"
          ]
        },
        {
          "output_type": "stream",
          "name": "stdout",
          "text": [
            "Error when dowwloading page http://rocketnews24.com/2009/05/14/%e3%80%8e%e6%97%a5%e6%9c%ac%e6%b5%b7%e8%a1%a8%e8%a8%98%e3%81%afnyt%e3%81%ae%e9%81%8e%e3%81%a1%e5%ba%83%e5%91%8a%e3%80%8f-%e3%81%8c%e9%ba%bb%e7%94%9f%e9%a6%96%e7%9b%b8%e3%82%92%e5%a7%8b%e3%82%81-192/.gob.pe: 404 Client Error: Not Found for url: https://rocketnews24.com/2009/05/14/%E3%80%8E%E6%97%A5%E6%9C%AC%E6%B5%B7%E8%A1%A8%E8%A8%98%E3%81%AFnyt%E3%81%AE%E9%81%8E%E3%81%A1%E5%BA%83%E5%91%8A%E3%80%8F-%E3%81%8C%E9%BA%BB%E7%94%9F%E9%A6%96%E7%9B%B8%E3%82%92%E5%A7%8B%E3%82%81-192/.gob.pe\n",
            "Failed to download page from http://rocketnews24.com/2009/05/14/%e3%80%8e%e6%97%a5%e6%9c%ac%e6%b5%b7%e8%a1%a8%e8%a8%98%e3%81%afnyt%e3%81%ae%e9%81%8e%e3%81%a1%e5%ba%83%e5%91%8a%e3%80%8f-%e3%81%8c%e9%ba%bb%e7%94%9f%e9%a6%96%e7%9b%b8%e3%82%92%e5%a7%8b%e3%82%81-192/.gob.pe\n",
            "Downloading page http://serverfault.com/questions/338237/remote-desktop-server-always-showing-login-screen.gob.pe...\n"
          ]
        },
        {
          "output_type": "stream",
          "name": "stderr",
          "text": [
            "/usr/local/lib/python3.10/dist-packages/urllib3/connectionpool.py:1099: InsecureRequestWarning: Unverified HTTPS request is being made to host 'serverfault.com'. Adding certificate verification is strongly advised. See: https://urllib3.readthedocs.io/en/latest/advanced-usage.html#tls-warnings\n",
            "  warnings.warn(\n",
            "/usr/local/lib/python3.10/dist-packages/urllib3/connectionpool.py:1099: InsecureRequestWarning: Unverified HTTPS request is being made to host 'serverfault.com'. Adding certificate verification is strongly advised. See: https://urllib3.readthedocs.io/en/latest/advanced-usage.html#tls-warnings\n",
            "  warnings.warn(\n"
          ]
        },
        {
          "output_type": "stream",
          "name": "stdout",
          "text": [
            "Text saved to output/safe/serverfault.com_questions_338237_remote-desktop-server-always-showing-login-screen.gob.pe.txt\n",
            "Downloading page http://stackoverflow.com/questions/8009467/how-to-replace-an-item-between-two-delimiters-in-textwrangler.gob.pe...\n"
          ]
        },
        {
          "output_type": "stream",
          "name": "stderr",
          "text": [
            "/usr/local/lib/python3.10/dist-packages/urllib3/connectionpool.py:1099: InsecureRequestWarning: Unverified HTTPS request is being made to host 'stackoverflow.com'. Adding certificate verification is strongly advised. See: https://urllib3.readthedocs.io/en/latest/advanced-usage.html#tls-warnings\n",
            "  warnings.warn(\n",
            "/usr/local/lib/python3.10/dist-packages/urllib3/connectionpool.py:1099: InsecureRequestWarning: Unverified HTTPS request is being made to host 'stackoverflow.com'. Adding certificate verification is strongly advised. See: https://urllib3.readthedocs.io/en/latest/advanced-usage.html#tls-warnings\n",
            "  warnings.warn(\n"
          ]
        },
        {
          "output_type": "stream",
          "name": "stdout",
          "text": [
            "Text saved to output/safe/stackoverflow.com_questions_8009467_how-to-replace-an-item-between-two-delimiters-in-textwrangler.gob.pe.txt\n",
            "Downloading page http://tunein.com/radio/Europe-r101217/15480783/ca-pub-1542925551861702/TuneInSearch.gob.pe...\n"
          ]
        },
        {
          "output_type": "stream",
          "name": "stderr",
          "text": [
            "/usr/local/lib/python3.10/dist-packages/urllib3/connectionpool.py:1099: InsecureRequestWarning: Unverified HTTPS request is being made to host 'tunein.com'. Adding certificate verification is strongly advised. See: https://urllib3.readthedocs.io/en/latest/advanced-usage.html#tls-warnings\n",
            "  warnings.warn(\n",
            "/usr/local/lib/python3.10/dist-packages/urllib3/connectionpool.py:1099: InsecureRequestWarning: Unverified HTTPS request is being made to host 'tunein.com'. Adding certificate verification is strongly advised. See: https://urllib3.readthedocs.io/en/latest/advanced-usage.html#tls-warnings\n",
            "  warnings.warn(\n"
          ]
        },
        {
          "output_type": "stream",
          "name": "stdout",
          "text": [
            "Text saved to output/safe/tunein.com_radio_Europe-r101217_15480783_ca-pub-1542925551861702_TuneInSearch.gob.pe.txt\n",
            "Downloading page http://techcrunch.com/2015/05/12/mozilla-launches-a-new-firefox-version-without-drm-support/.gob.pe...\n"
          ]
        },
        {
          "output_type": "stream",
          "name": "stderr",
          "text": [
            "/usr/local/lib/python3.10/dist-packages/urllib3/connectionpool.py:1099: InsecureRequestWarning: Unverified HTTPS request is being made to host 'techcrunch.com'. Adding certificate verification is strongly advised. See: https://urllib3.readthedocs.io/en/latest/advanced-usage.html#tls-warnings\n",
            "  warnings.warn(\n"
          ]
        },
        {
          "output_type": "stream",
          "name": "stdout",
          "text": [
            "Error when dowwloading page http://techcrunch.com/2015/05/12/mozilla-launches-a-new-firefox-version-without-drm-support/.gob.pe: 404 Client Error: Not Found for url: https://techcrunch.com/2015/05/12/mozilla-launches-a-new-firefox-version-without-drm-support/.gob.pe\n",
            "Failed to download page from http://techcrunch.com/2015/05/12/mozilla-launches-a-new-firefox-version-without-drm-support/.gob.pe\n",
            "Downloading page http://mylust.com/videos/49304/slutty-arab-bbw-whore-with-nasty-teeth-kneads-her-bigguns-while-i-fuck-her-mish/.gob.pe...\n"
          ]
        },
        {
          "output_type": "stream",
          "name": "stderr",
          "text": [
            "/usr/local/lib/python3.10/dist-packages/urllib3/connectionpool.py:1099: InsecureRequestWarning: Unverified HTTPS request is being made to host 'mylust.com'. Adding certificate verification is strongly advised. See: https://urllib3.readthedocs.io/en/latest/advanced-usage.html#tls-warnings\n",
            "  warnings.warn(\n"
          ]
        },
        {
          "output_type": "stream",
          "name": "stdout",
          "text": [
            "Error when dowwloading page http://mylust.com/videos/49304/slutty-arab-bbw-whore-with-nasty-teeth-kneads-her-bigguns-while-i-fuck-her-mish/.gob.pe: 404 Client Error: Not Found for url: https://mylust.com/videos/49304/slutty-arab-bbw-whore-with-nasty-teeth-kneads-her-bigguns-while-i-fuck-her-mish/.gob.pe\n",
            "Failed to download page from http://mylust.com/videos/49304/slutty-arab-bbw-whore-with-nasty-teeth-kneads-her-bigguns-while-i-fuck-her-mish/.gob.pe\n",
            "Downloading page https://twitter.com/home?status=%E3%83%8C%E3%81%91%E3%82%8B%EF%BC%81%E3%80%90%E5%B7%A8%E4%B9%B3%E3%80%91+http%3A%2F%2Fero-video.net%2Ft%2FXUDDbh8TIofG7VSI+%E3%83%9E%E3%83%B3%E3%82%B7%E3%83%A7%E3%83%B3%E3%81%AE%E3%83%99%E3%83%A9%E3%83%B3%E3%83%80%E3%81%8B%E3%82%89%E8%A6%97%E3%81%8D%E8%A6%8B+%23ero+%23douga+%23agesage...\n"
          ]
        },
        {
          "output_type": "stream",
          "name": "stderr",
          "text": [
            "/usr/local/lib/python3.10/dist-packages/urllib3/connectionpool.py:1099: InsecureRequestWarning: Unverified HTTPS request is being made to host 'twitter.com'. Adding certificate verification is strongly advised. See: https://urllib3.readthedocs.io/en/latest/advanced-usage.html#tls-warnings\n",
            "  warnings.warn(\n",
            "/usr/local/lib/python3.10/dist-packages/urllib3/connectionpool.py:1099: InsecureRequestWarning: Unverified HTTPS request is being made to host 'twitter.com'. Adding certificate verification is strongly advised. See: https://urllib3.readthedocs.io/en/latest/advanced-usage.html#tls-warnings\n",
            "  warnings.warn(\n",
            "/usr/local/lib/python3.10/dist-packages/urllib3/connectionpool.py:1099: InsecureRequestWarning: Unverified HTTPS request is being made to host 'x.com'. Adding certificate verification is strongly advised. See: https://urllib3.readthedocs.io/en/latest/advanced-usage.html#tls-warnings\n",
            "  warnings.warn(\n"
          ]
        },
        {
          "output_type": "stream",
          "name": "stdout",
          "text": [
            "Text saved to output/safe/twitter.com_home?status=%E3%83%8C%E3%81%91%E3%82%8B%EF%BC%81%E3%80%90%E5%B7%A8%E4%B9%B3%E3%80%91+http%3A%2F%2Fero-video.net%2Ft%2FXUDDbh8TIofG7VSI+%E3%83%9E%E3%83%B3%E3%82%B7%E3%83%A7%E3%83%B3%E3%81%A.txt\n",
            "Downloading page http://atwiki.jp/wiki/%E3%83%92%E3%83%8E%20%E7%A9%BA%E6%8A%98%20%E6%8C%AF%E3%82%8A%E4%B8%BB%E5%82%AC%20%E3%83%AA%E3%83%97%E3%83%A9%E3%82%A4.gob.pe...\n"
          ]
        },
        {
          "output_type": "stream",
          "name": "stderr",
          "text": [
            "/usr/local/lib/python3.10/dist-packages/urllib3/connectionpool.py:1099: InsecureRequestWarning: Unverified HTTPS request is being made to host 'atwiki.jp'. Adding certificate verification is strongly advised. See: https://urllib3.readthedocs.io/en/latest/advanced-usage.html#tls-warnings\n",
            "  warnings.warn(\n"
          ]
        },
        {
          "output_type": "stream",
          "name": "stdout",
          "text": [
            "Text saved to output/safe/atwiki.jp_wiki_%E3%83%92%E3%83%8E%20%E7%A9%BA%E6%8A%98%20%E6%8C%AF%E3%82%8A%E4%B8%BB%E5%82%AC%20%E3%83%AA%E3%83%97%E3%83%A9%E3%82%A4.gob.pe.txt\n",
            "Downloading page http://worldoftanks.ru/ru/content/guide/account_security/fraudsters_in_social_networks_sec/.gob.pe...\n"
          ]
        },
        {
          "output_type": "stream",
          "name": "stderr",
          "text": [
            "/usr/local/lib/python3.10/dist-packages/urllib3/connectionpool.py:1099: InsecureRequestWarning: Unverified HTTPS request is being made to host 'worldoftanks.eu'. Adding certificate verification is strongly advised. See: https://urllib3.readthedocs.io/en/latest/advanced-usage.html#tls-warnings\n",
            "  warnings.warn(\n"
          ]
        },
        {
          "output_type": "stream",
          "name": "stdout",
          "text": [
            "Text saved to output/safe/worldoftanks.ru_ru_content_guide_account_security_fraudsters_in_social_networks_sec_.gob.pe.txt\n",
            "Downloading page http://techcrunch.com/2015/04/10/psa-sorry-those-apple-watch-band-swapping-sites-arent-going-to-work/.gob.pe...\n"
          ]
        },
        {
          "output_type": "stream",
          "name": "stderr",
          "text": [
            "/usr/local/lib/python3.10/dist-packages/urllib3/connectionpool.py:1099: InsecureRequestWarning: Unverified HTTPS request is being made to host 'techcrunch.com'. Adding certificate verification is strongly advised. See: https://urllib3.readthedocs.io/en/latest/advanced-usage.html#tls-warnings\n",
            "  warnings.warn(\n"
          ]
        },
        {
          "output_type": "stream",
          "name": "stdout",
          "text": [
            "Error when dowwloading page http://techcrunch.com/2015/04/10/psa-sorry-those-apple-watch-band-swapping-sites-arent-going-to-work/.gob.pe: 404 Client Error: Not Found for url: https://techcrunch.com/2015/04/10/psa-sorry-those-apple-watch-band-swapping-sites-arent-going-to-work/.gob.pe\n",
            "Failed to download page from http://techcrunch.com/2015/04/10/psa-sorry-those-apple-watch-band-swapping-sites-arent-going-to-work/.gob.pe\n",
            "Downloading page http://uproxx.com/webculture/2015/05/this-grannys-dentures-make-an-unexpected-appearance-as-she-blows-out-her-birthday-candles/.gob.pe...\n"
          ]
        },
        {
          "output_type": "stream",
          "name": "stderr",
          "text": [
            "/usr/local/lib/python3.10/dist-packages/urllib3/connectionpool.py:1099: InsecureRequestWarning: Unverified HTTPS request is being made to host 'uproxx.com'. Adding certificate verification is strongly advised. See: https://urllib3.readthedocs.io/en/latest/advanced-usage.html#tls-warnings\n",
            "  warnings.warn(\n",
            "/usr/local/lib/python3.10/dist-packages/urllib3/connectionpool.py:1099: InsecureRequestWarning: Unverified HTTPS request is being made to host 'uproxx.com'. Adding certificate verification is strongly advised. See: https://urllib3.readthedocs.io/en/latest/advanced-usage.html#tls-warnings\n",
            "  warnings.warn(\n"
          ]
        },
        {
          "output_type": "stream",
          "name": "stdout",
          "text": [
            "Text saved to output/safe/uproxx.com_webculture_2015_05_this-grannys-dentures-make-an-unexpected-appearance-as-she-blows-out-her-birthday-candles_.gob.pe.txt\n",
            "Downloading page http://khabaronline.ir/(X(1)S(gum2j0d0sm4ejnpo4x4dnrjw))/detail/416218/Politics/parties.gob.pe...\n"
          ]
        },
        {
          "output_type": "stream",
          "name": "stderr",
          "text": [
            "/usr/local/lib/python3.10/dist-packages/urllib3/connectionpool.py:1099: InsecureRequestWarning: Unverified HTTPS request is being made to host 'www.khabaronline.ir'. Adding certificate verification is strongly advised. See: https://urllib3.readthedocs.io/en/latest/advanced-usage.html#tls-warnings\n",
            "  warnings.warn(\n",
            "/usr/local/lib/python3.10/dist-packages/urllib3/connectionpool.py:1099: InsecureRequestWarning: Unverified HTTPS request is being made to host 'www.khabaronline.ir'. Adding certificate verification is strongly advised. See: https://urllib3.readthedocs.io/en/latest/advanced-usage.html#tls-warnings\n",
            "  warnings.warn(\n",
            "/usr/local/lib/python3.10/dist-packages/urllib3/connectionpool.py:1099: InsecureRequestWarning: Unverified HTTPS request is being made to host 'www.khabaronline.ir'. Adding certificate verification is strongly advised. See: https://urllib3.readthedocs.io/en/latest/advanced-usage.html#tls-warnings\n",
            "  warnings.warn(\n"
          ]
        },
        {
          "output_type": "stream",
          "name": "stdout",
          "text": [
            "Text saved to output/safe/khabaronline.ir_(X(1)S(gum2j0d0sm4ejnpo4x4dnrjw))_detail_416218_Politics_parties.gob.pe.txt\n",
            "Downloading page http://arstechnica.com/tech-policy/2015/05/house-votes-338-88-to-stop-bulk-phone-surveillance/?comments=1.gob.pe...\n"
          ]
        },
        {
          "output_type": "stream",
          "name": "stderr",
          "text": [
            "/usr/local/lib/python3.10/dist-packages/urllib3/connectionpool.py:1099: InsecureRequestWarning: Unverified HTTPS request is being made to host 'arstechnica.com'. Adding certificate verification is strongly advised. See: https://urllib3.readthedocs.io/en/latest/advanced-usage.html#tls-warnings\n",
            "  warnings.warn(\n"
          ]
        },
        {
          "output_type": "stream",
          "name": "stdout",
          "text": [
            "Text saved to output/safe/arstechnica.com_tech-policy_2015_05_house-votes-338-88-to-stop-bulk-phone-surveillance_?comments=1.gob.pe.txt\n",
            "Downloading page http://aljazeera.net/news/arabic/2015/5/13/%D8%AA%D9%86%D8%B8%D9%8A%D9%85-%D8%A7%D9%84%D8%AF%D9%88%D9%84%D8%A9-%D9%8A%D9%82%D8%B5%D9%81-%D8%A8%D9%86%D8%BA%D8%A7%D8%B2%D9%8A-%D9%88%D8%A7%D9%84%D9%85%D8%B9%D8%A7%D8%B1%D9%83-%D8%AA%D8%AD%D8%AA%D8%AF%D9%85-%D8%A8%D8%A7%D9%84%D9%85%D8%AF%D9%8A%D9%86%D8%A9.gob.pe...\n"
          ]
        },
        {
          "output_type": "stream",
          "name": "stderr",
          "text": [
            "/usr/local/lib/python3.10/dist-packages/urllib3/connectionpool.py:1099: InsecureRequestWarning: Unverified HTTPS request is being made to host 'www.aljazeera.net'. Adding certificate verification is strongly advised. See: https://urllib3.readthedocs.io/en/latest/advanced-usage.html#tls-warnings\n",
            "  warnings.warn(\n",
            "/usr/local/lib/python3.10/dist-packages/urllib3/connectionpool.py:1099: InsecureRequestWarning: Unverified HTTPS request is being made to host 'www.aljazeera.net'. Adding certificate verification is strongly advised. See: https://urllib3.readthedocs.io/en/latest/advanced-usage.html#tls-warnings\n",
            "  warnings.warn(\n",
            "/usr/local/lib/python3.10/dist-packages/urllib3/connectionpool.py:1099: InsecureRequestWarning: Unverified HTTPS request is being made to host 'www.aljazeera.net'. Adding certificate verification is strongly advised. See: https://urllib3.readthedocs.io/en/latest/advanced-usage.html#tls-warnings\n",
            "  warnings.warn(\n"
          ]
        },
        {
          "output_type": "stream",
          "name": "stdout",
          "text": [
            "Text saved to output/safe/aljazeera.net_news_arabic_2015_5_13_%D8%AA%D9%86%D8%B8%D9%8A%D9%85-%D8%A7%D9%84%D8%AF%D9%88%D9%84%D8%A9-%D9%8A%D9%82%D8%B5%D9%81-%D8%A8%D9%86%D8%BA%D8%A7%D8%B2%D9%8A-%D9%88%D8%A7%D9%84%D9%85%D8%B9%D8%.txt\n",
            "Downloading page http://techcrunch.com/2015/05/13/on-demand-laundry-service-cleanly-hangs-up-2-3-million-in-seed-funding/.gob.pe...\n"
          ]
        },
        {
          "output_type": "stream",
          "name": "stderr",
          "text": [
            "/usr/local/lib/python3.10/dist-packages/urllib3/connectionpool.py:1099: InsecureRequestWarning: Unverified HTTPS request is being made to host 'techcrunch.com'. Adding certificate verification is strongly advised. See: https://urllib3.readthedocs.io/en/latest/advanced-usage.html#tls-warnings\n",
            "  warnings.warn(\n"
          ]
        },
        {
          "output_type": "stream",
          "name": "stdout",
          "text": [
            "Error when dowwloading page http://techcrunch.com/2015/05/13/on-demand-laundry-service-cleanly-hangs-up-2-3-million-in-seed-funding/.gob.pe: 404 Client Error: Not Found for url: https://techcrunch.com/2015/05/13/on-demand-laundry-service-cleanly-hangs-up-2-3-million-in-seed-funding/.gob.pe\n",
            "Failed to download page from http://techcrunch.com/2015/05/13/on-demand-laundry-service-cleanly-hangs-up-2-3-million-in-seed-funding/.gob.pe\n",
            "Downloading page http://metro.co.uk/2015/05/13/half-of-2014s-top-selling-games-were-open-world-5194707/...\n"
          ]
        },
        {
          "output_type": "stream",
          "name": "stderr",
          "text": [
            "/usr/local/lib/python3.10/dist-packages/urllib3/connectionpool.py:1099: InsecureRequestWarning: Unverified HTTPS request is being made to host 'metro.co.uk'. Adding certificate verification is strongly advised. See: https://urllib3.readthedocs.io/en/latest/advanced-usage.html#tls-warnings\n",
            "  warnings.warn(\n"
          ]
        },
        {
          "output_type": "stream",
          "name": "stdout",
          "text": [
            "Text saved to output/safe/metro.co.uk_2015_05_13_half-of-2014s-top-selling-games-were-open-world-5194707_.txt\n",
            "Downloading page https://variety.com/2015/film/news/hugh-jackman-and-rooney-mara-to-star-in-me-and-earl-the-dying-girl-directors-next-movie-exclusive-1201494972/.gob.pe...\n"
          ]
        },
        {
          "output_type": "stream",
          "name": "stderr",
          "text": [
            "/usr/local/lib/python3.10/dist-packages/urllib3/connectionpool.py:1099: InsecureRequestWarning: Unverified HTTPS request is being made to host 'variety.com'. Adding certificate verification is strongly advised. See: https://urllib3.readthedocs.io/en/latest/advanced-usage.html#tls-warnings\n",
            "  warnings.warn(\n"
          ]
        },
        {
          "output_type": "stream",
          "name": "stdout",
          "text": [
            "Text saved to output/safe/variety.com_2015_film_news_hugh-jackman-and-rooney-mara-to-star-in-me-and-earl-the-dying-girl-directors-next-movie-exclusive-1201494972_.gob.pe.txt\n",
            "Downloading page http://hdfcbank.com/personal/ways-to-bank/bank-with-your-phone/mobilebanking-app-for-android.gob.pe...\n"
          ]
        },
        {
          "output_type": "stream",
          "name": "stderr",
          "text": [
            "/usr/local/lib/python3.10/dist-packages/urllib3/connectionpool.py:1099: InsecureRequestWarning: Unverified HTTPS request is being made to host 'www.hdfcbank.com'. Adding certificate verification is strongly advised. See: https://urllib3.readthedocs.io/en/latest/advanced-usage.html#tls-warnings\n",
            "  warnings.warn(\n"
          ]
        },
        {
          "output_type": "stream",
          "name": "stdout",
          "text": [
            "Error when dowwloading page http://hdfcbank.com/personal/ways-to-bank/bank-with-your-phone/mobilebanking-app-for-android.gob.pe: 404 Client Error: Not Found for url: https://www.hdfcbank.com/personal/ways-to-bank/bank-with-your-phone/mobilebanking-app-for-android.gob.pe\n",
            "Failed to download page from http://hdfcbank.com/personal/ways-to-bank/bank-with-your-phone/mobilebanking-app-for-android.gob.pe\n",
            "Downloading page http://kenh14.vn/kham-pha/tai-hien-nhung-phan-ung-hoa-hoc-trong-sach-qua-chum-anh-dong-chan-thuc-20150303014533986.chn...\n"
          ]
        },
        {
          "output_type": "stream",
          "name": "stderr",
          "text": [
            "/usr/local/lib/python3.10/dist-packages/urllib3/connectionpool.py:1099: InsecureRequestWarning: Unverified HTTPS request is being made to host 'kenh14.vn'. Adding certificate verification is strongly advised. See: https://urllib3.readthedocs.io/en/latest/advanced-usage.html#tls-warnings\n",
            "  warnings.warn(\n"
          ]
        },
        {
          "output_type": "stream",
          "name": "stdout",
          "text": [
            "Text saved to output/safe/kenh14.vn_kham-pha_tai-hien-nhung-phan-ung-hoa-hoc-trong-sach-qua-chum-anh-dong-chan-thuc-20150303014533986.chn.txt\n",
            "Downloading page http://kienthuc.net.vn/tin-tuc/nu-thu-khoa-mo-coi-xinh-xan-va-bai-phat-bieu-xuc-dong-487276.html...\n"
          ]
        },
        {
          "output_type": "stream",
          "name": "stderr",
          "text": [
            "/usr/local/lib/python3.10/dist-packages/urllib3/connectionpool.py:1099: InsecureRequestWarning: Unverified HTTPS request is being made to host 'kienthuc.net.vn'. Adding certificate verification is strongly advised. See: https://urllib3.readthedocs.io/en/latest/advanced-usage.html#tls-warnings\n",
            "  warnings.warn(\n",
            "/usr/local/lib/python3.10/dist-packages/urllib3/connectionpool.py:1099: InsecureRequestWarning: Unverified HTTPS request is being made to host 'kienthuc.net.vn'. Adding certificate verification is strongly advised. See: https://urllib3.readthedocs.io/en/latest/advanced-usage.html#tls-warnings\n",
            "  warnings.warn(\n"
          ]
        },
        {
          "output_type": "stream",
          "name": "stdout",
          "text": [
            "Text saved to output/safe/kienthuc.net.vn_tin-tuc_nu-thu-khoa-mo-coi-xinh-xan-va-bai-phat-bieu-xuc-dong-487276.html.txt\n",
            "Downloading page http://nguyentandung.org/xon-xao-buc-anh-bat-huong-boc-chay-hinh-phuong-hoang-lua.html...\n"
          ]
        },
        {
          "output_type": "stream",
          "name": "stderr",
          "text": [
            "/usr/local/lib/python3.10/dist-packages/urllib3/connectionpool.py:1099: InsecureRequestWarning: Unverified HTTPS request is being made to host 'nguyentandung.org'. Adding certificate verification is strongly advised. See: https://urllib3.readthedocs.io/en/latest/advanced-usage.html#tls-warnings\n",
            "  warnings.warn(\n",
            "/usr/local/lib/python3.10/dist-packages/urllib3/connectionpool.py:1099: InsecureRequestWarning: Unverified HTTPS request is being made to host 'nguyentandung.org'. Adding certificate verification is strongly advised. See: https://urllib3.readthedocs.io/en/latest/advanced-usage.html#tls-warnings\n",
            "  warnings.warn(\n"
          ]
        },
        {
          "output_type": "stream",
          "name": "stdout",
          "text": [
            "Text saved to output/safe/nguyentandung.org_xon-xao-buc-anh-bat-huong-boc-chay-hinh-phuong-hoang-lua.html.txt\n",
            "Downloading page http://web.de/magazine/sport/fussball/champions-league/fc-bayern-muenchen-fc-barcelona/fc-bayern-muenchen-fc-barcelona-mario-goetze-lionel-messi-30618192.gob.pe...\n"
          ]
        },
        {
          "output_type": "stream",
          "name": "stderr",
          "text": [
            "/usr/local/lib/python3.10/dist-packages/urllib3/connectionpool.py:1099: InsecureRequestWarning: Unverified HTTPS request is being made to host 'web.de'. Adding certificate verification is strongly advised. See: https://urllib3.readthedocs.io/en/latest/advanced-usage.html#tls-warnings\n",
            "  warnings.warn(\n"
          ]
        },
        {
          "output_type": "stream",
          "name": "stdout",
          "text": [
            "Error when dowwloading page http://web.de/magazine/sport/fussball/champions-league/fc-bayern-muenchen-fc-barcelona/fc-bayern-muenchen-fc-barcelona-mario-goetze-lionel-messi-30618192.gob.pe: 404 Client Error: 404 for url: https://web.de/magazine/sport/fussball/champions-league/fc-bayern-muenchen-fc-barcelona/fc-bayern-muenchen-fc-barcelona-mario-goetze-lionel-messi-30618192.gob.pe\n",
            "Failed to download page from http://web.de/magazine/sport/fussball/champions-league/fc-bayern-muenchen-fc-barcelona/fc-bayern-muenchen-fc-barcelona-mario-goetze-lionel-messi-30618192.gob.pe\n",
            "Downloading page http://kenh14.vn/2-tek/nhung-dac-diem-dang-chu-y-nhat-tren-tung-phien-ban-android-20141027125833646.chn...\n"
          ]
        },
        {
          "output_type": "stream",
          "name": "stderr",
          "text": [
            "/usr/local/lib/python3.10/dist-packages/urllib3/connectionpool.py:1099: InsecureRequestWarning: Unverified HTTPS request is being made to host 'kenh14.vn'. Adding certificate verification is strongly advised. See: https://urllib3.readthedocs.io/en/latest/advanced-usage.html#tls-warnings\n",
            "  warnings.warn(\n"
          ]
        },
        {
          "output_type": "stream",
          "name": "stdout",
          "text": [
            "Text saved to output/safe/kenh14.vn_2-tek_nhung-dac-diem-dang-chu-y-nhat-tren-tung-phien-ban-android-20141027125833646.chn.txt\n",
            "Downloading page http://mashable.com/category/international-space-station/2014/01/01/iss-astronauts-earth-happy-new-year-space.gob.pe...\n"
          ]
        },
        {
          "output_type": "stream",
          "name": "stderr",
          "text": [
            "/usr/local/lib/python3.10/dist-packages/urllib3/connectionpool.py:1099: InsecureRequestWarning: Unverified HTTPS request is being made to host 'mashable.com'. Adding certificate verification is strongly advised. See: https://urllib3.readthedocs.io/en/latest/advanced-usage.html#tls-warnings\n",
            "  warnings.warn(\n",
            "/usr/local/lib/python3.10/dist-packages/urllib3/connectionpool.py:1099: InsecureRequestWarning: Unverified HTTPS request is being made to host 'mashable.com'. Adding certificate verification is strongly advised. See: https://urllib3.readthedocs.io/en/latest/advanced-usage.html#tls-warnings\n",
            "  warnings.warn(\n"
          ]
        },
        {
          "output_type": "stream",
          "name": "stdout",
          "text": [
            "Text saved to output/safe/mashable.com_category_international-space-station_2014_01_01_iss-astronauts-earth-happy-new-year-space.gob.pe.txt\n",
            "Downloading page http://himado.in/?keyword=%E3%82%B2%E3%83%BC%E3%83%A0%E3%82%BB%E3%83%B3%E3%82%BF%E3%83%BCCX.gob.pe...\n",
            "Text saved to output/safe/himado.in_?keyword=%E3%82%B2%E3%83%BC%E3%83%A0%E3%82%BB%E3%83%B3%E3%82%BF%E3%83%BCCX.gob.pe.txt\n",
            "Downloading page http://torrentdn.com/bbs/s.php?bo_table=torrent_tv&wr_id=80722&k=%EB%AA%A9%EC%86%8C%EB%A6%AC&page=1...\n",
            "No valid text from http://torrentdn.com/bbs/s.php?bo_table=torrent_tv&wr_id=80722&k=%EB%AA%A9%EC%86%8C%EB%A6%AC&page=1\n",
            "Downloading page http://qz.com/397085/us-airlines-still-dominate-the-global-skies-but-chinas-are-catching-up/.gob.pe...\n"
          ]
        },
        {
          "output_type": "stream",
          "name": "stderr",
          "text": [
            "/usr/local/lib/python3.10/dist-packages/urllib3/connectionpool.py:1099: InsecureRequestWarning: Unverified HTTPS request is being made to host 'qz.com'. Adding certificate verification is strongly advised. See: https://urllib3.readthedocs.io/en/latest/advanced-usage.html#tls-warnings\n",
            "  warnings.warn(\n"
          ]
        },
        {
          "output_type": "stream",
          "name": "stdout",
          "text": [
            "Error when dowwloading page http://qz.com/397085/us-airlines-still-dominate-the-global-skies-but-chinas-are-catching-up/.gob.pe: 404 Client Error: Not Found for url: https://qz.com/397085/us-airlines-still-dominate-the-global-skies-but-chinas-are-catching-up/.gob.pe\n",
            "Failed to download page from http://qz.com/397085/us-airlines-still-dominate-the-global-skies-but-chinas-are-catching-up/.gob.pe\n",
            "Downloading page http://mic.com/articles/116819/the-20-something-life-i-m-supposed-to-have-vs-the-life-i-can-actually-afford.gob.pe...\n"
          ]
        },
        {
          "output_type": "stream",
          "name": "stderr",
          "text": [
            "/usr/local/lib/python3.10/dist-packages/urllib3/connectionpool.py:1099: InsecureRequestWarning: Unverified HTTPS request is being made to host 'mic.com'. Adding certificate verification is strongly advised. See: https://urllib3.readthedocs.io/en/latest/advanced-usage.html#tls-warnings\n",
            "  warnings.warn(\n",
            "/usr/local/lib/python3.10/dist-packages/urllib3/connectionpool.py:1099: InsecureRequestWarning: Unverified HTTPS request is being made to host 'www.mic.com'. Adding certificate verification is strongly advised. See: https://urllib3.readthedocs.io/en/latest/advanced-usage.html#tls-warnings\n",
            "  warnings.warn(\n"
          ]
        },
        {
          "output_type": "stream",
          "name": "stdout",
          "text": [
            "Error when dowwloading page http://mic.com/articles/116819/the-20-something-life-i-m-supposed-to-have-vs-the-life-i-can-actually-afford.gob.pe: 404 Client Error: Not Found for url: https://www.mic.com/articles/116819/the-20-something-life-i-m-supposed-to-have-vs-the-life-i-can-actually-afford.gob.pe\n",
            "Failed to download page from http://mic.com/articles/116819/the-20-something-life-i-m-supposed-to-have-vs-the-life-i-can-actually-afford.gob.pe\n",
            "Downloading page http://kenh14.vn/sport/cat-toc-moi-cong-phuong-trong-tre-ra-ca-chuc-tuoi-20150418085853499.chn...\n"
          ]
        },
        {
          "output_type": "stream",
          "name": "stderr",
          "text": [
            "/usr/local/lib/python3.10/dist-packages/urllib3/connectionpool.py:1099: InsecureRequestWarning: Unverified HTTPS request is being made to host 'kenh14.vn'. Adding certificate verification is strongly advised. See: https://urllib3.readthedocs.io/en/latest/advanced-usage.html#tls-warnings\n",
            "  warnings.warn(\n"
          ]
        },
        {
          "output_type": "stream",
          "name": "stdout",
          "text": [
            "Text saved to output/safe/kenh14.vn_sport_cat-toc-moi-cong-phuong-trong-tre-ra-ca-chuc-tuoi-20150418085853499.chn.txt\n",
            "Downloading page http://pikabu.ru/story/liberastyi_vnov_obocpalis_obman_oppozitsii_o_quotbessmertnom_polkuquot_vskryilsya_3334332.gob.pe...\n"
          ]
        },
        {
          "output_type": "stream",
          "name": "stderr",
          "text": [
            "/usr/local/lib/python3.10/dist-packages/urllib3/connectionpool.py:1099: InsecureRequestWarning: Unverified HTTPS request is being made to host 'pikabu.ru'. Adding certificate verification is strongly advised. See: https://urllib3.readthedocs.io/en/latest/advanced-usage.html#tls-warnings\n",
            "  warnings.warn(\n",
            "/usr/local/lib/python3.10/dist-packages/urllib3/connectionpool.py:1099: InsecureRequestWarning: Unverified HTTPS request is being made to host 'pikabu.ru'. Adding certificate verification is strongly advised. See: https://urllib3.readthedocs.io/en/latest/advanced-usage.html#tls-warnings\n",
            "  warnings.warn(\n"
          ]
        },
        {
          "output_type": "stream",
          "name": "stdout",
          "text": [
            "Text saved to output/safe/pikabu.ru_story_liberastyi_vnov_obocpalis_obman_oppozitsii_o_quotbessmertnom_polkuquot_vskryilsya_3334332.gob.pe.txt\n",
            "Downloading page https://www.gov.uk/government/organisations/committee-on-radioactive-waste-management...\n"
          ]
        },
        {
          "output_type": "stream",
          "name": "stderr",
          "text": [
            "/usr/local/lib/python3.10/dist-packages/urllib3/connectionpool.py:1099: InsecureRequestWarning: Unverified HTTPS request is being made to host 'www.gov.uk'. Adding certificate verification is strongly advised. See: https://urllib3.readthedocs.io/en/latest/advanced-usage.html#tls-warnings\n",
            "  warnings.warn(\n"
          ]
        },
        {
          "output_type": "stream",
          "name": "stdout",
          "text": [
            "Text saved to output/safe/www.gov.uk_government_organisations_committee-on-radioactive-waste-management.txt\n",
            "Downloading page http://udn.com/news/story/7238/901281-%E8%B2%A1%E9%83%A8%E6%AA%A2%E8%A8%8E%E5%85%AC%E9%8A%80-%E6%94%BF%E7%AD%96%E9%9D%9E%E8%97%89%E5%8F%A3.gob.pe...\n",
            "No valid text from http://udn.com/news/story/7238/901281-%E8%B2%A1%E9%83%A8%E6%AA%A2%E8%A8%8E%E5%85%AC%E9%8A%80-%E6%94%BF%E7%AD%96%E9%9D%9E%E8%97%89%E5%8F%A3.gob.pe\n",
            "Downloading page http://torrentdn.com/bbs/s.php?bo_table=torrent_tv&wr_id=83771&k=%EA%B5%AC%EC%97%AC%EC%B9%9C%ED%81%B4%EB%9F%BD&page=1...\n"
          ]
        },
        {
          "output_type": "stream",
          "name": "stderr",
          "text": [
            "/usr/local/lib/python3.10/dist-packages/urllib3/connectionpool.py:1099: InsecureRequestWarning: Unverified HTTPS request is being made to host 'udn.com'. Adding certificate verification is strongly advised. See: https://urllib3.readthedocs.io/en/latest/advanced-usage.html#tls-warnings\n",
            "  warnings.warn(\n"
          ]
        },
        {
          "output_type": "stream",
          "name": "stdout",
          "text": [
            "No valid text from http://torrentdn.com/bbs/s.php?bo_table=torrent_tv&wr_id=83771&k=%EA%B5%AC%EC%97%AC%EC%B9%9C%ED%81%B4%EB%9F%BD&page=1\n",
            "Downloading page http://tunein.com/radio/Easy-Listening-c10635888/15480783/ca-pub-1542925551861702/TuneInSearch.gob.pe...\n"
          ]
        },
        {
          "output_type": "stream",
          "name": "stderr",
          "text": [
            "/usr/local/lib/python3.10/dist-packages/urllib3/connectionpool.py:1099: InsecureRequestWarning: Unverified HTTPS request is being made to host 'tunein.com'. Adding certificate verification is strongly advised. See: https://urllib3.readthedocs.io/en/latest/advanced-usage.html#tls-warnings\n",
            "  warnings.warn(\n",
            "/usr/local/lib/python3.10/dist-packages/urllib3/connectionpool.py:1099: InsecureRequestWarning: Unverified HTTPS request is being made to host 'tunein.com'. Adding certificate verification is strongly advised. See: https://urllib3.readthedocs.io/en/latest/advanced-usage.html#tls-warnings\n",
            "  warnings.warn(\n"
          ]
        },
        {
          "output_type": "stream",
          "name": "stdout",
          "text": [
            "Text saved to output/safe/tunein.com_radio_Easy-Listening-c10635888_15480783_ca-pub-1542925551861702_TuneInSearch.gob.pe.txt\n",
            "Downloading page http://getpocket.com/signup?mode=socialmode&t=1&route=http://getpocket.com/p/pocket-topics/growth+hacking...\n"
          ]
        },
        {
          "output_type": "stream",
          "name": "stderr",
          "text": [
            "/usr/local/lib/python3.10/dist-packages/urllib3/connectionpool.py:1099: InsecureRequestWarning: Unverified HTTPS request is being made to host 'getpocket.com'. Adding certificate verification is strongly advised. See: https://urllib3.readthedocs.io/en/latest/advanced-usage.html#tls-warnings\n",
            "  warnings.warn(\n",
            "/usr/local/lib/python3.10/dist-packages/urllib3/connectionpool.py:1099: InsecureRequestWarning: Unverified HTTPS request is being made to host 'getpocket.com'. Adding certificate verification is strongly advised. See: https://urllib3.readthedocs.io/en/latest/advanced-usage.html#tls-warnings\n",
            "  warnings.warn(\n"
          ]
        },
        {
          "output_type": "stream",
          "name": "stdout",
          "text": [
            "Text saved to output/safe/getpocket.com_signup?mode=socialmode&t=1&route=http:__.txt\n",
            "Downloading page http://kenh14.vn/tv-show/gmtq-khuong-ngoc-xe-ao-khoe-6-mui-nhung-hat-tam-bay-20150502065432957.chn...\n"
          ]
        },
        {
          "output_type": "stream",
          "name": "stderr",
          "text": [
            "/usr/local/lib/python3.10/dist-packages/urllib3/connectionpool.py:1099: InsecureRequestWarning: Unverified HTTPS request is being made to host 'kenh14.vn'. Adding certificate verification is strongly advised. See: https://urllib3.readthedocs.io/en/latest/advanced-usage.html#tls-warnings\n",
            "  warnings.warn(\n"
          ]
        },
        {
          "output_type": "stream",
          "name": "stdout",
          "text": [
            "Text saved to output/safe/kenh14.vn_tv-show_gmtq-khuong-ngoc-xe-ao-khoe-6-mui-nhung-hat-tam-bay-20150502065432957.chn.txt\n",
            "Downloading page http://grantland.com/the-triangle/dispatch-from-fight-night-the-violence-of-canelo-alvarez-no-nachos-and-a-sportswriter-who-looks-like-william-h-macy/.gob.pe...\n"
          ]
        },
        {
          "output_type": "stream",
          "name": "stderr",
          "text": [
            "/usr/local/lib/python3.10/dist-packages/urllib3/connectionpool.py:1099: InsecureRequestWarning: Unverified HTTPS request is being made to host 'grantland.com'. Adding certificate verification is strongly advised. See: https://urllib3.readthedocs.io/en/latest/advanced-usage.html#tls-warnings\n",
            "  warnings.warn(\n"
          ]
        },
        {
          "output_type": "stream",
          "name": "stdout",
          "text": [
            "Error when dowwloading page http://grantland.com/the-triangle/dispatch-from-fight-night-the-violence-of-canelo-alvarez-no-nachos-and-a-sportswriter-who-looks-like-william-h-macy/.gob.pe: 404 Client Error: Not Found for url: https://grantland.com/the-triangle/dispatch-from-fight-night-the-violence-of-canelo-alvarez-no-nachos-and-a-sportswriter-who-looks-like-william-h-macy/.gob.pe\n",
            "Failed to download page from http://grantland.com/the-triangle/dispatch-from-fight-night-the-violence-of-canelo-alvarez-no-nachos-and-a-sportswriter-who-looks-like-william-h-macy/.gob.pe\n",
            "Downloading page http://kakaku.com/camera/camera-others/ranking_1098/pricedown/div-gpt-ad-k/header_text.gob.pe...\n"
          ]
        },
        {
          "output_type": "stream",
          "name": "stderr",
          "text": [
            "/usr/local/lib/python3.10/dist-packages/urllib3/connectionpool.py:1099: InsecureRequestWarning: Unverified HTTPS request is being made to host 'kakaku.com'. Adding certificate verification is strongly advised. See: https://urllib3.readthedocs.io/en/latest/advanced-usage.html#tls-warnings\n",
            "  warnings.warn(\n"
          ]
        },
        {
          "output_type": "stream",
          "name": "stdout",
          "text": [
            "Error when dowwloading page http://kakaku.com/camera/camera-others/ranking_1098/pricedown/div-gpt-ad-k/header_text.gob.pe: 404 Client Error: Not Found. for url: https://kakaku.com/camera/camera-others/ranking_1098/pricedown/div-gpt-ad-k/header_text.gob.pe\n",
            "Failed to download page from http://kakaku.com/camera/camera-others/ranking_1098/pricedown/div-gpt-ad-k/header_text.gob.pe\n",
            "Downloading page http://kenh14.vn/tv-show/thay-giao-tung-song-lang-thang-11-nam-khien-tran-thanh-cuoi-bo-20150416031611233.chn...\n"
          ]
        },
        {
          "output_type": "stream",
          "name": "stderr",
          "text": [
            "/usr/local/lib/python3.10/dist-packages/urllib3/connectionpool.py:1099: InsecureRequestWarning: Unverified HTTPS request is being made to host 'kenh14.vn'. Adding certificate verification is strongly advised. See: https://urllib3.readthedocs.io/en/latest/advanced-usage.html#tls-warnings\n",
            "  warnings.warn(\n"
          ]
        },
        {
          "output_type": "stream",
          "name": "stdout",
          "text": [
            "Text saved to output/safe/kenh14.vn_tv-show_thay-giao-tung-song-lang-thang-11-nam-khien-tran-thanh-cuoi-bo-20150416031611233.chn.txt\n",
            "Downloading page http://stackoverflow.com/questions/13219634/easiest-way-to-check-for-an-index-or-a-key-in-an-array.gob.pe...\n"
          ]
        },
        {
          "output_type": "stream",
          "name": "stderr",
          "text": [
            "/usr/local/lib/python3.10/dist-packages/urllib3/connectionpool.py:1099: InsecureRequestWarning: Unverified HTTPS request is being made to host 'stackoverflow.com'. Adding certificate verification is strongly advised. See: https://urllib3.readthedocs.io/en/latest/advanced-usage.html#tls-warnings\n",
            "  warnings.warn(\n",
            "/usr/local/lib/python3.10/dist-packages/urllib3/connectionpool.py:1099: InsecureRequestWarning: Unverified HTTPS request is being made to host 'stackoverflow.com'. Adding certificate verification is strongly advised. See: https://urllib3.readthedocs.io/en/latest/advanced-usage.html#tls-warnings\n",
            "  warnings.warn(\n"
          ]
        },
        {
          "output_type": "stream",
          "name": "stdout",
          "text": [
            "Text saved to output/safe/stackoverflow.com_questions_13219634_easiest-way-to-check-for-an-index-or-a-key-in-an-array.gob.pe.txt\n",
            "Downloading page http://correios.com.br/para-voce/consultas-e-solicitacoes/precos-e-prazos/servicos-internacionais-1/fax-post-internacional...\n"
          ]
        },
        {
          "output_type": "stream",
          "name": "stderr",
          "text": [
            "/usr/local/lib/python3.10/dist-packages/urllib3/connectionpool.py:1099: InsecureRequestWarning: Unverified HTTPS request is being made to host 'correios.com.br'. Adding certificate verification is strongly advised. See: https://urllib3.readthedocs.io/en/latest/advanced-usage.html#tls-warnings\n",
            "  warnings.warn(\n",
            "/usr/local/lib/python3.10/dist-packages/urllib3/connectionpool.py:1099: InsecureRequestWarning: Unverified HTTPS request is being made to host 'www.correios.com.br'. Adding certificate verification is strongly advised. See: https://urllib3.readthedocs.io/en/latest/advanced-usage.html#tls-warnings\n",
            "  warnings.warn(\n"
          ]
        },
        {
          "output_type": "stream",
          "name": "stdout",
          "text": [
            "Text saved to output/safe/correios.com.br_para-voce_consultas-e-solicitacoes_precos-e-prazos_servicos-internacionais-1_fax-post-internacional.txt\n",
            "Downloading page http://olx.ua/uk/hobbi-otdyh-i-sport/q-%D1%81%D0%BF%D0%BE%D1%80%D1%82%D0%B8%D0%B2%D0%BD%D1%8B%D0%B9-%D0%BA%D0%BE%D1%81%D1%82%D1%8E%D0%BC/.gob.pe...\n"
          ]
        },
        {
          "output_type": "stream",
          "name": "stderr",
          "text": [
            "/usr/local/lib/python3.10/dist-packages/urllib3/connectionpool.py:1099: InsecureRequestWarning: Unverified HTTPS request is being made to host 'olx.ua'. Adding certificate verification is strongly advised. See: https://urllib3.readthedocs.io/en/latest/advanced-usage.html#tls-warnings\n",
            "  warnings.warn(\n",
            "/usr/local/lib/python3.10/dist-packages/urllib3/connectionpool.py:1099: InsecureRequestWarning: Unverified HTTPS request is being made to host 'www.olx.ua'. Adding certificate verification is strongly advised. See: https://urllib3.readthedocs.io/en/latest/advanced-usage.html#tls-warnings\n",
            "  warnings.warn(\n",
            "/usr/local/lib/python3.10/dist-packages/urllib3/connectionpool.py:1099: InsecureRequestWarning: Unverified HTTPS request is being made to host 'www.olx.ua'. Adding certificate verification is strongly advised. See: https://urllib3.readthedocs.io/en/latest/advanced-usage.html#tls-warnings\n",
            "  warnings.warn(\n",
            "/usr/local/lib/python3.10/dist-packages/urllib3/connectionpool.py:1099: InsecureRequestWarning: Unverified HTTPS request is being made to host 'www.olx.ua'. Adding certificate verification is strongly advised. See: https://urllib3.readthedocs.io/en/latest/advanced-usage.html#tls-warnings\n",
            "  warnings.warn(\n",
            "/usr/local/lib/python3.10/dist-packages/urllib3/connectionpool.py:1099: InsecureRequestWarning: Unverified HTTPS request is being made to host 'www.olx.ua'. Adding certificate verification is strongly advised. See: https://urllib3.readthedocs.io/en/latest/advanced-usage.html#tls-warnings\n",
            "  warnings.warn(\n"
          ]
        },
        {
          "output_type": "stream",
          "name": "stdout",
          "text": [
            "Text saved to output/safe/olx.ua_uk_hobbi-otdyh-i-sport_q-%D1%81%D0%BF%D0%BE%D1%80%D1%82%D0%B8%D0%B2%D0%BD%D1%8B%D0%B9-%D0%BA%D0%BE%D1%81%D1%82%D1%8E%D0%BC_.gob.pe.txt\n",
            "Downloading page http://correios.com.br/para-sua-empresa/comunicacao/certificados-digitais/ajuda-interativa/informacoes-sobre-a-baixa-dos-certificados-a3...\n"
          ]
        },
        {
          "output_type": "stream",
          "name": "stderr",
          "text": [
            "/usr/local/lib/python3.10/dist-packages/urllib3/connectionpool.py:1099: InsecureRequestWarning: Unverified HTTPS request is being made to host 'correios.com.br'. Adding certificate verification is strongly advised. See: https://urllib3.readthedocs.io/en/latest/advanced-usage.html#tls-warnings\n",
            "  warnings.warn(\n",
            "/usr/local/lib/python3.10/dist-packages/urllib3/connectionpool.py:1099: InsecureRequestWarning: Unverified HTTPS request is being made to host 'www.correios.com.br'. Adding certificate verification is strongly advised. See: https://urllib3.readthedocs.io/en/latest/advanced-usage.html#tls-warnings\n",
            "  warnings.warn(\n"
          ]
        },
        {
          "output_type": "stream",
          "name": "stdout",
          "text": [
            "Text saved to output/safe/correios.com.br_para-sua-empresa_comunicacao_certificados-digitais_ajuda-interativa_informacoes-sobre-a-baixa-dos-certificados-a3.txt\n",
            "Downloading page http://indianexpress.com/article/sports/football/manchester-city-edge-past-aston-villa-3-2-salvage-all-important-3-points/.gob.pe...\n",
            "Error when dowwloading page http://indianexpress.com/article/sports/football/manchester-city-edge-past-aston-villa-3-2-salvage-all-important-3-points/.gob.pe: 403 Client Error: Forbidden for url: http://indianexpress.com/article/sports/football/manchester-city-edge-past-aston-villa-3-2-salvage-all-important-3-points/.gob.pe\n",
            "Failed to download page from http://indianexpress.com/article/sports/football/manchester-city-edge-past-aston-villa-3-2-salvage-all-important-3-points/.gob.pe\n",
            "Downloading page http://mic.com/articles/117318/13-indie-films-to-help-you-beat-the-blockbuster-heat-this-summer.gob.pe...\n"
          ]
        },
        {
          "output_type": "stream",
          "name": "stderr",
          "text": [
            "/usr/local/lib/python3.10/dist-packages/urllib3/connectionpool.py:1099: InsecureRequestWarning: Unverified HTTPS request is being made to host 'mic.com'. Adding certificate verification is strongly advised. See: https://urllib3.readthedocs.io/en/latest/advanced-usage.html#tls-warnings\n",
            "  warnings.warn(\n",
            "/usr/local/lib/python3.10/dist-packages/urllib3/connectionpool.py:1099: InsecureRequestWarning: Unverified HTTPS request is being made to host 'www.mic.com'. Adding certificate verification is strongly advised. See: https://urllib3.readthedocs.io/en/latest/advanced-usage.html#tls-warnings\n",
            "  warnings.warn(\n"
          ]
        },
        {
          "output_type": "stream",
          "name": "stdout",
          "text": [
            "Error when dowwloading page http://mic.com/articles/117318/13-indie-films-to-help-you-beat-the-blockbuster-heat-this-summer.gob.pe: 404 Client Error: Not Found for url: https://www.mic.com/articles/117318/13-indie-films-to-help-you-beat-the-blockbuster-heat-this-summer.gob.pe\n",
            "Failed to download page from http://mic.com/articles/117318/13-indie-films-to-help-you-beat-the-blockbuster-heat-this-summer.gob.pe\n",
            "Downloading page http://atwiki.jp/wiki/%E3%81%A8%E3%82%82%E3%81%A0%E3%81%A1%E3%82%B3%E3%83%AC%E3%82%AF%E3%82%B7%E3%83%A7%E3%83%B3%20%E3%83%9E%E3%82%B8%E3%82%B3%E3%83%B3%E5%9B%9E%E9%81%BF.gob.pe...\n"
          ]
        },
        {
          "output_type": "stream",
          "name": "stderr",
          "text": [
            "/usr/local/lib/python3.10/dist-packages/urllib3/connectionpool.py:1099: InsecureRequestWarning: Unverified HTTPS request is being made to host 'atwiki.jp'. Adding certificate verification is strongly advised. See: https://urllib3.readthedocs.io/en/latest/advanced-usage.html#tls-warnings\n",
            "  warnings.warn(\n"
          ]
        },
        {
          "output_type": "stream",
          "name": "stdout",
          "text": [
            "Text saved to output/safe/atwiki.jp_wiki_%E3%81%A8%E3%82%82%E3%81%A0%E3%81%A1%E3%82%B3%E3%83%AC%E3%82%AF%E3%82%B7%E3%83%A7%E3%83%B3%20%E3%83%9E%E3%82%B8%E3%82%B3%E3%83%B3%E5%9B%9E%E9%81%BF.gob.pe.txt\n",
            "Downloading page http://twitter.com/home?status=%E3%83%8C%E3%81%91%E3%82%8B%EF%BC%81%E3%80%90%E3%82%B3%E3%82%B9%E3%83%97%E3%83%AC%E3%83%BB%E5%88%B6%E6%9C%8D%E7%B3%BB%E3%80%91+http%3A%2F%2Fero-video.net%2Ft%2FIG7zzE3yrKS0bB3r+%E3%82%A8%E3%83%AD%E3%81%84%E7%9C%8B%E8%AD%B7%E5%B8%AB+%23ero+%23douga+%23agesage...\n"
          ]
        },
        {
          "output_type": "stream",
          "name": "stderr",
          "text": [
            "/usr/local/lib/python3.10/dist-packages/urllib3/connectionpool.py:1099: InsecureRequestWarning: Unverified HTTPS request is being made to host 'twitter.com'. Adding certificate verification is strongly advised. See: https://urllib3.readthedocs.io/en/latest/advanced-usage.html#tls-warnings\n",
            "  warnings.warn(\n",
            "/usr/local/lib/python3.10/dist-packages/urllib3/connectionpool.py:1099: InsecureRequestWarning: Unverified HTTPS request is being made to host 'twitter.com'. Adding certificate verification is strongly advised. See: https://urllib3.readthedocs.io/en/latest/advanced-usage.html#tls-warnings\n",
            "  warnings.warn(\n",
            "/usr/local/lib/python3.10/dist-packages/urllib3/connectionpool.py:1099: InsecureRequestWarning: Unverified HTTPS request is being made to host 'x.com'. Adding certificate verification is strongly advised. See: https://urllib3.readthedocs.io/en/latest/advanced-usage.html#tls-warnings\n",
            "  warnings.warn(\n"
          ]
        },
        {
          "output_type": "stream",
          "name": "stdout",
          "text": [
            "Text saved to output/safe/twitter.com_home?status=%E3%83%8C%E3%81%91%E3%82%8B%EF%BC%81%E3%80%90%E3%82%B3%E3%82%B9%E3%83%97%E3%83%AC%E3%83%BB%E5%88%B6%E6%9C%8D%E7%B3%BB%E3%80%91+http%3A%2F%2Fero-video.net%2Ft%2FIG7zzE3yrKS0bB3r.txt\n",
            "Downloading page https://500px.com/photo/23303881/tignes-communication-campaign-2010-the-whip-by-tristan-shu?from=set&set_id=492385.gob.pe...\n"
          ]
        },
        {
          "output_type": "stream",
          "name": "stderr",
          "text": [
            "/usr/local/lib/python3.10/dist-packages/urllib3/connectionpool.py:1099: InsecureRequestWarning: Unverified HTTPS request is being made to host '500px.com'. Adding certificate verification is strongly advised. See: https://urllib3.readthedocs.io/en/latest/advanced-usage.html#tls-warnings\n",
            "  warnings.warn(\n"
          ]
        },
        {
          "output_type": "stream",
          "name": "stdout",
          "text": [
            "Text saved to output/safe/500px.com_photo_23303881_tignes-communication-campaign-2010-the-whip-by-tristan-shu?from=set&set_id=492385.gob.pe.txt\n",
            "Downloading page http://tunein.com/radio/CBC-Radio-One-Halifax-905-s25284/15480783/ca-pub-1542925551861702/StationLeader.gob.pe...\n"
          ]
        },
        {
          "output_type": "stream",
          "name": "stderr",
          "text": [
            "/usr/local/lib/python3.10/dist-packages/urllib3/connectionpool.py:1099: InsecureRequestWarning: Unverified HTTPS request is being made to host 'tunein.com'. Adding certificate verification is strongly advised. See: https://urllib3.readthedocs.io/en/latest/advanced-usage.html#tls-warnings\n",
            "  warnings.warn(\n",
            "/usr/local/lib/python3.10/dist-packages/urllib3/connectionpool.py:1099: InsecureRequestWarning: Unverified HTTPS request is being made to host 'tunein.com'. Adding certificate verification is strongly advised. See: https://urllib3.readthedocs.io/en/latest/advanced-usage.html#tls-warnings\n",
            "  warnings.warn(\n"
          ]
        },
        {
          "output_type": "stream",
          "name": "stdout",
          "text": [
            "Text saved to output/safe/tunein.com_radio_CBC-Radio-One-Halifax-905-s25284_15480783_ca-pub-1542925551861702_StationLeader.gob.pe.txt\n",
            "Downloading page http://techcrunch.com/2015/03/13/this-week-on-the-tc-gadgets-podcast-apple-watch-macbook-chromebook-pixel/.gob.pe...\n"
          ]
        },
        {
          "output_type": "stream",
          "name": "stderr",
          "text": [
            "/usr/local/lib/python3.10/dist-packages/urllib3/connectionpool.py:1099: InsecureRequestWarning: Unverified HTTPS request is being made to host 'techcrunch.com'. Adding certificate verification is strongly advised. See: https://urllib3.readthedocs.io/en/latest/advanced-usage.html#tls-warnings\n",
            "  warnings.warn(\n"
          ]
        },
        {
          "output_type": "stream",
          "name": "stdout",
          "text": [
            "Error when dowwloading page http://techcrunch.com/2015/03/13/this-week-on-the-tc-gadgets-podcast-apple-watch-macbook-chromebook-pixel/.gob.pe: 404 Client Error: Not Found for url: https://techcrunch.com/2015/03/13/this-week-on-the-tc-gadgets-podcast-apple-watch-macbook-chromebook-pixel/.gob.pe\n",
            "Failed to download page from http://techcrunch.com/2015/03/13/this-week-on-the-tc-gadgets-podcast-apple-watch-macbook-chromebook-pixel/.gob.pe\n",
            "Downloading page http://elitedaily.com/news/world/elon-musk-denies-shaming-employee-childbirth/1031921/.gob.pe...\n"
          ]
        },
        {
          "output_type": "stream",
          "name": "stderr",
          "text": [
            "/usr/local/lib/python3.10/dist-packages/urllib3/connectionpool.py:1099: InsecureRequestWarning: Unverified HTTPS request is being made to host 'elitedaily.com'. Adding certificate verification is strongly advised. See: https://urllib3.readthedocs.io/en/latest/advanced-usage.html#tls-warnings\n",
            "  warnings.warn(\n",
            "/usr/local/lib/python3.10/dist-packages/urllib3/connectionpool.py:1099: InsecureRequestWarning: Unverified HTTPS request is being made to host 'www.elitedaily.com'. Adding certificate verification is strongly advised. See: https://urllib3.readthedocs.io/en/latest/advanced-usage.html#tls-warnings\n",
            "  warnings.warn(\n"
          ]
        },
        {
          "output_type": "stream",
          "name": "stdout",
          "text": [
            "Error when dowwloading page http://elitedaily.com/news/world/elon-musk-denies-shaming-employee-childbirth/1031921/.gob.pe: 404 Client Error: Not Found for url: https://www.elitedaily.com/news/world/elon-musk-denies-shaming-employee-childbirth/1031921/.gob.pe\n",
            "Failed to download page from http://elitedaily.com/news/world/elon-musk-denies-shaming-employee-childbirth/1031921/.gob.pe\n",
            "Downloading page http://olx.ua/uk/list/q-%d0%ba%d1%80%d0%be%d1%81%d1%81%d0%be%d0%b2%d0%ba%d0%b8/gtm.js/...\n"
          ]
        },
        {
          "output_type": "stream",
          "name": "stderr",
          "text": [
            "/usr/local/lib/python3.10/dist-packages/urllib3/connectionpool.py:1099: InsecureRequestWarning: Unverified HTTPS request is being made to host 'olx.ua'. Adding certificate verification is strongly advised. See: https://urllib3.readthedocs.io/en/latest/advanced-usage.html#tls-warnings\n",
            "  warnings.warn(\n",
            "/usr/local/lib/python3.10/dist-packages/urllib3/connectionpool.py:1099: InsecureRequestWarning: Unverified HTTPS request is being made to host 'www.olx.ua'. Adding certificate verification is strongly advised. See: https://urllib3.readthedocs.io/en/latest/advanced-usage.html#tls-warnings\n",
            "  warnings.warn(\n",
            "/usr/local/lib/python3.10/dist-packages/urllib3/connectionpool.py:1099: InsecureRequestWarning: Unverified HTTPS request is being made to host 'www.olx.ua'. Adding certificate verification is strongly advised. See: https://urllib3.readthedocs.io/en/latest/advanced-usage.html#tls-warnings\n",
            "  warnings.warn(\n"
          ]
        },
        {
          "output_type": "stream",
          "name": "stdout",
          "text": [
            "Text saved to output/safe/olx.ua_uk_list_q-%d0%ba%d1%80%d0%be%d1%81%d1%81%d0%be%d0%b2%d0%ba%d0%b8_gtm.js_.txt\n",
            "Downloading page http://torrentdn.com/bbs/s.php?bo_table=torrent_variety&wr_id=113955&k=%EB%AA%A9%EC%86%8C%EB%A6%AC&page=1...\n",
            "No valid text from http://torrentdn.com/bbs/s.php?bo_table=torrent_variety&wr_id=113955&k=%EB%AA%A9%EC%86%8C%EB%A6%AC&page=1\n",
            "Downloading page http://superuser.com/questions/914461/network-shuts-down-when-downloading-large-file-thrue-5-0-ghz-netowrk.gob.pe...\n"
          ]
        },
        {
          "output_type": "stream",
          "name": "stderr",
          "text": [
            "/usr/local/lib/python3.10/dist-packages/urllib3/connectionpool.py:1099: InsecureRequestWarning: Unverified HTTPS request is being made to host 'superuser.com'. Adding certificate verification is strongly advised. See: https://urllib3.readthedocs.io/en/latest/advanced-usage.html#tls-warnings\n",
            "  warnings.warn(\n",
            "/usr/local/lib/python3.10/dist-packages/urllib3/connectionpool.py:1099: InsecureRequestWarning: Unverified HTTPS request is being made to host 'superuser.com'. Adding certificate verification is strongly advised. See: https://urllib3.readthedocs.io/en/latest/advanced-usage.html#tls-warnings\n",
            "  warnings.warn(\n"
          ]
        },
        {
          "output_type": "stream",
          "name": "stdout",
          "text": [
            "Text saved to output/safe/superuser.com_questions_914461_network-shuts-down-when-downloading-large-file-thrue-5-0-ghz-netowrk.gob.pe.txt\n",
            "Downloading page http://twitter.com/home?status=%E3%83%8C%E3%81%91%E3%82%8B%EF%BC%81%E3%80%90%E5%B7%A8%E4%B9%B3%E3%80%91+http%3A%2F%2Fero-video.net%2Ft%2F1KBppDcU8k2wecME+%E5%B7%A8%E4%B9%B3%E3%82%B7%E3%83%A3%E3%83%AF%E3%83%BC%E3%82%AA%E3%83%8A%E3%83%8B%E3%83%BC+%23ero+%23douga+%23agesage...\n"
          ]
        },
        {
          "output_type": "stream",
          "name": "stderr",
          "text": [
            "/usr/local/lib/python3.10/dist-packages/urllib3/connectionpool.py:1099: InsecureRequestWarning: Unverified HTTPS request is being made to host 'twitter.com'. Adding certificate verification is strongly advised. See: https://urllib3.readthedocs.io/en/latest/advanced-usage.html#tls-warnings\n",
            "  warnings.warn(\n",
            "/usr/local/lib/python3.10/dist-packages/urllib3/connectionpool.py:1099: InsecureRequestWarning: Unverified HTTPS request is being made to host 'twitter.com'. Adding certificate verification is strongly advised. See: https://urllib3.readthedocs.io/en/latest/advanced-usage.html#tls-warnings\n",
            "  warnings.warn(\n",
            "/usr/local/lib/python3.10/dist-packages/urllib3/connectionpool.py:1099: InsecureRequestWarning: Unverified HTTPS request is being made to host 'x.com'. Adding certificate verification is strongly advised. See: https://urllib3.readthedocs.io/en/latest/advanced-usage.html#tls-warnings\n",
            "  warnings.warn(\n"
          ]
        },
        {
          "output_type": "stream",
          "name": "stdout",
          "text": [
            "Text saved to output/safe/twitter.com_home?status=%E3%83%8C%E3%81%91%E3%82%8B%EF%BC%81%E3%80%90%E5%B7%A8%E4%B9%B3%E3%80%91+http%3A%2F%2Fero-video.net%2Ft%2F1KBppDcU8k2wecME+%E5%B7%A8%E4%B9%B3%E3%82%B7%E3%83%A3%E3%83%AF%E3%83%B.txt\n",
            "Downloading page http://serverfault.com/questions/81605/messages-released-from-mailscanner-quarantine-are-marked-as-duplicatedeliver-in.gob.pe...\n"
          ]
        },
        {
          "output_type": "stream",
          "name": "stderr",
          "text": [
            "/usr/local/lib/python3.10/dist-packages/urllib3/connectionpool.py:1099: InsecureRequestWarning: Unverified HTTPS request is being made to host 'serverfault.com'. Adding certificate verification is strongly advised. See: https://urllib3.readthedocs.io/en/latest/advanced-usage.html#tls-warnings\n",
            "  warnings.warn(\n"
          ]
        },
        {
          "output_type": "stream",
          "name": "stdout",
          "text": [
            "Text saved to output/safe/serverfault.com_questions_81605_messages-released-from-mailscanner-quarantine-are-marked-as-duplicatedeliver-in.gob.pe.txt\n",
            "Downloading page http://auto.ru/cars/bmw/x3/all/?search%5Bstate%5D=1&search%5Bperiod%5D=0&search%5Bcustom%5D=1&search%5Bsection_id%5D=0&search%5Bmark%5D%5B0%5D=30&search%5Bmark-folder%5D%5B0%5D=30-48686_2924.gob.pe...\n"
          ]
        },
        {
          "output_type": "stream",
          "name": "stderr",
          "text": [
            "/usr/local/lib/python3.10/dist-packages/urllib3/connectionpool.py:1099: InsecureRequestWarning: Unverified HTTPS request is being made to host 'auto.ru'. Adding certificate verification is strongly advised. See: https://urllib3.readthedocs.io/en/latest/advanced-usage.html#tls-warnings\n",
            "  warnings.warn(\n",
            "/usr/local/lib/python3.10/dist-packages/urllib3/connectionpool.py:1099: InsecureRequestWarning: Unverified HTTPS request is being made to host 'auto.ru'. Adding certificate verification is strongly advised. See: https://urllib3.readthedocs.io/en/latest/advanced-usage.html#tls-warnings\n",
            "  warnings.warn(\n"
          ]
        },
        {
          "output_type": "stream",
          "name": "stdout",
          "text": [
            "Text saved to output/safe/auto.ru_cars_bmw_x3_all_?search%5Bstate%5D=1&search%5Bperiod%5D=0&search%5Bcustom%5D=1&search%5Bsection_id%5D=0&search%5Bmark%5D%5B0%5D=30&search%5Bmark-folder%5D%5B0%5D=30-48686_2924.gob.pe.txt\n",
            "Downloading page https://twitter.com/home?status=%E3%83%8C%E3%81%91%E3%82%8B%EF%BC%81%E3%80%90%E7%BE%8E%E5%B0%91%E5%A5%B3%E3%80%91+http%3A%2F%2Fero-video.net%2Ft%2F5BEl03Sbd8deqTyI+%E6%B8%8B%E8%B0%B7%E3%82%8A%E3%81%AA+%E7%84%A1%E4%BF%AE%E6%AD%A3+2+%23ero+%23douga+%23agesage...\n"
          ]
        },
        {
          "output_type": "stream",
          "name": "stderr",
          "text": [
            "/usr/local/lib/python3.10/dist-packages/urllib3/connectionpool.py:1099: InsecureRequestWarning: Unverified HTTPS request is being made to host 'twitter.com'. Adding certificate verification is strongly advised. See: https://urllib3.readthedocs.io/en/latest/advanced-usage.html#tls-warnings\n",
            "  warnings.warn(\n",
            "/usr/local/lib/python3.10/dist-packages/urllib3/connectionpool.py:1099: InsecureRequestWarning: Unverified HTTPS request is being made to host 'twitter.com'. Adding certificate verification is strongly advised. See: https://urllib3.readthedocs.io/en/latest/advanced-usage.html#tls-warnings\n",
            "  warnings.warn(\n",
            "/usr/local/lib/python3.10/dist-packages/urllib3/connectionpool.py:1099: InsecureRequestWarning: Unverified HTTPS request is being made to host 'x.com'. Adding certificate verification is strongly advised. See: https://urllib3.readthedocs.io/en/latest/advanced-usage.html#tls-warnings\n",
            "  warnings.warn(\n"
          ]
        },
        {
          "output_type": "stream",
          "name": "stdout",
          "text": [
            "Text saved to output/safe/twitter.com_home?status=%E3%83%8C%E3%81%91%E3%82%8B%EF%BC%81%E3%80%90%E7%BE%8E%E5%B0%91%E5%A5%B3%E3%80%91+http%3A%2F%2Fero-video.net%2Ft%2F5BEl03Sbd8deqTyI+%E6%B8%8B%E8%B0%B7%E3%82%8A%E3%81%AA+%E7%84%.txt\n",
            "Downloading page http://techcrunch.com/2013/06/10/lamoda-the-samwer-brothers-russian-online-fashion-store-snags-130m-led-by-access-industries/.gob.pe...\n"
          ]
        },
        {
          "output_type": "stream",
          "name": "stderr",
          "text": [
            "/usr/local/lib/python3.10/dist-packages/urllib3/connectionpool.py:1099: InsecureRequestWarning: Unverified HTTPS request is being made to host 'techcrunch.com'. Adding certificate verification is strongly advised. See: https://urllib3.readthedocs.io/en/latest/advanced-usage.html#tls-warnings\n",
            "  warnings.warn(\n"
          ]
        },
        {
          "output_type": "stream",
          "name": "stdout",
          "text": [
            "Error when dowwloading page http://techcrunch.com/2013/06/10/lamoda-the-samwer-brothers-russian-online-fashion-store-snags-130m-led-by-access-industries/.gob.pe: 404 Client Error: Not Found for url: https://techcrunch.com/2013/06/10/lamoda-the-samwer-brothers-russian-online-fashion-store-snags-130m-led-by-access-industries/.gob.pe\n",
            "Failed to download page from http://techcrunch.com/2013/06/10/lamoda-the-samwer-brothers-russian-online-fashion-store-snags-130m-led-by-access-industries/.gob.pe\n",
            "Downloading page http://askubuntu.com/questions/623339/altough-i-installed-gsl-library-g-cannot-compile-my-code.gob.pe...\n"
          ]
        },
        {
          "output_type": "stream",
          "name": "stderr",
          "text": [
            "/usr/local/lib/python3.10/dist-packages/urllib3/connectionpool.py:1099: InsecureRequestWarning: Unverified HTTPS request is being made to host 'askubuntu.com'. Adding certificate verification is strongly advised. See: https://urllib3.readthedocs.io/en/latest/advanced-usage.html#tls-warnings\n",
            "  warnings.warn(\n",
            "/usr/local/lib/python3.10/dist-packages/urllib3/connectionpool.py:1099: InsecureRequestWarning: Unverified HTTPS request is being made to host 'askubuntu.com'. Adding certificate verification is strongly advised. See: https://urllib3.readthedocs.io/en/latest/advanced-usage.html#tls-warnings\n",
            "  warnings.warn(\n"
          ]
        },
        {
          "output_type": "stream",
          "name": "stdout",
          "text": [
            "Text saved to output/safe/askubuntu.com_questions_623339_altough-i-installed-gsl-library-g-cannot-compile-my-code.gob.pe.txt\n",
            "Downloading page http://comicbook.com/2015/04/24/all-avengers-age-of-ultron-trailers-and-tv-spots-merged-into-one/.gob.pe...\n"
          ]
        },
        {
          "output_type": "stream",
          "name": "stderr",
          "text": [
            "/usr/local/lib/python3.10/dist-packages/urllib3/connectionpool.py:1099: InsecureRequestWarning: Unverified HTTPS request is being made to host 'comicbook.com'. Adding certificate verification is strongly advised. See: https://urllib3.readthedocs.io/en/latest/advanced-usage.html#tls-warnings\n",
            "  warnings.warn(\n"
          ]
        },
        {
          "output_type": "stream",
          "name": "stdout",
          "text": [
            "Error when dowwloading page http://comicbook.com/2015/04/24/all-avengers-age-of-ultron-trailers-and-tv-spots-merged-into-one/.gob.pe: 404 Client Error: Not Found for url: https://comicbook.com/2015/04/24/all-avengers-age-of-ultron-trailers-and-tv-spots-merged-into-one/.gob.pe\n",
            "Failed to download page from http://comicbook.com/2015/04/24/all-avengers-age-of-ultron-trailers-and-tv-spots-merged-into-one/.gob.pe\n",
            "Downloading page http://mirtesen.ru/url?e=simple_click&blog_post_id=43747285541&url=http%3A%2F%2Fvkusno.mirtesen.ru%2Fblog%2F43747285541%2FPrigotovit-kartofel-fri-bez-masla---realno...\n",
            "No valid text from http://mirtesen.ru/url?e=simple_click&blog_post_id=43747285541&url=http%3A%2F%2Fvkusno.mirtesen.ru%2Fblog%2F43747285541%2FPrigotovit-kartofel-fri-bez-masla---realno\n",
            "Downloading page http://couchtuner.eu.com/2013/06/baby-daddy-s2-e2-theres-something-fitchy-going-on.html...\n",
            "Text saved to output/safe/couchtuner.eu.com_2013_06_baby-daddy-s2-e2-theres-something-fitchy-going-on.html.txt\n",
            "Downloading page http://grantland.com/hollywood-prospectus/2015-oscar-nomination-predictions-best-director-best-picture/.gob.pe...\n"
          ]
        },
        {
          "output_type": "stream",
          "name": "stderr",
          "text": [
            "/usr/local/lib/python3.10/dist-packages/urllib3/connectionpool.py:1099: InsecureRequestWarning: Unverified HTTPS request is being made to host 'grantland.com'. Adding certificate verification is strongly advised. See: https://urllib3.readthedocs.io/en/latest/advanced-usage.html#tls-warnings\n",
            "  warnings.warn(\n"
          ]
        },
        {
          "output_type": "stream",
          "name": "stdout",
          "text": [
            "Error when dowwloading page http://grantland.com/hollywood-prospectus/2015-oscar-nomination-predictions-best-director-best-picture/.gob.pe: 404 Client Error: Not Found for url: https://grantland.com/hollywood-prospectus/2015-oscar-nomination-predictions-best-director-best-picture/.gob.pe\n",
            "Failed to download page from http://grantland.com/hollywood-prospectus/2015-oscar-nomination-predictions-best-director-best-picture/.gob.pe\n",
            "Downloading page https://500px.com/photo/54002776/notre-dame-paris-by-dragox-photo-?from=set&set_id=1074128.gob.pe...\n"
          ]
        },
        {
          "output_type": "stream",
          "name": "stderr",
          "text": [
            "/usr/local/lib/python3.10/dist-packages/urllib3/connectionpool.py:1099: InsecureRequestWarning: Unverified HTTPS request is being made to host '500px.com'. Adding certificate verification is strongly advised. See: https://urllib3.readthedocs.io/en/latest/advanced-usage.html#tls-warnings\n",
            "  warnings.warn(\n"
          ]
        },
        {
          "output_type": "stream",
          "name": "stdout",
          "text": [
            "Text saved to output/safe/500px.com_photo_54002776_notre-dame-paris-by-dragox-photo-?from=set&set_id=1074128.gob.pe.txt\n",
            "Downloading page http://steamcommunity.com/stats/TF2/achievements/%22http://store.steampowered.com/curators/%22...\n"
          ]
        },
        {
          "output_type": "stream",
          "name": "stderr",
          "text": [
            "/usr/local/lib/python3.10/dist-packages/urllib3/connectionpool.py:1099: InsecureRequestWarning: Unverified HTTPS request is being made to host 'steamcommunity.com'. Adding certificate verification is strongly advised. See: https://urllib3.readthedocs.io/en/latest/advanced-usage.html#tls-warnings\n",
            "  warnings.warn(\n"
          ]
        },
        {
          "output_type": "stream",
          "name": "stdout",
          "text": [
            "Text saved to output/safe/steamcommunity.com_stats_TF2_achievements_%22http:__store.steampowered.com_curators_%22.txt\n",
            "Downloading page http://kakaku.com/kaden/antenna-others/ranking_2058/pricedown/div-gpt-ad-k/header_text.gob.pe...\n"
          ]
        },
        {
          "output_type": "stream",
          "name": "stderr",
          "text": [
            "/usr/local/lib/python3.10/dist-packages/urllib3/connectionpool.py:1099: InsecureRequestWarning: Unverified HTTPS request is being made to host 'kakaku.com'. Adding certificate verification is strongly advised. See: https://urllib3.readthedocs.io/en/latest/advanced-usage.html#tls-warnings\n",
            "  warnings.warn(\n",
            "/usr/local/lib/python3.10/dist-packages/urllib3/connectionpool.py:1099: InsecureRequestWarning: Unverified HTTPS request is being made to host '500px.com'. Adding certificate verification is strongly advised. See: https://urllib3.readthedocs.io/en/latest/advanced-usage.html#tls-warnings\n",
            "  warnings.warn(\n"
          ]
        },
        {
          "output_type": "stream",
          "name": "stdout",
          "text": [
            "Error when dowwloading page http://kakaku.com/kaden/antenna-others/ranking_2058/pricedown/div-gpt-ad-k/header_text.gob.pe: 404 Client Error: Not Found. for url: https://kakaku.com/kaden/antenna-others/ranking_2058/pricedown/div-gpt-ad-k/header_text.gob.pe\n",
            "Failed to download page from http://kakaku.com/kaden/antenna-others/ranking_2058/pricedown/div-gpt-ad-k/header_text.gob.pe\n",
            "Downloading page https://500px.com/photo/9569639/flo-bastien-360-over-par-avalanche-by-tristan-shu?from=set&set_id=316271.gob.pe...\n",
            "Text saved to output/safe/500px.com_photo_9569639_flo-bastien-360-over-par-avalanche-by-tristan-shu?from=set&set_id=316271.gob.pe.txt\n",
            "Downloading page http://putlocker.is/watch-x-men-days-of-future-past-online-free-putlocker-852683.html...\n",
            "Error when dowwloading page http://putlocker.is/watch-x-men-days-of-future-past-online-free-putlocker-852683.html: 403 Client Error: Forbidden for url: http://ww16.putlocker.is/watch-x-men-days-of-future-past-online-free-putlocker-852683.html?sub1=20241210-1424-1863-88c8-bdb842b2a4a7\n",
            "Failed to download page from http://putlocker.is/watch-x-men-days-of-future-past-online-free-putlocker-852683.html\n",
            "Downloading page http://qz.com/401259/bill-simmons-espns-brightest-flower-and-thorn-in-its-side-is-leaving-the-network/.gob.pe...\n"
          ]
        },
        {
          "output_type": "stream",
          "name": "stderr",
          "text": [
            "/usr/local/lib/python3.10/dist-packages/urllib3/connectionpool.py:1099: InsecureRequestWarning: Unverified HTTPS request is being made to host 'qz.com'. Adding certificate verification is strongly advised. See: https://urllib3.readthedocs.io/en/latest/advanced-usage.html#tls-warnings\n",
            "  warnings.warn(\n"
          ]
        },
        {
          "output_type": "stream",
          "name": "stdout",
          "text": [
            "Error when dowwloading page http://qz.com/401259/bill-simmons-espns-brightest-flower-and-thorn-in-its-side-is-leaving-the-network/.gob.pe: 404 Client Error: Not Found for url: https://qz.com/401259/bill-simmons-espns-brightest-flower-and-thorn-in-its-side-is-leaving-the-network/.gob.pe\n",
            "Failed to download page from http://qz.com/401259/bill-simmons-espns-brightest-flower-and-thorn-in-its-side-is-leaving-the-network/.gob.pe\n",
            "Downloading page http://metro.co.uk/2015/05/13/the-oldest-working-nurse-in-america-has-just-turned-90-and-shes-a-total-inspiration-5194871/...\n"
          ]
        },
        {
          "output_type": "stream",
          "name": "stderr",
          "text": [
            "/usr/local/lib/python3.10/dist-packages/urllib3/connectionpool.py:1099: InsecureRequestWarning: Unverified HTTPS request is being made to host 'metro.co.uk'. Adding certificate verification is strongly advised. See: https://urllib3.readthedocs.io/en/latest/advanced-usage.html#tls-warnings\n",
            "  warnings.warn(\n"
          ]
        },
        {
          "output_type": "stream",
          "name": "stdout",
          "text": [
            "Text saved to output/safe/metro.co.uk_2015_05_13_the-oldest-working-nurse-in-america-has-just-turned-90-and-shes-a-total-inspiration-5194871_.txt\n",
            "Downloading page http://www.nhs.uk/aboutNHSChoices/aboutnhschoices/Aboutus/Pages/Editorialpolicy.aspx...\n"
          ]
        },
        {
          "output_type": "stream",
          "name": "stderr",
          "text": [
            "/usr/local/lib/python3.10/dist-packages/urllib3/connectionpool.py:1099: InsecureRequestWarning: Unverified HTTPS request is being made to host 'www.nhs.uk'. Adding certificate verification is strongly advised. See: https://urllib3.readthedocs.io/en/latest/advanced-usage.html#tls-warnings\n",
            "  warnings.warn(\n",
            "/usr/local/lib/python3.10/dist-packages/urllib3/connectionpool.py:1099: InsecureRequestWarning: Unverified HTTPS request is being made to host 'www.nhs.uk'. Adding certificate verification is strongly advised. See: https://urllib3.readthedocs.io/en/latest/advanced-usage.html#tls-warnings\n",
            "  warnings.warn(\n"
          ]
        },
        {
          "output_type": "stream",
          "name": "stdout",
          "text": [
            "Error when dowwloading page http://www.nhs.uk/aboutNHSChoices/aboutnhschoices/Aboutus/Pages/Editorialpolicy.aspx: 404 Client Error: Not Found for url: https://www.nhs.uk/aboutnhschoices/aboutnhschoices/aboutus/pages/editorialpolicy.aspx\n",
            "Failed to download page from http://www.nhs.uk/aboutNHSChoices/aboutnhschoices/Aboutus/Pages/Editorialpolicy.aspx\n",
            "Downloading page http://sourceforge.net/projects/bonita/files/latest/download?source=frontpage&position=1.gob.pe...\n"
          ]
        },
        {
          "output_type": "stream",
          "name": "stderr",
          "text": [
            "/usr/local/lib/python3.10/dist-packages/urllib3/connectionpool.py:1099: InsecureRequestWarning: Unverified HTTPS request is being made to host 'sourceforge.net'. Adding certificate verification is strongly advised. See: https://urllib3.readthedocs.io/en/latest/advanced-usage.html#tls-warnings\n",
            "  warnings.warn(\n",
            "/usr/local/lib/python3.10/dist-packages/urllib3/connectionpool.py:1099: InsecureRequestWarning: Unverified HTTPS request is being made to host 'downloads.sourceforge.net'. Adding certificate verification is strongly advised. See: https://urllib3.readthedocs.io/en/latest/advanced-usage.html#tls-warnings\n",
            "  warnings.warn(\n",
            "/usr/local/lib/python3.10/dist-packages/urllib3/connectionpool.py:1099: InsecureRequestWarning: Unverified HTTPS request is being made to host 'master.dl.sourceforge.net'. Adding certificate verification is strongly advised. See: https://urllib3.readthedocs.io/en/latest/advanced-usage.html#tls-warnings\n",
            "  warnings.warn(\n"
          ]
        },
        {
          "output_type": "stream",
          "name": "stdout",
          "text": [
            "Text saved to output/safe/sourceforge.net_projects_bonita_files_latest_download?source=frontpage&position=1.gob.pe.txt\n",
            "Downloading page http://tunein.com/radio/TamilSun-FM-s138053/15480783/ca-pub-1542925551861702/Station.gob.pe...\n"
          ]
        },
        {
          "output_type": "stream",
          "name": "stderr",
          "text": [
            "/usr/local/lib/python3.10/dist-packages/urllib3/connectionpool.py:1099: InsecureRequestWarning: Unverified HTTPS request is being made to host 'tunein.com'. Adding certificate verification is strongly advised. See: https://urllib3.readthedocs.io/en/latest/advanced-usage.html#tls-warnings\n",
            "  warnings.warn(\n",
            "/usr/local/lib/python3.10/dist-packages/urllib3/connectionpool.py:1099: InsecureRequestWarning: Unverified HTTPS request is being made to host 'tunein.com'. Adding certificate verification is strongly advised. See: https://urllib3.readthedocs.io/en/latest/advanced-usage.html#tls-warnings\n",
            "  warnings.warn(\n"
          ]
        },
        {
          "output_type": "stream",
          "name": "stdout",
          "text": [
            "Text saved to output/safe/tunein.com_radio_TamilSun-FM-s138053_15480783_ca-pub-1542925551861702_Station.gob.pe.txt\n",
            "Downloading page http://stackoverflow.com/questions/24731026/how-to-get-listitem-id-when-i-click-on-popup-menu-item.gob.pe...\n"
          ]
        },
        {
          "output_type": "stream",
          "name": "stderr",
          "text": [
            "/usr/local/lib/python3.10/dist-packages/urllib3/connectionpool.py:1099: InsecureRequestWarning: Unverified HTTPS request is being made to host 'stackoverflow.com'. Adding certificate verification is strongly advised. See: https://urllib3.readthedocs.io/en/latest/advanced-usage.html#tls-warnings\n",
            "  warnings.warn(\n",
            "/usr/local/lib/python3.10/dist-packages/urllib3/connectionpool.py:1099: InsecureRequestWarning: Unverified HTTPS request is being made to host 'stackoverflow.com'. Adding certificate verification is strongly advised. See: https://urllib3.readthedocs.io/en/latest/advanced-usage.html#tls-warnings\n",
            "  warnings.warn(\n"
          ]
        },
        {
          "output_type": "stream",
          "name": "stdout",
          "text": [
            "Text saved to output/safe/stackoverflow.com_questions_24731026_how-to-get-listitem-id-when-i-click-on-popup-menu-item.gob.pe.txt\n",
            "Downloading page http://nguyentandung.org/giat-minh-voi-su-thay-doi-chong-mat-cua-khu-dong-tp-hcm.html...\n"
          ]
        },
        {
          "output_type": "stream",
          "name": "stderr",
          "text": [
            "/usr/local/lib/python3.10/dist-packages/urllib3/connectionpool.py:1099: InsecureRequestWarning: Unverified HTTPS request is being made to host 'nguyentandung.org'. Adding certificate verification is strongly advised. See: https://urllib3.readthedocs.io/en/latest/advanced-usage.html#tls-warnings\n",
            "  warnings.warn(\n",
            "/usr/local/lib/python3.10/dist-packages/urllib3/connectionpool.py:1099: InsecureRequestWarning: Unverified HTTPS request is being made to host 'nguyentandung.org'. Adding certificate verification is strongly advised. See: https://urllib3.readthedocs.io/en/latest/advanced-usage.html#tls-warnings\n",
            "  warnings.warn(\n"
          ]
        },
        {
          "output_type": "stream",
          "name": "stdout",
          "text": [
            "Text saved to output/safe/nguyentandung.org_giat-minh-voi-su-thay-doi-chong-mat-cua-khu-dong-tp-hcm.html.txt\n",
            "Downloading page http://xvideo-jp.com/archives/category/%e8%97%a4%e4%ba%95%e3%81%82%e3%81%84%e3%81%95.gob.pe...\n"
          ]
        },
        {
          "output_type": "stream",
          "name": "stderr",
          "text": [
            "/usr/local/lib/python3.10/dist-packages/urllib3/connectionpool.py:1099: InsecureRequestWarning: Unverified HTTPS request is being made to host 'xvideo-jp.com'. Adding certificate verification is strongly advised. See: https://urllib3.readthedocs.io/en/latest/advanced-usage.html#tls-warnings\n",
            "  warnings.warn(\n",
            "/usr/local/lib/python3.10/dist-packages/urllib3/connectionpool.py:1099: InsecureRequestWarning: Unverified HTTPS request is being made to host 'xvideo-jp.com'. Adding certificate verification is strongly advised. See: https://urllib3.readthedocs.io/en/latest/advanced-usage.html#tls-warnings\n",
            "  warnings.warn(\n"
          ]
        },
        {
          "output_type": "stream",
          "name": "stdout",
          "text": [
            "Text saved to output/safe/xvideo-jp.com_archives_category_%e8%97%a4%e4%ba%95%e3%81%82%e3%81%84%e3%81%95.gob.pe.txt\n",
            "Downloading page http://mylust.com/videos/230748/filthy-and-hot-black-hoodrat-wants-to-get-married-so-bad/.gob.pe...\n"
          ]
        },
        {
          "output_type": "stream",
          "name": "stderr",
          "text": [
            "/usr/local/lib/python3.10/dist-packages/urllib3/connectionpool.py:1099: InsecureRequestWarning: Unverified HTTPS request is being made to host 'mylust.com'. Adding certificate verification is strongly advised. See: https://urllib3.readthedocs.io/en/latest/advanced-usage.html#tls-warnings\n",
            "  warnings.warn(\n"
          ]
        },
        {
          "output_type": "stream",
          "name": "stdout",
          "text": [
            "Error when dowwloading page http://mylust.com/videos/230748/filthy-and-hot-black-hoodrat-wants-to-get-married-so-bad/.gob.pe: 404 Client Error: Not Found for url: https://mylust.com/videos/230748/filthy-and-hot-black-hoodrat-wants-to-get-married-so-bad/.gob.pe\n",
            "Failed to download page from http://mylust.com/videos/230748/filthy-and-hot-black-hoodrat-wants-to-get-married-so-bad/.gob.pe\n",
            "Downloading page http://indianexpress.com/article/cities/mumbai/for-safe-campuses-mu-makes-self-defence-training-for-women-a-must-in-colleges/.gob.pe...\n",
            "Error when dowwloading page http://indianexpress.com/article/cities/mumbai/for-safe-campuses-mu-makes-self-defence-training-for-women-a-must-in-colleges/.gob.pe: 403 Client Error: Forbidden for url: http://indianexpress.com/article/cities/mumbai/for-safe-campuses-mu-makes-self-defence-training-for-women-a-must-in-colleges/.gob.pe\n",
            "Failed to download page from http://indianexpress.com/article/cities/mumbai/for-safe-campuses-mu-makes-self-defence-training-for-women-a-must-in-colleges/.gob.pe\n",
            "Downloading page http://olx.ua/uk/i2/kiev/obyavlenie/moyuschiy-pylesos-karcher-puzzi-100-super-b-u-IDdZwUE.html...\n"
          ]
        },
        {
          "output_type": "stream",
          "name": "stderr",
          "text": [
            "/usr/local/lib/python3.10/dist-packages/urllib3/connectionpool.py:1099: InsecureRequestWarning: Unverified HTTPS request is being made to host 'olx.ua'. Adding certificate verification is strongly advised. See: https://urllib3.readthedocs.io/en/latest/advanced-usage.html#tls-warnings\n",
            "  warnings.warn(\n",
            "/usr/local/lib/python3.10/dist-packages/urllib3/connectionpool.py:1099: InsecureRequestWarning: Unverified HTTPS request is being made to host 'www.olx.ua'. Adding certificate verification is strongly advised. See: https://urllib3.readthedocs.io/en/latest/advanced-usage.html#tls-warnings\n",
            "  warnings.warn(\n",
            "/usr/local/lib/python3.10/dist-packages/urllib3/connectionpool.py:1099: InsecureRequestWarning: Unverified HTTPS request is being made to host 'm.olx.ua'. Adding certificate verification is strongly advised. See: https://urllib3.readthedocs.io/en/latest/advanced-usage.html#tls-warnings\n",
            "  warnings.warn(\n",
            "/usr/local/lib/python3.10/dist-packages/urllib3/connectionpool.py:1099: InsecureRequestWarning: Unverified HTTPS request is being made to host 'www.olx.ua'. Adding certificate verification is strongly advised. See: https://urllib3.readthedocs.io/en/latest/advanced-usage.html#tls-warnings\n",
            "  warnings.warn(\n"
          ]
        },
        {
          "output_type": "stream",
          "name": "stdout",
          "text": [
            "Text saved to output/safe/olx.ua_uk_i2_kiev_obyavlenie_moyuschiy-pylesos-karcher-puzzi-100-super-b-u-IDdZwUE.html.txt\n",
            "Downloading page http://stackoverflow.com/questions/24148956/ping-docker-container-from-another-machine-in-the-network.gob.pe...\n"
          ]
        },
        {
          "output_type": "stream",
          "name": "stderr",
          "text": [
            "/usr/local/lib/python3.10/dist-packages/urllib3/connectionpool.py:1099: InsecureRequestWarning: Unverified HTTPS request is being made to host 'stackoverflow.com'. Adding certificate verification is strongly advised. See: https://urllib3.readthedocs.io/en/latest/advanced-usage.html#tls-warnings\n",
            "  warnings.warn(\n",
            "/usr/local/lib/python3.10/dist-packages/urllib3/connectionpool.py:1099: InsecureRequestWarning: Unverified HTTPS request is being made to host 'stackoverflow.com'. Adding certificate verification is strongly advised. See: https://urllib3.readthedocs.io/en/latest/advanced-usage.html#tls-warnings\n",
            "  warnings.warn(\n"
          ]
        },
        {
          "output_type": "stream",
          "name": "stdout",
          "text": [
            "Text saved to output/safe/stackoverflow.com_questions_24148956_ping-docker-container-from-another-machine-in-the-network.gob.pe.txt\n",
            "Downloading page http://stackoverflow.com/questions/6702846/ruby-on-rails-models-and-relationship-table.gob.pe...\n"
          ]
        },
        {
          "output_type": "stream",
          "name": "stderr",
          "text": [
            "/usr/local/lib/python3.10/dist-packages/urllib3/connectionpool.py:1099: InsecureRequestWarning: Unverified HTTPS request is being made to host 'stackoverflow.com'. Adding certificate verification is strongly advised. See: https://urllib3.readthedocs.io/en/latest/advanced-usage.html#tls-warnings\n",
            "  warnings.warn(\n",
            "/usr/local/lib/python3.10/dist-packages/urllib3/connectionpool.py:1099: InsecureRequestWarning: Unverified HTTPS request is being made to host 'stackoverflow.com'. Adding certificate verification is strongly advised. See: https://urllib3.readthedocs.io/en/latest/advanced-usage.html#tls-warnings\n",
            "  warnings.warn(\n"
          ]
        },
        {
          "output_type": "stream",
          "name": "stdout",
          "text": [
            "Text saved to output/safe/stackoverflow.com_questions_6702846_ruby-on-rails-models-and-relationship-table.gob.pe.txt\n",
            "Downloading page http://xhamster.com/movies/2094760/very_huge_natural_tits_on_this_tiny_blonde_huge_cameltoe.html?promo=1...\n"
          ]
        },
        {
          "output_type": "stream",
          "name": "stderr",
          "text": [
            "/usr/local/lib/python3.10/dist-packages/urllib3/connectionpool.py:1099: InsecureRequestWarning: Unverified HTTPS request is being made to host 'xhamster.com'. Adding certificate verification is strongly advised. See: https://urllib3.readthedocs.io/en/latest/advanced-usage.html#tls-warnings\n",
            "  warnings.warn(\n"
          ]
        },
        {
          "output_type": "stream",
          "name": "stdout",
          "text": [
            "Text saved to output/safe/xhamster.com_movies_2094760_very_huge_natural_tits_on_this_tiny_blonde_huge_cameltoe.html?promo=1.txt\n",
            "Downloading page http://europa.eu/about-eu/agencies/regulatory_agencies_bodies/policy_agencies/emsa/index_en.htm...\n"
          ]
        },
        {
          "output_type": "stream",
          "name": "stderr",
          "text": [
            "/usr/local/lib/python3.10/dist-packages/urllib3/connectionpool.py:1099: InsecureRequestWarning: Unverified HTTPS request is being made to host 'europa.eu'. Adding certificate verification is strongly advised. See: https://urllib3.readthedocs.io/en/latest/advanced-usage.html#tls-warnings\n",
            "  warnings.warn(\n",
            "/usr/local/lib/python3.10/dist-packages/urllib3/connectionpool.py:1099: InsecureRequestWarning: Unverified HTTPS request is being made to host 'europa.eu'. Adding certificate verification is strongly advised. See: https://urllib3.readthedocs.io/en/latest/advanced-usage.html#tls-warnings\n",
            "  warnings.warn(\n",
            "/usr/local/lib/python3.10/dist-packages/urllib3/connectionpool.py:1099: InsecureRequestWarning: Unverified HTTPS request is being made to host 'european-union.europa.eu'. Adding certificate verification is strongly advised. See: https://urllib3.readthedocs.io/en/latest/advanced-usage.html#tls-warnings\n",
            "  warnings.warn(\n",
            "/usr/local/lib/python3.10/dist-packages/urllib3/connectionpool.py:1099: InsecureRequestWarning: Unverified HTTPS request is being made to host 'european-union.europa.eu'. Adding certificate verification is strongly advised. See: https://urllib3.readthedocs.io/en/latest/advanced-usage.html#tls-warnings\n",
            "  warnings.warn(\n"
          ]
        },
        {
          "output_type": "stream",
          "name": "stdout",
          "text": [
            "Text saved to output/safe/europa.eu_about-eu_agencies_regulatory_agencies_bodies_policy_agencies_emsa_index_en.htm.txt\n",
            "Downloading page http://kenh14.vn/2-tek/iphone-do-suc-cung-smartphone-android-theo-tung-tieu-chi-20141117112640637.chn...\n"
          ]
        },
        {
          "output_type": "stream",
          "name": "stderr",
          "text": [
            "/usr/local/lib/python3.10/dist-packages/urllib3/connectionpool.py:1099: InsecureRequestWarning: Unverified HTTPS request is being made to host 'kenh14.vn'. Adding certificate verification is strongly advised. See: https://urllib3.readthedocs.io/en/latest/advanced-usage.html#tls-warnings\n",
            "  warnings.warn(\n"
          ]
        },
        {
          "output_type": "stream",
          "name": "stdout",
          "text": [
            "Text saved to output/safe/kenh14.vn_2-tek_iphone-do-suc-cung-smartphone-android-theo-tung-tieu-chi-20141117112640637.chn.txt\n",
            "Downloading page https://getpocket.com/signup?mode=socialmode&t=1&route=http://getpocket.com/p/pocket-topics/sports...\n"
          ]
        },
        {
          "output_type": "stream",
          "name": "stderr",
          "text": [
            "/usr/local/lib/python3.10/dist-packages/urllib3/connectionpool.py:1099: InsecureRequestWarning: Unverified HTTPS request is being made to host 'getpocket.com'. Adding certificate verification is strongly advised. See: https://urllib3.readthedocs.io/en/latest/advanced-usage.html#tls-warnings\n",
            "  warnings.warn(\n",
            "/usr/local/lib/python3.10/dist-packages/urllib3/connectionpool.py:1099: InsecureRequestWarning: Unverified HTTPS request is being made to host 'getpocket.com'. Adding certificate verification is strongly advised. See: https://urllib3.readthedocs.io/en/latest/advanced-usage.html#tls-warnings\n",
            "  warnings.warn(\n"
          ]
        },
        {
          "output_type": "stream",
          "name": "stdout",
          "text": [
            "Text saved to output/safe/getpocket.com_signup?mode=socialmode&t=1&route=http:__.txt\n",
            "Downloading page http://mic.com/articles/90567/stephen-colbert-perfectly-explains-why-we-should-all-boycott-amazon.gob.pe...\n"
          ]
        },
        {
          "output_type": "stream",
          "name": "stderr",
          "text": [
            "/usr/local/lib/python3.10/dist-packages/urllib3/connectionpool.py:1099: InsecureRequestWarning: Unverified HTTPS request is being made to host 'mic.com'. Adding certificate verification is strongly advised. See: https://urllib3.readthedocs.io/en/latest/advanced-usage.html#tls-warnings\n",
            "  warnings.warn(\n",
            "/usr/local/lib/python3.10/dist-packages/urllib3/connectionpool.py:1099: InsecureRequestWarning: Unverified HTTPS request is being made to host 'www.mic.com'. Adding certificate verification is strongly advised. See: https://urllib3.readthedocs.io/en/latest/advanced-usage.html#tls-warnings\n",
            "  warnings.warn(\n"
          ]
        },
        {
          "output_type": "stream",
          "name": "stdout",
          "text": [
            "Error when dowwloading page http://mic.com/articles/90567/stephen-colbert-perfectly-explains-why-we-should-all-boycott-amazon.gob.pe: 404 Client Error: Not Found for url: https://www.mic.com/articles/90567/stephen-colbert-perfectly-explains-why-we-should-all-boycott-amazon.gob.pe\n",
            "Failed to download page from http://mic.com/articles/90567/stephen-colbert-perfectly-explains-why-we-should-all-boycott-amazon.gob.pe\n",
            "Downloading page http://uproxx.com/sports/2014/09/christy-mack-posted-an-update-about-her-condition-after-war-machines-brutality/.gob.pe...\n"
          ]
        },
        {
          "output_type": "stream",
          "name": "stderr",
          "text": [
            "/usr/local/lib/python3.10/dist-packages/urllib3/connectionpool.py:1099: InsecureRequestWarning: Unverified HTTPS request is being made to host 'uproxx.com'. Adding certificate verification is strongly advised. See: https://urllib3.readthedocs.io/en/latest/advanced-usage.html#tls-warnings\n",
            "  warnings.warn(\n",
            "/usr/local/lib/python3.10/dist-packages/urllib3/connectionpool.py:1099: InsecureRequestWarning: Unverified HTTPS request is being made to host 'uproxx.com'. Adding certificate verification is strongly advised. See: https://urllib3.readthedocs.io/en/latest/advanced-usage.html#tls-warnings\n",
            "  warnings.warn(\n",
            "/usr/local/lib/python3.10/dist-packages/urllib3/connectionpool.py:1099: InsecureRequestWarning: Unverified HTTPS request is being made to host 'themeforest.net'. Adding certificate verification is strongly advised. See: https://urllib3.readthedocs.io/en/latest/advanced-usage.html#tls-warnings\n",
            "  warnings.warn(\n"
          ]
        },
        {
          "output_type": "stream",
          "name": "stdout",
          "text": [
            "Text saved to output/safe/uproxx.com_sports_2014_09_christy-mack-posted-an-update-about-her-condition-after-war-machines-brutality_.gob.pe.txt\n",
            "Downloading page http://themeforest.net/item/newsmag-news-magazine-newspaper/full_screen_preview/9512331.gob.pe...\n",
            "Error when dowwloading page http://themeforest.net/item/newsmag-news-magazine-newspaper/full_screen_preview/9512331.gob.pe: 404 Client Error: Not Found for url: https://themeforest.net/item/newsmag-news-magazine-newspaper/full_screen_preview/9512331.gob.pe\n",
            "Failed to download page from http://themeforest.net/item/newsmag-news-magazine-newspaper/full_screen_preview/9512331.gob.pe\n",
            "Downloading page http://bestblackhatforum.com/Thread-How-To-Create-Explaindio-Slides-Video?action=lastpost.gob.pe...\n"
          ]
        },
        {
          "output_type": "stream",
          "name": "stderr",
          "text": [
            "/usr/local/lib/python3.10/dist-packages/urllib3/connectionpool.py:1099: InsecureRequestWarning: Unverified HTTPS request is being made to host 'bestblackhatforum.com'. Adding certificate verification is strongly advised. See: https://urllib3.readthedocs.io/en/latest/advanced-usage.html#tls-warnings\n",
            "  warnings.warn(\n"
          ]
        },
        {
          "output_type": "stream",
          "name": "stdout",
          "text": [
            "Failed to download page from http://bestblackhatforum.com/Thread-How-To-Create-Explaindio-Slides-Video?action=lastpost.gob.pe\n",
            "Downloading page http://tunein.com/radio/News-Talk-770-s31172/15480783/ca-pub-1542925551861702/Station.gob.pe...\n"
          ]
        },
        {
          "output_type": "stream",
          "name": "stderr",
          "text": [
            "/usr/local/lib/python3.10/dist-packages/urllib3/connectionpool.py:1099: InsecureRequestWarning: Unverified HTTPS request is being made to host 'tunein.com'. Adding certificate verification is strongly advised. See: https://urllib3.readthedocs.io/en/latest/advanced-usage.html#tls-warnings\n",
            "  warnings.warn(\n",
            "/usr/local/lib/python3.10/dist-packages/urllib3/connectionpool.py:1099: InsecureRequestWarning: Unverified HTTPS request is being made to host 'tunein.com'. Adding certificate verification is strongly advised. See: https://urllib3.readthedocs.io/en/latest/advanced-usage.html#tls-warnings\n",
            "  warnings.warn(\n"
          ]
        },
        {
          "output_type": "stream",
          "name": "stdout",
          "text": [
            "Text saved to output/safe/tunein.com_radio_News-Talk-770-s31172_15480783_ca-pub-1542925551861702_Station.gob.pe.txt\n",
            "Downloading page http://themeforest.net/item/avana-responsive-email-mailbuild-online/full_screen_preview/11175695.gob.pe...\n"
          ]
        },
        {
          "output_type": "stream",
          "name": "stderr",
          "text": [
            "/usr/local/lib/python3.10/dist-packages/urllib3/connectionpool.py:1099: InsecureRequestWarning: Unverified HTTPS request is being made to host 'themeforest.net'. Adding certificate verification is strongly advised. See: https://urllib3.readthedocs.io/en/latest/advanced-usage.html#tls-warnings\n",
            "  warnings.warn(\n"
          ]
        },
        {
          "output_type": "stream",
          "name": "stdout",
          "text": [
            "Error when dowwloading page http://themeforest.net/item/avana-responsive-email-mailbuild-online/full_screen_preview/11175695.gob.pe: 404 Client Error: Not Found for url: https://themeforest.net/item/avana-responsive-email-mailbuild-online/full_screen_preview/11175695.gob.pe\n",
            "Failed to download page from http://themeforest.net/item/avana-responsive-email-mailbuild-online/full_screen_preview/11175695.gob.pe\n",
            "Downloading page http://metro.co.uk/2014/12/18/tory-mp-allegedly-murdered-boy-during-sex-attack-4992444/...\n"
          ]
        },
        {
          "output_type": "stream",
          "name": "stderr",
          "text": [
            "/usr/local/lib/python3.10/dist-packages/urllib3/connectionpool.py:1099: InsecureRequestWarning: Unverified HTTPS request is being made to host 'metro.co.uk'. Adding certificate verification is strongly advised. See: https://urllib3.readthedocs.io/en/latest/advanced-usage.html#tls-warnings\n",
            "  warnings.warn(\n"
          ]
        },
        {
          "output_type": "stream",
          "name": "stdout",
          "text": [
            "Text saved to output/safe/metro.co.uk_2014_12_18_tory-mp-allegedly-murdered-boy-during-sex-attack-4992444_.txt\n",
            "Downloading page http://atwiki.jp/wiki/%E9%BB%92%E7%8C%AB%E3%81%AE%E3%82%A6%E3%82%A3%E3%82%BA%20%E3%83%AC%E3%83%99%E3%83%AB%20%E3%83%87%E3%83%83%E3%82%AD%E3%82%B3%E3%82%B9%E3%83%88.gob.pe...\n"
          ]
        },
        {
          "output_type": "stream",
          "name": "stderr",
          "text": [
            "/usr/local/lib/python3.10/dist-packages/urllib3/connectionpool.py:1099: InsecureRequestWarning: Unverified HTTPS request is being made to host 'atwiki.jp'. Adding certificate verification is strongly advised. See: https://urllib3.readthedocs.io/en/latest/advanced-usage.html#tls-warnings\n",
            "  warnings.warn(\n"
          ]
        },
        {
          "output_type": "stream",
          "name": "stdout",
          "text": [
            "Text saved to output/safe/atwiki.jp_wiki_%E9%BB%92%E7%8C%AB%E3%81%AE%E3%82%A6%E3%82%A3%E3%82%BA%20%E3%83%AC%E3%83%99%E3%83%AB%20%E3%83%87%E3%83%83%E3%82%AD%E3%82%B3%E3%82%B9%E3%83%88.gob.pe.txt\n",
            "Downloading page http://serverfault.com/questions/364986/why-do-i-get-page-not-found-404-for-correct-links.gob.pe...\n"
          ]
        },
        {
          "output_type": "stream",
          "name": "stderr",
          "text": [
            "/usr/local/lib/python3.10/dist-packages/urllib3/connectionpool.py:1099: InsecureRequestWarning: Unverified HTTPS request is being made to host 'serverfault.com'. Adding certificate verification is strongly advised. See: https://urllib3.readthedocs.io/en/latest/advanced-usage.html#tls-warnings\n",
            "  warnings.warn(\n",
            "/usr/local/lib/python3.10/dist-packages/urllib3/connectionpool.py:1099: InsecureRequestWarning: Unverified HTTPS request is being made to host 'serverfault.com'. Adding certificate verification is strongly advised. See: https://urllib3.readthedocs.io/en/latest/advanced-usage.html#tls-warnings\n",
            "  warnings.warn(\n"
          ]
        },
        {
          "output_type": "stream",
          "name": "stdout",
          "text": [
            "Text saved to output/safe/serverfault.com_questions_364986_why-do-i-get-page-not-found-404-for-correct-links.gob.pe.txt\n",
            "Downloading page http://noticias.uol.com.br/cotidiano/ultimas-noticias/2015/05/12/para-manter-clientes-pastelaria-no-rio-anuncia-so-usamos-carne-de-vaca.htm...\n"
          ]
        },
        {
          "output_type": "stream",
          "name": "stderr",
          "text": [
            "/usr/local/lib/python3.10/dist-packages/urllib3/connectionpool.py:1099: InsecureRequestWarning: Unverified HTTPS request is being made to host 'noticias.uol.com.br'. Adding certificate verification is strongly advised. See: https://urllib3.readthedocs.io/en/latest/advanced-usage.html#tls-warnings\n",
            "  warnings.warn(\n"
          ]
        },
        {
          "output_type": "stream",
          "name": "stdout",
          "text": [
            "Text saved to output/safe/noticias.uol.com.br_cotidiano_ultimas-noticias_2015_05_12_para-manter-clientes-pastelaria-no-rio-anuncia-so-usamos-carne-de-vaca.htm.txt\n",
            "Downloading page https://getpocket.com/l?ep=3&t=1&route=http%3A%2F%2Fgetpocket.com%2Fp%2Fpocket-topics%2Ffilm...\n"
          ]
        },
        {
          "output_type": "stream",
          "name": "stderr",
          "text": [
            "/usr/local/lib/python3.10/dist-packages/urllib3/connectionpool.py:1099: InsecureRequestWarning: Unverified HTTPS request is being made to host 'getpocket.com'. Adding certificate verification is strongly advised. See: https://urllib3.readthedocs.io/en/latest/advanced-usage.html#tls-warnings\n",
            "  warnings.warn(\n",
            "/usr/local/lib/python3.10/dist-packages/urllib3/connectionpool.py:1099: InsecureRequestWarning: Unverified HTTPS request is being made to host 'getpocket.com'. Adding certificate verification is strongly advised. See: https://urllib3.readthedocs.io/en/latest/advanced-usage.html#tls-warnings\n",
            "  warnings.warn(\n"
          ]
        },
        {
          "output_type": "stream",
          "name": "stdout",
          "text": [
            "Text saved to output/safe/getpocket.com_l?ep=3&t=1&route=http%3A%2F%2F.txt\n",
            "Downloading page http://mylust.com/videos/101255/got-my-bitch-a-hardcore-amateur-gangbang-party-for-her-birthday/.gob.pe...\n"
          ]
        },
        {
          "output_type": "stream",
          "name": "stderr",
          "text": [
            "/usr/local/lib/python3.10/dist-packages/urllib3/connectionpool.py:1099: InsecureRequestWarning: Unverified HTTPS request is being made to host 'mylust.com'. Adding certificate verification is strongly advised. See: https://urllib3.readthedocs.io/en/latest/advanced-usage.html#tls-warnings\n",
            "  warnings.warn(\n"
          ]
        },
        {
          "output_type": "stream",
          "name": "stdout",
          "text": [
            "Error when dowwloading page http://mylust.com/videos/101255/got-my-bitch-a-hardcore-amateur-gangbang-party-for-her-birthday/.gob.pe: 404 Client Error: Not Found for url: https://mylust.com/videos/101255/got-my-bitch-a-hardcore-amateur-gangbang-party-for-her-birthday/.gob.pe\n",
            "Failed to download page from http://mylust.com/videos/101255/got-my-bitch-a-hardcore-amateur-gangbang-party-for-her-birthday/.gob.pe\n",
            "Downloading page http://torrentdn.com/bbs/s.php?bo_table=torrent_mid&wr_id=59941&k=%EC%99%95%EC%A2%8C&page=1...\n",
            "No valid text from http://torrentdn.com/bbs/s.php?bo_table=torrent_mid&wr_id=59941&k=%EC%99%95%EC%A2%8C&page=1\n",
            "Downloading page http://noticias.uol.com.br/album/2013/07/15/naufragio-do-navio-costa-concordia.htm?fotoNavId=pr438feeac03d37c4428ca91188cf159f20150512...\n"
          ]
        },
        {
          "output_type": "stream",
          "name": "stderr",
          "text": [
            "/usr/local/lib/python3.10/dist-packages/urllib3/connectionpool.py:1099: InsecureRequestWarning: Unverified HTTPS request is being made to host 'noticias.uol.com.br'. Adding certificate verification is strongly advised. See: https://urllib3.readthedocs.io/en/latest/advanced-usage.html#tls-warnings\n",
            "  warnings.warn(\n"
          ]
        },
        {
          "output_type": "stream",
          "name": "stdout",
          "text": [
            "Text saved to output/safe/noticias.uol.com.br_album_2013_07_15_naufragio-do-navio-costa-concordia.htm?fotoNavId=pr438feeac03d37c4428ca91188cf159f20150512.txt\n",
            "Downloading page http://nesn.com/2015/05/patriots-sign-kevin-hughes-announce-kyle-arrington-fred-davis-moves/.gob.pe...\n"
          ]
        },
        {
          "output_type": "stream",
          "name": "stderr",
          "text": [
            "/usr/local/lib/python3.10/dist-packages/urllib3/connectionpool.py:1099: InsecureRequestWarning: Unverified HTTPS request is being made to host 'nesn.com'. Adding certificate verification is strongly advised. See: https://urllib3.readthedocs.io/en/latest/advanced-usage.html#tls-warnings\n",
            "  warnings.warn(\n"
          ]
        },
        {
          "output_type": "stream",
          "name": "stdout",
          "text": [
            "Error when dowwloading page http://nesn.com/2015/05/patriots-sign-kevin-hughes-announce-kyle-arrington-fred-davis-moves/.gob.pe: 404 Client Error: Not Found for url: https://nesn.com/2015/05/patriots-sign-kevin-hughes-announce-kyle-arrington-fred-davis-moves/.gob.pe\n",
            "Failed to download page from http://nesn.com/2015/05/patriots-sign-kevin-hughes-announce-kyle-arrington-fred-davis-moves/.gob.pe\n",
            "Downloading page http://olx.ro/i2/electronice-si-electrocasnice/laptop-calculator/mouse-tastaturi/gtm.start...\n"
          ]
        },
        {
          "output_type": "stream",
          "name": "stderr",
          "text": [
            "/usr/local/lib/python3.10/dist-packages/urllib3/connectionpool.py:1099: InsecureRequestWarning: Unverified HTTPS request is being made to host 'olx.ro'. Adding certificate verification is strongly advised. See: https://urllib3.readthedocs.io/en/latest/advanced-usage.html#tls-warnings\n",
            "  warnings.warn(\n",
            "/usr/local/lib/python3.10/dist-packages/urllib3/connectionpool.py:1099: InsecureRequestWarning: Unverified HTTPS request is being made to host 'www.olx.ro'. Adding certificate verification is strongly advised. See: https://urllib3.readthedocs.io/en/latest/advanced-usage.html#tls-warnings\n",
            "  warnings.warn(\n",
            "/usr/local/lib/python3.10/dist-packages/urllib3/connectionpool.py:1099: InsecureRequestWarning: Unverified HTTPS request is being made to host 'www.olx.ro'. Adding certificate verification is strongly advised. See: https://urllib3.readthedocs.io/en/latest/advanced-usage.html#tls-warnings\n",
            "  warnings.warn(\n",
            "/usr/local/lib/python3.10/dist-packages/urllib3/connectionpool.py:1099: InsecureRequestWarning: Unverified HTTPS request is being made to host 'm.olx.ro'. Adding certificate verification is strongly advised. See: https://urllib3.readthedocs.io/en/latest/advanced-usage.html#tls-warnings\n",
            "  warnings.warn(\n",
            "/usr/local/lib/python3.10/dist-packages/urllib3/connectionpool.py:1099: InsecureRequestWarning: Unverified HTTPS request is being made to host 'www.olx.ro'. Adding certificate verification is strongly advised. See: https://urllib3.readthedocs.io/en/latest/advanced-usage.html#tls-warnings\n",
            "  warnings.warn(\n"
          ]
        },
        {
          "output_type": "stream",
          "name": "stdout",
          "text": [
            "Text saved to output/safe/olx.ro_i2_electronice-si-electrocasnice_laptop-calculator_mouse-tastaturi_gtm.start.txt\n",
            "Downloading page http://stackoverflow.com/questions/1628563/move-the-most-recent-commits-to-a-new-branch-with-git.gob.pe...\n"
          ]
        },
        {
          "output_type": "stream",
          "name": "stderr",
          "text": [
            "/usr/local/lib/python3.10/dist-packages/urllib3/connectionpool.py:1099: InsecureRequestWarning: Unverified HTTPS request is being made to host 'stackoverflow.com'. Adding certificate verification is strongly advised. See: https://urllib3.readthedocs.io/en/latest/advanced-usage.html#tls-warnings\n",
            "  warnings.warn(\n",
            "/usr/local/lib/python3.10/dist-packages/urllib3/connectionpool.py:1099: InsecureRequestWarning: Unverified HTTPS request is being made to host 'stackoverflow.com'. Adding certificate verification is strongly advised. See: https://urllib3.readthedocs.io/en/latest/advanced-usage.html#tls-warnings\n",
            "  warnings.warn(\n"
          ]
        },
        {
          "output_type": "stream",
          "name": "stdout",
          "text": [
            "Text saved to output/safe/stackoverflow.com_questions_1628563_move-the-most-recent-commits-to-a-new-branch-with-git.gob.pe.txt\n",
            "Downloading page http://nesn.com/2015/01/bruins-hurricanes-live-boston-ends-weekend-back-to-back-in-carolina/.gob.pe...\n"
          ]
        },
        {
          "output_type": "stream",
          "name": "stderr",
          "text": [
            "/usr/local/lib/python3.10/dist-packages/urllib3/connectionpool.py:1099: InsecureRequestWarning: Unverified HTTPS request is being made to host 'nesn.com'. Adding certificate verification is strongly advised. See: https://urllib3.readthedocs.io/en/latest/advanced-usage.html#tls-warnings\n",
            "  warnings.warn(\n"
          ]
        },
        {
          "output_type": "stream",
          "name": "stdout",
          "text": [
            "Error when dowwloading page http://nesn.com/2015/01/bruins-hurricanes-live-boston-ends-weekend-back-to-back-in-carolina/.gob.pe: 404 Client Error: Not Found for url: https://nesn.com/2015/01/bruins-hurricanes-live-boston-ends-weekend-back-to-back-in-carolina/.gob.pe\n",
            "Failed to download page from http://nesn.com/2015/01/bruins-hurricanes-live-boston-ends-weekend-back-to-back-in-carolina/.gob.pe\n",
            "Downloading page http://uproxx.com/tv/2015/05/amy-schumer-makes-fun-of-all-those-male-geared-beer-commercials-with-a-new-parody-ad/.gob.pe...\n"
          ]
        },
        {
          "output_type": "stream",
          "name": "stderr",
          "text": [
            "/usr/local/lib/python3.10/dist-packages/urllib3/connectionpool.py:1099: InsecureRequestWarning: Unverified HTTPS request is being made to host 'uproxx.com'. Adding certificate verification is strongly advised. See: https://urllib3.readthedocs.io/en/latest/advanced-usage.html#tls-warnings\n",
            "  warnings.warn(\n",
            "/usr/local/lib/python3.10/dist-packages/urllib3/connectionpool.py:1099: InsecureRequestWarning: Unverified HTTPS request is being made to host 'uproxx.com'. Adding certificate verification is strongly advised. See: https://urllib3.readthedocs.io/en/latest/advanced-usage.html#tls-warnings\n",
            "  warnings.warn(\n"
          ]
        },
        {
          "output_type": "stream",
          "name": "stdout",
          "text": [
            "Text saved to output/safe/uproxx.com_tv_2015_05_amy-schumer-makes-fun-of-all-those-male-geared-beer-commercials-with-a-new-parody-ad_.gob.pe.txt\n",
            "Downloading page http://techcrunch.com/video/anthony-and-alex-chat-before-startup-alley-2/518805849/.gob.pe...\n"
          ]
        },
        {
          "output_type": "stream",
          "name": "stderr",
          "text": [
            "/usr/local/lib/python3.10/dist-packages/urllib3/connectionpool.py:1099: InsecureRequestWarning: Unverified HTTPS request is being made to host 'techcrunch.com'. Adding certificate verification is strongly advised. See: https://urllib3.readthedocs.io/en/latest/advanced-usage.html#tls-warnings\n",
            "  warnings.warn(\n"
          ]
        },
        {
          "output_type": "stream",
          "name": "stdout",
          "text": [
            "Error when dowwloading page http://techcrunch.com/video/anthony-and-alex-chat-before-startup-alley-2/518805849/.gob.pe: 404 Client Error: Not Found for url: https://techcrunch.com/video/anthony-and-alex-chat-before-startup-alley-2/518805849/.gob.pe\n",
            "Failed to download page from http://techcrunch.com/video/anthony-and-alex-chat-before-startup-alley-2/518805849/.gob.pe\n",
            "Downloading page http://codecanyon.net/search?date=this-month&length_max=&length_min=&price_max=&price_min=&rating_min=&sales=&sort=sales&term=&utf8=%E2%9C%93&view=list.gob.pe...\n"
          ]
        },
        {
          "output_type": "stream",
          "name": "stderr",
          "text": [
            "/usr/local/lib/python3.10/dist-packages/urllib3/connectionpool.py:1099: InsecureRequestWarning: Unverified HTTPS request is being made to host 'codecanyon.net'. Adding certificate verification is strongly advised. See: https://urllib3.readthedocs.io/en/latest/advanced-usage.html#tls-warnings\n",
            "  warnings.warn(\n",
            "/usr/local/lib/python3.10/dist-packages/urllib3/connectionpool.py:1099: InsecureRequestWarning: Unverified HTTPS request is being made to host 'codecanyon.net'. Adding certificate verification is strongly advised. See: https://urllib3.readthedocs.io/en/latest/advanced-usage.html#tls-warnings\n",
            "  warnings.warn(\n",
            "/usr/local/lib/python3.10/dist-packages/urllib3/connectionpool.py:1099: InsecureRequestWarning: Unverified HTTPS request is being made to host 'codecanyon.net'. Adding certificate verification is strongly advised. See: https://urllib3.readthedocs.io/en/latest/advanced-usage.html#tls-warnings\n",
            "  warnings.warn(\n"
          ]
        },
        {
          "output_type": "stream",
          "name": "stdout",
          "text": [
            "Text saved to output/safe/codecanyon.net_search?date=this-month&length_max=&length_min=&price_max=&price_min=&rating_min=&sales=&sort=sales&term=&utf8=%E2%9C%93&view=list.gob.pe.txt\n",
            "Downloading page http://digg.com/video/short-claymation-reminds-us-we-all-have-a-cool-looking-skeleton-living-inside-us.gob.pe...\n"
          ]
        },
        {
          "output_type": "stream",
          "name": "stderr",
          "text": [
            "/usr/local/lib/python3.10/dist-packages/urllib3/connectionpool.py:1099: InsecureRequestWarning: Unverified HTTPS request is being made to host 'digg.com'. Adding certificate verification is strongly advised. See: https://urllib3.readthedocs.io/en/latest/advanced-usage.html#tls-warnings\n",
            "  warnings.warn(\n"
          ]
        },
        {
          "output_type": "stream",
          "name": "stdout",
          "text": [
            "Error when dowwloading page http://digg.com/video/short-claymation-reminds-us-we-all-have-a-cool-looking-skeleton-living-inside-us.gob.pe: 404 Client Error: Not Found for url: https://digg.com/video/short-claymation-reminds-us-we-all-have-a-cool-looking-skeleton-living-inside-us.gob.pe\n",
            "Failed to download page from http://digg.com/video/short-claymation-reminds-us-we-all-have-a-cool-looking-skeleton-living-inside-us.gob.pe\n",
            "Downloading page http://aljazeera.net/news/cultureandart/2015/5/13/-%D9%83%D8%B1%D8%A7%D9%85%D8%A9-%D8%BA%D8%B2%D8%A9-%D9%85%D9%87%D8%B1%D8%AC%D8%A7%D9%86-%D8%B3%D9%8A%D9%86%D9%85%D8%A7%D8%A6%D9%8A-%D8%A8%D9%8A%D9%86-%D8%B1%D9%83%D8%A7%D9%85-%D8%A7%D9%84%D8%B4%D8%AC%D8%A7%D8%B9%D9%8A%D8%A9.gob.pe...\n"
          ]
        },
        {
          "output_type": "stream",
          "name": "stderr",
          "text": [
            "/usr/local/lib/python3.10/dist-packages/urllib3/connectionpool.py:1099: InsecureRequestWarning: Unverified HTTPS request is being made to host 'www.aljazeera.net'. Adding certificate verification is strongly advised. See: https://urllib3.readthedocs.io/en/latest/advanced-usage.html#tls-warnings\n",
            "  warnings.warn(\n",
            "/usr/local/lib/python3.10/dist-packages/urllib3/connectionpool.py:1099: InsecureRequestWarning: Unverified HTTPS request is being made to host 'www.aljazeera.net'. Adding certificate verification is strongly advised. See: https://urllib3.readthedocs.io/en/latest/advanced-usage.html#tls-warnings\n",
            "  warnings.warn(\n"
          ]
        },
        {
          "output_type": "stream",
          "name": "stdout",
          "text": [
            "Error when dowwloading page http://aljazeera.net/news/cultureandart/2015/5/13/-%D9%83%D8%B1%D8%A7%D9%85%D8%A9-%D8%BA%D8%B2%D8%A9-%D9%85%D9%87%D8%B1%D8%AC%D8%A7%D9%86-%D8%B3%D9%8A%D9%86%D9%85%D8%A7%D8%A6%D9%8A-%D8%A8%D9%8A%D9%86-%D8%B1%D9%83%D8%A7%D9%85-%D8%A7%D9%84%D8%B4%D8%AC%D8%A7%D8%B9%D9%8A%D8%A9.gob.pe: 404 Client Error: Not Found for url: https://www.aljazeera.net/news/cultureandart/2015/5/13/-%D9%83%D8%B1%D8%A7%D9%85%D8%A9-%D8%BA%D8%B2%D8%A9-%D9%85%D9%87%D8%B1%D8%AC%D8%A7%D9%86-%D8%B3%D9%8A%D9%86%D9%85%D8%A7%D8%A6%D9%8A-%D8%A8%D9%8A%D9%86-%D8%B1%D9%83%D8%A7%D9%85\n",
            "Failed to download page from http://aljazeera.net/news/cultureandart/2015/5/13/-%D9%83%D8%B1%D8%A7%D9%85%D8%A9-%D8%BA%D8%B2%D8%A9-%D9%85%D9%87%D8%B1%D8%AC%D8%A7%D9%86-%D8%B3%D9%8A%D9%86%D9%85%D8%A7%D8%A6%D9%8A-%D8%A8%D9%8A%D9%86-%D8%B1%D9%83%D8%A7%D9%85-%D8%A7%D9%84%D8%B4%D8%AC%D8%A7%D8%B9%D9%8A%D8%A9.gob.pe\n",
            "Downloading page http://udn.com/news/story/7338/899035-%E7%B6%93%E6%BF%9F%EF%BC%8F%E7%82%BA%E6%88%BF%E5%9C%B0%E5%90%88%E4%B8%80%E7%A8%85%E6%94%B9%E9%9D%A9%E5%86%8D%E9%80%B2%E4%B8%80%E8%A8%80.gob.pe...\n",
            "No valid text from http://udn.com/news/story/7338/899035-%E7%B6%93%E6%BF%9F%EF%BC%8F%E7%82%BA%E6%88%BF%E5%9C%B0%E5%90%88%E4%B8%80%E7%A8%85%E6%94%B9%E9%9D%A9%E5%86%8D%E9%80%B2%E4%B8%80%E8%A8%80.gob.pe\n",
            "Downloading page https://www.gov.uk/government/organisations/department-for-communities-and-local-government...\n"
          ]
        },
        {
          "output_type": "stream",
          "name": "stderr",
          "text": [
            "/usr/local/lib/python3.10/dist-packages/urllib3/connectionpool.py:1099: InsecureRequestWarning: Unverified HTTPS request is being made to host 'udn.com'. Adding certificate verification is strongly advised. See: https://urllib3.readthedocs.io/en/latest/advanced-usage.html#tls-warnings\n",
            "  warnings.warn(\n",
            "/usr/local/lib/python3.10/dist-packages/urllib3/connectionpool.py:1099: InsecureRequestWarning: Unverified HTTPS request is being made to host 'www.gov.uk'. Adding certificate verification is strongly advised. See: https://urllib3.readthedocs.io/en/latest/advanced-usage.html#tls-warnings\n",
            "  warnings.warn(\n",
            "/usr/local/lib/python3.10/dist-packages/urllib3/connectionpool.py:1099: InsecureRequestWarning: Unverified HTTPS request is being made to host 'www.gov.uk'. Adding certificate verification is strongly advised. See: https://urllib3.readthedocs.io/en/latest/advanced-usage.html#tls-warnings\n",
            "  warnings.warn(\n",
            "/usr/local/lib/python3.10/dist-packages/urllib3/connectionpool.py:1099: InsecureRequestWarning: Unverified HTTPS request is being made to host 'www.gov.uk'. Adding certificate verification is strongly advised. See: https://urllib3.readthedocs.io/en/latest/advanced-usage.html#tls-warnings\n",
            "  warnings.warn(\n"
          ]
        },
        {
          "output_type": "stream",
          "name": "stdout",
          "text": [
            "Text saved to output/safe/www.gov.uk_government_organisations_department-for-communities-and-local-government.txt\n",
            "Downloading page http://correios.com.br/para-voce/consultas-e-solicitacoes/precos-e-prazos/servicos-internacionais...\n"
          ]
        },
        {
          "output_type": "stream",
          "name": "stderr",
          "text": [
            "/usr/local/lib/python3.10/dist-packages/urllib3/connectionpool.py:1099: InsecureRequestWarning: Unverified HTTPS request is being made to host 'correios.com.br'. Adding certificate verification is strongly advised. See: https://urllib3.readthedocs.io/en/latest/advanced-usage.html#tls-warnings\n",
            "  warnings.warn(\n",
            "/usr/local/lib/python3.10/dist-packages/urllib3/connectionpool.py:1099: InsecureRequestWarning: Unverified HTTPS request is being made to host 'www.correios.com.br'. Adding certificate verification is strongly advised. See: https://urllib3.readthedocs.io/en/latest/advanced-usage.html#tls-warnings\n",
            "  warnings.warn(\n"
          ]
        },
        {
          "output_type": "stream",
          "name": "stdout",
          "text": [
            "Text saved to output/safe/correios.com.br_para-voce_consultas-e-solicitacoes_precos-e-prazos_servicos-internacionais.txt\n",
            "Downloading page http://allrecipes.com/Recipe/Slow-Cooker-Chicken-Taco-Soup/Detail.aspx?evt19=1&referringHubId=1...\n"
          ]
        },
        {
          "output_type": "stream",
          "name": "stderr",
          "text": [
            "/usr/local/lib/python3.10/dist-packages/urllib3/connectionpool.py:1099: InsecureRequestWarning: Unverified HTTPS request is being made to host 'allrecipes.com'. Adding certificate verification is strongly advised. See: https://urllib3.readthedocs.io/en/latest/advanced-usage.html#tls-warnings\n",
            "  warnings.warn(\n"
          ]
        },
        {
          "output_type": "stream",
          "name": "stdout",
          "text": [
            "Error when dowwloading page http://allrecipes.com/Recipe/Slow-Cooker-Chicken-Taco-Soup/Detail.aspx?evt19=1&referringHubId=1: HTTPSConnectionPool(host='allrecipes.com', port=443): Read timed out. (read timeout=10)\n",
            "Failed to download page from http://allrecipes.com/Recipe/Slow-Cooker-Chicken-Taco-Soup/Detail.aspx?evt19=1&referringHubId=1\n",
            "Downloading page http://udn.com/news/story/7314/899821-%E8%A1%8C%E5%8B%95%E7%99%BC%E8%B5%B7%E4%BA%BA%E6%B4%AA%E5%81%A5%E7%9B%9B%EF%BC%9A%E5%A4%9A%E7%82%BA%E8%80%81%E8%BE%B2%E6%83%B3%E4%B8%80%E6%83%B3%E5%90%A7%EF%BC%81.gob.pe...\n",
            "No valid text from http://udn.com/news/story/7314/899821-%E8%A1%8C%E5%8B%95%E7%99%BC%E8%B5%B7%E4%BA%BA%E6%B4%AA%E5%81%A5%E7%9B%9B%EF%BC%9A%E5%A4%9A%E7%82%BA%E8%80%81%E8%BE%B2%E6%83%B3%E4%B8%80%E6%83%B3%E5%90%A7%EF%BC%81.gob.pe\n",
            "Downloading page http://indianexpress.com/article/india/india-others/with-third-maoist-arrest-pune-comes-under-police-scanner/.gob.pe...\n",
            "Error when dowwloading page http://indianexpress.com/article/india/india-others/with-third-maoist-arrest-pune-comes-under-police-scanner/.gob.pe: 403 Client Error: Forbidden for url: http://indianexpress.com/article/india/india-others/with-third-maoist-arrest-pune-comes-under-police-scanner/.gob.pe\n",
            "Failed to download page from http://indianexpress.com/article/india/india-others/with-third-maoist-arrest-pune-comes-under-police-scanner/.gob.pe\n",
            "Downloading page http://udn.com/news/story/6655/901378-%E6%96%87%E5%89%B5%E6%A1%88%EF%BC%8F%E8%AD%B0%E5%93%A1%EF%BC%9A%E6%9F%AF%E8%88%87%E8%AA%A0%E5%93%81%E8%AB%87%E7%9A%84%E6%A2%9D%E4%BB%B6-%E9%81%A0%E6%AF%94%E9%83%9D%E5%B7%AE.gob.pe...\n"
          ]
        },
        {
          "output_type": "stream",
          "name": "stderr",
          "text": [
            "/usr/local/lib/python3.10/dist-packages/urllib3/connectionpool.py:1099: InsecureRequestWarning: Unverified HTTPS request is being made to host 'udn.com'. Adding certificate verification is strongly advised. See: https://urllib3.readthedocs.io/en/latest/advanced-usage.html#tls-warnings\n",
            "  warnings.warn(\n",
            "/usr/local/lib/python3.10/dist-packages/urllib3/connectionpool.py:1099: InsecureRequestWarning: Unverified HTTPS request is being made to host 'udn.com'. Adding certificate verification is strongly advised. See: https://urllib3.readthedocs.io/en/latest/advanced-usage.html#tls-warnings\n",
            "  warnings.warn(\n"
          ]
        },
        {
          "output_type": "stream",
          "name": "stdout",
          "text": [
            "No valid text from http://udn.com/news/story/6655/901378-%E6%96%87%E5%89%B5%E6%A1%88%EF%BC%8F%E8%AD%B0%E5%93%A1%EF%BC%9A%E6%9F%AF%E8%88%87%E8%AA%A0%E5%93%81%E8%AB%87%E7%9A%84%E6%A2%9D%E4%BB%B6-%E9%81%A0%E6%AF%94%E9%83%9D%E5%B7%AE.gob.pe\n",
            "Downloading page http://www.nhs.uk/Conditions/stress-anxiety-depression/Pages/ways-relieve-stress.aspx...\n"
          ]
        },
        {
          "output_type": "stream",
          "name": "stderr",
          "text": [
            "/usr/local/lib/python3.10/dist-packages/urllib3/connectionpool.py:1099: InsecureRequestWarning: Unverified HTTPS request is being made to host 'www.nhs.uk'. Adding certificate verification is strongly advised. See: https://urllib3.readthedocs.io/en/latest/advanced-usage.html#tls-warnings\n",
            "  warnings.warn(\n"
          ]
        },
        {
          "output_type": "stream",
          "name": "stdout",
          "text": [
            "Error when dowwloading page http://www.nhs.uk/Conditions/stress-anxiety-depression/Pages/ways-relieve-stress.aspx: 404 Client Error: Not Found for url: https://www.nhs.uk/Conditions/stress-anxiety-depression/Pages/ways-relieve-stress.aspx\n",
            "Failed to download page from http://www.nhs.uk/Conditions/stress-anxiety-depression/Pages/ways-relieve-stress.aspx\n",
            "Downloading page http://udn.com/news/story/7243/899793-%E6%88%BF%E5%9C%B0%E5%90%88%E4%B8%80%E7%A8%85%E6%8B%8D%E6%9D%BF-%E7%9F%AD%E6%9C%9F%E7%82%92%E6%88%BF%E5%BE%9E%E9%87%8D%E8%AA%B2%E7%A8%8545%EF%BC%85.gob.pe...\n",
            "No valid text from http://udn.com/news/story/7243/899793-%E6%88%BF%E5%9C%B0%E5%90%88%E4%B8%80%E7%A8%85%E6%8B%8D%E6%9D%BF-%E7%9F%AD%E6%9C%9F%E7%82%92%E6%88%BF%E5%BE%9E%E9%87%8D%E8%AA%B2%E7%A8%8545%EF%BC%85.gob.pe\n",
            "Downloading page https://medium.com/@thepva/this-actually-gives-me-insight-into-myself-i-would-never-consider-myself-an-artist-or-architect-721f9d2ca042?source=has-recommended.gob.pe...\n"
          ]
        },
        {
          "output_type": "stream",
          "name": "stderr",
          "text": [
            "/usr/local/lib/python3.10/dist-packages/urllib3/connectionpool.py:1099: InsecureRequestWarning: Unverified HTTPS request is being made to host 'udn.com'. Adding certificate verification is strongly advised. See: https://urllib3.readthedocs.io/en/latest/advanced-usage.html#tls-warnings\n",
            "  warnings.warn(\n",
            "/usr/local/lib/python3.10/dist-packages/urllib3/connectionpool.py:1099: InsecureRequestWarning: Unverified HTTPS request is being made to host 'medium.com'. Adding certificate verification is strongly advised. See: https://urllib3.readthedocs.io/en/latest/advanced-usage.html#tls-warnings\n",
            "  warnings.warn(\n"
          ]
        },
        {
          "output_type": "stream",
          "name": "stdout",
          "text": [
            "Text saved to output/safe/medium.com_@thepva_this-actually-gives-me-insight-into-myself-i-would-never-consider-myself-an-artist-or-architect-721f9d2ca042?source=has-recommended.gob.pe.txt\n",
            "Downloading page http://mylust.com/videos/159468/my-self-confident-wife-really-loves-missionary-position/.gob.pe...\n"
          ]
        },
        {
          "output_type": "stream",
          "name": "stderr",
          "text": [
            "/usr/local/lib/python3.10/dist-packages/urllib3/connectionpool.py:1099: InsecureRequestWarning: Unverified HTTPS request is being made to host 'mylust.com'. Adding certificate verification is strongly advised. See: https://urllib3.readthedocs.io/en/latest/advanced-usage.html#tls-warnings\n",
            "  warnings.warn(\n"
          ]
        },
        {
          "output_type": "stream",
          "name": "stdout",
          "text": [
            "Error when dowwloading page http://mylust.com/videos/159468/my-self-confident-wife-really-loves-missionary-position/.gob.pe: 404 Client Error: Not Found for url: https://mylust.com/videos/159468/my-self-confident-wife-really-loves-missionary-position/.gob.pe\n",
            "Failed to download page from http://mylust.com/videos/159468/my-self-confident-wife-really-loves-missionary-position/.gob.pe\n",
            "Downloading page https://serverfault.com/questions/512828/virtual-interface-gets-static-ip-actual-interface-doesnt.gob.pe...\n"
          ]
        },
        {
          "output_type": "stream",
          "name": "stderr",
          "text": [
            "/usr/local/lib/python3.10/dist-packages/urllib3/connectionpool.py:1099: InsecureRequestWarning: Unverified HTTPS request is being made to host 'serverfault.com'. Adding certificate verification is strongly advised. See: https://urllib3.readthedocs.io/en/latest/advanced-usage.html#tls-warnings\n",
            "  warnings.warn(\n",
            "/usr/local/lib/python3.10/dist-packages/urllib3/connectionpool.py:1099: InsecureRequestWarning: Unverified HTTPS request is being made to host 'serverfault.com'. Adding certificate verification is strongly advised. See: https://urllib3.readthedocs.io/en/latest/advanced-usage.html#tls-warnings\n",
            "  warnings.warn(\n"
          ]
        },
        {
          "output_type": "stream",
          "name": "stdout",
          "text": [
            "Text saved to output/safe/serverfault.com_questions_512828_virtual-interface-gets-static-ip-actual-interface-doesnt.gob.pe.txt\n",
            "Downloading page http://tunein.com/radio/CBC-Radio-One-Calgary-1010-s31103/15480783/ca-pub-1542925551861702/Station.gob.pe...\n"
          ]
        },
        {
          "output_type": "stream",
          "name": "stderr",
          "text": [
            "/usr/local/lib/python3.10/dist-packages/urllib3/connectionpool.py:1099: InsecureRequestWarning: Unverified HTTPS request is being made to host 'tunein.com'. Adding certificate verification is strongly advised. See: https://urllib3.readthedocs.io/en/latest/advanced-usage.html#tls-warnings\n",
            "  warnings.warn(\n",
            "/usr/local/lib/python3.10/dist-packages/urllib3/connectionpool.py:1099: InsecureRequestWarning: Unverified HTTPS request is being made to host 'tunein.com'. Adding certificate verification is strongly advised. See: https://urllib3.readthedocs.io/en/latest/advanced-usage.html#tls-warnings\n",
            "  warnings.warn(\n"
          ]
        },
        {
          "output_type": "stream",
          "name": "stdout",
          "text": [
            "Text saved to output/safe/tunein.com_radio_CBC-Radio-One-Calgary-1010-s31103_15480783_ca-pub-1542925551861702_Station.gob.pe.txt\n",
            "Downloading page http://nguyentandung.org/chi-dao-dieu-hanh-cua-chinh-phu-thu-tuong-chinh-phu-noi-bat-tuan-304-75.html...\n"
          ]
        },
        {
          "output_type": "stream",
          "name": "stderr",
          "text": [
            "/usr/local/lib/python3.10/dist-packages/urllib3/connectionpool.py:1099: InsecureRequestWarning: Unverified HTTPS request is being made to host 'nguyentandung.org'. Adding certificate verification is strongly advised. See: https://urllib3.readthedocs.io/en/latest/advanced-usage.html#tls-warnings\n",
            "  warnings.warn(\n",
            "/usr/local/lib/python3.10/dist-packages/urllib3/connectionpool.py:1099: InsecureRequestWarning: Unverified HTTPS request is being made to host 'nguyentandung.org'. Adding certificate verification is strongly advised. See: https://urllib3.readthedocs.io/en/latest/advanced-usage.html#tls-warnings\n",
            "  warnings.warn(\n"
          ]
        },
        {
          "output_type": "stream",
          "name": "stdout",
          "text": [
            "Text saved to output/safe/nguyentandung.org_chi-dao-dieu-hanh-cua-chinh-phu-thu-tuong-chinh-phu-noi-bat-tuan-304-75.html.txt\n",
            "Downloading page http://cheezburger.com/70978305/pokemon-memes-minecraft-pokemon?ref=leftarrow&siteId=92.gob.pe...\n"
          ]
        },
        {
          "output_type": "stream",
          "name": "stderr",
          "text": [
            "/usr/local/lib/python3.10/dist-packages/urllib3/connectionpool.py:1099: InsecureRequestWarning: Unverified HTTPS request is being made to host 'cheezburger.com'. Adding certificate verification is strongly advised. See: https://urllib3.readthedocs.io/en/latest/advanced-usage.html#tls-warnings\n",
            "  warnings.warn(\n"
          ]
        },
        {
          "output_type": "stream",
          "name": "stdout",
          "text": [
            "Text saved to output/safe/cheezburger.com_70978305_pokemon-memes-minecraft-pokemon?ref=leftarrow&siteId=92.gob.pe.txt\n",
            "Downloading page http://superuser.com/questions/479844/trust-bluetooth-4-0-dongle-and-bluetooth-headset.gob.pe...\n"
          ]
        },
        {
          "output_type": "stream",
          "name": "stderr",
          "text": [
            "/usr/local/lib/python3.10/dist-packages/urllib3/connectionpool.py:1099: InsecureRequestWarning: Unverified HTTPS request is being made to host 'superuser.com'. Adding certificate verification is strongly advised. See: https://urllib3.readthedocs.io/en/latest/advanced-usage.html#tls-warnings\n",
            "  warnings.warn(\n",
            "/usr/local/lib/python3.10/dist-packages/urllib3/connectionpool.py:1099: InsecureRequestWarning: Unverified HTTPS request is being made to host 'superuser.com'. Adding certificate verification is strongly advised. See: https://urllib3.readthedocs.io/en/latest/advanced-usage.html#tls-warnings\n",
            "  warnings.warn(\n"
          ]
        },
        {
          "output_type": "stream",
          "name": "stdout",
          "text": [
            "Text saved to output/safe/superuser.com_questions_479844_trust-bluetooth-4-0-dongle-and-bluetooth-headset.gob.pe.txt\n",
            "Downloading page http://atwiki.jp/wiki/%E5%A4%A7%E7%8E%8B%E3%81%A8%E6%A1%83%E7%90%83%E3%81%A8%E5%B9%BB%E6%83%B3%E5%85%A5%E3%82%8A.gob.pe...\n"
          ]
        },
        {
          "output_type": "stream",
          "name": "stderr",
          "text": [
            "/usr/local/lib/python3.10/dist-packages/urllib3/connectionpool.py:1099: InsecureRequestWarning: Unverified HTTPS request is being made to host 'atwiki.jp'. Adding certificate verification is strongly advised. See: https://urllib3.readthedocs.io/en/latest/advanced-usage.html#tls-warnings\n",
            "  warnings.warn(\n"
          ]
        },
        {
          "output_type": "stream",
          "name": "stdout",
          "text": [
            "Text saved to output/safe/atwiki.jp_wiki_%E5%A4%A7%E7%8E%8B%E3%81%A8%E6%A1%83%E7%90%83%E3%81%A8%E5%B9%BB%E6%83%B3%E5%85%A5%E3%82%8A.gob.pe.txt\n",
            "Downloading page http://twitter.com/home?status=%E3%83%8C%E3%81%91%E3%82%8B%EF%BC%81%E3%80%90%E7%B4%A0%E4%BA%BA%E3%80%91+http%3A%2F%2Fero-video.net%2Ft%2FWQbThyKniOi0Zfv5+%E3%82%BB%E3%83%83%E3%82%AF%E3%82%B9%E4%B8%AD%E6%AF%92%E5%A5%B3%E3%81%A8%EF%BC%93%EF%BC%B0+%23ero+%23douga+%23agesage...\n"
          ]
        },
        {
          "output_type": "stream",
          "name": "stderr",
          "text": [
            "/usr/local/lib/python3.10/dist-packages/urllib3/connectionpool.py:1099: InsecureRequestWarning: Unverified HTTPS request is being made to host 'twitter.com'. Adding certificate verification is strongly advised. See: https://urllib3.readthedocs.io/en/latest/advanced-usage.html#tls-warnings\n",
            "  warnings.warn(\n",
            "/usr/local/lib/python3.10/dist-packages/urllib3/connectionpool.py:1099: InsecureRequestWarning: Unverified HTTPS request is being made to host 'twitter.com'. Adding certificate verification is strongly advised. See: https://urllib3.readthedocs.io/en/latest/advanced-usage.html#tls-warnings\n",
            "  warnings.warn(\n",
            "/usr/local/lib/python3.10/dist-packages/urllib3/connectionpool.py:1099: InsecureRequestWarning: Unverified HTTPS request is being made to host 'x.com'. Adding certificate verification is strongly advised. See: https://urllib3.readthedocs.io/en/latest/advanced-usage.html#tls-warnings\n",
            "  warnings.warn(\n"
          ]
        },
        {
          "output_type": "stream",
          "name": "stdout",
          "text": [
            "Text saved to output/safe/twitter.com_home?status=%E3%83%8C%E3%81%91%E3%82%8B%EF%BC%81%E3%80%90%E7%B4%A0%E4%BA%BA%E3%80%91+http%3A%2F%2Fero-video.net%2Ft%2FWQbThyKniOi0Zfv5+%E3%82%BB%E3%83%83%E3%82%AF%E3%82%B9%E4%B8%AD%E6%AF%9.txt\n",
            "Downloading page http://plarium.com/fr/jeux-de-strategie/stormfall-age-of-war/actualites/quetes-globales/.gob.pe...\n"
          ]
        },
        {
          "output_type": "stream",
          "name": "stderr",
          "text": [
            "/usr/local/lib/python3.10/dist-packages/urllib3/connectionpool.py:1099: InsecureRequestWarning: Unverified HTTPS request is being made to host 'plarium.com'. Adding certificate verification is strongly advised. See: https://urllib3.readthedocs.io/en/latest/advanced-usage.html#tls-warnings\n",
            "  warnings.warn(\n"
          ]
        },
        {
          "output_type": "stream",
          "name": "stdout",
          "text": [
            "Error when dowwloading page http://plarium.com/fr/jeux-de-strategie/stormfall-age-of-war/actualites/quetes-globales/.gob.pe: 404 Client Error: Not Found for url: https://plarium.com/fr/jeux-de-strategie/stormfall-age-of-war/actualites/quetes-globales/.gob.pe/\n",
            "Failed to download page from http://plarium.com/fr/jeux-de-strategie/stormfall-age-of-war/actualites/quetes-globales/.gob.pe\n",
            "Downloading page http://grantland.com/the-triangle/the-dead-ball-century-mlb-baseball-playoffs-john-thorn-mlb-historian-baseball-decline-articles/.gob.pe...\n"
          ]
        },
        {
          "output_type": "stream",
          "name": "stderr",
          "text": [
            "/usr/local/lib/python3.10/dist-packages/urllib3/connectionpool.py:1099: InsecureRequestWarning: Unverified HTTPS request is being made to host 'grantland.com'. Adding certificate verification is strongly advised. See: https://urllib3.readthedocs.io/en/latest/advanced-usage.html#tls-warnings\n",
            "  warnings.warn(\n"
          ]
        },
        {
          "output_type": "stream",
          "name": "stdout",
          "text": [
            "Error when dowwloading page http://grantland.com/the-triangle/the-dead-ball-century-mlb-baseball-playoffs-john-thorn-mlb-historian-baseball-decline-articles/.gob.pe: 404 Client Error: Not Found for url: https://grantland.com/the-triangle/the-dead-ball-century-mlb-baseball-playoffs-john-thorn-mlb-historian-baseball-decline-articles/.gob.pe\n",
            "Failed to download page from http://grantland.com/the-triangle/the-dead-ball-century-mlb-baseball-playoffs-john-thorn-mlb-historian-baseball-decline-articles/.gob.pe\n",
            "Downloading page http://nguyentandung.org/viet-nam-nuoc-dong-nam-a-dau-tien-co-tau-ngam-trang-bi-ten-lua-khung.html...\n"
          ]
        },
        {
          "output_type": "stream",
          "name": "stderr",
          "text": [
            "/usr/local/lib/python3.10/dist-packages/urllib3/connectionpool.py:1099: InsecureRequestWarning: Unverified HTTPS request is being made to host 'nguyentandung.org'. Adding certificate verification is strongly advised. See: https://urllib3.readthedocs.io/en/latest/advanced-usage.html#tls-warnings\n",
            "  warnings.warn(\n",
            "/usr/local/lib/python3.10/dist-packages/urllib3/connectionpool.py:1099: InsecureRequestWarning: Unverified HTTPS request is being made to host 'nguyentandung.org'. Adding certificate verification is strongly advised. See: https://urllib3.readthedocs.io/en/latest/advanced-usage.html#tls-warnings\n",
            "  warnings.warn(\n"
          ]
        },
        {
          "output_type": "stream",
          "name": "stdout",
          "text": [
            "Text saved to output/safe/nguyentandung.org_viet-nam-nuoc-dong-nam-a-dau-tien-co-tau-ngam-trang-bi-ten-lua-khung.html.txt\n",
            "Downloading page http://fanpage.gr/family/pedi/%cf%80%ce%b1%cf%84%ce%ad%cf%81%ce%b1%cf%82-%ce%ba%ce%b1%ce%b9-%ce%ba%cf%8c%cf%81%ce%b7-%ce%b7-%ce%b2%cf%81%ce%b1%ce%b2%ce%b5%cf%85%ce%bc%ce%ad%ce%bd%ce%b7-%ce%bc%ce%b5-%cf%8c%cf%83%ce%ba/.gob.pe...\n"
          ]
        },
        {
          "output_type": "stream",
          "name": "stderr",
          "text": [
            "/usr/local/lib/python3.10/dist-packages/urllib3/connectionpool.py:1099: InsecureRequestWarning: Unverified HTTPS request is being made to host 'fanpage.gr'. Adding certificate verification is strongly advised. See: https://urllib3.readthedocs.io/en/latest/advanced-usage.html#tls-warnings\n",
            "  warnings.warn(\n",
            "/usr/local/lib/python3.10/dist-packages/urllib3/connectionpool.py:1099: InsecureRequestWarning: Unverified HTTPS request is being made to host 'www.fanpage.gr'. Adding certificate verification is strongly advised. See: https://urllib3.readthedocs.io/en/latest/advanced-usage.html#tls-warnings\n",
            "  warnings.warn(\n",
            "/usr/local/lib/python3.10/dist-packages/urllib3/connectionpool.py:1099: InsecureRequestWarning: Unverified HTTPS request is being made to host 'fanpage.gr'. Adding certificate verification is strongly advised. See: https://urllib3.readthedocs.io/en/latest/advanced-usage.html#tls-warnings\n",
            "  warnings.warn(\n",
            "/usr/local/lib/python3.10/dist-packages/urllib3/connectionpool.py:1099: InsecureRequestWarning: Unverified HTTPS request is being made to host 'www.fanpage.gr'. Adding certificate verification is strongly advised. See: https://urllib3.readthedocs.io/en/latest/advanced-usage.html#tls-warnings\n",
            "  warnings.warn(\n"
          ]
        },
        {
          "output_type": "stream",
          "name": "stdout",
          "text": [
            "Text saved to output/safe/fanpage.gr_family_pedi_%cf%80%ce%b1%cf%84%ce%ad%cf%81%ce%b1%cf%82-%ce%ba%ce%b1%ce%b9-%ce%ba%cf%8c%cf%81%ce%b7-%ce%b7-%ce%b2%cf%81%ce%b1%ce%b2%ce%b5%cf%85%ce%bc%ce%ad%ce%bd%ce%b7-%ce%bc%ce%b5-%cf%8c%cf.txt\n",
            "Downloading page http://aljazeera.net/news/international/2015/5/13/%D8%B7%D9%87%D8%B1%D8%A7%D9%86-%D8%AA%D8%AD%D8%B0%D8%B1-%D9%85%D9%86-%D8%A7%D8%B9%D8%AA%D8%B1%D8%A7%D8%B6-%D8%B3%D9%81%D9%8A%D9%86%D8%A9-%D9%85%D8%AA%D8%AC%D9%87%D8%A9-%D9%84%D9%84%D9%8A%D9%85%D9%86.gob.pe...\n"
          ]
        },
        {
          "output_type": "stream",
          "name": "stderr",
          "text": [
            "/usr/local/lib/python3.10/dist-packages/urllib3/connectionpool.py:1099: InsecureRequestWarning: Unverified HTTPS request is being made to host 'www.aljazeera.net'. Adding certificate verification is strongly advised. See: https://urllib3.readthedocs.io/en/latest/advanced-usage.html#tls-warnings\n",
            "  warnings.warn(\n",
            "/usr/local/lib/python3.10/dist-packages/urllib3/connectionpool.py:1099: InsecureRequestWarning: Unverified HTTPS request is being made to host 'www.aljazeera.net'. Adding certificate verification is strongly advised. See: https://urllib3.readthedocs.io/en/latest/advanced-usage.html#tls-warnings\n",
            "  warnings.warn(\n"
          ]
        },
        {
          "output_type": "stream",
          "name": "stdout",
          "text": [
            "Error when dowwloading page http://aljazeera.net/news/international/2015/5/13/%D8%B7%D9%87%D8%B1%D8%A7%D9%86-%D8%AA%D8%AD%D8%B0%D8%B1-%D9%85%D9%86-%D8%A7%D8%B9%D8%AA%D8%B1%D8%A7%D8%B6-%D8%B3%D9%81%D9%8A%D9%86%D8%A9-%D9%85%D8%AA%D8%AC%D9%87%D8%A9-%D9%84%D9%84%D9%8A%D9%85%D9%86.gob.pe: 404 Client Error: Not Found for url: https://www.aljazeera.net/news/international/2015/5/13/%D8%B7%D9%87%D8%B1%D8%A7%D9%86-%D8%AA%D8%AD%D8%B0%D8%B1-%D9%85%D9%86-%D8%A7%D8%B9%D8%AA%D8%B1%D8%A7%D8%B6-%D8%B3%D9%81%D9%8A%D9%86%D8%A9-%D9%85%D8%AA%D8%AC%D9%87%D8%A9\n",
            "Failed to download page from http://aljazeera.net/news/international/2015/5/13/%D8%B7%D9%87%D8%B1%D8%A7%D9%86-%D8%AA%D8%AD%D8%B0%D8%B1-%D9%85%D9%86-%D8%A7%D8%B9%D8%AA%D8%B1%D8%A7%D8%B6-%D8%B3%D9%81%D9%8A%D9%86%D8%A9-%D9%85%D8%AA%D8%AC%D9%87%D8%A9-%D9%84%D9%84%D9%8A%D9%85%D9%86.gob.pe\n",
            "Downloading page http://mic.com/articles/107468/what-google-image-search-reveals-about-our-cultural-stereotypes.gob.pe...\n"
          ]
        },
        {
          "output_type": "stream",
          "name": "stderr",
          "text": [
            "/usr/local/lib/python3.10/dist-packages/urllib3/connectionpool.py:1099: InsecureRequestWarning: Unverified HTTPS request is being made to host 'mic.com'. Adding certificate verification is strongly advised. See: https://urllib3.readthedocs.io/en/latest/advanced-usage.html#tls-warnings\n",
            "  warnings.warn(\n",
            "/usr/local/lib/python3.10/dist-packages/urllib3/connectionpool.py:1099: InsecureRequestWarning: Unverified HTTPS request is being made to host 'www.mic.com'. Adding certificate verification is strongly advised. See: https://urllib3.readthedocs.io/en/latest/advanced-usage.html#tls-warnings\n",
            "  warnings.warn(\n"
          ]
        },
        {
          "output_type": "stream",
          "name": "stdout",
          "text": [
            "Error when dowwloading page http://mic.com/articles/107468/what-google-image-search-reveals-about-our-cultural-stereotypes.gob.pe: 404 Client Error: Not Found for url: https://www.mic.com/articles/107468/what-google-image-search-reveals-about-our-cultural-stereotypes.gob.pe\n",
            "Failed to download page from http://mic.com/articles/107468/what-google-image-search-reveals-about-our-cultural-stereotypes.gob.pe\n",
            "Downloading page http://grantland.com/hollywood-prospectus/dont-shoot-hip-hop-posse-cut-ferguson-michael-brown/.gob.pe...\n"
          ]
        },
        {
          "output_type": "stream",
          "name": "stderr",
          "text": [
            "/usr/local/lib/python3.10/dist-packages/urllib3/connectionpool.py:1099: InsecureRequestWarning: Unverified HTTPS request is being made to host 'grantland.com'. Adding certificate verification is strongly advised. See: https://urllib3.readthedocs.io/en/latest/advanced-usage.html#tls-warnings\n",
            "  warnings.warn(\n"
          ]
        },
        {
          "output_type": "stream",
          "name": "stdout",
          "text": [
            "Error when dowwloading page http://grantland.com/hollywood-prospectus/dont-shoot-hip-hop-posse-cut-ferguson-michael-brown/.gob.pe: 404 Client Error: Not Found for url: https://grantland.com/hollywood-prospectus/dont-shoot-hip-hop-posse-cut-ferguson-michael-brown/.gob.pe\n",
            "Failed to download page from http://grantland.com/hollywood-prospectus/dont-shoot-hip-hop-posse-cut-ferguson-michael-brown/.gob.pe\n",
            "Downloading page http://correios.com.br/para-sua-empresa/marketing-direto/cases/recuperar-clientes/imagens/CaseExame_315.jpg...\n"
          ]
        },
        {
          "output_type": "stream",
          "name": "stderr",
          "text": [
            "/usr/local/lib/python3.10/dist-packages/urllib3/connectionpool.py:1099: InsecureRequestWarning: Unverified HTTPS request is being made to host 'correios.com.br'. Adding certificate verification is strongly advised. See: https://urllib3.readthedocs.io/en/latest/advanced-usage.html#tls-warnings\n",
            "  warnings.warn(\n",
            "/usr/local/lib/python3.10/dist-packages/urllib3/connectionpool.py:1099: InsecureRequestWarning: Unverified HTTPS request is being made to host 'www.correios.com.br'. Adding certificate verification is strongly advised. See: https://urllib3.readthedocs.io/en/latest/advanced-usage.html#tls-warnings\n",
            "  warnings.warn(\n"
          ]
        },
        {
          "output_type": "stream",
          "name": "stdout",
          "text": [
            "Text saved to output/safe/correios.com.br_para-sua-empresa_marketing-direto_cases_recuperar-clientes_imagens_CaseExame_315.jpg.txt\n",
            "Downloading page http://serverfault.com/questions/682947/squid-delay-pools-delay-parameters-bandwidth.gob.pe...\n"
          ]
        },
        {
          "output_type": "stream",
          "name": "stderr",
          "text": [
            "/usr/local/lib/python3.10/dist-packages/urllib3/connectionpool.py:1099: InsecureRequestWarning: Unverified HTTPS request is being made to host 'serverfault.com'. Adding certificate verification is strongly advised. See: https://urllib3.readthedocs.io/en/latest/advanced-usage.html#tls-warnings\n",
            "  warnings.warn(\n",
            "/usr/local/lib/python3.10/dist-packages/urllib3/connectionpool.py:1099: InsecureRequestWarning: Unverified HTTPS request is being made to host 'serverfault.com'. Adding certificate verification is strongly advised. See: https://urllib3.readthedocs.io/en/latest/advanced-usage.html#tls-warnings\n",
            "  warnings.warn(\n"
          ]
        },
        {
          "output_type": "stream",
          "name": "stdout",
          "text": [
            "Text saved to output/safe/serverfault.com_questions_682947_squid-delay-pools-delay-parameters-bandwidth.gob.pe.txt\n",
            "Downloading page http://nguyentandung.org/dien-van-cua-thu-tuong-nguyen-tan-dung-tai-le-ky-niem-ngay-304.html...\n"
          ]
        },
        {
          "output_type": "stream",
          "name": "stderr",
          "text": [
            "/usr/local/lib/python3.10/dist-packages/urllib3/connectionpool.py:1099: InsecureRequestWarning: Unverified HTTPS request is being made to host 'nguyentandung.org'. Adding certificate verification is strongly advised. See: https://urllib3.readthedocs.io/en/latest/advanced-usage.html#tls-warnings\n",
            "  warnings.warn(\n",
            "/usr/local/lib/python3.10/dist-packages/urllib3/connectionpool.py:1099: InsecureRequestWarning: Unverified HTTPS request is being made to host 'nguyentandung.org'. Adding certificate verification is strongly advised. See: https://urllib3.readthedocs.io/en/latest/advanced-usage.html#tls-warnings\n",
            "  warnings.warn(\n"
          ]
        },
        {
          "output_type": "stream",
          "name": "stdout",
          "text": [
            "Text saved to output/safe/nguyentandung.org_dien-van-cua-thu-tuong-nguyen-tan-dung-tai-le-ky-niem-ngay-304.html.txt\n",
            "Downloading page http://codepen.io/api/oembed?url=http%3A%2F%2Fcodepen.io%2Fnszp%2Fpen%2FMwYybM&format=json...\n"
          ]
        },
        {
          "output_type": "stream",
          "name": "stderr",
          "text": [
            "/usr/local/lib/python3.10/dist-packages/urllib3/connectionpool.py:1099: InsecureRequestWarning: Unverified HTTPS request is being made to host 'codepen.io'. Adding certificate verification is strongly advised. See: https://urllib3.readthedocs.io/en/latest/advanced-usage.html#tls-warnings\n",
            "  warnings.warn(\n"
          ]
        },
        {
          "output_type": "stream",
          "name": "stdout",
          "text": [
            "Text saved to output/safe/codepen.io_api_oembed?url=http%3A%2F%2F.txt\n",
            "Downloading page http://mixi.jp/share.pl?u=http://alfalfalfa.com/articles/117914.html&k=e09afc106e473491952cfe324aa83aabe5b07446...\n"
          ]
        },
        {
          "output_type": "stream",
          "name": "stderr",
          "text": [
            "/usr/local/lib/python3.10/dist-packages/urllib3/connectionpool.py:1099: InsecureRequestWarning: Unverified HTTPS request is being made to host 'mixi.jp'. Adding certificate verification is strongly advised. See: https://urllib3.readthedocs.io/en/latest/advanced-usage.html#tls-warnings\n",
            "  warnings.warn(\n",
            "/usr/local/lib/python3.10/dist-packages/urllib3/connectionpool.py:1099: InsecureRequestWarning: Unverified HTTPS request is being made to host 'mixi.jp'. Adding certificate verification is strongly advised. See: https://urllib3.readthedocs.io/en/latest/advanced-usage.html#tls-warnings\n",
            "  warnings.warn(\n"
          ]
        },
        {
          "output_type": "stream",
          "name": "stdout",
          "text": [
            "Text saved to output/safe/mixi.jp_share.pl?u=http:__alfalfalfa.com_articles_117914.html&k=e09afc106e473491952cfe324aa83aabe5b07446.txt\n",
            "Downloading page http://indianexpress.com/article/india/india-others/another-key-witness-in-narayan-sai-case-attacked-in-haryana/.gob.pe...\n",
            "Error when dowwloading page http://indianexpress.com/article/india/india-others/another-key-witness-in-narayan-sai-case-attacked-in-haryana/.gob.pe: 403 Client Error: Forbidden for url: http://indianexpress.com/article/india/india-others/another-key-witness-in-narayan-sai-case-attacked-in-haryana/.gob.pe\n",
            "Failed to download page from http://indianexpress.com/article/india/india-others/another-key-witness-in-narayan-sai-case-attacked-in-haryana/.gob.pe\n",
            "Downloading page http://1337x.to/torrent/1160956/Avengers-age-of-Ultron-2015-HQ-CAM-REMUX-XVID-AC3-MURD3R/.gob.pe...\n"
          ]
        },
        {
          "output_type": "stream",
          "name": "stderr",
          "text": [
            "/usr/local/lib/python3.10/dist-packages/urllib3/connectionpool.py:1099: InsecureRequestWarning: Unverified HTTPS request is being made to host '1337x.to'. Adding certificate verification is strongly advised. See: https://urllib3.readthedocs.io/en/latest/advanced-usage.html#tls-warnings\n",
            "  warnings.warn(\n"
          ]
        },
        {
          "output_type": "stream",
          "name": "stdout",
          "text": [
            "Error when dowwloading page http://1337x.to/torrent/1160956/Avengers-age-of-Ultron-2015-HQ-CAM-REMUX-XVID-AC3-MURD3R/.gob.pe: 404 Client Error: Not Found for url: https://1337x.to/torrent/1160956/Avengers-age-of-Ultron-2015-HQ-CAM-REMUX-XVID-AC3-MURD3R/.gob.pe\n",
            "Failed to download page from http://1337x.to/torrent/1160956/Avengers-age-of-Ultron-2015-HQ-CAM-REMUX-XVID-AC3-MURD3R/.gob.pe\n",
            "Downloading page http://mirtesen.ru/url?e=simple_click&blog_post_id=43864238676&url=http%3A%2F%2Ftainyvselennoi.ru%2Fblog%2F43864238676%2FMarihuana-kak-lekarstvo...\n",
            "No valid text from http://mirtesen.ru/url?e=simple_click&blog_post_id=43864238676&url=http%3A%2F%2Ftainyvselennoi.ru%2Fblog%2F43864238676%2FMarihuana-kak-lekarstvo\n",
            "Downloading page http://nesn.com/2015/05/john-farrell-allen-craigs-demotion-to-triple-a-not-an-easy-decision-video/.gob.pe...\n"
          ]
        },
        {
          "output_type": "stream",
          "name": "stderr",
          "text": [
            "/usr/local/lib/python3.10/dist-packages/urllib3/connectionpool.py:1099: InsecureRequestWarning: Unverified HTTPS request is being made to host 'nesn.com'. Adding certificate verification is strongly advised. See: https://urllib3.readthedocs.io/en/latest/advanced-usage.html#tls-warnings\n",
            "  warnings.warn(\n"
          ]
        },
        {
          "output_type": "stream",
          "name": "stdout",
          "text": [
            "Error when dowwloading page http://nesn.com/2015/05/john-farrell-allen-craigs-demotion-to-triple-a-not-an-easy-decision-video/.gob.pe: 404 Client Error: Not Found for url: https://nesn.com/2015/05/john-farrell-allen-craigs-demotion-to-triple-a-not-an-easy-decision-video/.gob.pe\n",
            "Failed to download page from http://nesn.com/2015/05/john-farrell-allen-craigs-demotion-to-triple-a-not-an-easy-decision-video/.gob.pe\n",
            "Downloading page http://variety.com/2015/tv/news/agents-of-shield-marvel-spinoff-abc-1201493296/?replytocom=1295780.gob.pe...\n"
          ]
        },
        {
          "output_type": "stream",
          "name": "stderr",
          "text": [
            "/usr/local/lib/python3.10/dist-packages/urllib3/connectionpool.py:1099: InsecureRequestWarning: Unverified HTTPS request is being made to host 'variety.com'. Adding certificate verification is strongly advised. See: https://urllib3.readthedocs.io/en/latest/advanced-usage.html#tls-warnings\n",
            "  warnings.warn(\n"
          ]
        },
        {
          "output_type": "stream",
          "name": "stdout",
          "text": [
            "Text saved to output/safe/variety.com_2015_tv_news_agents-of-shield-marvel-spinoff-abc-1201493296_?replytocom=1295780.gob.pe.txt\n",
            "Downloading page http://mediaset.it/la5/ditelavostra/risultati/33/citazioni-da-the-carrie-diaries.shtml?page=...\n"
          ]
        },
        {
          "output_type": "stream",
          "name": "stderr",
          "text": [
            "/usr/local/lib/python3.10/dist-packages/urllib3/connectionpool.py:1099: InsecureRequestWarning: Unverified HTTPS request is being made to host 'mediaset.it'. Adding certificate verification is strongly advised. See: https://urllib3.readthedocs.io/en/latest/advanced-usage.html#tls-warnings\n",
            "  warnings.warn(\n",
            "/usr/local/lib/python3.10/dist-packages/urllib3/connectionpool.py:1099: InsecureRequestWarning: Unverified HTTPS request is being made to host 'www.mediaset.it'. Adding certificate verification is strongly advised. See: https://urllib3.readthedocs.io/en/latest/advanced-usage.html#tls-warnings\n",
            "  warnings.warn(\n",
            "/usr/local/lib/python3.10/dist-packages/urllib3/connectionpool.py:1099: InsecureRequestWarning: Unverified HTTPS request is being made to host 'mediasetinfinity.mediaset.it'. Adding certificate verification is strongly advised. See: https://urllib3.readthedocs.io/en/latest/advanced-usage.html#tls-warnings\n",
            "  warnings.warn(\n"
          ]
        },
        {
          "output_type": "stream",
          "name": "stdout",
          "text": [
            "Text saved to output/safe/mediaset.it_la5_ditelavostra_risultati_33_citazioni-da-the-carrie-diaries.shtml?page=.txt\n",
            "Downloading page http://noticias.uol.com.br/saude/ultimas-noticias/redacao/2015/02/25/moradores-de-marilia-sp-adotam-planta-para-combater-epidemia-de-dengue.htm...\n"
          ]
        },
        {
          "output_type": "stream",
          "name": "stderr",
          "text": [
            "/usr/local/lib/python3.10/dist-packages/urllib3/connectionpool.py:1099: InsecureRequestWarning: Unverified HTTPS request is being made to host 'noticias.uol.com.br'. Adding certificate verification is strongly advised. See: https://urllib3.readthedocs.io/en/latest/advanced-usage.html#tls-warnings\n",
            "  warnings.warn(\n"
          ]
        },
        {
          "output_type": "stream",
          "name": "stdout",
          "text": [
            "Text saved to output/safe/noticias.uol.com.br_saude_ultimas-noticias_redacao_2015_02_25_moradores-de-marilia-sp-adotam-planta-para-combater-epidemia-de-dengue.htm.txt\n",
            "Downloading page http://nguyentandung.org/ten-lua-diet-ham-viet-nam-danh-sach-dang-duoc-noi-dai.html...\n"
          ]
        },
        {
          "output_type": "stream",
          "name": "stderr",
          "text": [
            "/usr/local/lib/python3.10/dist-packages/urllib3/connectionpool.py:1099: InsecureRequestWarning: Unverified HTTPS request is being made to host 'nguyentandung.org'. Adding certificate verification is strongly advised. See: https://urllib3.readthedocs.io/en/latest/advanced-usage.html#tls-warnings\n",
            "  warnings.warn(\n",
            "/usr/local/lib/python3.10/dist-packages/urllib3/connectionpool.py:1099: InsecureRequestWarning: Unverified HTTPS request is being made to host 'nguyentandung.org'. Adding certificate verification is strongly advised. See: https://urllib3.readthedocs.io/en/latest/advanced-usage.html#tls-warnings\n",
            "  warnings.warn(\n"
          ]
        },
        {
          "output_type": "stream",
          "name": "stdout",
          "text": [
            "Text saved to output/safe/nguyentandung.org_ten-lua-diet-ham-viet-nam-danh-sach-dang-duoc-noi-dai.html.txt\n",
            "Downloading page http://kakaku.com/kaden/medical-equipment/ranking_2182/pricedown/div-gpt-ad-k/header_text.gob.pe...\n"
          ]
        },
        {
          "output_type": "stream",
          "name": "stderr",
          "text": [
            "/usr/local/lib/python3.10/dist-packages/urllib3/connectionpool.py:1099: InsecureRequestWarning: Unverified HTTPS request is being made to host 'kakaku.com'. Adding certificate verification is strongly advised. See: https://urllib3.readthedocs.io/en/latest/advanced-usage.html#tls-warnings\n",
            "  warnings.warn(\n"
          ]
        },
        {
          "output_type": "stream",
          "name": "stdout",
          "text": [
            "Error when dowwloading page http://kakaku.com/kaden/medical-equipment/ranking_2182/pricedown/div-gpt-ad-k/header_text.gob.pe: 404 Client Error: Not Found. for url: https://kakaku.com/kaden/medical-equipment/ranking_2182/pricedown/div-gpt-ad-k/header_text.gob.pe\n",
            "Failed to download page from http://kakaku.com/kaden/medical-equipment/ranking_2182/pricedown/div-gpt-ad-k/header_text.gob.pe\n",
            "Downloading page http://twitter.com/home?status=%E3%83%8C%E3%81%91%E3%82%8B%EF%BC%81%E3%80%90OL%E3%83%BB%E3%81%8A%E5%A7%89%E3%81%95%E3%82%93%E3%83%BB%E7%97%B4%E5%A5%B3%E3%80%91+http%3A%2F%2Fero-video.net%2Ft%2FmsDIXG5OTvoMP8ss+%E5%BD%BC%E6%B0%8F%E3%81%A8%E3%81%AEH%E3%81%AF%E3%83%8E%E3%83%BC%E3%83%9E%E3%83%AB%E3%81%A8%E5%BC%B7%E8%AA%BF%E3%81%99%E3%82%8B+%23ero+%23douga+%23agesage...\n"
          ]
        },
        {
          "output_type": "stream",
          "name": "stderr",
          "text": [
            "/usr/local/lib/python3.10/dist-packages/urllib3/connectionpool.py:1099: InsecureRequestWarning: Unverified HTTPS request is being made to host 'twitter.com'. Adding certificate verification is strongly advised. See: https://urllib3.readthedocs.io/en/latest/advanced-usage.html#tls-warnings\n",
            "  warnings.warn(\n",
            "/usr/local/lib/python3.10/dist-packages/urllib3/connectionpool.py:1099: InsecureRequestWarning: Unverified HTTPS request is being made to host 'twitter.com'. Adding certificate verification is strongly advised. See: https://urllib3.readthedocs.io/en/latest/advanced-usage.html#tls-warnings\n",
            "  warnings.warn(\n",
            "/usr/local/lib/python3.10/dist-packages/urllib3/connectionpool.py:1099: InsecureRequestWarning: Unverified HTTPS request is being made to host 'x.com'. Adding certificate verification is strongly advised. See: https://urllib3.readthedocs.io/en/latest/advanced-usage.html#tls-warnings\n",
            "  warnings.warn(\n"
          ]
        },
        {
          "output_type": "stream",
          "name": "stdout",
          "text": [
            "Text saved to output/safe/twitter.com_home?status=%E3%83%8C%E3%81%91%E3%82%8B%EF%BC%81%E3%80%90OL%E3%83%BB%E3%81%8A%E5%A7%89%E3%81%95%E3%82%93%E3%83%BB%E7%97%B4%E5%A5%B3%E3%80%91+http%3A%2F%2Fero-video.net%2Ft%2FmsDIXG5OTvoMP8.txt\n",
            "Downloading page http://alfalfalfa.com/tag/%E3%83%9D%E3%83%86%E3%83%88%E3%83%81%E3%83%83%E3%83%97%E3%82%B9.gob.pe...\n"
          ]
        },
        {
          "output_type": "stream",
          "name": "stderr",
          "text": [
            "/usr/local/lib/python3.10/dist-packages/urllib3/connectionpool.py:1099: InsecureRequestWarning: Unverified HTTPS request is being made to host 'alfalfalfa.com'. Adding certificate verification is strongly advised. See: https://urllib3.readthedocs.io/en/latest/advanced-usage.html#tls-warnings\n",
            "  warnings.warn(\n"
          ]
        },
        {
          "output_type": "stream",
          "name": "stdout",
          "text": [
            "Error when dowwloading page http://alfalfalfa.com/tag/%E3%83%9D%E3%83%86%E3%83%88%E3%83%81%E3%83%83%E3%83%97%E3%82%B9.gob.pe: 404 Client Error: Not Found for url: https://alfalfalfa.com/tag/%E3%83%9D%E3%83%86%E3%83%88%E3%83%81%E3%83%83%E3%83%97%E3%82%B9.gob.pe\n",
            "Failed to download page from http://alfalfalfa.com/tag/%E3%83%9D%E3%83%86%E3%83%88%E3%83%81%E3%83%83%E3%83%97%E3%82%B9.gob.pe\n",
            "Downloading page http://kickass.to/horriblesubs-shinmai-maou-no-testament-06-720p-mkv-t10208504.html...\n",
            "Error when dowwloading page http://kickass.to/horriblesubs-shinmai-maou-no-testament-06-720p-mkv-t10208504.html: 403 Client Error: Forbidden for url: http://kickass.to/horriblesubs-shinmai-maou-no-testament-06-720p-mkv-t10208504.html\n",
            "Failed to download page from http://kickass.to/horriblesubs-shinmai-maou-no-testament-06-720p-mkv-t10208504.html\n",
            "Downloading page http://genius.com/2988035/Us-general-services-administration-gsa-mentor-protege-program-subpart-51970/Small-businesses-concerns-small-disadvantaged-businesses-concerns-women-owned-small-businesses-concerns-veteran-owned-small-business-concerns-service-disabled-veteran-owned-small-businesses-concerns.gob.pe...\n",
            "Error when dowwloading page http://genius.com/2988035/Us-general-services-administration-gsa-mentor-protege-program-subpart-51970/Small-businesses-concerns-small-disadvantaged-businesses-concerns-women-owned-small-businesses-concerns-veteran-owned-small-business-concerns-service-disabled-veteran-owned-small-businesses-concerns.gob.pe: 403 Client Error: Forbidden for url: http://genius.com/2988035/Us-general-services-administration-gsa-mentor-protege-program-subpart-51970/Small-businesses-concerns-small-disadvantaged-businesses-concerns-women-owned-small-businesses-concerns-veteran-owned-small-business-concerns-service-disabled-veteran-owned-small-businesses-concerns.gob.pe\n",
            "Failed to download page from http://genius.com/2988035/Us-general-services-administration-gsa-mentor-protege-program-subpart-51970/Small-businesses-concerns-small-disadvantaged-businesses-concerns-women-owned-small-businesses-concerns-veteran-owned-small-business-concerns-service-disabled-veteran-owned-small-businesses-concerns.gob.pe\n",
            "Downloading page http://sprint.com/business/solutions/sprint_enablers/managed_network_solutions/index.html...\n",
            "Error when dowwloading page http://sprint.com/business/solutions/sprint_enablers/managed_network_solutions/index.html: 403 Client Error: Forbidden for url: https://www.sprint.com\n",
            "Failed to download page from http://sprint.com/business/solutions/sprint_enablers/managed_network_solutions/index.html\n",
            "Downloading page https://twitter.com/home?status=%E3%83%8C%E3%81%91%E3%82%8B%EF%BC%81%E3%80%90%E3%82%A2%E3%83%8B%E3%83%A1%E3%80%91+http%3A%2F%2Fero-video.net%2Ft%2FOy25qDsstQnUl3x0+devil+vegetation+teacher+4+%23ero+%23douga+%23agesage...\n"
          ]
        },
        {
          "output_type": "stream",
          "name": "stderr",
          "text": [
            "/usr/local/lib/python3.10/dist-packages/urllib3/connectionpool.py:1099: InsecureRequestWarning: Unverified HTTPS request is being made to host 'sprint.com'. Adding certificate verification is strongly advised. See: https://urllib3.readthedocs.io/en/latest/advanced-usage.html#tls-warnings\n",
            "  warnings.warn(\n",
            "/usr/local/lib/python3.10/dist-packages/urllib3/connectionpool.py:1099: InsecureRequestWarning: Unverified HTTPS request is being made to host 'www.sprint.com'. Adding certificate verification is strongly advised. See: https://urllib3.readthedocs.io/en/latest/advanced-usage.html#tls-warnings\n",
            "  warnings.warn(\n",
            "/usr/local/lib/python3.10/dist-packages/urllib3/connectionpool.py:1099: InsecureRequestWarning: Unverified HTTPS request is being made to host 'twitter.com'. Adding certificate verification is strongly advised. See: https://urllib3.readthedocs.io/en/latest/advanced-usage.html#tls-warnings\n",
            "  warnings.warn(\n",
            "/usr/local/lib/python3.10/dist-packages/urllib3/connectionpool.py:1099: InsecureRequestWarning: Unverified HTTPS request is being made to host 'twitter.com'. Adding certificate verification is strongly advised. See: https://urllib3.readthedocs.io/en/latest/advanced-usage.html#tls-warnings\n",
            "  warnings.warn(\n",
            "/usr/local/lib/python3.10/dist-packages/urllib3/connectionpool.py:1099: InsecureRequestWarning: Unverified HTTPS request is being made to host 'x.com'. Adding certificate verification is strongly advised. See: https://urllib3.readthedocs.io/en/latest/advanced-usage.html#tls-warnings\n",
            "  warnings.warn(\n"
          ]
        },
        {
          "output_type": "stream",
          "name": "stdout",
          "text": [
            "Text saved to output/safe/twitter.com_home?status=%E3%83%8C%E3%81%91%E3%82%8B%EF%BC%81%E3%80%90%E3%82%A2%E3%83%8B%E3%83%A1%E3%80%91+http%3A%2F%2Fero-video.net%2Ft%2FOy25qDsstQnUl3x0+devil+vegetation+teacher+4+%23ero+%23douga+%.txt\n",
            "Downloading page http://torrentdn.com/bbs/s.php?bo_table=torrent_search&wr_id=4411&k=%EC%99%95%EC%A2%8C&page=1...\n",
            "No valid text from http://torrentdn.com/bbs/s.php?bo_table=torrent_search&wr_id=4411&k=%EC%99%95%EC%A2%8C&page=1\n",
            "Downloading page http://kickass.to/desktop-wallpapers-erotic-wallpaper-1050x1680-3744x5616-306-pcs-2015-jpg-t10628536.html...\n",
            "Error when dowwloading page http://kickass.to/desktop-wallpapers-erotic-wallpaper-1050x1680-3744x5616-306-pcs-2015-jpg-t10628536.html: 403 Client Error: Forbidden for url: http://kickass.to/desktop-wallpapers-erotic-wallpaper-1050x1680-3744x5616-306-pcs-2015-jpg-t10628536.html\n",
            "Failed to download page from http://kickass.to/desktop-wallpapers-erotic-wallpaper-1050x1680-3744x5616-306-pcs-2015-jpg-t10628536.html\n",
            "Downloading page http://mic.com/articles/112488/10-celebrities-who-had-the-perfect-response-to-fat-shaming.gob.pe...\n"
          ]
        },
        {
          "output_type": "stream",
          "name": "stderr",
          "text": [
            "/usr/local/lib/python3.10/dist-packages/urllib3/connectionpool.py:1099: InsecureRequestWarning: Unverified HTTPS request is being made to host 'mic.com'. Adding certificate verification is strongly advised. See: https://urllib3.readthedocs.io/en/latest/advanced-usage.html#tls-warnings\n",
            "  warnings.warn(\n",
            "/usr/local/lib/python3.10/dist-packages/urllib3/connectionpool.py:1099: InsecureRequestWarning: Unverified HTTPS request is being made to host 'www.mic.com'. Adding certificate verification is strongly advised. See: https://urllib3.readthedocs.io/en/latest/advanced-usage.html#tls-warnings\n",
            "  warnings.warn(\n"
          ]
        },
        {
          "output_type": "stream",
          "name": "stdout",
          "text": [
            "Error when dowwloading page http://mic.com/articles/112488/10-celebrities-who-had-the-perfect-response-to-fat-shaming.gob.pe: 404 Client Error: Not Found for url: https://www.mic.com/articles/112488/10-celebrities-who-had-the-perfect-response-to-fat-shaming.gob.pe\n",
            "Failed to download page from http://mic.com/articles/112488/10-celebrities-who-had-the-perfect-response-to-fat-shaming.gob.pe\n",
            "Downloading page http://themeforest.net/item/industrial-architects-engineers-html5-template/full_screen_preview/11063029.gob.pe...\n"
          ]
        },
        {
          "output_type": "stream",
          "name": "stderr",
          "text": [
            "/usr/local/lib/python3.10/dist-packages/urllib3/connectionpool.py:1099: InsecureRequestWarning: Unverified HTTPS request is being made to host 'themeforest.net'. Adding certificate verification is strongly advised. See: https://urllib3.readthedocs.io/en/latest/advanced-usage.html#tls-warnings\n",
            "  warnings.warn(\n"
          ]
        },
        {
          "output_type": "stream",
          "name": "stdout",
          "text": [
            "Error when dowwloading page http://themeforest.net/item/industrial-architects-engineers-html5-template/full_screen_preview/11063029.gob.pe: 404 Client Error: Not Found for url: https://themeforest.net/item/industrial-architects-engineers-html5-template/full_screen_preview/11063029.gob.pe\n",
            "Failed to download page from http://themeforest.net/item/industrial-architects-engineers-html5-template/full_screen_preview/11063029.gob.pe\n",
            "Downloading page http://hdfcbank.com/personal/making-payments/fund-transfer/emonies-national-electronic-funds-transfer.gob.pe...\n"
          ]
        },
        {
          "output_type": "stream",
          "name": "stderr",
          "text": [
            "/usr/local/lib/python3.10/dist-packages/urllib3/connectionpool.py:1099: InsecureRequestWarning: Unverified HTTPS request is being made to host 'www.hdfcbank.com'. Adding certificate verification is strongly advised. See: https://urllib3.readthedocs.io/en/latest/advanced-usage.html#tls-warnings\n",
            "  warnings.warn(\n"
          ]
        },
        {
          "output_type": "stream",
          "name": "stdout",
          "text": [
            "Error when dowwloading page http://hdfcbank.com/personal/making-payments/fund-transfer/emonies-national-electronic-funds-transfer.gob.pe: 404 Client Error: Not Found for url: https://www.hdfcbank.com/personal/making-payments/fund-transfer/emonies-national-electronic-funds-transfer.gob.pe\n",
            "Failed to download page from http://hdfcbank.com/personal/making-payments/fund-transfer/emonies-national-electronic-funds-transfer.gob.pe\n",
            "Downloading page http://cheezburger.com/8491583232/funny-sign-pic-kids-smoking?ref=leftarrow&siteId=1264.gob.pe...\n"
          ]
        },
        {
          "output_type": "stream",
          "name": "stderr",
          "text": [
            "/usr/local/lib/python3.10/dist-packages/urllib3/connectionpool.py:1099: InsecureRequestWarning: Unverified HTTPS request is being made to host 'cheezburger.com'. Adding certificate verification is strongly advised. See: https://urllib3.readthedocs.io/en/latest/advanced-usage.html#tls-warnings\n",
            "  warnings.warn(\n"
          ]
        },
        {
          "output_type": "stream",
          "name": "stdout",
          "text": [
            "Text saved to output/safe/cheezburger.com_8491583232_funny-sign-pic-kids-smoking?ref=leftarrow&siteId=1264.gob.pe.txt\n",
            "Downloading page http://nguyentandung.org/vi-sao-trung-quoc-huy-truyen-hinh-truc-tiep-duyet-binh-nga-vao-phut-chot.html...\n"
          ]
        },
        {
          "output_type": "stream",
          "name": "stderr",
          "text": [
            "/usr/local/lib/python3.10/dist-packages/urllib3/connectionpool.py:1099: InsecureRequestWarning: Unverified HTTPS request is being made to host 'nguyentandung.org'. Adding certificate verification is strongly advised. See: https://urllib3.readthedocs.io/en/latest/advanced-usage.html#tls-warnings\n",
            "  warnings.warn(\n",
            "/usr/local/lib/python3.10/dist-packages/urllib3/connectionpool.py:1099: InsecureRequestWarning: Unverified HTTPS request is being made to host 'nguyentandung.org'. Adding certificate verification is strongly advised. See: https://urllib3.readthedocs.io/en/latest/advanced-usage.html#tls-warnings\n",
            "  warnings.warn(\n"
          ]
        },
        {
          "output_type": "stream",
          "name": "stdout",
          "text": [
            "Text saved to output/safe/nguyentandung.org_vi-sao-trung-quoc-huy-truyen-hinh-truc-tiep-duyet-binh-nga-vao-phut-chot.html.txt\n",
            "Downloading page http://superuser.com/questions/105933/windows-7-license-move-from-32bit-to-64bit-with-oem-key-with-lenovo.gob.pe...\n"
          ]
        },
        {
          "output_type": "stream",
          "name": "stderr",
          "text": [
            "/usr/local/lib/python3.10/dist-packages/urllib3/connectionpool.py:1099: InsecureRequestWarning: Unverified HTTPS request is being made to host 'superuser.com'. Adding certificate verification is strongly advised. See: https://urllib3.readthedocs.io/en/latest/advanced-usage.html#tls-warnings\n",
            "  warnings.warn(\n",
            "/usr/local/lib/python3.10/dist-packages/urllib3/connectionpool.py:1099: InsecureRequestWarning: Unverified HTTPS request is being made to host 'superuser.com'. Adding certificate verification is strongly advised. See: https://urllib3.readthedocs.io/en/latest/advanced-usage.html#tls-warnings\n",
            "  warnings.warn(\n"
          ]
        },
        {
          "output_type": "stream",
          "name": "stdout",
          "text": [
            "Text saved to output/safe/superuser.com_questions_105933_windows-7-license-move-from-32bit-to-64bit-with-oem-key-with-lenovo.gob.pe.txt\n",
            "Downloading page http://kenh14.vn/2-tek/mau-thiet-ke-iwatch-ket-hop-hai-hoa-thoi-trang-va-cong-nghe-201427224056694.chn...\n"
          ]
        },
        {
          "output_type": "stream",
          "name": "stderr",
          "text": [
            "/usr/local/lib/python3.10/dist-packages/urllib3/connectionpool.py:1099: InsecureRequestWarning: Unverified HTTPS request is being made to host 'kenh14.vn'. Adding certificate verification is strongly advised. See: https://urllib3.readthedocs.io/en/latest/advanced-usage.html#tls-warnings\n",
            "  warnings.warn(\n"
          ]
        },
        {
          "output_type": "stream",
          "name": "stdout",
          "text": [
            "Text saved to output/safe/kenh14.vn_2-tek_mau-thiet-ke-iwatch-ket-hop-hai-hoa-thoi-trang-va-cong-nghe-201427224056694.chn.txt\n",
            "Downloading page http://depositphotos.com/login.html?url=%2F70116413%2Fstock-photo-art-concept-double-exposure-girl.html...\n"
          ]
        },
        {
          "output_type": "stream",
          "name": "stderr",
          "text": [
            "/usr/local/lib/python3.10/dist-packages/urllib3/connectionpool.py:1099: InsecureRequestWarning: Unverified HTTPS request is being made to host 'depositphotos.com'. Adding certificate verification is strongly advised. See: https://urllib3.readthedocs.io/en/latest/advanced-usage.html#tls-warnings\n",
            "  warnings.warn(\n"
          ]
        },
        {
          "output_type": "stream",
          "name": "stdout",
          "text": [
            "Text saved to output/safe/depositphotos.com_login.html?url=%2F70116413%2Fstock-photo-art-concept-double-exposure-girl.html.txt\n",
            "Downloading page http://techcrunch.com/2015/05/13/cisco-drops-a-fraction-after-reporting-better-than-expected-fq3-revenue-of-12-14b/.gob.pe...\n"
          ]
        },
        {
          "output_type": "stream",
          "name": "stderr",
          "text": [
            "/usr/local/lib/python3.10/dist-packages/urllib3/connectionpool.py:1099: InsecureRequestWarning: Unverified HTTPS request is being made to host 'techcrunch.com'. Adding certificate verification is strongly advised. See: https://urllib3.readthedocs.io/en/latest/advanced-usage.html#tls-warnings\n",
            "  warnings.warn(\n"
          ]
        },
        {
          "output_type": "stream",
          "name": "stdout",
          "text": [
            "Error when dowwloading page http://techcrunch.com/2015/05/13/cisco-drops-a-fraction-after-reporting-better-than-expected-fq3-revenue-of-12-14b/.gob.pe: 404 Client Error: Not Found for url: https://techcrunch.com/2015/05/13/cisco-drops-a-fraction-after-reporting-better-than-expected-fq3-revenue-of-12-14b/.gob.pe\n",
            "Failed to download page from http://techcrunch.com/2015/05/13/cisco-drops-a-fraction-after-reporting-better-than-expected-fq3-revenue-of-12-14b/.gob.pe\n",
            "Downloading page http://serverfault.com/questions/445390/some-nodes-in-a-cluster-has-higher-frame-value-in-ifconfig.gob.pe...\n"
          ]
        },
        {
          "output_type": "stream",
          "name": "stderr",
          "text": [
            "/usr/local/lib/python3.10/dist-packages/urllib3/connectionpool.py:1099: InsecureRequestWarning: Unverified HTTPS request is being made to host 'serverfault.com'. Adding certificate verification is strongly advised. See: https://urllib3.readthedocs.io/en/latest/advanced-usage.html#tls-warnings\n",
            "  warnings.warn(\n",
            "/usr/local/lib/python3.10/dist-packages/urllib3/connectionpool.py:1099: InsecureRequestWarning: Unverified HTTPS request is being made to host 'serverfault.com'. Adding certificate verification is strongly advised. See: https://urllib3.readthedocs.io/en/latest/advanced-usage.html#tls-warnings\n",
            "  warnings.warn(\n"
          ]
        },
        {
          "output_type": "stream",
          "name": "stdout",
          "text": [
            "Text saved to output/safe/serverfault.com_questions_445390_some-nodes-in-a-cluster-has-higher-frame-value-in-ifconfig.gob.pe.txt\n",
            "Downloading page http://variety.com/2015/tv/news/constantine-arrow-season-4-crossover-possibility-1201492462/?replytocom=1297969.gob.pe...\n"
          ]
        },
        {
          "output_type": "stream",
          "name": "stderr",
          "text": [
            "/usr/local/lib/python3.10/dist-packages/urllib3/connectionpool.py:1099: InsecureRequestWarning: Unverified HTTPS request is being made to host 'variety.com'. Adding certificate verification is strongly advised. See: https://urllib3.readthedocs.io/en/latest/advanced-usage.html#tls-warnings\n",
            "  warnings.warn(\n"
          ]
        },
        {
          "output_type": "stream",
          "name": "stdout",
          "text": [
            "Text saved to output/safe/variety.com_2015_tv_news_constantine-arrow-season-4-crossover-possibility-1201492462_?replytocom=1297969.gob.pe.txt\n",
            "Downloading page http://elitedaily.com/entertainment/celebrity/harrison-ford-reportedly-injured-in-single-plane-crash/957793/.gob.pe...\n"
          ]
        },
        {
          "output_type": "stream",
          "name": "stderr",
          "text": [
            "/usr/local/lib/python3.10/dist-packages/urllib3/connectionpool.py:1099: InsecureRequestWarning: Unverified HTTPS request is being made to host 'elitedaily.com'. Adding certificate verification is strongly advised. See: https://urllib3.readthedocs.io/en/latest/advanced-usage.html#tls-warnings\n",
            "  warnings.warn(\n",
            "/usr/local/lib/python3.10/dist-packages/urllib3/connectionpool.py:1099: InsecureRequestWarning: Unverified HTTPS request is being made to host 'www.elitedaily.com'. Adding certificate verification is strongly advised. See: https://urllib3.readthedocs.io/en/latest/advanced-usage.html#tls-warnings\n",
            "  warnings.warn(\n"
          ]
        },
        {
          "output_type": "stream",
          "name": "stdout",
          "text": [
            "Error when dowwloading page http://elitedaily.com/entertainment/celebrity/harrison-ford-reportedly-injured-in-single-plane-crash/957793/.gob.pe: 404 Client Error: Not Found for url: https://www.elitedaily.com/entertainment/celebrity/harrison-ford-reportedly-injured-in-single-plane-crash/957793/.gob.pe\n",
            "Failed to download page from http://elitedaily.com/entertainment/celebrity/harrison-ford-reportedly-injured-in-single-plane-crash/957793/.gob.pe\n",
            "Downloading page http://indianexpress.com/article/good-news/watch-video-choose-beautiful-video-gives-new-doorway-to-beauty/.gob.pe...\n",
            "Error when dowwloading page http://indianexpress.com/article/good-news/watch-video-choose-beautiful-video-gives-new-doorway-to-beauty/.gob.pe: 403 Client Error: Forbidden for url: http://indianexpress.com/article/good-news/watch-video-choose-beautiful-video-gives-new-doorway-to-beauty/.gob.pe\n",
            "Failed to download page from http://indianexpress.com/article/good-news/watch-video-choose-beautiful-video-gives-new-doorway-to-beauty/.gob.pe\n",
            "Downloading page http://allrecipes.com/Recipe/Boneless-Buffalo-Wings/Detail.aspx?evt19=1&referringHubId=15041...\n",
            "Error when dowwloading page http://allrecipes.com/Recipe/Boneless-Buffalo-Wings/Detail.aspx?evt19=1&referringHubId=15041: 405 Client Error: Signal - Not Acceptable for url: http://allrecipes.com/Recipe/Boneless-Buffalo-Wings/Detail.aspx?evt19=1&referringHubId=15041\n",
            "Failed to download page from http://allrecipes.com/Recipe/Boneless-Buffalo-Wings/Detail.aspx?evt19=1&referringHubId=15041\n",
            "Downloading page http://variety.com/2015/film/news/broken-hollywood-the-bizs-top-players-call-out-ways-industry-needs-to-change-1201416866/2015/tv/news/gary-newman-network-tv-advertising-model-needs-to-evolve-on-digital-platforms-1201416484/.gob.pe...\n"
          ]
        },
        {
          "output_type": "stream",
          "name": "stderr",
          "text": [
            "/usr/local/lib/python3.10/dist-packages/urllib3/connectionpool.py:1099: InsecureRequestWarning: Unverified HTTPS request is being made to host 'variety.com'. Adding certificate verification is strongly advised. See: https://urllib3.readthedocs.io/en/latest/advanced-usage.html#tls-warnings\n",
            "  warnings.warn(\n"
          ]
        },
        {
          "output_type": "stream",
          "name": "stdout",
          "text": [
            "Text saved to output/safe/variety.com_2015_film_news_broken-hollywood-the-bizs-top-players-call-out-ways-industry-needs-to-change-1201416866_2015_tv_news_gary-newman-network-tv-advertising-model-needs-to-evolve-on-digital-plat.txt\n",
            "Downloading page http://nesn.com/2015/05/adam-schefter-source-predicts-tom-bradys-suspension-will-be-overturned/.gob.pe...\n"
          ]
        },
        {
          "output_type": "stream",
          "name": "stderr",
          "text": [
            "/usr/local/lib/python3.10/dist-packages/urllib3/connectionpool.py:1099: InsecureRequestWarning: Unverified HTTPS request is being made to host 'nesn.com'. Adding certificate verification is strongly advised. See: https://urllib3.readthedocs.io/en/latest/advanced-usage.html#tls-warnings\n",
            "  warnings.warn(\n"
          ]
        },
        {
          "output_type": "stream",
          "name": "stdout",
          "text": [
            "Error when dowwloading page http://nesn.com/2015/05/adam-schefter-source-predicts-tom-bradys-suspension-will-be-overturned/.gob.pe: 404 Client Error: Not Found for url: https://nesn.com/2015/05/adam-schefter-source-predicts-tom-bradys-suspension-will-be-overturned/.gob.pe\n",
            "Failed to download page from http://nesn.com/2015/05/adam-schefter-source-predicts-tom-bradys-suspension-will-be-overturned/.gob.pe\n",
            "Downloading page https://prezi.com/cpwyp44vgckw/prezi-is-growing/?auth_key=3f6ec2e9cfd554f1d23b718b1462307266561a05.gob.pe...\n"
          ]
        },
        {
          "output_type": "stream",
          "name": "stderr",
          "text": [
            "/usr/local/lib/python3.10/dist-packages/urllib3/connectionpool.py:1099: InsecureRequestWarning: Unverified HTTPS request is being made to host 'prezi.com'. Adding certificate verification is strongly advised. See: https://urllib3.readthedocs.io/en/latest/advanced-usage.html#tls-warnings\n",
            "  warnings.warn(\n",
            "/usr/local/lib/python3.10/dist-packages/urllib3/connectionpool.py:1099: InsecureRequestWarning: Unverified HTTPS request is being made to host 'prezi.com'. Adding certificate verification is strongly advised. See: https://urllib3.readthedocs.io/en/latest/advanced-usage.html#tls-warnings\n",
            "  warnings.warn(\n"
          ]
        },
        {
          "output_type": "stream",
          "name": "stdout",
          "text": [
            "Text saved to output/safe/prezi.com_cpwyp44vgckw_prezi-is-growing_?auth_key=3f6ec2e9cfd554f1d23b718b1462307266561a05.gob.pe.txt\n",
            "Downloading page http://kenh14.vn/musik/khan-gia-ha-noi-xuc-dong-nghen-ngao-khi-tai-ngo-cung-khanh-ly-20140803090241278.chn...\n"
          ]
        },
        {
          "output_type": "stream",
          "name": "stderr",
          "text": [
            "/usr/local/lib/python3.10/dist-packages/urllib3/connectionpool.py:1099: InsecureRequestWarning: Unverified HTTPS request is being made to host 'kenh14.vn'. Adding certificate verification is strongly advised. See: https://urllib3.readthedocs.io/en/latest/advanced-usage.html#tls-warnings\n",
            "  warnings.warn(\n"
          ]
        },
        {
          "output_type": "stream",
          "name": "stdout",
          "text": [
            "Text saved to output/safe/kenh14.vn_musik_khan-gia-ha-noi-xuc-dong-nghen-ngao-khi-tai-ngo-cung-khanh-ly-20140803090241278.chn.txt\n",
            "Downloading page http://couchtuner.eu.com/2014/01/the-big-bang-theory-s7-e13-the-occupation-recalibration.html...\n",
            "Text saved to output/safe/couchtuner.eu.com_2014_01_the-big-bang-theory-s7-e13-the-occupation-recalibration.html.txt\n",
            "Downloading page http://uproxx.com/music/2015/02/daft-punk-has-ditched-their-masks-for-a-new-sculpture-on-display-in-new-york/.gob.pe...\n"
          ]
        },
        {
          "output_type": "stream",
          "name": "stderr",
          "text": [
            "/usr/local/lib/python3.10/dist-packages/urllib3/connectionpool.py:1099: InsecureRequestWarning: Unverified HTTPS request is being made to host 'uproxx.com'. Adding certificate verification is strongly advised. See: https://urllib3.readthedocs.io/en/latest/advanced-usage.html#tls-warnings\n",
            "  warnings.warn(\n",
            "/usr/local/lib/python3.10/dist-packages/urllib3/connectionpool.py:1099: InsecureRequestWarning: Unverified HTTPS request is being made to host 'uproxx.com'. Adding certificate verification is strongly advised. See: https://urllib3.readthedocs.io/en/latest/advanced-usage.html#tls-warnings\n",
            "  warnings.warn(\n"
          ]
        },
        {
          "output_type": "stream",
          "name": "stdout",
          "text": [
            "Text saved to output/safe/uproxx.com_music_2015_02_daft-punk-has-ditched-their-masks-for-a-new-sculpture-on-display-in-new-york_.gob.pe.txt\n",
            "Downloading page http://olx.ua/uk/account/?origin=observepopup&ref%5B0%5D%5Baction%5D=ads&ref%5B0%5D%5Bmethod%5D=index&ref%5B0%5D%5Bparams%5D%5Bq%5D=%D0%B1%D0%B0%D0%BB%D0%B5%D1%82%D0%BA%D0%B8.gob.pe...\n"
          ]
        },
        {
          "output_type": "stream",
          "name": "stderr",
          "text": [
            "/usr/local/lib/python3.10/dist-packages/urllib3/connectionpool.py:1099: InsecureRequestWarning: Unverified HTTPS request is being made to host 'olx.ua'. Adding certificate verification is strongly advised. See: https://urllib3.readthedocs.io/en/latest/advanced-usage.html#tls-warnings\n",
            "  warnings.warn(\n",
            "/usr/local/lib/python3.10/dist-packages/urllib3/connectionpool.py:1099: InsecureRequestWarning: Unverified HTTPS request is being made to host 'www.olx.ua'. Adding certificate verification is strongly advised. See: https://urllib3.readthedocs.io/en/latest/advanced-usage.html#tls-warnings\n",
            "  warnings.warn(\n",
            "/usr/local/lib/python3.10/dist-packages/urllib3/connectionpool.py:1099: InsecureRequestWarning: Unverified HTTPS request is being made to host 'login.olx.ua'. Adding certificate verification is strongly advised. See: https://urllib3.readthedocs.io/en/latest/advanced-usage.html#tls-warnings\n",
            "  warnings.warn(\n",
            "/usr/local/lib/python3.10/dist-packages/urllib3/connectionpool.py:1099: InsecureRequestWarning: Unverified HTTPS request is being made to host 'login.olx.ua'. Adding certificate verification is strongly advised. See: https://urllib3.readthedocs.io/en/latest/advanced-usage.html#tls-warnings\n",
            "  warnings.warn(\n"
          ]
        },
        {
          "output_type": "stream",
          "name": "stdout",
          "text": [
            "Text saved to output/safe/olx.ua_uk_account_?origin=observepopup&ref%5B0%5D%5Baction%5D=ads&ref%5B0%5D%5Bmethod%5D=index&ref%5B0%5D%5Bparams%5D%5Bq%5D=%D0%B1%D0%B0%D0%BB%D0%B5%D1%82%D0%BA%D0%B8.gob.pe.txt\n",
            "Downloading page http://kickass.to/ludacris-ludaversal-deluxe-explicit-2015-mp3-320-kbps-vbuc-t10424711.html...\n",
            "Error when dowwloading page http://kickass.to/ludacris-ludaversal-deluxe-explicit-2015-mp3-320-kbps-vbuc-t10424711.html: 403 Client Error: Forbidden for url: http://kickass.to/ludacris-ludaversal-deluxe-explicit-2015-mp3-320-kbps-vbuc-t10424711.html\n",
            "Failed to download page from http://kickass.to/ludacris-ludaversal-deluxe-explicit-2015-mp3-320-kbps-vbuc-t10424711.html\n",
            "Downloading page http://pikabu.ru/tag/%D1%80%D0%B0%D0%B7%D0%BE%D0%B1%D0%BB%D0%B0%D1%87%D0%B5%D0%BD%D0%B8%D0%B5/hot.gob.pe...\n"
          ]
        },
        {
          "output_type": "stream",
          "name": "stderr",
          "text": [
            "/usr/local/lib/python3.10/dist-packages/urllib3/connectionpool.py:1099: InsecureRequestWarning: Unverified HTTPS request is being made to host 'pikabu.ru'. Adding certificate verification is strongly advised. See: https://urllib3.readthedocs.io/en/latest/advanced-usage.html#tls-warnings\n",
            "  warnings.warn(\n"
          ]
        },
        {
          "output_type": "stream",
          "name": "stdout",
          "text": [
            "Error when dowwloading page http://pikabu.ru/tag/%D1%80%D0%B0%D0%B7%D0%BE%D0%B1%D0%BB%D0%B0%D1%87%D0%B5%D0%BD%D0%B8%D0%B5/hot.gob.pe: 502 Server Error: Bad Gateway for url: https://pikabu.ru/tag/%D1%80%D0%B0%D0%B7%D0%BE%D0%B1%D0%BB%D0%B0%D1%87%D0%B5%D0%BD%D0%B8%D0%B5/hot.gob.pe\n",
            "Failed to download page from http://pikabu.ru/tag/%D1%80%D0%B0%D0%B7%D0%BE%D0%B1%D0%BB%D0%B0%D1%87%D0%B5%D0%BD%D0%B8%D0%B5/hot.gob.pe\n",
            "Downloading page http://codecanyon.net/item/superfluous-word-game-with-admob-and-leaderboard/11407859.gob.pe...\n"
          ]
        },
        {
          "output_type": "stream",
          "name": "stderr",
          "text": [
            "/usr/local/lib/python3.10/dist-packages/urllib3/connectionpool.py:1099: InsecureRequestWarning: Unverified HTTPS request is being made to host 'codecanyon.net'. Adding certificate verification is strongly advised. See: https://urllib3.readthedocs.io/en/latest/advanced-usage.html#tls-warnings\n",
            "  warnings.warn(\n"
          ]
        },
        {
          "output_type": "stream",
          "name": "stdout",
          "text": [
            "Error when dowwloading page http://codecanyon.net/item/superfluous-word-game-with-admob-and-leaderboard/11407859.gob.pe: 404 Client Error: Not Found for url: https://codecanyon.net/item/superfluous-word-game-with-admob-and-leaderboard/11407859.gob.pe\n",
            "Failed to download page from http://codecanyon.net/item/superfluous-word-game-with-admob-and-leaderboard/11407859.gob.pe\n",
            "Downloading page https://soundcloud.com/jamaicandancehall/gyptian-feat-nicki-minaj-hold-yuh-remix-fme-humbless-21st.gob.pe...\n"
          ]
        },
        {
          "output_type": "stream",
          "name": "stderr",
          "text": [
            "/usr/local/lib/python3.10/dist-packages/urllib3/connectionpool.py:1099: InsecureRequestWarning: Unverified HTTPS request is being made to host 'soundcloud.com'. Adding certificate verification is strongly advised. See: https://urllib3.readthedocs.io/en/latest/advanced-usage.html#tls-warnings\n",
            "  warnings.warn(\n"
          ]
        },
        {
          "output_type": "stream",
          "name": "stdout",
          "text": [
            "Error when dowwloading page https://soundcloud.com/jamaicandancehall/gyptian-feat-nicki-minaj-hold-yuh-remix-fme-humbless-21st.gob.pe: 404 Client Error: Not Found for url: https://soundcloud.com/jamaicandancehall/gyptian-feat-nicki-minaj-hold-yuh-remix-fme-humbless-21st.gob.pe\n",
            "Failed to download page from https://soundcloud.com/jamaicandancehall/gyptian-feat-nicki-minaj-hold-yuh-remix-fme-humbless-21st.gob.pe\n",
            "Downloading page http://uproxx.com/webculture/2015/03/meet-the-octopus-who-stole-a-filmmakers-camera-and-took-his-picture/.gob.pe...\n"
          ]
        },
        {
          "output_type": "stream",
          "name": "stderr",
          "text": [
            "/usr/local/lib/python3.10/dist-packages/urllib3/connectionpool.py:1099: InsecureRequestWarning: Unverified HTTPS request is being made to host 'uproxx.com'. Adding certificate verification is strongly advised. See: https://urllib3.readthedocs.io/en/latest/advanced-usage.html#tls-warnings\n",
            "  warnings.warn(\n",
            "/usr/local/lib/python3.10/dist-packages/urllib3/connectionpool.py:1099: InsecureRequestWarning: Unverified HTTPS request is being made to host 'uproxx.com'. Adding certificate verification is strongly advised. See: https://urllib3.readthedocs.io/en/latest/advanced-usage.html#tls-warnings\n",
            "  warnings.warn(\n"
          ]
        },
        {
          "output_type": "stream",
          "name": "stdout",
          "text": [
            "Text saved to output/safe/uproxx.com_webculture_2015_03_meet-the-octopus-who-stole-a-filmmakers-camera-and-took-his-picture_.gob.pe.txt\n",
            "Downloading page http://techcrunch.com/2014/12/03/prenetics-raises-2-65m-to-bring-safe-accurate-dna-based-prenatal-testing-to-asia/.gob.pe...\n"
          ]
        },
        {
          "output_type": "stream",
          "name": "stderr",
          "text": [
            "/usr/local/lib/python3.10/dist-packages/urllib3/connectionpool.py:1099: InsecureRequestWarning: Unverified HTTPS request is being made to host 'techcrunch.com'. Adding certificate verification is strongly advised. See: https://urllib3.readthedocs.io/en/latest/advanced-usage.html#tls-warnings\n",
            "  warnings.warn(\n"
          ]
        },
        {
          "output_type": "stream",
          "name": "stdout",
          "text": [
            "Error when dowwloading page http://techcrunch.com/2014/12/03/prenetics-raises-2-65m-to-bring-safe-accurate-dna-based-prenatal-testing-to-asia/.gob.pe: 404 Client Error: Not Found for url: https://techcrunch.com/2014/12/03/prenetics-raises-2-65m-to-bring-safe-accurate-dna-based-prenatal-testing-to-asia/.gob.pe\n",
            "Failed to download page from http://techcrunch.com/2014/12/03/prenetics-raises-2-65m-to-bring-safe-accurate-dna-based-prenatal-testing-to-asia/.gob.pe\n",
            "Downloading page http://nesn.com/2015/05/confused-fan-angry-at-celtics-isaiah-thomas-for-owning-new-york-liberty/.gob.pe...\n"
          ]
        },
        {
          "output_type": "stream",
          "name": "stderr",
          "text": [
            "/usr/local/lib/python3.10/dist-packages/urllib3/connectionpool.py:1099: InsecureRequestWarning: Unverified HTTPS request is being made to host 'nesn.com'. Adding certificate verification is strongly advised. See: https://urllib3.readthedocs.io/en/latest/advanced-usage.html#tls-warnings\n",
            "  warnings.warn(\n"
          ]
        },
        {
          "output_type": "stream",
          "name": "stdout",
          "text": [
            "Error when dowwloading page http://nesn.com/2015/05/confused-fan-angry-at-celtics-isaiah-thomas-for-owning-new-york-liberty/.gob.pe: 404 Client Error: Not Found for url: https://nesn.com/2015/05/confused-fan-angry-at-celtics-isaiah-thomas-for-owning-new-york-liberty/.gob.pe\n",
            "Failed to download page from http://nesn.com/2015/05/confused-fan-angry-at-celtics-isaiah-thomas-for-owning-new-york-liberty/.gob.pe\n",
            "Downloading page http://kotaku.com/previously-the-ceo-of-japanese-game-company-imageepoch-1704135995.gob.pe...\n"
          ]
        },
        {
          "output_type": "stream",
          "name": "stderr",
          "text": [
            "/usr/local/lib/python3.10/dist-packages/urllib3/connectionpool.py:1099: InsecureRequestWarning: Unverified HTTPS request is being made to host 'kotaku.com'. Adding certificate verification is strongly advised. See: https://urllib3.readthedocs.io/en/latest/advanced-usage.html#tls-warnings\n",
            "  warnings.warn(\n"
          ]
        },
        {
          "output_type": "stream",
          "name": "stdout",
          "text": [
            "Error when dowwloading page http://kotaku.com/previously-the-ceo-of-japanese-game-company-imageepoch-1704135995.gob.pe: 404 Client Error: Not Found for url: https://kotaku.com/previously-the-ceo-of-japanese-game-company-imageepoch-1704135995.gob.pe\n",
            "Failed to download page from http://kotaku.com/previously-the-ceo-of-japanese-game-company-imageepoch-1704135995.gob.pe\n",
            "Downloading page http://serverfault.com/questions/691568/how-often-do-you-restart-a-heavily-utilized-windows-server-2008r2-remote-desktop.gob.pe...\n"
          ]
        },
        {
          "output_type": "stream",
          "name": "stderr",
          "text": [
            "/usr/local/lib/python3.10/dist-packages/urllib3/connectionpool.py:1099: InsecureRequestWarning: Unverified HTTPS request is being made to host 'serverfault.com'. Adding certificate verification is strongly advised. See: https://urllib3.readthedocs.io/en/latest/advanced-usage.html#tls-warnings\n",
            "  warnings.warn(\n"
          ]
        },
        {
          "output_type": "stream",
          "name": "stdout",
          "text": [
            "Text saved to output/safe/serverfault.com_questions_691568_how-often-do-you-restart-a-heavily-utilized-windows-server-2008r2-remote-desktop.gob.pe.txt\n",
            "Downloading page http://pikabu.ru/tag/%D0%A0%D0%B5%D0%B0%D0%BB%20%D0%9C%D0%B0%D0%B4%D1%80%D0%B8%D0%B4/hot.gob.pe...\n"
          ]
        },
        {
          "output_type": "stream",
          "name": "stderr",
          "text": [
            "/usr/local/lib/python3.10/dist-packages/urllib3/connectionpool.py:1099: InsecureRequestWarning: Unverified HTTPS request is being made to host 'pikabu.ru'. Adding certificate verification is strongly advised. See: https://urllib3.readthedocs.io/en/latest/advanced-usage.html#tls-warnings\n",
            "  warnings.warn(\n"
          ]
        },
        {
          "output_type": "stream",
          "name": "stdout",
          "text": [
            "Error when dowwloading page http://pikabu.ru/tag/%D0%A0%D0%B5%D0%B0%D0%BB%20%D0%9C%D0%B0%D0%B4%D1%80%D0%B8%D0%B4/hot.gob.pe: 502 Server Error: Bad Gateway for url: https://pikabu.ru/tag/%D0%A0%D0%B5%D0%B0%D0%BB%20%D0%9C%D0%B0%D0%B4%D1%80%D0%B8%D0%B4/hot.gob.pe\n",
            "Failed to download page from http://pikabu.ru/tag/%D0%A0%D0%B5%D0%B0%D0%BB%20%D0%9C%D0%B0%D0%B4%D1%80%D0%B8%D0%B4/hot.gob.pe\n",
            "Downloading page http://pikabu.ru/tag/%D0%91%D0%B0%D1%85%D1%8B%D1%82%20%D0%A1%D1%83%D0%BB%D1%82%D0%B0%D0%BD%D0%BE%D0%B2/hot.gob.pe...\n"
          ]
        },
        {
          "output_type": "stream",
          "name": "stderr",
          "text": [
            "/usr/local/lib/python3.10/dist-packages/urllib3/connectionpool.py:1099: InsecureRequestWarning: Unverified HTTPS request is being made to host 'pikabu.ru'. Adding certificate verification is strongly advised. See: https://urllib3.readthedocs.io/en/latest/advanced-usage.html#tls-warnings\n",
            "  warnings.warn(\n"
          ]
        },
        {
          "output_type": "stream",
          "name": "stdout",
          "text": [
            "Error when dowwloading page http://pikabu.ru/tag/%D0%91%D0%B0%D1%85%D1%8B%D1%82%20%D0%A1%D1%83%D0%BB%D1%82%D0%B0%D0%BD%D0%BE%D0%B2/hot.gob.pe: 502 Server Error: Bad Gateway for url: https://pikabu.ru/tag/%D0%91%D0%B0%D1%85%D1%8B%D1%82%20%D0%A1%D1%83%D0%BB%D1%82%D0%B0%D0%BD%D0%BE%D0%B2/hot.gob.pe\n",
            "Failed to download page from http://pikabu.ru/tag/%D0%91%D0%B0%D1%85%D1%8B%D1%82%20%D0%A1%D1%83%D0%BB%D1%82%D0%B0%D0%BD%D0%BE%D0%B2/hot.gob.pe\n",
            "Downloading page http://slashdot.org/submission/4259789/court-overturns-dutch-data-retention-law-privacy-more-important.gob.pe...\n"
          ]
        },
        {
          "output_type": "stream",
          "name": "stderr",
          "text": [
            "/usr/local/lib/python3.10/dist-packages/urllib3/connectionpool.py:1099: InsecureRequestWarning: Unverified HTTPS request is being made to host 'slashdot.org'. Adding certificate verification is strongly advised. See: https://urllib3.readthedocs.io/en/latest/advanced-usage.html#tls-warnings\n",
            "  warnings.warn(\n"
          ]
        },
        {
          "output_type": "stream",
          "name": "stdout",
          "text": [
            "Text saved to output/safe/slashdot.org_submission_4259789_court-overturns-dutch-data-retention-law-privacy-more-important.gob.pe.txt\n",
            "Downloading page http://mic.com/articles/117554/the-big-problem-with-comparing-america-s-racist-police-to-police-in-europe.gob.pe...\n"
          ]
        },
        {
          "output_type": "stream",
          "name": "stderr",
          "text": [
            "/usr/local/lib/python3.10/dist-packages/urllib3/connectionpool.py:1099: InsecureRequestWarning: Unverified HTTPS request is being made to host 'mic.com'. Adding certificate verification is strongly advised. See: https://urllib3.readthedocs.io/en/latest/advanced-usage.html#tls-warnings\n",
            "  warnings.warn(\n",
            "/usr/local/lib/python3.10/dist-packages/urllib3/connectionpool.py:1099: InsecureRequestWarning: Unverified HTTPS request is being made to host 'www.mic.com'. Adding certificate verification is strongly advised. See: https://urllib3.readthedocs.io/en/latest/advanced-usage.html#tls-warnings\n",
            "  warnings.warn(\n"
          ]
        },
        {
          "output_type": "stream",
          "name": "stdout",
          "text": [
            "Error when dowwloading page http://mic.com/articles/117554/the-big-problem-with-comparing-america-s-racist-police-to-police-in-europe.gob.pe: 404 Client Error: Not Found for url: https://www.mic.com/articles/117554/the-big-problem-with-comparing-america-s-racist-police-to-police-in-europe.gob.pe\n",
            "Failed to download page from http://mic.com/articles/117554/the-big-problem-with-comparing-america-s-racist-police-to-police-in-europe.gob.pe\n",
            "Downloading page http://askubuntu.com/questions/591832/how-to-play-music-when-app-is-not-the-active-app.gob.pe...\n"
          ]
        },
        {
          "output_type": "stream",
          "name": "stderr",
          "text": [
            "/usr/local/lib/python3.10/dist-packages/urllib3/connectionpool.py:1099: InsecureRequestWarning: Unverified HTTPS request is being made to host 'askubuntu.com'. Adding certificate verification is strongly advised. See: https://urllib3.readthedocs.io/en/latest/advanced-usage.html#tls-warnings\n",
            "  warnings.warn(\n",
            "/usr/local/lib/python3.10/dist-packages/urllib3/connectionpool.py:1099: InsecureRequestWarning: Unverified HTTPS request is being made to host 'askubuntu.com'. Adding certificate verification is strongly advised. See: https://urllib3.readthedocs.io/en/latest/advanced-usage.html#tls-warnings\n",
            "  warnings.warn(\n"
          ]
        },
        {
          "output_type": "stream",
          "name": "stdout",
          "text": [
            "Text saved to output/safe/askubuntu.com_questions_591832_how-to-play-music-when-app-is-not-the-active-app.gob.pe.txt\n",
            "Downloading page http://comicbook.com/2015/05/14/video-tyler-perrys-baxter-stockman-films-tmnt-2-scenes-with-mega/.gob.pe...\n"
          ]
        },
        {
          "output_type": "stream",
          "name": "stderr",
          "text": [
            "/usr/local/lib/python3.10/dist-packages/urllib3/connectionpool.py:1099: InsecureRequestWarning: Unverified HTTPS request is being made to host 'comicbook.com'. Adding certificate verification is strongly advised. See: https://urllib3.readthedocs.io/en/latest/advanced-usage.html#tls-warnings\n",
            "  warnings.warn(\n"
          ]
        },
        {
          "output_type": "stream",
          "name": "stdout",
          "text": [
            "Error when dowwloading page http://comicbook.com/2015/05/14/video-tyler-perrys-baxter-stockman-films-tmnt-2-scenes-with-mega/.gob.pe: 404 Client Error: Not Found for url: https://comicbook.com/2015/05/14/video-tyler-perrys-baxter-stockman-films-tmnt-2-scenes-with-mega/.gob.pe\n",
            "Failed to download page from http://comicbook.com/2015/05/14/video-tyler-perrys-baxter-stockman-films-tmnt-2-scenes-with-mega/.gob.pe\n",
            "Downloading page http://stackexchange.com/work-here/82/developer-marketing-lead-developer-evangelist.gob.pe...\n"
          ]
        },
        {
          "output_type": "stream",
          "name": "stderr",
          "text": [
            "/usr/local/lib/python3.10/dist-packages/urllib3/connectionpool.py:1099: InsecureRequestWarning: Unverified HTTPS request is being made to host 'stackexchange.com'. Adding certificate verification is strongly advised. See: https://urllib3.readthedocs.io/en/latest/advanced-usage.html#tls-warnings\n",
            "  warnings.warn(\n",
            "/usr/local/lib/python3.10/dist-packages/urllib3/connectionpool.py:1099: InsecureRequestWarning: Unverified HTTPS request is being made to host 'stackoverflow.co'. Adding certificate verification is strongly advised. See: https://urllib3.readthedocs.io/en/latest/advanced-usage.html#tls-warnings\n",
            "  warnings.warn(\n"
          ]
        },
        {
          "output_type": "stream",
          "name": "stdout",
          "text": [
            "Text saved to output/safe/stackexchange.com_work-here_82_developer-marketing-lead-developer-evangelist.gob.pe.txt\n",
            "Downloading page http://mirtesen.ru/url?e=simple_click&blog_post_id=43747767183&url=http%3A%2F%2Fdooralei.ru%2Fblog%2F43747767183%2FSotsiologi%3A-Bolshinstvo-kryimchan-dovolnyi-zhiznyu-v-Rossii...\n",
            "No valid text from http://mirtesen.ru/url?e=simple_click&blog_post_id=43747767183&url=http%3A%2F%2Fdooralei.ru%2Fblog%2F43747767183%2FSotsiologi%3A-Bolshinstvo-kryimchan-dovolnyi-zhiznyu-v-Rossii\n",
            "Downloading page https://twitter.com/home?status=%E3%83%8C%E3%81%91%E3%82%8B%EF%BC%81%E3%80%90%E3%82%A2%E3%83%8B%E3%83%A1%E3%80%91+http%3A%2F%2Fero-video.net%2Ft%2FVl93yd4t27PAvNaW+%E6%80%A7%E3%81%AE%E8%99%9C%E3%81%AB%E3%81%AA%E3%82%8B%E5%A5%B3%E3%81%9F%E3%81%A16+%23ero+%23douga+%23agesage...\n"
          ]
        },
        {
          "output_type": "stream",
          "name": "stderr",
          "text": [
            "/usr/local/lib/python3.10/dist-packages/urllib3/connectionpool.py:1099: InsecureRequestWarning: Unverified HTTPS request is being made to host 'twitter.com'. Adding certificate verification is strongly advised. See: https://urllib3.readthedocs.io/en/latest/advanced-usage.html#tls-warnings\n",
            "  warnings.warn(\n",
            "/usr/local/lib/python3.10/dist-packages/urllib3/connectionpool.py:1099: InsecureRequestWarning: Unverified HTTPS request is being made to host 'twitter.com'. Adding certificate verification is strongly advised. See: https://urllib3.readthedocs.io/en/latest/advanced-usage.html#tls-warnings\n",
            "  warnings.warn(\n",
            "/usr/local/lib/python3.10/dist-packages/urllib3/connectionpool.py:1099: InsecureRequestWarning: Unverified HTTPS request is being made to host 'x.com'. Adding certificate verification is strongly advised. See: https://urllib3.readthedocs.io/en/latest/advanced-usage.html#tls-warnings\n",
            "  warnings.warn(\n"
          ]
        },
        {
          "output_type": "stream",
          "name": "stdout",
          "text": [
            "Text saved to output/safe/twitter.com_home?status=%E3%83%8C%E3%81%91%E3%82%8B%EF%BC%81%E3%80%90%E3%82%A2%E3%83%8B%E3%83%A1%E3%80%91+http%3A%2F%2Fero-video.net%2Ft%2FVl93yd4t27PAvNaW+%E6%80%A7%E3%81%AE%E8%99%9C%E3%81%AB%E3%81%A.txt\n",
            "Downloading page http://variety.com/2015/film/news/broken-hollywood-the-bizs-top-players-call-out-ways-industry-needs-to-change-1201416866/2015/biz/news/peter-chernin-new-businesses-must-be-created-to-keep-the-industry-vibrant-1201416775/.gob.pe...\n"
          ]
        },
        {
          "output_type": "stream",
          "name": "stderr",
          "text": [
            "/usr/local/lib/python3.10/dist-packages/urllib3/connectionpool.py:1099: InsecureRequestWarning: Unverified HTTPS request is being made to host 'variety.com'. Adding certificate verification is strongly advised. See: https://urllib3.readthedocs.io/en/latest/advanced-usage.html#tls-warnings\n",
            "  warnings.warn(\n"
          ]
        },
        {
          "output_type": "stream",
          "name": "stdout",
          "text": [
            "Text saved to output/safe/variety.com_2015_film_news_broken-hollywood-the-bizs-top-players-call-out-ways-industry-needs-to-change-1201416866_2015_biz_news_peter-chernin-new-businesses-must-be-created-to-keep-the-industry-vibra.txt\n",
            "Downloading page http://kienthuc.net.vn/tham-my-spa/ba-hillary-duoc-khuyen-mac-vay-neu-muon-tro-thanh-tong-thong-477797.html...\n"
          ]
        },
        {
          "output_type": "stream",
          "name": "stderr",
          "text": [
            "/usr/local/lib/python3.10/dist-packages/urllib3/connectionpool.py:1099: InsecureRequestWarning: Unverified HTTPS request is being made to host 'kienthuc.net.vn'. Adding certificate verification is strongly advised. See: https://urllib3.readthedocs.io/en/latest/advanced-usage.html#tls-warnings\n",
            "  warnings.warn(\n",
            "/usr/local/lib/python3.10/dist-packages/urllib3/connectionpool.py:1099: InsecureRequestWarning: Unverified HTTPS request is being made to host 'kienthuc.net.vn'. Adding certificate verification is strongly advised. See: https://urllib3.readthedocs.io/en/latest/advanced-usage.html#tls-warnings\n",
            "  warnings.warn(\n"
          ]
        },
        {
          "output_type": "stream",
          "name": "stdout",
          "text": [
            "Text saved to output/safe/kienthuc.net.vn_tham-my-spa_ba-hillary-duoc-khuyen-mac-vay-neu-muon-tro-thanh-tong-thong-477797.html.txt\n",
            "Downloading page http://worldoftanks.ru/ru/content/guide/payments_instruction/terminals-osmp-qiwi-belarus/.gob.pe...\n"
          ]
        },
        {
          "output_type": "stream",
          "name": "stderr",
          "text": [
            "/usr/local/lib/python3.10/dist-packages/urllib3/connectionpool.py:1099: InsecureRequestWarning: Unverified HTTPS request is being made to host 'worldoftanks.eu'. Adding certificate verification is strongly advised. See: https://urllib3.readthedocs.io/en/latest/advanced-usage.html#tls-warnings\n",
            "  warnings.warn(\n"
          ]
        },
        {
          "output_type": "stream",
          "name": "stdout",
          "text": [
            "Text saved to output/safe/worldoftanks.ru_ru_content_guide_payments_instruction_terminals-osmp-qiwi-belarus_.gob.pe.txt\n",
            "Downloading page http://indianexpress.com/article/technology/technology-others/windows-10-is-the-last-version-of-windows-os-microsoft/.gob.pe...\n",
            "Error when dowwloading page http://indianexpress.com/article/technology/technology-others/windows-10-is-the-last-version-of-windows-os-microsoft/.gob.pe: 403 Client Error: Forbidden for url: http://indianexpress.com/article/technology/technology-others/windows-10-is-the-last-version-of-windows-os-microsoft/.gob.pe\n",
            "Failed to download page from http://indianexpress.com/article/technology/technology-others/windows-10-is-the-last-version-of-windows-os-microsoft/.gob.pe\n",
            "Downloading page http://mylust.com/videos/231559/suspended-hotties-get-face-fucked-by-a-guy-in-hot-bdsm-clip/.gob.pe...\n"
          ]
        },
        {
          "output_type": "stream",
          "name": "stderr",
          "text": [
            "/usr/local/lib/python3.10/dist-packages/urllib3/connectionpool.py:1099: InsecureRequestWarning: Unverified HTTPS request is being made to host 'mylust.com'. Adding certificate verification is strongly advised. See: https://urllib3.readthedocs.io/en/latest/advanced-usage.html#tls-warnings\n",
            "  warnings.warn(\n"
          ]
        },
        {
          "output_type": "stream",
          "name": "stdout",
          "text": [
            "Error when dowwloading page http://mylust.com/videos/231559/suspended-hotties-get-face-fucked-by-a-guy-in-hot-bdsm-clip/.gob.pe: 404 Client Error: Not Found for url: https://mylust.com/videos/231559/suspended-hotties-get-face-fucked-by-a-guy-in-hot-bdsm-clip/.gob.pe\n",
            "Failed to download page from http://mylust.com/videos/231559/suspended-hotties-get-face-fucked-by-a-guy-in-hot-bdsm-clip/.gob.pe\n",
            "Downloading page http://mylust.com/videos/236038/captivating-brunette-just-loves-masturbating-on-cam/.gob.pe...\n"
          ]
        },
        {
          "output_type": "stream",
          "name": "stderr",
          "text": [
            "/usr/local/lib/python3.10/dist-packages/urllib3/connectionpool.py:1099: InsecureRequestWarning: Unverified HTTPS request is being made to host 'mylust.com'. Adding certificate verification is strongly advised. See: https://urllib3.readthedocs.io/en/latest/advanced-usage.html#tls-warnings\n",
            "  warnings.warn(\n"
          ]
        },
        {
          "output_type": "stream",
          "name": "stdout",
          "text": [
            "Error when dowwloading page http://mylust.com/videos/236038/captivating-brunette-just-loves-masturbating-on-cam/.gob.pe: 404 Client Error: Not Found for url: https://mylust.com/videos/236038/captivating-brunette-just-loves-masturbating-on-cam/.gob.pe\n",
            "Failed to download page from http://mylust.com/videos/236038/captivating-brunette-just-loves-masturbating-on-cam/.gob.pe\n",
            "Downloading page http://udn.com/news/story/7091/747881-Alcatel-idol-3-%E6%AD%A3%E6%8B%BF%E3%80%81%E5%8F%8D%E6%8B%BF%E9%83%BD%E8%83%BD%E8%AC%9B%E9%9B%BB%E8%A9%B1.gob.pe...\n",
            "No valid text from http://udn.com/news/story/7091/747881-Alcatel-idol-3-%E6%AD%A3%E6%8B%BF%E3%80%81%E5%8F%8D%E6%8B%BF%E9%83%BD%E8%83%BD%E8%AC%9B%E9%9B%BB%E8%A9%B1.gob.pe\n",
            "Downloading page http://mic.com/articles/111430/a-powerful-new-banksy-video-shows-a-side-of-gaza-the-press-can-t.gob.pe...\n"
          ]
        },
        {
          "output_type": "stream",
          "name": "stderr",
          "text": [
            "/usr/local/lib/python3.10/dist-packages/urllib3/connectionpool.py:1099: InsecureRequestWarning: Unverified HTTPS request is being made to host 'udn.com'. Adding certificate verification is strongly advised. See: https://urllib3.readthedocs.io/en/latest/advanced-usage.html#tls-warnings\n",
            "  warnings.warn(\n",
            "/usr/local/lib/python3.10/dist-packages/urllib3/connectionpool.py:1099: InsecureRequestWarning: Unverified HTTPS request is being made to host 'mic.com'. Adding certificate verification is strongly advised. See: https://urllib3.readthedocs.io/en/latest/advanced-usage.html#tls-warnings\n",
            "  warnings.warn(\n",
            "/usr/local/lib/python3.10/dist-packages/urllib3/connectionpool.py:1099: InsecureRequestWarning: Unverified HTTPS request is being made to host 'www.mic.com'. Adding certificate verification is strongly advised. See: https://urllib3.readthedocs.io/en/latest/advanced-usage.html#tls-warnings\n",
            "  warnings.warn(\n"
          ]
        },
        {
          "output_type": "stream",
          "name": "stdout",
          "text": [
            "Error when dowwloading page http://mic.com/articles/111430/a-powerful-new-banksy-video-shows-a-side-of-gaza-the-press-can-t.gob.pe: 404 Client Error: Not Found for url: https://www.mic.com/articles/111430/a-powerful-new-banksy-video-shows-a-side-of-gaza-the-press-can-t.gob.pe\n",
            "Failed to download page from http://mic.com/articles/111430/a-powerful-new-banksy-video-shows-a-side-of-gaza-the-press-can-t.gob.pe\n",
            "Downloading page https://twitter.com/share?url=http%3A%2F%2Fhubpages.com%2Fhub%2Fbetter-looking-characters&text=How+to+Create+Beautiful+Characters+in+Skyrim...\n"
          ]
        },
        {
          "output_type": "stream",
          "name": "stderr",
          "text": [
            "/usr/local/lib/python3.10/dist-packages/urllib3/connectionpool.py:1099: InsecureRequestWarning: Unverified HTTPS request is being made to host 'twitter.com'. Adding certificate verification is strongly advised. See: https://urllib3.readthedocs.io/en/latest/advanced-usage.html#tls-warnings\n",
            "  warnings.warn(\n",
            "/usr/local/lib/python3.10/dist-packages/urllib3/connectionpool.py:1099: InsecureRequestWarning: Unverified HTTPS request is being made to host 'x.com'. Adding certificate verification is strongly advised. See: https://urllib3.readthedocs.io/en/latest/advanced-usage.html#tls-warnings\n",
            "  warnings.warn(\n"
          ]
        },
        {
          "output_type": "stream",
          "name": "stdout",
          "text": [
            "Text saved to output/safe/twitter.com_share?url=http%3A%2F%2Fhubpages.com%2Fhub%2Fbetter-looking-characters&text=How+to+Create+Beautiful+Characters+in+Skyrim.txt\n",
            "Downloading page http://udn.com/news/story/7253/900690-Q1%E6%AF%8F%E8%82%A1%E7%B4%94%E7%9B%8A%EF%BC%8F%E8%87%B4%E6%96%B01.31%E5%85%83-17%E5%AD%A3%E4%BD%8E%E9%BB%9E...\n",
            "No valid text from http://udn.com/news/story/7253/900690-Q1%E6%AF%8F%E8%82%A1%E7%B4%94%E7%9B%8A%EF%BC%8F%E8%87%B4%E6%96%B01.31%E5%85%83-17%E5%AD%A3%E4%BD%8E%E9%BB%9E\n",
            "Downloading page http://qz.com/391283/if-opec-dead-how-is-saudi-arabia-still-calling-the-shots-in-the-oil-market/.gob.pe...\n"
          ]
        },
        {
          "output_type": "stream",
          "name": "stderr",
          "text": [
            "/usr/local/lib/python3.10/dist-packages/urllib3/connectionpool.py:1099: InsecureRequestWarning: Unverified HTTPS request is being made to host 'udn.com'. Adding certificate verification is strongly advised. See: https://urllib3.readthedocs.io/en/latest/advanced-usage.html#tls-warnings\n",
            "  warnings.warn(\n",
            "/usr/local/lib/python3.10/dist-packages/urllib3/connectionpool.py:1099: InsecureRequestWarning: Unverified HTTPS request is being made to host 'qz.com'. Adding certificate verification is strongly advised. See: https://urllib3.readthedocs.io/en/latest/advanced-usage.html#tls-warnings\n",
            "  warnings.warn(\n"
          ]
        },
        {
          "output_type": "stream",
          "name": "stdout",
          "text": [
            "Error when dowwloading page http://qz.com/391283/if-opec-dead-how-is-saudi-arabia-still-calling-the-shots-in-the-oil-market/.gob.pe: 404 Client Error: Not Found for url: https://qz.com/391283/if-opec-dead-how-is-saudi-arabia-still-calling-the-shots-in-the-oil-market/.gob.pe\n",
            "Failed to download page from http://qz.com/391283/if-opec-dead-how-is-saudi-arabia-still-calling-the-shots-in-the-oil-market/.gob.pe\n",
            "Downloading page http://ink361.com/app/users/ig-1749497/dleeezy/photos/ig-984242467048409364_1749497.gob.pe...\n"
          ]
        },
        {
          "output_type": "stream",
          "name": "stderr",
          "text": [
            "/usr/local/lib/python3.10/dist-packages/urllib3/connectionpool.py:1099: InsecureRequestWarning: Unverified HTTPS request is being made to host 'ink361.com'. Adding certificate verification is strongly advised. See: https://urllib3.readthedocs.io/en/latest/advanced-usage.html#tls-warnings\n",
            "  warnings.warn(\n"
          ]
        },
        {
          "output_type": "stream",
          "name": "stdout",
          "text": [
            "Error when dowwloading page http://ink361.com/app/users/ig-1749497/dleeezy/photos/ig-984242467048409364_1749497.gob.pe: HTTPSConnectionPool(host='ink361.com', port=443): Read timed out. (read timeout=10)\n",
            "Failed to download page from http://ink361.com/app/users/ig-1749497/dleeezy/photos/ig-984242467048409364_1749497.gob.pe\n",
            "Downloading page http://atwiki.jp/wiki/%E3%82%AC%E3%83%B3%E3%83%80%E3%83%A0%E3%83%90%E3%83%88%E3%83%AB%E3%82%AA%E3%83%9A%E3%83%AC%E3%83%BC%E3%82%B7%E3%83%A7%E3%83%B3%E6%8C%87%E5%88%87%E3%82%8A%E3%81%A8%E3%81%AF.gob.pe...\n"
          ]
        },
        {
          "output_type": "stream",
          "name": "stderr",
          "text": [
            "/usr/local/lib/python3.10/dist-packages/urllib3/connectionpool.py:1099: InsecureRequestWarning: Unverified HTTPS request is being made to host 'atwiki.jp'. Adding certificate verification is strongly advised. See: https://urllib3.readthedocs.io/en/latest/advanced-usage.html#tls-warnings\n",
            "  warnings.warn(\n"
          ]
        },
        {
          "output_type": "stream",
          "name": "stdout",
          "text": [
            "Text saved to output/safe/atwiki.jp_wiki_%E3%82%AC%E3%83%B3%E3%83%80%E3%83%A0%E3%83%90%E3%83%88%E3%83%AB%E3%82%AA%E3%83%9A%E3%83%AC%E3%83%BC%E3%82%B7%E3%83%A7%E3%83%B3%E6%8C%87%E5%88%87%E3%82%8A%E3%81%A8%E3%81%AF.gob.pe.txt\n",
            "Downloading page http://abcnews.go.com/International/swedish-groups-approach-stop-russian-submarines-entering-swedish/story?id=31002277...\n"
          ]
        },
        {
          "output_type": "stream",
          "name": "stderr",
          "text": [
            "/usr/local/lib/python3.10/dist-packages/urllib3/connectionpool.py:1099: InsecureRequestWarning: Unverified HTTPS request is being made to host 'abcnews.go.com'. Adding certificate verification is strongly advised. See: https://urllib3.readthedocs.io/en/latest/advanced-usage.html#tls-warnings\n",
            "  warnings.warn(\n"
          ]
        },
        {
          "output_type": "stream",
          "name": "stdout",
          "text": [
            "Text saved to output/safe/abcnews.go.com_International_swedish-groups-approach-stop-russian-submarines-entering-swedish_story?id=31002277.txt\n",
            "Downloading page http://variety.com/2015/film/news/cate-blanchett-lesbian-carol-cannes-todd-haynes-women-in-hollywood-1201492632/?replytocom=1297491.gob.pe...\n"
          ]
        },
        {
          "output_type": "stream",
          "name": "stderr",
          "text": [
            "/usr/local/lib/python3.10/dist-packages/urllib3/connectionpool.py:1099: InsecureRequestWarning: Unverified HTTPS request is being made to host 'variety.com'. Adding certificate verification is strongly advised. See: https://urllib3.readthedocs.io/en/latest/advanced-usage.html#tls-warnings\n",
            "  warnings.warn(\n"
          ]
        },
        {
          "output_type": "stream",
          "name": "stdout",
          "text": [
            "Text saved to output/safe/variety.com_2015_film_news_cate-blanchett-lesbian-carol-cannes-todd-haynes-women-in-hollywood-1201492632_?replytocom=1297491.gob.pe.txt\n",
            "Downloading page http://tunein.com/radio/Vanakkam-FM-1027-s162374/15480783/ca-pub-1542925551861702/Station.gob.pe...\n"
          ]
        },
        {
          "output_type": "stream",
          "name": "stderr",
          "text": [
            "/usr/local/lib/python3.10/dist-packages/urllib3/connectionpool.py:1099: InsecureRequestWarning: Unverified HTTPS request is being made to host 'tunein.com'. Adding certificate verification is strongly advised. See: https://urllib3.readthedocs.io/en/latest/advanced-usage.html#tls-warnings\n",
            "  warnings.warn(\n",
            "/usr/local/lib/python3.10/dist-packages/urllib3/connectionpool.py:1099: InsecureRequestWarning: Unverified HTTPS request is being made to host 'tunein.com'. Adding certificate verification is strongly advised. See: https://urllib3.readthedocs.io/en/latest/advanced-usage.html#tls-warnings\n",
            "  warnings.warn(\n"
          ]
        },
        {
          "output_type": "stream",
          "name": "stdout",
          "text": [
            "Text saved to output/safe/tunein.com_radio_Vanakkam-FM-1027-s162374_15480783_ca-pub-1542925551861702_Station.gob.pe.txt\n",
            "Downloading page http://twitter.com/home?status=%E3%83%8C%E3%81%91%E3%82%8B%EF%BC%81%E3%80%90%E3%82%B3%E3%82%B9%E3%83%97%E3%83%AC%E3%83%BB%E5%88%B6%E6%9C%8D%E7%B3%BB%E3%80%91+http%3A%2F%2Fero-video.net%2Ft%2FC18SM5u5Gxb3vPXB+%E3%82%A2%E3%83%8B%E3%82%B3%E3%82%B9%E3%81%A7%E3%83%8F%E3%83%A1%E6%92%AE%E3%82%8A+%23ero+%23douga+%23agesage...\n"
          ]
        },
        {
          "output_type": "stream",
          "name": "stderr",
          "text": [
            "/usr/local/lib/python3.10/dist-packages/urllib3/connectionpool.py:1099: InsecureRequestWarning: Unverified HTTPS request is being made to host 'twitter.com'. Adding certificate verification is strongly advised. See: https://urllib3.readthedocs.io/en/latest/advanced-usage.html#tls-warnings\n",
            "  warnings.warn(\n",
            "/usr/local/lib/python3.10/dist-packages/urllib3/connectionpool.py:1099: InsecureRequestWarning: Unverified HTTPS request is being made to host 'twitter.com'. Adding certificate verification is strongly advised. See: https://urllib3.readthedocs.io/en/latest/advanced-usage.html#tls-warnings\n",
            "  warnings.warn(\n",
            "/usr/local/lib/python3.10/dist-packages/urllib3/connectionpool.py:1099: InsecureRequestWarning: Unverified HTTPS request is being made to host 'x.com'. Adding certificate verification is strongly advised. See: https://urllib3.readthedocs.io/en/latest/advanced-usage.html#tls-warnings\n",
            "  warnings.warn(\n"
          ]
        },
        {
          "output_type": "stream",
          "name": "stdout",
          "text": [
            "Text saved to output/safe/twitter.com_home?status=%E3%83%8C%E3%81%91%E3%82%8B%EF%BC%81%E3%80%90%E3%82%B3%E3%82%B9%E3%83%97%E3%83%AC%E3%83%BB%E5%88%B6%E6%9C%8D%E7%B3%BB%E3%80%91+http%3A%2F%2Fero-video.net%2Ft%2FC18SM5u5Gxb3vPXB.txt\n",
            "Downloading page http://1337x.to/torrent/1160220/Marvels-Agents-of-S-H-I-E-L-D-S02E21-E22-HDTV-XviD-FUM-ettv/.gob.pe...\n"
          ]
        },
        {
          "output_type": "stream",
          "name": "stderr",
          "text": [
            "/usr/local/lib/python3.10/dist-packages/urllib3/connectionpool.py:1099: InsecureRequestWarning: Unverified HTTPS request is being made to host '1337x.to'. Adding certificate verification is strongly advised. See: https://urllib3.readthedocs.io/en/latest/advanced-usage.html#tls-warnings\n",
            "  warnings.warn(\n"
          ]
        },
        {
          "output_type": "stream",
          "name": "stdout",
          "text": [
            "Error when dowwloading page http://1337x.to/torrent/1160220/Marvels-Agents-of-S-H-I-E-L-D-S02E21-E22-HDTV-XviD-FUM-ettv/.gob.pe: 404 Client Error: Not Found for url: https://1337x.to/torrent/1160220/Marvels-Agents-of-S-H-I-E-L-D-S02E21-E22-HDTV-XviD-FUM-ettv/.gob.pe\n",
            "Failed to download page from http://1337x.to/torrent/1160220/Marvels-Agents-of-S-H-I-E-L-D-S02E21-E22-HDTV-XviD-FUM-ettv/.gob.pe\n",
            "Downloading page http://patch.com/new-jersey/brick/njsiaa-wrestling-seven-brick-reach-medal-round-0/.gob.pe...\n"
          ]
        },
        {
          "output_type": "stream",
          "name": "stderr",
          "text": [
            "/usr/local/lib/python3.10/dist-packages/urllib3/connectionpool.py:1099: InsecureRequestWarning: Unverified HTTPS request is being made to host 'patch.com'. Adding certificate verification is strongly advised. See: https://urllib3.readthedocs.io/en/latest/advanced-usage.html#tls-warnings\n",
            "  warnings.warn(\n"
          ]
        },
        {
          "output_type": "stream",
          "name": "stdout",
          "text": [
            "Error when dowwloading page http://patch.com/new-jersey/brick/njsiaa-wrestling-seven-brick-reach-medal-round-0/.gob.pe: 404 Client Error: Not Found for url: https://patch.com/new-jersey/brick/njsiaa-wrestling-seven-brick-reach-medal-round-0/.gob.pe\n",
            "Failed to download page from http://patch.com/new-jersey/brick/njsiaa-wrestling-seven-brick-reach-medal-round-0/.gob.pe\n",
            "Downloading page http://auto.ru/cars/bmw/5er/all/?search%5Bstate%5D=1&search%5Bperiod%5D=0&search%5Bcustom%5D=1&search%5Bsection_id%5D=0&search%5Bmark%5D%5B0%5D=30&search%5Bmark-folder%5D%5B0%5D=30-384_4445.gob.pe...\n"
          ]
        },
        {
          "output_type": "stream",
          "name": "stderr",
          "text": [
            "/usr/local/lib/python3.10/dist-packages/urllib3/connectionpool.py:1099: InsecureRequestWarning: Unverified HTTPS request is being made to host 'auto.ru'. Adding certificate verification is strongly advised. See: https://urllib3.readthedocs.io/en/latest/advanced-usage.html#tls-warnings\n",
            "  warnings.warn(\n",
            "/usr/local/lib/python3.10/dist-packages/urllib3/connectionpool.py:1099: InsecureRequestWarning: Unverified HTTPS request is being made to host 'auto.ru'. Adding certificate verification is strongly advised. See: https://urllib3.readthedocs.io/en/latest/advanced-usage.html#tls-warnings\n",
            "  warnings.warn(\n"
          ]
        },
        {
          "output_type": "stream",
          "name": "stdout",
          "text": [
            "Text saved to output/safe/auto.ru_cars_bmw_5er_all_?search%5Bstate%5D=1&search%5Bperiod%5D=0&search%5Bcustom%5D=1&search%5Bsection_id%5D=0&search%5Bmark%5D%5B0%5D=30&search%5Bmark-folder%5D%5B0%5D=30-384_4445.gob.pe.txt\n",
            "Downloading page http://stackoverflow.com/questions/8643354/cannot-load-image-referenced-from-a-nib-in-the-bundle.gob.pe...\n"
          ]
        },
        {
          "output_type": "stream",
          "name": "stderr",
          "text": [
            "/usr/local/lib/python3.10/dist-packages/urllib3/connectionpool.py:1099: InsecureRequestWarning: Unverified HTTPS request is being made to host 'stackoverflow.com'. Adding certificate verification is strongly advised. See: https://urllib3.readthedocs.io/en/latest/advanced-usage.html#tls-warnings\n",
            "  warnings.warn(\n",
            "/usr/local/lib/python3.10/dist-packages/urllib3/connectionpool.py:1099: InsecureRequestWarning: Unverified HTTPS request is being made to host 'stackoverflow.com'. Adding certificate verification is strongly advised. See: https://urllib3.readthedocs.io/en/latest/advanced-usage.html#tls-warnings\n",
            "  warnings.warn(\n"
          ]
        },
        {
          "output_type": "stream",
          "name": "stdout",
          "text": [
            "Text saved to output/safe/stackoverflow.com_questions_8643354_cannot-load-image-referenced-from-a-nib-in-the-bundle.gob.pe.txt\n",
            "Downloading page http://correios.com.br/para-sua-empresa/servicos-para-o-seu-contrato/precos-e-prazos/prazo-de-guarda-de-objetos-nacionais...\n"
          ]
        },
        {
          "output_type": "stream",
          "name": "stderr",
          "text": [
            "/usr/local/lib/python3.10/dist-packages/urllib3/connectionpool.py:1099: InsecureRequestWarning: Unverified HTTPS request is being made to host 'correios.com.br'. Adding certificate verification is strongly advised. See: https://urllib3.readthedocs.io/en/latest/advanced-usage.html#tls-warnings\n",
            "  warnings.warn(\n",
            "/usr/local/lib/python3.10/dist-packages/urllib3/connectionpool.py:1099: InsecureRequestWarning: Unverified HTTPS request is being made to host 'www.correios.com.br'. Adding certificate verification is strongly advised. See: https://urllib3.readthedocs.io/en/latest/advanced-usage.html#tls-warnings\n",
            "  warnings.warn(\n"
          ]
        },
        {
          "output_type": "stream",
          "name": "stdout",
          "text": [
            "Text saved to output/safe/correios.com.br_para-sua-empresa_servicos-para-o-seu-contrato_precos-e-prazos_prazo-de-guarda-de-objetos-nacionais.txt\n",
            "Downloading page http://techcrunch.com/2015/05/12/godaddy-slips-2-9-after-reporting-q1-revenue-of-376-3m-strong-q2-top-line-projection/.gob.pe...\n"
          ]
        },
        {
          "output_type": "stream",
          "name": "stderr",
          "text": [
            "/usr/local/lib/python3.10/dist-packages/urllib3/connectionpool.py:1099: InsecureRequestWarning: Unverified HTTPS request is being made to host 'techcrunch.com'. Adding certificate verification is strongly advised. See: https://urllib3.readthedocs.io/en/latest/advanced-usage.html#tls-warnings\n",
            "  warnings.warn(\n"
          ]
        },
        {
          "output_type": "stream",
          "name": "stdout",
          "text": [
            "Error when dowwloading page http://techcrunch.com/2015/05/12/godaddy-slips-2-9-after-reporting-q1-revenue-of-376-3m-strong-q2-top-line-projection/.gob.pe: 404 Client Error: Not Found for url: https://techcrunch.com/2015/05/12/godaddy-slips-2-9-after-reporting-q1-revenue-of-376-3m-strong-q2-top-line-projection/.gob.pe\n",
            "Failed to download page from http://techcrunch.com/2015/05/12/godaddy-slips-2-9-after-reporting-q1-revenue-of-376-3m-strong-q2-top-line-projection/.gob.pe\n",
            "Downloading page http://twitter.com/home?status=%E3%83%8C%E3%81%91%E3%82%8B%EF%BC%81%E3%80%90%E7%BE%8E%E5%B0%91%E5%A5%B3%E3%80%91+http%3A%2F%2Fero-video.net%2Ft%2F7ZQ02VlAguXiQH7v+%E5%A5%B3%E5%AD%90%E6%A0%A1%E7%94%9F+%E9%9B%BB%E3%83%9E%E3%81%A7%E7%84%A6%E3%82%89%E3%81%97%E3%81%A6+%23ero+%23douga+%23agesage...\n"
          ]
        },
        {
          "output_type": "stream",
          "name": "stderr",
          "text": [
            "/usr/local/lib/python3.10/dist-packages/urllib3/connectionpool.py:1099: InsecureRequestWarning: Unverified HTTPS request is being made to host 'twitter.com'. Adding certificate verification is strongly advised. See: https://urllib3.readthedocs.io/en/latest/advanced-usage.html#tls-warnings\n",
            "  warnings.warn(\n",
            "/usr/local/lib/python3.10/dist-packages/urllib3/connectionpool.py:1099: InsecureRequestWarning: Unverified HTTPS request is being made to host 'twitter.com'. Adding certificate verification is strongly advised. See: https://urllib3.readthedocs.io/en/latest/advanced-usage.html#tls-warnings\n",
            "  warnings.warn(\n",
            "/usr/local/lib/python3.10/dist-packages/urllib3/connectionpool.py:1099: InsecureRequestWarning: Unverified HTTPS request is being made to host 'x.com'. Adding certificate verification is strongly advised. See: https://urllib3.readthedocs.io/en/latest/advanced-usage.html#tls-warnings\n",
            "  warnings.warn(\n"
          ]
        },
        {
          "output_type": "stream",
          "name": "stdout",
          "text": [
            "Text saved to output/safe/twitter.com_home?status=%E3%83%8C%E3%81%91%E3%82%8B%EF%BC%81%E3%80%90%E7%BE%8E%E5%B0%91%E5%A5%B3%E3%80%91+http%3A%2F%2Fero-video.net%2Ft%2F7ZQ02VlAguXiQH7v+%E5%A5%B3%E5%AD%90%E6%A0%A1%E7%94%9F+%E9%9B%.txt\n",
            "Downloading page http://superuser.com/questions/862530/3-pin-cpu-cooler-on-socket-1150-has-allways-only-constant-fixed-fan-speed.gob.pe...\n"
          ]
        },
        {
          "output_type": "stream",
          "name": "stderr",
          "text": [
            "/usr/local/lib/python3.10/dist-packages/urllib3/connectionpool.py:1099: InsecureRequestWarning: Unverified HTTPS request is being made to host 'superuser.com'. Adding certificate verification is strongly advised. See: https://urllib3.readthedocs.io/en/latest/advanced-usage.html#tls-warnings\n",
            "  warnings.warn(\n",
            "/usr/local/lib/python3.10/dist-packages/urllib3/connectionpool.py:1099: InsecureRequestWarning: Unverified HTTPS request is being made to host 'superuser.com'. Adding certificate verification is strongly advised. See: https://urllib3.readthedocs.io/en/latest/advanced-usage.html#tls-warnings\n",
            "  warnings.warn(\n"
          ]
        },
        {
          "output_type": "stream",
          "name": "stdout",
          "text": [
            "Text saved to output/safe/superuser.com_questions_862530_3-pin-cpu-cooler-on-socket-1150-has-allways-only-constant-fixed-fan-speed.gob.pe.txt\n",
            "Downloading page http://mylust.com/videos/110517/my-mind-blowing-french-milf-with-awesome-body-masturbates/.gob.pe...\n"
          ]
        },
        {
          "output_type": "stream",
          "name": "stderr",
          "text": [
            "/usr/local/lib/python3.10/dist-packages/urllib3/connectionpool.py:1099: InsecureRequestWarning: Unverified HTTPS request is being made to host 'mylust.com'. Adding certificate verification is strongly advised. See: https://urllib3.readthedocs.io/en/latest/advanced-usage.html#tls-warnings\n",
            "  warnings.warn(\n"
          ]
        },
        {
          "output_type": "stream",
          "name": "stdout",
          "text": [
            "Error when dowwloading page http://mylust.com/videos/110517/my-mind-blowing-french-milf-with-awesome-body-masturbates/.gob.pe: 404 Client Error: Not Found for url: https://mylust.com/videos/110517/my-mind-blowing-french-milf-with-awesome-body-masturbates/.gob.pe\n",
            "Failed to download page from http://mylust.com/videos/110517/my-mind-blowing-french-milf-with-awesome-body-masturbates/.gob.pe\n",
            "Downloading page http://askubuntu.com/questions/607267/capturing-metadata-off-music-cd-during-file-transfer.gob.pe...\n"
          ]
        },
        {
          "output_type": "stream",
          "name": "stderr",
          "text": [
            "/usr/local/lib/python3.10/dist-packages/urllib3/connectionpool.py:1099: InsecureRequestWarning: Unverified HTTPS request is being made to host 'askubuntu.com'. Adding certificate verification is strongly advised. See: https://urllib3.readthedocs.io/en/latest/advanced-usage.html#tls-warnings\n",
            "  warnings.warn(\n",
            "/usr/local/lib/python3.10/dist-packages/urllib3/connectionpool.py:1099: InsecureRequestWarning: Unverified HTTPS request is being made to host 'askubuntu.com'. Adding certificate verification is strongly advised. See: https://urllib3.readthedocs.io/en/latest/advanced-usage.html#tls-warnings\n",
            "  warnings.warn(\n"
          ]
        },
        {
          "output_type": "stream",
          "name": "stdout",
          "text": [
            "Text saved to output/safe/askubuntu.com_questions_607267_capturing-metadata-off-music-cd-during-file-transfer.gob.pe.txt\n",
            "Downloading page http://sprint.com/business/solutions/fleet_and_asset_management/local_fleet/index.html...\n"
          ]
        },
        {
          "output_type": "stream",
          "name": "stderr",
          "text": [
            "/usr/local/lib/python3.10/dist-packages/urllib3/connectionpool.py:1099: InsecureRequestWarning: Unverified HTTPS request is being made to host 'sprint.com'. Adding certificate verification is strongly advised. See: https://urllib3.readthedocs.io/en/latest/advanced-usage.html#tls-warnings\n",
            "  warnings.warn(\n",
            "/usr/local/lib/python3.10/dist-packages/urllib3/connectionpool.py:1099: InsecureRequestWarning: Unverified HTTPS request is being made to host 'www.sprint.com'. Adding certificate verification is strongly advised. See: https://urllib3.readthedocs.io/en/latest/advanced-usage.html#tls-warnings\n",
            "  warnings.warn(\n",
            "/usr/local/lib/python3.10/dist-packages/urllib3/connectionpool.py:1099: InsecureRequestWarning: Unverified HTTPS request is being made to host 'mylust.com'. Adding certificate verification is strongly advised. See: https://urllib3.readthedocs.io/en/latest/advanced-usage.html#tls-warnings\n",
            "  warnings.warn(\n"
          ]
        },
        {
          "output_type": "stream",
          "name": "stdout",
          "text": [
            "Error when dowwloading page http://sprint.com/business/solutions/fleet_and_asset_management/local_fleet/index.html: 403 Client Error: Forbidden for url: https://www.sprint.com\n",
            "Failed to download page from http://sprint.com/business/solutions/fleet_and_asset_management/local_fleet/index.html\n",
            "Downloading page http://mylust.com/videos/231550/nerdy-brunette-kristine-gets-beaten-and-face-fucked-in-bdsm-clip/.gob.pe...\n",
            "Error when dowwloading page http://mylust.com/videos/231550/nerdy-brunette-kristine-gets-beaten-and-face-fucked-in-bdsm-clip/.gob.pe: 404 Client Error: Not Found for url: https://mylust.com/videos/231550/nerdy-brunette-kristine-gets-beaten-and-face-fucked-in-bdsm-clip/.gob.pe\n",
            "Failed to download page from http://mylust.com/videos/231550/nerdy-brunette-kristine-gets-beaten-and-face-fucked-in-bdsm-clip/.gob.pe\n",
            "Downloading page http://udn.com/news/story/7238/901282-%E9%87%91%E7%AE%A1%E6%9C%83%E5%87%BA%E6%8B%9B-%E6%94%B9%E9%9D%A9%E4%B8%8D%E5%81%9C%E6%AD%87.gob.pe...\n"
          ]
        },
        {
          "output_type": "stream",
          "name": "stderr",
          "text": [
            "/usr/local/lib/python3.10/dist-packages/urllib3/connectionpool.py:1099: InsecureRequestWarning: Unverified HTTPS request is being made to host 'udn.com'. Adding certificate verification is strongly advised. See: https://urllib3.readthedocs.io/en/latest/advanced-usage.html#tls-warnings\n",
            "  warnings.warn(\n"
          ]
        },
        {
          "output_type": "stream",
          "name": "stdout",
          "text": [
            "No valid text from http://udn.com/news/story/7238/901282-%E9%87%91%E7%AE%A1%E6%9C%83%E5%87%BA%E6%8B%9B-%E6%94%B9%E9%9D%A9%E4%B8%8D%E5%81%9C%E6%AD%87.gob.pe\n",
            "Downloading page http://himado.in/?keyword=%E3%83%AF%E3%83%BC%E3%83%AB%E3%83%89%E3%83%88%E3%83%AA%E3%82%AC%E3%83%BC.gob.pe...\n",
            "Text saved to output/safe/himado.in_?keyword=%E3%83%AF%E3%83%BC%E3%83%AB%E3%83%89%E3%83%88%E3%83%AA%E3%82%AC%E3%83%BC.gob.pe.txt\n",
            "Downloading page http://nesn.com/2015/05/red-sox-wrap-pablo-sandovals-11th-inning-homer-seals-5-4-win-over-as/.gob.pe...\n"
          ]
        },
        {
          "output_type": "stream",
          "name": "stderr",
          "text": [
            "/usr/local/lib/python3.10/dist-packages/urllib3/connectionpool.py:1099: InsecureRequestWarning: Unverified HTTPS request is being made to host 'nesn.com'. Adding certificate verification is strongly advised. See: https://urllib3.readthedocs.io/en/latest/advanced-usage.html#tls-warnings\n",
            "  warnings.warn(\n"
          ]
        },
        {
          "output_type": "stream",
          "name": "stdout",
          "text": [
            "Error when dowwloading page http://nesn.com/2015/05/red-sox-wrap-pablo-sandovals-11th-inning-homer-seals-5-4-win-over-as/.gob.pe: 404 Client Error: Not Found for url: https://nesn.com/2015/05/red-sox-wrap-pablo-sandovals-11th-inning-homer-seals-5-4-win-over-as/.gob.pe\n",
            "Failed to download page from http://nesn.com/2015/05/red-sox-wrap-pablo-sandovals-11th-inning-homer-seals-5-4-win-over-as/.gob.pe\n",
            "Downloading page http://1337x.to/torrent/1160171/X-The-Man-with-the-X-Ray-Eyes-1963-1080p-BrRip-x264-YIFY/.gob.pe...\n"
          ]
        },
        {
          "output_type": "stream",
          "name": "stderr",
          "text": [
            "/usr/local/lib/python3.10/dist-packages/urllib3/connectionpool.py:1099: InsecureRequestWarning: Unverified HTTPS request is being made to host '1337x.to'. Adding certificate verification is strongly advised. See: https://urllib3.readthedocs.io/en/latest/advanced-usage.html#tls-warnings\n",
            "  warnings.warn(\n"
          ]
        },
        {
          "output_type": "stream",
          "name": "stdout",
          "text": [
            "Error when dowwloading page http://1337x.to/torrent/1160171/X-The-Man-with-the-X-Ray-Eyes-1963-1080p-BrRip-x264-YIFY/.gob.pe: 404 Client Error: Not Found for url: https://1337x.to/torrent/1160171/X-The-Man-with-the-X-Ray-Eyes-1963-1080p-BrRip-x264-YIFY/.gob.pe\n",
            "Failed to download page from http://1337x.to/torrent/1160171/X-The-Man-with-the-X-Ray-Eyes-1963-1080p-BrRip-x264-YIFY/.gob.pe\n",
            "Downloading page http://nguyentandung.org/tu-tuong-dao-duc-ho-chi-minh-mang-tam-voc-vi-nhan-thoi-dai.html...\n"
          ]
        },
        {
          "output_type": "stream",
          "name": "stderr",
          "text": [
            "/usr/local/lib/python3.10/dist-packages/urllib3/connectionpool.py:1099: InsecureRequestWarning: Unverified HTTPS request is being made to host 'nguyentandung.org'. Adding certificate verification is strongly advised. See: https://urllib3.readthedocs.io/en/latest/advanced-usage.html#tls-warnings\n",
            "  warnings.warn(\n",
            "/usr/local/lib/python3.10/dist-packages/urllib3/connectionpool.py:1099: InsecureRequestWarning: Unverified HTTPS request is being made to host 'nguyentandung.org'. Adding certificate verification is strongly advised. See: https://urllib3.readthedocs.io/en/latest/advanced-usage.html#tls-warnings\n",
            "  warnings.warn(\n"
          ]
        },
        {
          "output_type": "stream",
          "name": "stdout",
          "text": [
            "Text saved to output/safe/nguyentandung.org_tu-tuong-dao-duc-ho-chi-minh-mang-tam-voc-vi-nhan-thoi-dai.html.txt\n",
            "Downloading page http://thechive.com/2015/05/12/snuggle-up-with-some-sideboob-this-morning-40-photos/.gob.pe...\n"
          ]
        },
        {
          "output_type": "stream",
          "name": "stderr",
          "text": [
            "/usr/local/lib/python3.10/dist-packages/urllib3/connectionpool.py:1099: InsecureRequestWarning: Unverified HTTPS request is being made to host 'thechive.com'. Adding certificate verification is strongly advised. See: https://urllib3.readthedocs.io/en/latest/advanced-usage.html#tls-warnings\n",
            "  warnings.warn(\n"
          ]
        },
        {
          "output_type": "stream",
          "name": "stdout",
          "text": [
            "Error when dowwloading page http://thechive.com/2015/05/12/snuggle-up-with-some-sideboob-this-morning-40-photos/.gob.pe: 404 Client Error: Not Found for url: https://thechive.com/2015/05/12/snuggle-up-with-some-sideboob-this-morning-40-photos/.gob.pe\n",
            "Failed to download page from http://thechive.com/2015/05/12/snuggle-up-with-some-sideboob-this-morning-40-photos/.gob.pe\n",
            "Downloading page http://askubuntu.com/questions/596767/how-to-get-rhythmbox-playlist-to-play-correctly-via-rockbox-on-sansa-clip-plus.gob.pe...\n"
          ]
        },
        {
          "output_type": "stream",
          "name": "stderr",
          "text": [
            "/usr/local/lib/python3.10/dist-packages/urllib3/connectionpool.py:1099: InsecureRequestWarning: Unverified HTTPS request is being made to host 'askubuntu.com'. Adding certificate verification is strongly advised. See: https://urllib3.readthedocs.io/en/latest/advanced-usage.html#tls-warnings\n",
            "  warnings.warn(\n",
            "/usr/local/lib/python3.10/dist-packages/urllib3/connectionpool.py:1099: InsecureRequestWarning: Unverified HTTPS request is being made to host 'askubuntu.com'. Adding certificate verification is strongly advised. See: https://urllib3.readthedocs.io/en/latest/advanced-usage.html#tls-warnings\n",
            "  warnings.warn(\n"
          ]
        },
        {
          "output_type": "stream",
          "name": "stdout",
          "text": [
            "Text saved to output/safe/askubuntu.com_questions_596767_how-to-get-rhythmbox-playlist-to-play-correctly-via-rockbox-on-sansa-clip-plus.gob.pe.txt\n",
            "Downloading page https://twitter.com/home?status=%E3%83%8C%E3%81%91%E3%82%8B%EF%BC%81%E3%80%90%E3%82%AE%E3%83%A3%E3%83%AB%E3%80%91+http%3A%2F%2Fero-video.net%2Ft%2Fma7ecQEkBDRLP8ds+%E3%82%AE%E3%83%A3%E3%83%AB%E3%83%BB%E9%BB%92%E3%82%AE%E3%83%A3%E3%83%AB36+%23ero+%23douga+%23agesage...\n"
          ]
        },
        {
          "output_type": "stream",
          "name": "stderr",
          "text": [
            "/usr/local/lib/python3.10/dist-packages/urllib3/connectionpool.py:1099: InsecureRequestWarning: Unverified HTTPS request is being made to host 'twitter.com'. Adding certificate verification is strongly advised. See: https://urllib3.readthedocs.io/en/latest/advanced-usage.html#tls-warnings\n",
            "  warnings.warn(\n",
            "/usr/local/lib/python3.10/dist-packages/urllib3/connectionpool.py:1099: InsecureRequestWarning: Unverified HTTPS request is being made to host 'twitter.com'. Adding certificate verification is strongly advised. See: https://urllib3.readthedocs.io/en/latest/advanced-usage.html#tls-warnings\n",
            "  warnings.warn(\n",
            "/usr/local/lib/python3.10/dist-packages/urllib3/connectionpool.py:1099: InsecureRequestWarning: Unverified HTTPS request is being made to host 'x.com'. Adding certificate verification is strongly advised. See: https://urllib3.readthedocs.io/en/latest/advanced-usage.html#tls-warnings\n",
            "  warnings.warn(\n"
          ]
        },
        {
          "output_type": "stream",
          "name": "stdout",
          "text": [
            "Text saved to output/safe/twitter.com_home?status=%E3%83%8C%E3%81%91%E3%82%8B%EF%BC%81%E3%80%90%E3%82%AE%E3%83%A3%E3%83%AB%E3%80%91+http%3A%2F%2Fero-video.net%2Ft%2Fma7ecQEkBDRLP8ds+%E3%82%AE%E3%83%A3%E3%83%AB%E3%83%BB%E9%BB%9.txt\n",
            "Downloading page http://mic.com/articles/117386/something-truly-unfunny-happened-when-you-googled-the-word-joke.gob.pe...\n"
          ]
        },
        {
          "output_type": "stream",
          "name": "stderr",
          "text": [
            "/usr/local/lib/python3.10/dist-packages/urllib3/connectionpool.py:1099: InsecureRequestWarning: Unverified HTTPS request is being made to host 'mic.com'. Adding certificate verification is strongly advised. See: https://urllib3.readthedocs.io/en/latest/advanced-usage.html#tls-warnings\n",
            "  warnings.warn(\n",
            "/usr/local/lib/python3.10/dist-packages/urllib3/connectionpool.py:1099: InsecureRequestWarning: Unverified HTTPS request is being made to host 'www.mic.com'. Adding certificate verification is strongly advised. See: https://urllib3.readthedocs.io/en/latest/advanced-usage.html#tls-warnings\n",
            "  warnings.warn(\n"
          ]
        },
        {
          "output_type": "stream",
          "name": "stdout",
          "text": [
            "Error when dowwloading page http://mic.com/articles/117386/something-truly-unfunny-happened-when-you-googled-the-word-joke.gob.pe: 404 Client Error: Not Found for url: https://www.mic.com/articles/117386/something-truly-unfunny-happened-when-you-googled-the-word-joke.gob.pe\n",
            "Failed to download page from http://mic.com/articles/117386/something-truly-unfunny-happened-when-you-googled-the-word-joke.gob.pe\n",
            "Downloading page http://mic.com/articles/106784/6-important-truths-that-reveal-what-asexuality-is-really-about.gob.pe...\n"
          ]
        },
        {
          "output_type": "stream",
          "name": "stderr",
          "text": [
            "/usr/local/lib/python3.10/dist-packages/urllib3/connectionpool.py:1099: InsecureRequestWarning: Unverified HTTPS request is being made to host 'mic.com'. Adding certificate verification is strongly advised. See: https://urllib3.readthedocs.io/en/latest/advanced-usage.html#tls-warnings\n",
            "  warnings.warn(\n",
            "/usr/local/lib/python3.10/dist-packages/urllib3/connectionpool.py:1099: InsecureRequestWarning: Unverified HTTPS request is being made to host 'www.mic.com'. Adding certificate verification is strongly advised. See: https://urllib3.readthedocs.io/en/latest/advanced-usage.html#tls-warnings\n",
            "  warnings.warn(\n"
          ]
        },
        {
          "output_type": "stream",
          "name": "stdout",
          "text": [
            "Error when dowwloading page http://mic.com/articles/106784/6-important-truths-that-reveal-what-asexuality-is-really-about.gob.pe: 404 Client Error: Not Found for url: https://www.mic.com/articles/106784/6-important-truths-that-reveal-what-asexuality-is-really-about.gob.pe\n",
            "Failed to download page from http://mic.com/articles/106784/6-important-truths-that-reveal-what-asexuality-is-really-about.gob.pe\n",
            "Downloading page http://mylust.com/videos/37716/indian-neighbor-girl-washes-outdoors-as-i-film-her-on-spy-cam/.gob.pe...\n"
          ]
        },
        {
          "output_type": "stream",
          "name": "stderr",
          "text": [
            "/usr/local/lib/python3.10/dist-packages/urllib3/connectionpool.py:1099: InsecureRequestWarning: Unverified HTTPS request is being made to host 'mylust.com'. Adding certificate verification is strongly advised. See: https://urllib3.readthedocs.io/en/latest/advanced-usage.html#tls-warnings\n",
            "  warnings.warn(\n"
          ]
        },
        {
          "output_type": "stream",
          "name": "stdout",
          "text": [
            "Error when dowwloading page http://mylust.com/videos/37716/indian-neighbor-girl-washes-outdoors-as-i-film-her-on-spy-cam/.gob.pe: 404 Client Error: Not Found for url: https://mylust.com/videos/37716/indian-neighbor-girl-washes-outdoors-as-i-film-her-on-spy-cam/.gob.pe\n",
            "Failed to download page from http://mylust.com/videos/37716/indian-neighbor-girl-washes-outdoors-as-i-film-her-on-spy-cam/.gob.pe\n",
            "Downloading page http://qz.com/393160/at-least-six-have-died-as-burundi-is-rocked-by-violent-protests/.gob.pe...\n"
          ]
        },
        {
          "output_type": "stream",
          "name": "stderr",
          "text": [
            "/usr/local/lib/python3.10/dist-packages/urllib3/connectionpool.py:1099: InsecureRequestWarning: Unverified HTTPS request is being made to host 'qz.com'. Adding certificate verification is strongly advised. See: https://urllib3.readthedocs.io/en/latest/advanced-usage.html#tls-warnings\n",
            "  warnings.warn(\n",
            "/usr/local/lib/python3.10/dist-packages/urllib3/connectionpool.py:1099: InsecureRequestWarning: Unverified HTTPS request is being made to host 'deadspin.com'. Adding certificate verification is strongly advised. See: https://urllib3.readthedocs.io/en/latest/advanced-usage.html#tls-warnings\n",
            "  warnings.warn(\n",
            "/usr/local/lib/python3.10/dist-packages/urllib3/connectionpool.py:1099: InsecureRequestWarning: Unverified HTTPS request is being made to host 'deadspin.com'. Adding certificate verification is strongly advised. See: https://urllib3.readthedocs.io/en/latest/advanced-usage.html#tls-warnings\n",
            "  warnings.warn(\n"
          ]
        },
        {
          "output_type": "stream",
          "name": "stdout",
          "text": [
            "Text saved to output/safe/qz.com_393160_at-least-six-have-died-as-burundi-is-rocked-by-violent-protests_.gob.pe.txt\n",
            "Downloading page http://indianexpress.com/article/technology/tech-news-technology/as-pm-narendra-modi-leaves-for-china-he-leaves-behind-something-in-your-inbox/99.gob.pe...\n",
            "Error when dowwloading page http://indianexpress.com/article/technology/tech-news-technology/as-pm-narendra-modi-leaves-for-china-he-leaves-behind-something-in-your-inbox/99.gob.pe: 403 Client Error: Forbidden for url: http://indianexpress.com/article/technology/tech-news-technology/as-pm-narendra-modi-leaves-for-china-he-leaves-behind-something-in-your-inbox/99.gob.pe\n",
            "Failed to download page from http://indianexpress.com/article/technology/tech-news-technology/as-pm-narendra-modi-leaves-for-china-he-leaves-behind-something-in-your-inbox/99.gob.pe\n",
            "Downloading page http://askubuntu.com/questions/623068/how-to-replace-all-strings-in-a-file-that-begin-with-some-prefix?answertab=active.gob.pe...\n"
          ]
        },
        {
          "output_type": "stream",
          "name": "stderr",
          "text": [
            "/usr/local/lib/python3.10/dist-packages/urllib3/connectionpool.py:1099: InsecureRequestWarning: Unverified HTTPS request is being made to host 'askubuntu.com'. Adding certificate verification is strongly advised. See: https://urllib3.readthedocs.io/en/latest/advanced-usage.html#tls-warnings\n",
            "  warnings.warn(\n"
          ]
        },
        {
          "output_type": "stream",
          "name": "stdout",
          "text": [
            "Text saved to output/safe/askubuntu.com_questions_623068_how-to-replace-all-strings-in-a-file-that-begin-with-some-prefix?answertab=active.gob.pe.txt\n",
            "Downloading page http://techcrunch.com/gallery/looks-like-samsungs-galaxy-s6-mightve-just-leaked-out-here-are-the-photos/.gob.pe...\n"
          ]
        },
        {
          "output_type": "stream",
          "name": "stderr",
          "text": [
            "/usr/local/lib/python3.10/dist-packages/urllib3/connectionpool.py:1099: InsecureRequestWarning: Unverified HTTPS request is being made to host 'techcrunch.com'. Adding certificate verification is strongly advised. See: https://urllib3.readthedocs.io/en/latest/advanced-usage.html#tls-warnings\n",
            "  warnings.warn(\n"
          ]
        },
        {
          "output_type": "stream",
          "name": "stdout",
          "text": [
            "Error when dowwloading page http://techcrunch.com/gallery/looks-like-samsungs-galaxy-s6-mightve-just-leaked-out-here-are-the-photos/.gob.pe: 404 Client Error: Not Found for url: https://techcrunch.com/gallery/looks-like-samsungs-galaxy-s6-mightve-just-leaked-out-here-are-the-photos/.gob.pe\n",
            "Failed to download page from http://techcrunch.com/gallery/looks-like-samsungs-galaxy-s6-mightve-just-leaked-out-here-are-the-photos/.gob.pe\n",
            "Downloading page http://superuser.com/questions/374183/how-to-only-show-new-processes-in-activity-monitor.gob.pe...\n"
          ]
        },
        {
          "output_type": "stream",
          "name": "stderr",
          "text": [
            "/usr/local/lib/python3.10/dist-packages/urllib3/connectionpool.py:1099: InsecureRequestWarning: Unverified HTTPS request is being made to host 'superuser.com'. Adding certificate verification is strongly advised. See: https://urllib3.readthedocs.io/en/latest/advanced-usage.html#tls-warnings\n",
            "  warnings.warn(\n",
            "/usr/local/lib/python3.10/dist-packages/urllib3/connectionpool.py:1099: InsecureRequestWarning: Unverified HTTPS request is being made to host 'superuser.com'. Adding certificate verification is strongly advised. See: https://urllib3.readthedocs.io/en/latest/advanced-usage.html#tls-warnings\n",
            "  warnings.warn(\n"
          ]
        },
        {
          "output_type": "stream",
          "name": "stdout",
          "text": [
            "Text saved to output/safe/superuser.com_questions_374183_how-to-only-show-new-processes-in-activity-monitor.gob.pe.txt\n",
            "Downloading page http://ecnavi.jp/redirect/?url=http://www.af-mark.jp/hokengate-pc/?id=5663&uid=UI%user_id%IT48943FR36...\n"
          ]
        },
        {
          "output_type": "stream",
          "name": "stderr",
          "text": [
            "/usr/local/lib/python3.10/dist-packages/urllib3/connectionpool.py:1099: InsecureRequestWarning: Unverified HTTPS request is being made to host 'ecnavi.jp'. Adding certificate verification is strongly advised. See: https://urllib3.readthedocs.io/en/latest/advanced-usage.html#tls-warnings\n",
            "  warnings.warn(\n",
            "/usr/local/lib/python3.10/dist-packages/urllib3/connectionpool.py:1099: InsecureRequestWarning: Unverified HTTPS request is being made to host 'ecnavi.jp'. Adding certificate verification is strongly advised. See: https://urllib3.readthedocs.io/en/latest/advanced-usage.html#tls-warnings\n",
            "  warnings.warn(\n"
          ]
        },
        {
          "output_type": "stream",
          "name": "stdout",
          "text": [
            "Text saved to output/safe/ecnavi.jp_redirect_?url=http:__www.af-mark.jp_hokengate-pc_?id=5663&uid=UI%user_id%IT48943FR36.txt\n",
            "Downloading page http://olx.ua/uk/i2/list/?q={q}&utm_source=google&utm_medium=search&utm_campaign=search_organic.gob.pe...\n"
          ]
        },
        {
          "output_type": "stream",
          "name": "stderr",
          "text": [
            "/usr/local/lib/python3.10/dist-packages/urllib3/connectionpool.py:1099: InsecureRequestWarning: Unverified HTTPS request is being made to host 'olx.ua'. Adding certificate verification is strongly advised. See: https://urllib3.readthedocs.io/en/latest/advanced-usage.html#tls-warnings\n",
            "  warnings.warn(\n",
            "/usr/local/lib/python3.10/dist-packages/urllib3/connectionpool.py:1099: InsecureRequestWarning: Unverified HTTPS request is being made to host 'www.olx.ua'. Adding certificate verification is strongly advised. See: https://urllib3.readthedocs.io/en/latest/advanced-usage.html#tls-warnings\n",
            "  warnings.warn(\n",
            "/usr/local/lib/python3.10/dist-packages/urllib3/connectionpool.py:1099: InsecureRequestWarning: Unverified HTTPS request is being made to host 'm.olx.ua'. Adding certificate verification is strongly advised. See: https://urllib3.readthedocs.io/en/latest/advanced-usage.html#tls-warnings\n",
            "  warnings.warn(\n",
            "/usr/local/lib/python3.10/dist-packages/urllib3/connectionpool.py:1099: InsecureRequestWarning: Unverified HTTPS request is being made to host 'www.olx.ua'. Adding certificate verification is strongly advised. See: https://urllib3.readthedocs.io/en/latest/advanced-usage.html#tls-warnings\n",
            "  warnings.warn(\n"
          ]
        },
        {
          "output_type": "stream",
          "name": "stdout",
          "text": [
            "Text saved to output/safe/olx.ua_uk_i2_list_?q={q}&utm_source=google&utm_medium=search&utm_campaign=search_organic.gob.pe.txt\n",
            "Downloading page http://zonehmirrors.org/defaced/2013/10/20/disnakertransos.kebumenkab.go.id...\n",
            "Text saved to output/deface/zonehmirrors.org_defaced_2013_10_20_disnakertransos.kebumenkab.go.id.txt\n",
            "Downloading page http://zonehmirrors.org/defaced/2014/11/01/www.ila.aer.mil.br/www.ila.aer.mil.br/zxcvbnm.php...\n",
            "Text saved to output/deface/zonehmirrors.org_defaced_2014_11_01_www.ila.aer.mil.br_www.ila.aer.mil.br_zxcvbnm.php.txt\n",
            "Downloading page http://zonehmirrors.org/defaced/2014/09/02/www.drmariana.co.il/www.drmariana.co.il...\n",
            "Text saved to output/deface/zonehmirrors.org_defaced_2014_09_02_www.drmariana.co.il_www.drmariana.co.il.txt\n",
            "Downloading page http://zonehmirrors.org/defaced/2014/09/11/srangming.go.th/srangming.go.th...\n",
            "Text saved to output/deface/zonehmirrors.org_defaced_2014_09_11_srangming.go.th_srangming.go.th.txt\n",
            "Downloading page http://zonehmirrors.org/defaced/2014/08/28/www.officinae20.it/www.officinae20.it...\n",
            "Text saved to output/deface/zonehmirrors.org_defaced_2014_08_28_www.officinae20.it_www.officinae20.it.txt\n",
            "Downloading page http://zonehmirrors.org/defaced/2014/07/20/bpmppt.jeparakab.go.id/bpmppt.jeparakab.go.id/system...\n",
            "Text saved to output/deface/zonehmirrors.org_defaced_2014_07_20_bpmppt.jeparakab.go.id_bpmppt.jeparakab.go.id_system.txt\n",
            "Downloading page http://zonehmirrors.org/defaced/2014/02/09/meddybear.net/meddybear.net/indonesia.txt...\n",
            "Text saved to output/deface/zonehmirrors.org_defaced_2014_02_09_meddybear.net_meddybear.net_indonesia.txt.txt\n",
            "Downloading page http://zonehmirrors.org/defaced/2014/07/30/gli.org.ng/gli.org.ng...\n",
            "Text saved to output/deface/zonehmirrors.org_defaced_2014_07_30_gli.org.ng_gli.org.ng.txt\n",
            "Downloading page http://zonehmirrors.org/defaced/2014/11/19/www.escritacoletiva.ufma.br/www.escritacoletiva.ufma.br/wp-admin/!.php...\n",
            "Text saved to output/deface/zonehmirrors.org_defaced_2014_11_19_www.escritacoletiva.ufma.br_www.escritacoletiva.ufma.br_wp-admin_!.php.txt\n",
            "Downloading page http://zonehmirrors.org/defaced/2013/10/20/maringavoce.com.br...\n",
            "Text saved to output/deface/zonehmirrors.org_defaced_2013_10_20_maringavoce.com.br.txt\n",
            "Downloading page http://zonehmirrors.org/defaced/2014/08/30/vbea.gov.vn/vbea.gov.vn...\n",
            "Text saved to output/deface/zonehmirrors.org_defaced_2014_08_30_vbea.gov.vn_vbea.gov.vn.txt\n",
            "Downloading page http://zonehmirrors.org/defaced/2013/10/20/disperindagpas.kebumenkab.go.id...\n",
            "Text saved to output/deface/zonehmirrors.org_defaced_2013_10_20_disperindagpas.kebumenkab.go.id.txt\n",
            "Downloading page http://zonehmirrors.org/defaced/2014/10/04/kominfo.pekalongankota.go.id/kominfo.pekalongankota.go.id/sj.htm...\n",
            "Text saved to output/deface/zonehmirrors.org_defaced_2014_10_04_kominfo.pekalongankota.go.id_kominfo.pekalongankota.go.id_sj.htm.txt\n",
            "Downloading page http://zonehmirrors.org/defaced/2014/11/28/www.sbcprev.saobernardo.sp.gov.br/www.sbcprev.saobernardo.sp.gov.br/atualiza/...\n",
            "Text saved to output/deface/zonehmirrors.org_defaced_2014_11_28_www.sbcprev.saobernardo.sp.gov.br_www.sbcprev.saobernardo.sp.gov.br_atualiza_.txt\n",
            "Downloading page http://zonehmirrors.org/defaced/2014/12/04/euroghiduri.ro/euroghiduri.ro...\n",
            "Text saved to output/deface/zonehmirrors.org_defaced_2014_12_04_euroghiduri.ro_euroghiduri.ro.txt\n",
            "Downloading page http://zonehmirrors.org/defaced/2014/09/01/aksai-bko.gov.kz/aksai-bko.gov.kz...\n",
            "Text saved to output/deface/zonehmirrors.org_defaced_2014_09_01_aksai-bko.gov.kz_aksai-bko.gov.kz.txt\n",
            "Downloading page http://zonehmirrors.org/defaced/2014/10/27/www.com2000.co.il/www.com2000.co.il/delete.htm...\n",
            "Text saved to output/deface/zonehmirrors.org_defaced_2014_10_27_www.com2000.co.il_www.com2000.co.il_delete.htm.txt\n",
            "Downloading page http://zonehmirrors.org/defaced/2014/10/06/coml.oseanografi.lipi.go.id/coml.oseanografi.lipi.go.id/xampp/lang.tmp...\n",
            "Text saved to output/deface/zonehmirrors.org_defaced_2014_10_06_coml.oseanografi.lipi.go.id_coml.oseanografi.lipi.go.id_xampp_lang.tmp.txt\n",
            "Downloading page http://zonehmirrors.org/defaced/2014/10/14/www.op.mti.gov.ng/www.op.mti.gov.ng...\n",
            "Text saved to output/deface/zonehmirrors.org_defaced_2014_10_14_www.op.mti.gov.ng_www.op.mti.gov.ng.txt\n",
            "Downloading page http://zonehmirrors.org/defaced/2014/12/17/www.lzsnyj.gov.cn/www.lzsnyj.gov.cn...\n",
            "Text saved to output/deface/zonehmirrors.org_defaced_2014_12_17_www.lzsnyj.gov.cn_www.lzsnyj.gov.cn.txt\n",
            "Downloading page http://zonehmirrors.org/defaced/2014/09/11/www.lauterbacher-muehle.de/www.lauterbacher-muehle.de...\n",
            "Text saved to output/deface/zonehmirrors.org_defaced_2014_09_11_www.lauterbacher-muehle.de_www.lauterbacher-muehle.de.txt\n",
            "Downloading page http://zonehmirrors.org/defaced/2014/04/01/paket.pusdikbekang.mil.id/paket.pusdikbekang.mil.id...\n",
            "Text saved to output/deface/zonehmirrors.org_defaced_2014_04_01_paket.pusdikbekang.mil.id_paket.pusdikbekang.mil.id.txt\n",
            "Downloading page http://zonehmirrors.org/defaced/2014/08/30/www.internalaudit.go.ke/www.internalaudit.go.ke...\n",
            "Text saved to output/deface/zonehmirrors.org_defaced_2014_08_30_www.internalaudit.go.ke_www.internalaudit.go.ke.txt\n",
            "Downloading page http://zonehmirrors.org/defaced/2014/08/29/www.annchowprojectmanagement.ca/www.annchowprojectmanagement.ca...\n",
            "Text saved to output/deface/zonehmirrors.org_defaced_2014_08_29_www.annchowprojectmanagement.ca_www.annchowprojectmanagement.ca.txt\n",
            "Downloading page http://zonehmirrors.org/defaced/2013/11/29/www.mdamirpur.gok.pk/www.mdamirpur.gok.pk/index%20.html...\n",
            "Text saved to output/deface/zonehmirrors.org_defaced_2013_11_29_www.mdamirpur.gok.pk_www.mdamirpur.gok.pk_index%20.html.txt\n",
            "Downloading page http://zonehmirrors.org/defaced/2014/08/27/www.ashrtirane.gov.al/www.ashrtirane.gov.al...\n",
            "Text saved to output/deface/zonehmirrors.org_defaced_2014_08_27_www.ashrtirane.gov.al_www.ashrtirane.gov.al.txt\n",
            "Downloading page http://zonehmirrors.org/defaced/2013/10/20/sharealyse.com/root.html...\n",
            "Text saved to output/deface/zonehmirrors.org_defaced_2013_10_20_sharealyse.com_root.html.txt\n",
            "Downloading page http://zonehmirrors.org/defaced/2014/08/12/www.icman.csic.es/www.icman.csic.es/ficheros/!.txt...\n",
            "Text saved to output/deface/zonehmirrors.org_defaced_2014_08_12_www.icman.csic.es_www.icman.csic.es_ficheros_!.txt.txt\n",
            "Downloading page http://zonehmirrors.org/defaced/2014/10/15/implantesyestetica.com.ar/implantesyestetica.com.ar/x.htm...\n",
            "Text saved to output/deface/zonehmirrors.org_defaced_2014_10_15_implantesyestetica.com.ar_implantesyestetica.com.ar_x.htm.txt\n",
            "Downloading page http://zonehmirrors.org/defaced/2014/09/02/edpa.gov.sy/edpa.gov.sy/edpa_magazin/xml/x.php...\n",
            "Text saved to output/deface/zonehmirrors.org_defaced_2014_09_02_edpa.gov.sy_edpa.gov.sy_edpa_magazin_xml_x.php.txt\n",
            "Downloading page http://zonehmirrors.org/defaced/2013/11/02/kj.sqcz.gov.cn/sec.txt...\n",
            "Text saved to output/deface/zonehmirrors.org_defaced_2013_11_02_kj.sqcz.gov.cn_sec.txt.txt\n",
            "Downloading page http://zonehmirrors.org/defaced/2014/11/05/www.versailles.snes.edu/www.versailles.snes.edu/IMG/html/...\n",
            "Text saved to output/deface/zonehmirrors.org_defaced_2014_11_05_www.versailles.snes.edu_www.versailles.snes.edu_IMG_html_.txt\n",
            "Downloading page http://zonehmirrors.org/defaced/2013/10/19/www.artihor.gr...\n",
            "Text saved to output/deface/zonehmirrors.org_defaced_2013_10_19_www.artihor.gr.txt\n",
            "Downloading page http://zonehmirrors.org/defaced/2014/08/13/cms-creations.com/cms-creations.com...\n",
            "Text saved to output/deface/zonehmirrors.org_defaced_2014_08_13_cms-creations.com_cms-creations.com.txt\n",
            "Downloading page http://zonehmirrors.org/defaced/2013/12/22/wwwn.eventi.provincia.lucca.it/wwwn.eventi.provincia.lucca.it...\n",
            "Text saved to output/deface/zonehmirrors.org_defaced_2013_12_22_wwwn.eventi.provincia.lucca.it_wwwn.eventi.provincia.lucca.it.txt\n",
            "Downloading page http://zonehmirrors.org/defaced/2014/08/28/kpap.go.id/kpap.go.id/huft.htm...\n",
            "Text saved to output/deface/zonehmirrors.org_defaced_2014_08_28_kpap.go.id_kpap.go.id_huft.htm.txt\n",
            "Downloading page http://zonehmirrors.org/defaced/2013/10/20/www.alcipmetal.cl...\n",
            "Text saved to output/deface/zonehmirrors.org_defaced_2013_10_20_www.alcipmetal.cl.txt\n",
            "Downloading page http://zonehmirrors.org/defaced/2014/12/03/www.melgar-turistica.gov.co/www.melgar-turistica.gov.co...\n",
            "Text saved to output/deface/zonehmirrors.org_defaced_2014_12_03_www.melgar-turistica.gov.co_www.melgar-turistica.gov.co.txt\n",
            "Downloading page http://zonehmirrors.org/defaced/2014/10/27/www.llaneraradio.com/www.llaneraradio.com...\n",
            "Text saved to output/deface/zonehmirrors.org_defaced_2014_10_27_www.llaneraradio.com_www.llaneraradio.com.txt\n",
            "Downloading page http://zonehmirrors.org/defaced/2014/08/31/www.doamkp.gov.pk/www.doamkp.gov.pk...\n",
            "Text saved to output/deface/zonehmirrors.org_defaced_2014_08_31_www.doamkp.gov.pk_www.doamkp.gov.pk.txt\n",
            "Downloading page http://zonehmirrors.org/defaced/2013/10/20/rubcon.no/root.html...\n",
            "Text saved to output/deface/zonehmirrors.org_defaced_2013_10_20_rubcon.no_root.html.txt\n",
            "Downloading page http://zonehmirrors.org/defaced/2013/10/20/hollinger.co.il...\n",
            "Text saved to output/deface/zonehmirrors.org_defaced_2013_10_20_hollinger.co.il.txt\n",
            "Downloading page http://zonehmirrors.org/defaced/2014/08/31/bude-stratton.gov.uk/bude-stratton.gov.uk...\n",
            "Text saved to output/deface/zonehmirrors.org_defaced_2014_08_31_bude-stratton.gov.uk_bude-stratton.gov.uk.txt\n",
            "Downloading page http://zonehmirrors.org/defaced/2014/11/14/bbs.dtedu.gov.cn/bbs.dtedu.gov.cn/id.htm...\n",
            "Text saved to output/deface/zonehmirrors.org_defaced_2014_11_14_bbs.dtedu.gov.cn_bbs.dtedu.gov.cn_id.htm.txt\n",
            "Downloading page http://zonehmirrors.org/defaced/2013/10/20/www.easyaspi.eu...\n",
            "Text saved to output/deface/zonehmirrors.org_defaced_2013_10_20_www.easyaspi.eu.txt\n",
            "Downloading page http://zonehmirrors.org/defaced/2014/07/30/diegocarlotta.com/diegocarlotta.com/xxx.htm...\n",
            "Text saved to output/deface/zonehmirrors.org_defaced_2014_07_30_diegocarlotta.com_diegocarlotta.com_xxx.htm.txt\n",
            "Downloading page http://zonehmirrors.org/defaced/2014/10/10/www.yawenwuye.com/www.yawenwuye.com/leize.html...\n",
            "Text saved to output/deface/zonehmirrors.org_defaced_2014_10_10_www.yawenwuye.com_www.yawenwuye.com_leize.html.txt\n",
            "Downloading page http://zonehmirrors.org/defaced/2014/08/12/bppd.acehprov.go.id/bppd.acehprov.go.id...\n",
            "Text saved to output/deface/zonehmirrors.org_defaced_2014_08_12_bppd.acehprov.go.id_bppd.acehprov.go.id.txt\n",
            "Downloading page http://zonehmirrors.org/defaced/2013/10/20/westerhus.no/root.html...\n",
            "Text saved to output/deface/zonehmirrors.org_defaced_2013_10_20_westerhus.no_root.html.txt\n",
            "Downloading page http://zonehmirrors.org/defaced/2013/10/20/extatus.eu...\n",
            "Text saved to output/deface/zonehmirrors.org_defaced_2013_10_20_extatus.eu.txt\n",
            "Downloading page http://zonehmirrors.org/defaced/2013/10/20/elcarmentequexquitla.gob.mx/x.php...\n",
            "Text saved to output/deface/zonehmirrors.org_defaced_2013_10_20_elcarmentequexquitla.gob.mx_x.php.txt\n",
            "Downloading page http://zonehmirrors.org/defaced/2013/10/20/nyeskansen.no/root.html...\n",
            "Text saved to output/deface/zonehmirrors.org_defaced_2013_10_20_nyeskansen.no_root.html.txt\n",
            "Downloading page http://zonehmirrors.org/defaced/2014/10/25/www.hackdragonage.com/www.hackdragonage.com...\n",
            "Text saved to output/deface/zonehmirrors.org_defaced_2014_10_25_www.hackdragonage.com_www.hackdragonage.com.txt\n",
            "Downloading page http://zonehmirrors.org/defaced/2013/10/20/tourpact.com...\n",
            "Text saved to output/deface/zonehmirrors.org_defaced_2013_10_20_tourpact.com.txt\n",
            "Downloading page http://zonehmirrors.org/defaced/2014/08/29/www.bnm.me.gov.ar/www.bnm.me.gov.ar...\n",
            "Text saved to output/deface/zonehmirrors.org_defaced_2014_08_29_www.bnm.me.gov.ar_www.bnm.me.gov.ar.txt\n",
            "Downloading page http://zonehmirrors.org/defaced/2014/04/16/www.llaveenmano.com.pe/www.llaveenmano.com.pe/xx.htm...\n",
            "Text saved to output/deface/zonehmirrors.org_defaced_2014_04_16_www.llaveenmano.com.pe_www.llaveenmano.com.pe_xx.htm.txt\n",
            "Downloading page http://zonehmirrors.org/defaced/2014/09/02/colehill.gov.uk/colehill.gov.uk...\n",
            "Text saved to output/deface/zonehmirrors.org_defaced_2014_09_02_colehill.gov.uk_colehill.gov.uk.txt\n",
            "Downloading page http://zonehmirrors.org/defaced/2014/08/31/www.disperindag.kalbarprov.go.id/www.disperindag.kalbarprov.go.id/indonesia.txt...\n"
          ]
        },
        {
          "output_type": "stream",
          "name": "stderr",
          "text": [
            "<ipython-input-71-4f4efee2825f>:3: MarkupResemblesLocatorWarning: The input looks more like a filename than markup. You may want to open this file and pass the filehandle into Beautiful Soup.\n",
            "  soup = BeautifulSoup(html_content, 'html.parser')\n"
          ]
        },
        {
          "output_type": "stream",
          "name": "stdout",
          "text": [
            "Text saved to output/deface/zonehmirrors.org_defaced_2014_08_31_www.disperindag.kalbarprov.go.id_www.disperindag.kalbarprov.go.id_indonesia.txt.txt\n",
            "Downloading page http://zonehmirrors.org/defaced/2013/10/20/websiteondemand.nl...\n",
            "Text saved to output/deface/zonehmirrors.org_defaced_2013_10_20_websiteondemand.nl.txt\n",
            "Downloading page http://zonehmirrors.org/defaced/2014/07/13/galilee.gov.il/galilee.gov.il/temp/index.asp...\n",
            "Text saved to output/deface/zonehmirrors.org_defaced_2014_07_13_galilee.gov.il_galilee.gov.il_temp_index.asp.txt\n",
            "Downloading page http://zonehmirrors.org/defaced/2014/11/06/gobernacionmanabi.gob.ec/gobernacionmanabi.gob.ec...\n",
            "Text saved to output/deface/zonehmirrors.org_defaced_2014_11_06_gobernacionmanabi.gob.ec_gobernacionmanabi.gob.ec.txt\n",
            "Downloading page http://zonehmirrors.org/defaced/2015/09/01/kabarkalteng.info/kabarkalteng.info/wp-login.php...\n",
            "Text saved to output/deface/zonehmirrors.org_defaced_2015_09_01_kabarkalteng.info_kabarkalteng.info_wp-login.php.txt\n",
            "Downloading page http://zonehmirrors.org/defaced/2014/12/15/empeq.com/empeq.com/index.php...\n",
            "Text saved to output/deface/zonehmirrors.org_defaced_2014_12_15_empeq.com_empeq.com_index.php.txt\n",
            "Downloading page http://zonehmirrors.org/defaced/2014/10/15/www.consultinggroup-agencjapracy.pl/www.consultinggroup-agencjapracy.pl/wil7.html...\n",
            "Text saved to output/deface/zonehmirrors.org_defaced_2014_10_15_www.consultinggroup-agencjapracy.pl_www.consultinggroup-agencjapracy.pl_wil7.html.txt\n",
            "Downloading page http://zonehmirrors.org/defaced/2013/10/20/dennesiden.com/root.html...\n",
            "Text saved to output/deface/zonehmirrors.org_defaced_2013_10_20_dennesiden.com_root.html.txt\n",
            "Downloading page http://zonehmirrors.org/defaced/2013/10/20/shed49.com/root.html...\n",
            "Text saved to output/deface/zonehmirrors.org_defaced_2013_10_20_shed49.com_root.html.txt\n",
            "Downloading page http://zonehmirrors.org/defaced/2013/10/20/ratedfluffy.com/root.html...\n",
            "Text saved to output/deface/zonehmirrors.org_defaced_2013_10_20_ratedfluffy.com_root.html.txt\n",
            "Downloading page http://zonehmirrors.org/defaced/2014/07/17/offjam.com.br/offjam.com.br...\n",
            "Text saved to output/deface/zonehmirrors.org_defaced_2014_07_17_offjam.com.br_offjam.com.br.txt\n",
            "Downloading page http://zonehmirrors.org/defaced/2013/10/20/www.1millradosty.ru/3x.txt...\n",
            "Text saved to output/deface/zonehmirrors.org_defaced_2013_10_20_www.1millradosty.ru_3x.txt.txt\n",
            "Downloading page http://zonehmirrors.org/defaced/2014/08/28/mamoyaship.net/mamoyaship.net...\n",
            "Text saved to output/deface/zonehmirrors.org_defaced_2014_08_28_mamoyaship.net_mamoyaship.net.txt\n",
            "Downloading page http://zonehmirrors.org/defaced/2013/10/20/alanyajigololari.com...\n",
            "Text saved to output/deface/zonehmirrors.org_defaced_2013_10_20_alanyajigololari.com.txt\n",
            "Downloading page http://zonehmirrors.org/defaced/2014/04/02/www.atmt.gov.vn/www.atmt.gov.vn/wow.htm...\n",
            "Text saved to output/deface/zonehmirrors.org_defaced_2014_04_02_www.atmt.gov.vn_www.atmt.gov.vn_wow.htm.txt\n",
            "Downloading page http://zonehmirrors.org/defaced/2014/10/13/chonburi.cad.go.th/chonburi.cad.go.th/templates/angola.html...\n",
            "Text saved to output/deface/zonehmirrors.org_defaced_2014_10_13_chonburi.cad.go.th_chonburi.cad.go.th_templates_angola.html.txt\n",
            "Downloading page http://zonehmirrors.org/defaced/2013/10/20/dulgerlermutfak.com...\n",
            "Text saved to output/deface/zonehmirrors.org_defaced_2013_10_20_dulgerlermutfak.com.txt\n",
            "Downloading page http://zonehmirrors.org/defaced/2014/10/24/www.ampere.pr.gov.br/www.ampere.pr.gov.br...\n",
            "No valid text from http://zonehmirrors.org/defaced/2014/10/24/www.ampere.pr.gov.br/www.ampere.pr.gov.br\n",
            "Downloading page http://zonehmirrors.org/defaced/2014/07/22/smpit-alhikmah.com/smpit-alhikmah.com/id.html...\n",
            "Text saved to output/deface/zonehmirrors.org_defaced_2014_07_22_smpit-alhikmah.com_smpit-alhikmah.com_id.html.txt\n",
            "Downloading page http://zonehmirrors.org/defaced/2014/10/27/hiapwoon.com.sg/hiapwoon.com.sg...\n",
            "Text saved to output/deface/zonehmirrors.org_defaced_2014_10_27_hiapwoon.com.sg_hiapwoon.com.sg.txt\n",
            "Downloading page http://zonehmirrors.org/defaced/2014/11/05/sportswebsolutions.net/sportswebsolutions.net/x.htm...\n",
            "Text saved to output/deface/zonehmirrors.org_defaced_2014_11_05_sportswebsolutions.net_sportswebsolutions.net_x.htm.txt\n",
            "Downloading page http://zonehmirrors.org/defaced/2014/04/17/www.fatburningexercisesx.com/www.fatburningexercisesx.com...\n",
            "Text saved to output/deface/zonehmirrors.org_defaced_2014_04_17_www.fatburningexercisesx.com_www.fatburningexercisesx.com.txt\n",
            "Downloading page http://zonehmirrors.org/defaced/2014/11/12/www.delegacionbenitojuarez.gob.mx/www.delegacionbenitojuarez.gob.mx...\n",
            "Text saved to output/deface/zonehmirrors.org_defaced_2014_11_12_www.delegacionbenitojuarez.gob.mx_www.delegacionbenitojuarez.gob.mx.txt\n",
            "Downloading page http://zonehmirrors.org/defaced/2014/10/15/cropack.com.ar/cropack.com.ar...\n",
            "Text saved to output/deface/zonehmirrors.org_defaced_2014_10_15_cropack.com.ar_cropack.com.ar.txt\n",
            "Downloading page http://zonehmirrors.org/defaced/2013/10/20/newtrainband.com/root.html...\n",
            "Text saved to output/deface/zonehmirrors.org_defaced_2013_10_20_newtrainband.com_root.html.txt\n",
            "Downloading page http://zonehmirrors.org/defaced/2014/09/11/tenutaolimbauda.it/tenutaolimbauda.it...\n",
            "Text saved to output/deface/zonehmirrors.org_defaced_2014_09_11_tenutaolimbauda.it_tenutaolimbauda.it.txt\n",
            "Downloading page http://zonehmirrors.org/defaced/2013/10/20/juntasanjose.gub.uy...\n",
            "Text saved to output/deface/zonehmirrors.org_defaced_2013_10_20_juntasanjose.gub.uy.txt\n",
            "Downloading page http://zonehmirrors.org/defaced/2014/04/17/www.altoriodoce.mg.gov.br/www.altoriodoce.mg.gov.br/site/r00t.html...\n",
            "Text saved to output/deface/zonehmirrors.org_defaced_2014_04_17_www.altoriodoce.mg.gov.br_www.altoriodoce.mg.gov.br_site_r00t.html.txt\n",
            "Downloading page http://zonehmirrors.org/defaced/2013/10/20/gmailrecoveryteam.com...\n",
            "Text saved to output/deface/zonehmirrors.org_defaced_2013_10_20_gmailrecoveryteam.com.txt\n",
            "Downloading page http://zonehmirrors.org/defaced/2013/10/20/sunnivaberg.no/root.html...\n",
            "Text saved to output/deface/zonehmirrors.org_defaced_2013_10_20_sunnivaberg.no_root.html.txt\n",
            "Downloading page http://zonehmirrors.org/defaced/2014/09/11/www.goodsafeclean.com/www.goodsafeclean.com...\n",
            "Text saved to output/deface/zonehmirrors.org_defaced_2014_09_11_www.goodsafeclean.com_www.goodsafeclean.com.txt\n",
            "Downloading page http://zonehmirrors.org/defaced/2014/10/19/www.cdcordoba.gov.ar/www.cdcordoba.gov.ar/x.html...\n",
            "Text saved to output/deface/zonehmirrors.org_defaced_2014_10_19_www.cdcordoba.gov.ar_www.cdcordoba.gov.ar_x.html.txt\n",
            "Downloading page http://zonehmirrors.org/defaced/2014/04/17/www.grandon.com/www.grandon.com...\n",
            "Text saved to output/deface/zonehmirrors.org_defaced_2014_04_17_www.grandon.com_www.grandon.com.txt\n",
            "Downloading page http://zonehmirrors.org/defaced/2014/11/25/mangystau-dzzp.gov.kz/mangystau-dzzp.gov.kz...\n",
            "Text saved to output/deface/zonehmirrors.org_defaced_2014_11_25_mangystau-dzzp.gov.kz_mangystau-dzzp.gov.kz.txt\n",
            "Downloading page http://zonehmirrors.org/defaced/2014/09/11/www.hwpictures.fr/www.hwpictures.fr...\n",
            "Text saved to output/deface/zonehmirrors.org_defaced_2014_09_11_www.hwpictures.fr_www.hwpictures.fr.txt\n",
            "Downloading page http://zonehmirrors.org/defaced/2014/01/08/di-bb.com/di-bb.com...\n",
            "Text saved to output/deface/zonehmirrors.org_defaced_2014_01_08_di-bb.com_di-bb.com.txt\n",
            "Downloading page http://zonehmirrors.org/defaced/2013/10/20/foldingtableland.com...\n",
            "Text saved to output/deface/zonehmirrors.org_defaced_2013_10_20_foldingtableland.com.txt\n",
            "Downloading page http://zonehmirrors.org/defaced/2014/04/17/www.horizonty.eu/www.horizonty.eu/ganteng.php...\n",
            "Text saved to output/deface/zonehmirrors.org_defaced_2014_04_17_www.horizonty.eu_www.horizonty.eu_ganteng.php.txt\n",
            "Downloading page http://zonehmirrors.org/defaced/2014/08/29/sabayoi.songkhla.doae.go.th/sabayoi.songkhla.doae.go.th/2555/...\n",
            "Text saved to output/deface/zonehmirrors.org_defaced_2014_08_29_sabayoi.songkhla.doae.go.th_sabayoi.songkhla.doae.go.th_2555_.txt\n",
            "Downloading page http://zonehmirrors.org/defaced/2014/09/03/www.ouidyland.com/www.ouidyland.com/k3rnel31.php...\n",
            "Text saved to output/deface/zonehmirrors.org_defaced_2014_09_03_www.ouidyland.com_www.ouidyland.com_k3rnel31.php.txt\n",
            "Downloading page http://zonehmirrors.org/defaced/2014/01/08/dzpkyxjq.tsrjylch2468.com/dzpkyxjq.tsrjylch2468.com/x.txt...\n",
            "Text saved to output/deface/zonehmirrors.org_defaced_2014_01_08_dzpkyxjq.tsrjylch2468.com_dzpkyxjq.tsrjylch2468.com_x.txt.txt\n",
            "Downloading page http://zonehmirrors.org/defaced/2014/11/29/www.villaallende.gob.ar/www.villaallende.gob.ar/M_ZONE_41-DZ.htm...\n",
            "Text saved to output/deface/zonehmirrors.org_defaced_2014_11_29_www.villaallende.gob.ar_www.villaallende.gob.ar_M_ZONE_41-DZ.htm.txt\n",
            "Downloading page http://zonehmirrors.org/defaced/2013/10/20/tryllekunstner-underholdning.no/root.html...\n",
            "Text saved to output/deface/zonehmirrors.org_defaced_2013_10_20_tryllekunstner-underholdning.no_root.html.txt\n",
            "Downloading page http://zonehmirrors.org/defaced/2014/08/28/www.bomboniereumberta.it/www.bomboniereumberta.it...\n",
            "Text saved to output/deface/zonehmirrors.org_defaced_2014_08_28_www.bomboniereumberta.it_www.bomboniereumberta.it.txt\n",
            "Downloading page http://zonehmirrors.org/defaced/2014/11/23/paroisse-leblanc-tournon.catholique.fr/paroisse-leblanc-tournon.catholique.fr...\n",
            "Text saved to output/deface/zonehmirrors.org_defaced_2014_11_23_paroisse-leblanc-tournon.catholique.fr_paroisse-leblanc-tournon.catholique.fr.txt\n",
            "Downloading page http://zonehmirrors.org/defaced/2014/03/11/ptg.melaka.gov.my/ptg.melaka.gov.my/Dz.php...\n",
            "Text saved to output/deface/zonehmirrors.org_defaced_2014_03_11_ptg.melaka.gov.my_ptg.melaka.gov.my_Dz.php.txt\n",
            "Downloading page http://zonehmirrors.org/defaced/2014/09/03/shahjamaat.com.pk/shahjamaat.com.pk/hacked.php...\n",
            "Text saved to output/deface/zonehmirrors.org_defaced_2014_09_03_shahjamaat.com.pk_shahjamaat.com.pk_hacked.php.txt\n",
            "Downloading page http://zonehmirrors.org/defaced/2013/12/07/czqyxx.zjczt.gov.cn/czqyxx.zjczt.gov.cn...\n",
            "Text saved to output/deface/zonehmirrors.org_defaced_2013_12_07_czqyxx.zjczt.gov.cn_czqyxx.zjczt.gov.cn.txt\n",
            "Downloading page http://zonehmirrors.org/defaced/2013/10/20/papayaplanet.no/root.html...\n",
            "Text saved to output/deface/zonehmirrors.org_defaced_2013_10_20_papayaplanet.no_root.html.txt\n",
            "Downloading page http://zonehmirrors.org/defaced/2014/09/02/www.coneaces.gob.pe/www.coneaces.gob.pe...\n",
            "Text saved to output/deface/zonehmirrors.org_defaced_2014_09_02_www.coneaces.gob.pe_www.coneaces.gob.pe.txt\n",
            "Downloading page http://zonehmirrors.org/defaced/2013/10/20/bppkb.kebumenkab.go.id...\n",
            "Text saved to output/deface/zonehmirrors.org_defaced_2013_10_20_bppkb.kebumenkab.go.id.txt\n",
            "Downloading page http://zonehmirrors.org/defaced/2013/10/20/montasjekompaniet.no/root.html...\n",
            "Text saved to output/deface/zonehmirrors.org_defaced_2013_10_20_montasjekompaniet.no_root.html.txt\n",
            "Downloading page http://zonehmirrors.org/defaced/2013/10/20/www.dentistes-du-sport.org/hereiam.htm...\n",
            "Text saved to output/deface/zonehmirrors.org_defaced_2013_10_20_www.dentistes-du-sport.org_hereiam.htm.txt\n",
            "Downloading page http://zonehmirrors.org/defaced/2013/10/20/modsteam.com/root.html...\n",
            "Text saved to output/deface/zonehmirrors.org_defaced_2013_10_20_modsteam.com_root.html.txt\n",
            "Downloading page http://zonehmirrors.org/defaced/2014/10/11/www.munimingaguazu.gov.py/www.munimingaguazu.gov.py/zy.htm...\n",
            "Text saved to output/deface/zonehmirrors.org_defaced_2014_10_11_www.munimingaguazu.gov.py_www.munimingaguazu.gov.py_zy.htm.txt\n",
            "Downloading page http://zonehmirrors.org/defaced/2014/11/05/futuboxhd.to/futuboxhd.to...\n",
            "Text saved to output/deface/zonehmirrors.org_defaced_2014_11_05_futuboxhd.to_futuboxhd.to.txt\n",
            "Downloading page http://zonehmirrors.org/defaced/2013/12/28/bpm-bangdes.riau.go.id/bpm-bangdes.riau.go.id...\n",
            "Text saved to output/deface/zonehmirrors.org_defaced_2013_12_28_bpm-bangdes.riau.go.id_bpm-bangdes.riau.go.id.txt\n",
            "Downloading page http://zonehmirrors.org/defaced/2015/09/01/myviewsinmywords.com/myviewsinmywords.com/wp-login.php...\n",
            "Text saved to output/deface/zonehmirrors.org_defaced_2015_09_01_myviewsinmywords.com_myviewsinmywords.com_wp-login.php.txt\n",
            "Downloading page http://zonehmirrors.org/defaced/2013/10/20/whiskyloverschristmas.com/root.html...\n",
            "Text saved to output/deface/zonehmirrors.org_defaced_2013_10_20_whiskyloverschristmas.com_root.html.txt\n",
            "Downloading page http://zonehmirrors.org/defaced/2013/10/20/lenab.no/root.html...\n",
            "Text saved to output/deface/zonehmirrors.org_defaced_2013_10_20_lenab.no_root.html.txt\n",
            "Downloading page http://zonehmirrors.org/defaced/2014/09/09/prasattong.go.th/prasattong.go.th/its.htm...\n",
            "Text saved to output/deface/zonehmirrors.org_defaced_2014_09_09_prasattong.go.th_prasattong.go.th_its.htm.txt\n",
            "Downloading page http://zonehmirrors.org/defaced/2014/07/21/hh.boluo.gov.cn/hh.boluo.gov.cn/FuckISRAEL.asp...\n",
            "Text saved to output/deface/zonehmirrors.org_defaced_2014_07_21_hh.boluo.gov.cn_hh.boluo.gov.cn_FuckISRAEL.asp.txt\n",
            "Downloading page http://zonehmirrors.org/defaced/2013/10/19/brasiliaeturismo.com.br/index.html...\n",
            "Text saved to output/deface/zonehmirrors.org_defaced_2013_10_19_brasiliaeturismo.com.br_index.html.txt\n",
            "Downloading page http://zonehmirrors.org/defaced/2014/07/15/toraja.kemenag.go.id/toraja.kemenag.go.id/x.htm...\n",
            "Text saved to output/deface/zonehmirrors.org_defaced_2014_07_15_toraja.kemenag.go.id_toraja.kemenag.go.id_x.htm.txt\n",
            "Downloading page http://zonehmirrors.org/defaced/2014/02/09/harika.su/harika.su/x.php...\n",
            "Text saved to output/deface/zonehmirrors.org_defaced_2014_02_09_harika.su_harika.su_x.php.txt\n",
            "Downloading page http://zonehmirrors.org/defaced/2014/07/22/getmoorecompounds.com/getmoorecompounds.com/id.htm...\n",
            "Text saved to output/deface/zonehmirrors.org_defaced_2014_07_22_getmoorecompounds.com_getmoorecompounds.com_id.htm.txt\n",
            "Downloading page http://zonehmirrors.org/defaced/2014/08/28/www.bhcarreto.com.br/www.bhcarreto.com.br/ili.php...\n",
            "Text saved to output/deface/zonehmirrors.org_defaced_2014_08_28_www.bhcarreto.com.br_www.bhcarreto.com.br_ili.php.txt\n",
            "Downloading page http://zonehmirrors.org/defaced/2014/12/03/changelabsenergy.stanford.edu/changelabsenergy.stanford.edu/index.html...\n",
            "Text saved to output/deface/zonehmirrors.org_defaced_2014_12_03_changelabsenergy.stanford.edu_changelabsenergy.stanford.edu_index.html.txt\n",
            "Downloading page http://zonehmirrors.org/defaced/2014/09/02/earthtalk.info/earthtalk.info...\n",
            "Text saved to output/deface/zonehmirrors.org_defaced_2014_09_02_earthtalk.info_earthtalk.info.txt\n",
            "Downloading page http://zonehmirrors.org/defaced/2013/10/20/mattisgravingen.no/root.html...\n",
            "Text saved to output/deface/zonehmirrors.org_defaced_2013_10_20_mattisgravingen.no_root.html.txt\n",
            "Downloading page http://zonehmirrors.org/defaced/2014/07/14/dinkes.minselkab.go.id/dinkes.minselkab.go.id...\n",
            "Text saved to output/deface/zonehmirrors.org_defaced_2014_07_14_dinkes.minselkab.go.id_dinkes.minselkab.go.id.txt\n",
            "Downloading page http://zonehmirrors.org/defaced/2013/10/20/earnbabyearn.com/dugem.htm...\n",
            "Text saved to output/deface/zonehmirrors.org_defaced_2013_10_20_earnbabyearn.com_dugem.htm.txt\n",
            "Downloading page http://zonehmirrors.org/defaced/2013/10/20/northwork.com/root.html...\n",
            "Text saved to output/deface/zonehmirrors.org_defaced_2013_10_20_northwork.com_root.html.txt\n",
            "Downloading page http://zonehmirrors.org/defaced/2014/10/14/www.autosound.co.il/www.autosound.co.il/7.htm...\n",
            "No valid text from http://zonehmirrors.org/defaced/2014/10/14/www.autosound.co.il/www.autosound.co.il/7.htm\n",
            "Downloading page http://zonehmirrors.org/defaced/2014/11/07/www.slnmac.gov.lk/www.slnmac.gov.lk...\n",
            "Text saved to output/deface/zonehmirrors.org_defaced_2014_11_07_www.slnmac.gov.lk_www.slnmac.gov.lk.txt\n",
            "Downloading page http://zonehmirrors.org/defaced/2013/12/18/www.kpu-klungkungkab.go.id/www.kpu-klungkungkab.go.id...\n",
            "Text saved to output/deface/zonehmirrors.org_defaced_2013_12_18_www.kpu-klungkungkab.go.id_www.kpu-klungkungkab.go.id.txt\n",
            "Downloading page http://zonehmirrors.org/defaced/2014/10/29/writersguardian.co.uk/writersguardian.co.uk/zxcvbnm.php...\n",
            "Text saved to output/deface/zonehmirrors.org_defaced_2014_10_29_writersguardian.co.uk_writersguardian.co.uk_zxcvbnm.php.txt\n",
            "Downloading page http://zonehmirrors.org/defaced/2013/10/20/funpectreinamentos.com.br...\n",
            "Text saved to output/deface/zonehmirrors.org_defaced_2013_10_20_funpectreinamentos.com.br.txt\n",
            "Downloading page http://zonehmirrors.org/defaced/2014/04/16/www.jjwscwh.gov.cn/www.jjwscwh.gov.cn...\n",
            "Text saved to output/deface/zonehmirrors.org_defaced_2014_04_16_www.jjwscwh.gov.cn_www.jjwscwh.gov.cn.txt\n",
            "Downloading page http://zonehmirrors.org/defaced/2014/07/14/www.concejodebuga.gov.co/www.concejodebuga.gov.co/x.htm...\n",
            "Text saved to output/deface/zonehmirrors.org_defaced_2014_07_14_www.concejodebuga.gov.co_www.concejodebuga.gov.co_x.htm.txt\n",
            "Downloading page http://zonehmirrors.org/defaced/2013/10/20/servicesentral.com/root.html...\n",
            "Text saved to output/deface/zonehmirrors.org_defaced_2013_10_20_servicesentral.com_root.html.txt\n",
            "Downloading page http://zonehmirrors.org/defaced/2014/12/15/on2itonline.com/on2itonline.com...\n",
            "Text saved to output/deface/zonehmirrors.org_defaced_2014_12_15_on2itonline.com_on2itonline.com.txt\n",
            "Downloading page http://zonehmirrors.org/defaced/2013/10/20/ruguns.com/root.html...\n",
            "Text saved to output/deface/zonehmirrors.org_defaced_2013_10_20_ruguns.com_root.html.txt\n",
            "Downloading page http://zonehmirrors.org/defaced/2014/10/30/www.ville-montfort-l-amaury.fr/www.ville-montfort-l-amaury.fr...\n",
            "Text saved to output/deface/zonehmirrors.org_defaced_2014_10_30_www.ville-montfort-l-amaury.fr_www.ville-montfort-l-amaury.fr.txt\n",
            "Downloading page http://zonehmirrors.org/defaced/2014/11/29/disperindagkop.pesawarankab.go.id/disperindagkop.pesawarankab.go.id/index.htm...\n",
            "Text saved to output/deface/zonehmirrors.org_defaced_2014_11_29_disperindagkop.pesawarankab.go.id_disperindagkop.pesawarankab.go.id_index.htm.txt\n",
            "Downloading page http://zonehmirrors.org/defaced/2014/07/16/servidor.pmcgs.pr.gov.br/servidor.pmcgs.pr.gov.br/eb051.txt...\n",
            "Text saved to output/deface/zonehmirrors.org_defaced_2014_07_16_servidor.pmcgs.pr.gov.br_servidor.pmcgs.pr.gov.br_eb051.txt.txt\n",
            "Downloading page http://zonehmirrors.org/defaced/2014/08/28/www.sanphudad.go.th/www.sanphudad.go.th...\n",
            "Text saved to output/deface/zonehmirrors.org_defaced_2014_08_28_www.sanphudad.go.th_www.sanphudad.go.th.txt\n",
            "Downloading page http://zonehmirrors.org/defaced/2013/12/21/www.town.harwich.ma.us/www.town.harwich.ma.us/harbor/...\n",
            "Text saved to output/deface/zonehmirrors.org_defaced_2013_12_21_www.town.harwich.ma.us_www.town.harwich.ma.us_harbor_.txt\n",
            "Downloading page http://zonehmirrors.org/defaced/2013/10/19/gdmmg.com/index.php...\n",
            "Text saved to output/deface/zonehmirrors.org_defaced_2013_10_19_gdmmg.com_index.php.txt\n",
            "Downloading page http://zonehmirrors.org/defaced/2014/08/29/www.nanlocal.go.th/www.nanlocal.go.th/doc_news/...\n",
            "Text saved to output/deface/zonehmirrors.org_defaced_2014_08_29_www.nanlocal.go.th_www.nanlocal.go.th_doc_news_.txt\n",
            "Downloading page http://zonehmirrors.org/defaced/2013/12/09/transparencia.ihnfa.gob.hn/transparencia.ihnfa.gob.hn/.php...\n",
            "Text saved to output/deface/zonehmirrors.org_defaced_2013_12_09_transparencia.ihnfa.gob.hn_transparencia.ihnfa.gob.hn_.php.txt\n",
            "Downloading page http://zonehmirrors.org/defaced/2013/10/20/neciefromjersey.com/dugem.htm...\n",
            "Text saved to output/deface/zonehmirrors.org_defaced_2013_10_20_neciefromjersey.com_dugem.htm.txt\n",
            "Downloading page http://zonehmirrors.org/defaced/2013/10/20/ramnes-tk.net/root.html...\n",
            "Text saved to output/deface/zonehmirrors.org_defaced_2013_10_20_ramnes-tk.net_root.html.txt\n",
            "Downloading page http://zonehmirrors.org/defaced/2013/10/20/underenstein.com/root.html...\n",
            "Text saved to output/deface/zonehmirrors.org_defaced_2013_10_20_underenstein.com_root.html.txt\n",
            "Downloading page http://zonehmirrors.org/defaced/2014/12/08/zanzibarkitevillage.net/zanzibarkitevillage.net/zxcbincx.php...\n",
            "Text saved to output/deface/zonehmirrors.org_defaced_2014_12_08_zanzibarkitevillage.net_zanzibarkitevillage.net_zxcbincx.php.txt\n",
            "Downloading page http://zonehmirrors.org/defaced/2013/10/20/royalgrass.no/root.html...\n",
            "Text saved to output/deface/zonehmirrors.org_defaced_2013_10_20_royalgrass.no_root.html.txt\n",
            "Downloading page http://zonehmirrors.org/defaced/2014/09/03/www.grozyme.ca/www.grozyme.ca...\n",
            "Text saved to output/deface/zonehmirrors.org_defaced_2014_09_03_www.grozyme.ca_www.grozyme.ca.txt\n",
            "Downloading page http://zonehmirrors.org/defaced/2014/10/18/davidcurt.es/davidcurt.es/id.htm...\n",
            "Text saved to output/deface/zonehmirrors.org_defaced_2014_10_18_davidcurt.es_davidcurt.es_id.htm.txt\n",
            "Downloading page http://zonehmirrors.org/defaced/2013/11/11/www.yogashanty.com.br/www.yogashanty.com.br...\n",
            "Text saved to output/deface/zonehmirrors.org_defaced_2013_11_11_www.yogashanty.com.br_www.yogashanty.com.br.txt\n",
            "Downloading page http://zonehmirrors.org/defaced/2014/04/16/www.iccasanovacostantinopoli.gov.it/www.iccasanovacostantinopoli.gov.it...\n",
            "Text saved to output/deface/zonehmirrors.org_defaced_2014_04_16_www.iccasanovacostantinopoli.gov.it_www.iccasanovacostantinopoli.gov.it.txt\n",
            "Downloading page http://zonehmirrors.org/defaced/2013/10/20/majorstuenalternativesenter.no/root.html...\n",
            "Text saved to output/deface/zonehmirrors.org_defaced_2013_10_20_majorstuenalternativesenter.no_root.html.txt\n",
            "Downloading page http://zonehmirrors.org/defaced/2014/11/22/perizinan.jombangkab.go.id/perizinan.jombangkab.go.id/z.htm...\n",
            "Text saved to output/deface/zonehmirrors.org_defaced_2014_11_22_perizinan.jombangkab.go.id_perizinan.jombangkab.go.id_z.htm.txt\n",
            "Downloading page http://zonehmirrors.org/defaced/2014/07/22/www.cxinsights.com/www.cxinsights.com...\n",
            "Text saved to output/deface/zonehmirrors.org_defaced_2014_07_22_www.cxinsights.com_www.cxinsights.com.txt\n",
            "Downloading page http://zonehmirrors.org/defaced/2014/07/17/dikes.badungkab.go.id/dikes.badungkab.go.id...\n",
            "Text saved to output/deface/zonehmirrors.org_defaced_2014_07_17_dikes.badungkab.go.id_dikes.badungkab.go.id.txt\n",
            "Downloading page http://zonehmirrors.org/defaced/2014/07/15/bapem.purbalinggakab.go.id/bapem.purbalinggakab.go.id...\n",
            "Text saved to output/deface/zonehmirrors.org_defaced_2014_07_15_bapem.purbalinggakab.go.id_bapem.purbalinggakab.go.id.txt\n",
            "Downloading page http://zonehmirrors.org/defaced/2014/08/27/www.xzjnh.cn/www.xzjnh.cn/jep.html...\n",
            "Text saved to output/deface/zonehmirrors.org_defaced_2014_08_27_www.xzjnh.cn_www.xzjnh.cn_jep.html.txt\n",
            "Downloading page http://zonehmirrors.org/defaced/2013/10/20/colibrivariedades.com.br...\n",
            "Text saved to output/deface/zonehmirrors.org_defaced_2013_10_20_colibrivariedades.com.br.txt\n",
            "Downloading page http://zonehmirrors.org/defaced/2014/04/02/bibliotheque.mairie-seyssinet-pariset.fr/bibliotheque.mairie-seyssinet-pariset.fr/OpacWebAloes/9ayLaS.txt...\n",
            "Text saved to output/deface/zonehmirrors.org_defaced_2014_04_02_bibliotheque.mairie-seyssinet-pariset.fr_bibliotheque.mairie-seyssinet-pariset.fr_OpacWebAloes_9ayLaS.txt.txt\n",
            "Downloading page http://zonehmirrors.org/defaced/2014/11/24/work.kalsin.ru/work.kalsin.ru...\n",
            "Text saved to output/deface/zonehmirrors.org_defaced_2014_11_24_work.kalsin.ru_work.kalsin.ru.txt\n",
            "Downloading page http://zonehmirrors.org/defaced/2013/10/20/mrgarden.net...\n",
            "Text saved to output/deface/zonehmirrors.org_defaced_2013_10_20_mrgarden.net.txt\n",
            "Downloading page http://zonehmirrors.org/defaced/2013/10/20/zuffenhausen.no/root.html...\n",
            "Text saved to output/deface/zonehmirrors.org_defaced_2013_10_20_zuffenhausen.no_root.html.txt\n",
            "Downloading page http://zonehmirrors.org/defaced/2014/11/05/vtico.net/vtico.net...\n",
            "Text saved to output/deface/zonehmirrors.org_defaced_2014_11_05_vtico.net_vtico.net.txt\n",
            "Downloading page http://zonehmirrors.org/defaced/2013/10/20/graffik.com.pl/wp-content/themes/graffik/index.php...\n",
            "Text saved to output/deface/zonehmirrors.org_defaced_2013_10_20_graffik.com.pl_wp-content_themes_graffik_index.php.txt\n",
            "Downloading page http://zonehmirrors.org/defaced/2013/10/20/distanak.kebumenkab.go.id...\n",
            "Text saved to output/deface/zonehmirrors.org_defaced_2013_10_20_distanak.kebumenkab.go.id.txt\n",
            "Downloading page http://zonehmirrors.org/defaced/2014/10/15/www.prachinburi.go.th/www.prachinburi.go.th...\n",
            "Text saved to output/deface/zonehmirrors.org_defaced_2014_10_15_www.prachinburi.go.th_www.prachinburi.go.th.txt\n",
            "Downloading page http://zonehmirrors.org/defaced/2013/10/20/azharfaculties.com/q/...\n",
            "Text saved to output/deface/zonehmirrors.org_defaced_2013_10_20_azharfaculties.com_q_.txt\n",
            "Downloading page http://zonehmirrors.org/defaced/2015/09/01/lilleaamosemuseum.dk/lilleaamosemuseum.dk...\n",
            "Text saved to output/deface/zonehmirrors.org_defaced_2015_09_01_lilleaamosemuseum.dk_lilleaamosemuseum.dk.txt\n",
            "Downloading page http://zonehmirrors.org/defaced/2014/09/11/su.edu.eg/su.edu.eg...\n",
            "Text saved to output/deface/zonehmirrors.org_defaced_2014_09_11_su.edu.eg_su.edu.eg.txt\n",
            "Downloading page http://zonehmirrors.org/defaced/2013/10/20/www.future-for-us.de...\n",
            "Text saved to output/deface/zonehmirrors.org_defaced_2013_10_20_www.future-for-us.de.txt\n",
            "Downloading page http://zonehmirrors.org/defaced/2014/10/14/www.infobase.gov.cn/www.infobase.gov.cn/small_micro.asp...\n",
            "Text saved to output/deface/zonehmirrors.org_defaced_2014_10_14_www.infobase.gov.cn_www.infobase.gov.cn_small_micro.asp.txt\n",
            "Downloading page http://zonehmirrors.org/defaced/2013/10/20/mielebircke.com.br...\n",
            "Text saved to output/deface/zonehmirrors.org_defaced_2013_10_20_mielebircke.com.br.txt\n",
            "Downloading page http://zonehmirrors.org/defaced/2014/07/20/www.pa-parepare.go.id/www.pa-parepare.go.id/k.html...\n",
            "Text saved to output/deface/zonehmirrors.org_defaced_2014_07_20_www.pa-parepare.go.id_www.pa-parepare.go.id_k.html.txt\n",
            "Downloading page http://zonehmirrors.org/defaced/2013/10/20/k-multi.no/root.html...\n",
            "Text saved to output/deface/zonehmirrors.org_defaced_2013_10_20_k-multi.no_root.html.txt\n",
            "Downloading page http://zonehmirrors.org/defaced/2013/10/20/www.verityscott.co.uk...\n",
            "Text saved to output/deface/zonehmirrors.org_defaced_2013_10_20_www.verityscott.co.uk.txt\n",
            "Downloading page http://zonehmirrors.org/defaced/2014/12/04/www.fondec.gov.py/www.fondec.gov.py...\n",
            "Text saved to output/deface/zonehmirrors.org_defaced_2014_12_04_www.fondec.gov.py_www.fondec.gov.py.txt\n",
            "Downloading page http://zonehmirrors.org/defaced/2013/10/20/disbudpar.maroskab.go.id/bet.txt...\n",
            "Text saved to output/deface/zonehmirrors.org_defaced_2013_10_20_disbudpar.maroskab.go.id_bet.txt.txt\n",
            "Downloading page http://zonehmirrors.org/defaced/2014/07/19/dpucikartarung.sampangkab.go.id/dpucikartarung.sampangkab.go.id/indonesia.html...\n",
            "Text saved to output/deface/zonehmirrors.org_defaced_2014_07_19_dpucikartarung.sampangkab.go.id_dpucikartarung.sampangkab.go.id_indonesia.html.txt\n",
            "Downloading page http://zonehmirrors.org/defaced/2013/12/14/www.ptmt.com.br/www.ptmt.com.br...\n",
            "Text saved to output/deface/zonehmirrors.org_defaced_2013_12_14_www.ptmt.com.br_www.ptmt.com.br.txt\n",
            "Downloading page http://zonehmirrors.org/defaced/2014/09/01/carta.fee.tche.br/carta.fee.tche.br/sempak.htm...\n",
            "Text saved to output/deface/zonehmirrors.org_defaced_2014_09_01_carta.fee.tche.br_carta.fee.tche.br_sempak.htm.txt\n",
            "Downloading page http://zonehmirrors.org/defaced/2014/10/22/topsapk.com/topsapk.com...\n",
            "Text saved to output/deface/zonehmirrors.org_defaced_2014_10_22_topsapk.com_topsapk.com.txt\n",
            "Downloading page http://zonehmirrors.org/defaced/2013/10/20/ktt.vn...\n",
            "Text saved to output/deface/zonehmirrors.org_defaced_2013_10_20_ktt.vn.txt\n",
            "Downloading page http://zonehmirrors.org/defaced/2015/06/04/alonsoadriana.com.ar/alonsoadriana.com.ar/so.html...\n",
            "Text saved to output/deface/zonehmirrors.org_defaced_2015_06_04_alonsoadriana.com.ar_alonsoadriana.com.ar_so.html.txt\n",
            "Downloading page http://zonehmirrors.org/defaced/2013/10/20/dinassdaesdm.kebumenkab.go.id...\n",
            "Text saved to output/deface/zonehmirrors.org_defaced_2013_10_20_dinassdaesdm.kebumenkab.go.id.txt\n",
            "Downloading page http://zonehmirrors.org/defaced/2014/08/31/diya.temanggungkab.go.id/diya.temanggungkab.go.id/ganteng.htm...\n",
            "Text saved to output/deface/zonehmirrors.org_defaced_2014_08_31_diya.temanggungkab.go.id_diya.temanggungkab.go.id_ganteng.htm.txt\n",
            "Downloading page http://zonehmirrors.org/defaced/2014/07/22/axewood.nl/axewood.nl...\n",
            "Text saved to output/deface/zonehmirrors.org_defaced_2014_07_22_axewood.nl_axewood.nl.txt\n",
            "Downloading page http://zonehmirrors.org/defaced/2013/12/31/www.barradomendes.ba.gov.br/www.barradomendes.ba.gov.br/editor/images/index.html...\n",
            "Text saved to output/deface/zonehmirrors.org_defaced_2013_12_31_www.barradomendes.ba.gov.br_www.barradomendes.ba.gov.br_editor_images_index.html.txt\n",
            "Downloading page http://zonehmirrors.org/defaced/2013/10/20/rustik.pl...\n",
            "Text saved to output/deface/zonehmirrors.org_defaced_2013_10_20_rustik.pl.txt\n",
            "Downloading page http://zonehmirrors.org/defaced/2014/09/09/www1.bansangcity.go.th/www1.bansangcity.go.th...\n",
            "Text saved to output/deface/zonehmirrors.org_defaced_2014_09_09_www1.bansangcity.go.th_www1.bansangcity.go.th.txt\n",
            "Downloading page http://zonehmirrors.org/defaced/2014/12/05/nie.gov.in/nie.gov.in/index.php...\n",
            "Text saved to output/deface/zonehmirrors.org_defaced_2014_12_05_nie.gov.in_nie.gov.in_index.php.txt\n",
            "Downloading page http://zonehmirrors.org/defaced/2014/10/14/www.jkjy.fy.gov.cn/www.jkjy.fy.gov.cn/r00t.htm...\n",
            "Text saved to output/deface/zonehmirrors.org_defaced_2014_10_14_www.jkjy.fy.gov.cn_www.jkjy.fy.gov.cn_r00t.htm.txt\n",
            "Downloading page http://zonehmirrors.org/defaced/2014/09/02/slx.xiyou.edu.cn/slx.xiyou.edu.cn/argentina.html...\n",
            "Text saved to output/deface/zonehmirrors.org_defaced_2014_09_02_slx.xiyou.edu.cn_slx.xiyou.edu.cn_argentina.html.txt\n",
            "Downloading page http://www.cgivladi.gov.in...\n"
          ]
        },
        {
          "output_type": "stream",
          "name": "stderr",
          "text": [
            "/usr/local/lib/python3.10/dist-packages/urllib3/connectionpool.py:1099: InsecureRequestWarning: Unverified HTTPS request is being made to host 'www.cgivladi.gov.in'. Adding certificate verification is strongly advised. See: https://urllib3.readthedocs.io/en/latest/advanced-usage.html#tls-warnings\n",
            "  warnings.warn(\n"
          ]
        },
        {
          "output_type": "stream",
          "name": "stdout",
          "text": [
            "Text saved to output/deface/www.cgivladi.gov.in.txt\n",
            "Downloading page http://www.thungluknok.go.th...\n",
            "Error when dowwloading page http://www.thungluknok.go.th: HTTPConnectionPool(host='www.thungluknok.go.th', port=80): Max retries exceeded with url: / (Caused by ConnectTimeoutError(<urllib3.connection.HTTPConnection object at 0x7e1482e67f70>, 'Connection to www.thungluknok.go.th timed out. (connect timeout=10)'))\n",
            "Failed to download page from http://www.thungluknok.go.th\n",
            "Downloading page http://kampinoski-pn.gov.pl/pappurmar...\n",
            "Error when dowwloading page http://kampinoski-pn.gov.pl/pappurmar: HTTPConnectionPool(host='kampinoski-pn.gov.pl', port=80): Max retries exceeded with url: /pappurmar (Caused by NameResolutionError(\"<urllib3.connection.HTTPConnection object at 0x7e1482e98760>: Failed to resolve 'kampinoski-pn.gov.pl' ([Errno -2] Name or service not known)\"))\n",
            "Failed to download page from http://kampinoski-pn.gov.pl/pappurmar\n",
            "Downloading page http://www.brm3.go.th/0x.txt...\n"
          ]
        },
        {
          "output_type": "stream",
          "name": "stderr",
          "text": [
            "/usr/local/lib/python3.10/dist-packages/urllib3/connectionpool.py:1099: InsecureRequestWarning: Unverified HTTPS request is being made to host 'www.brm3.go.th'. Adding certificate verification is strongly advised. See: https://urllib3.readthedocs.io/en/latest/advanced-usage.html#tls-warnings\n",
            "  warnings.warn(\n"
          ]
        },
        {
          "output_type": "stream",
          "name": "stdout",
          "text": [
            "Error when dowwloading page http://www.brm3.go.th/0x.txt: 404 Client Error: Not Found for url: https://www.brm3.go.th/0x.txt\n",
            "Failed to download page from http://www.brm3.go.th/0x.txt\n",
            "Downloading page http://scrp.mof.gov.so...\n",
            "Text saved to output/deface/scrp.mof.gov.so.txt\n",
            "Downloading page http://cfmg.mgee.gov.zm...\n"
          ]
        },
        {
          "output_type": "stream",
          "name": "stderr",
          "text": [
            "/usr/local/lib/python3.10/dist-packages/urllib3/connectionpool.py:1099: InsecureRequestWarning: Unverified HTTPS request is being made to host 'cfmg.mgee.gov.zm'. Adding certificate verification is strongly advised. See: https://urllib3.readthedocs.io/en/latest/advanced-usage.html#tls-warnings\n",
            "  warnings.warn(\n"
          ]
        },
        {
          "output_type": "stream",
          "name": "stdout",
          "text": [
            "Text saved to output/deface/cfmg.mgee.gov.zm.txt\n",
            "Downloading page http://gohome.gov.so/1.txt...\n"
          ]
        },
        {
          "output_type": "stream",
          "name": "stderr",
          "text": [
            "/usr/local/lib/python3.10/dist-packages/urllib3/connectionpool.py:1099: InsecureRequestWarning: Unverified HTTPS request is being made to host 'gohome.gov.so'. Adding certificate verification is strongly advised. See: https://urllib3.readthedocs.io/en/latest/advanced-usage.html#tls-warnings\n",
            "  warnings.warn(\n"
          ]
        },
        {
          "output_type": "stream",
          "name": "stdout",
          "text": [
            "Text saved to output/deface/gohome.gov.so_1.txt.txt\n",
            "Downloading page http://perpustakaan.bmkg.go.id/storag...\n",
            "Error when dowwloading page http://perpustakaan.bmkg.go.id/storag: 404 Client Error: Not Found for url: https://perpustakaan.bmkg.go.id/storag\n",
            "Failed to download page from http://perpustakaan.bmkg.go.id/storag\n",
            "Downloading page http://goacustoms.gov.in...\n"
          ]
        },
        {
          "output_type": "stream",
          "name": "stderr",
          "text": [
            "/usr/local/lib/python3.10/dist-packages/urllib3/connectionpool.py:1099: InsecureRequestWarning: Unverified HTTPS request is being made to host 'perpustakaan.bmkg.go.id'. Adding certificate verification is strongly advised. See: https://urllib3.readthedocs.io/en/latest/advanced-usage.html#tls-warnings\n",
            "  warnings.warn(\n"
          ]
        },
        {
          "output_type": "stream",
          "name": "stdout",
          "text": [
            "Error when dowwloading page http://goacustoms.gov.in: HTTPConnectionPool(host='goacustoms.gov.in', port=80): Max retries exceeded with url: / (Caused by ConnectTimeoutError(<urllib3.connection.HTTPConnection object at 0x7e1482e9b8b0>, 'Connection to goacustoms.gov.in timed out. (connect timeout=10)'))\n",
            "Failed to download page from http://goacustoms.gov.in\n",
            "Downloading page http://www.indianembassyzagreb.gov.in...\n"
          ]
        },
        {
          "output_type": "stream",
          "name": "stderr",
          "text": [
            "/usr/local/lib/python3.10/dist-packages/urllib3/connectionpool.py:1099: InsecureRequestWarning: Unverified HTTPS request is being made to host 'www.indianembassyzagreb.gov.in'. Adding certificate verification is strongly advised. See: https://urllib3.readthedocs.io/en/latest/advanced-usage.html#tls-warnings\n",
            "  warnings.warn(\n"
          ]
        },
        {
          "output_type": "stream",
          "name": "stdout",
          "text": [
            "Text saved to output/deface/www.indianembassyzagreb.gov.in.txt\n",
            "Downloading page http://inic.gov.iq/1784.html...\n",
            "Error when dowwloading page http://inic.gov.iq/1784.html: HTTPConnectionPool(host='inic.gov.iq', port=80): Max retries exceeded with url: /1784.html (Caused by NameResolutionError(\"<urllib3.connection.HTTPConnection object at 0x7e148365e8f0>: Failed to resolve 'inic.gov.iq' ([Errno -2] Name or service not known)\"))\n",
            "Failed to download page from http://inic.gov.iq/1784.html\n",
            "Downloading page http://saenzpena.gob.ar/0x.txt...\n",
            "Error when dowwloading page http://saenzpena.gob.ar/0x.txt: HTTPConnectionPool(host='saenzpena.gob.ar', port=80): Max retries exceeded with url: /0x.txt (Caused by ConnectTimeoutError(<urllib3.connection.HTTPConnection object at 0x7e148365e020>, 'Connection to saenzpena.gob.ar timed out. (connect timeout=10)'))\n",
            "Failed to download page from http://saenzpena.gob.ar/0x.txt\n",
            "Downloading page http://comiteprevencionsde.gob.ar/0x.txt...\n",
            "Error when dowwloading page http://comiteprevencionsde.gob.ar/0x.txt: HTTPConnectionPool(host='comiteprevencionsde.gob.ar', port=80): Max retries exceeded with url: /0x.txt (Caused by NameResolutionError(\"<urllib3.connection.HTTPConnection object at 0x7e148365d900>: Failed to resolve 'comiteprevencionsde.gob.ar' ([Errno -2] Name or service not known)\"))\n",
            "Failed to download page from http://comiteprevencionsde.gob.ar/0x.txt\n",
            "Downloading page http://www.nanual.go.th/0x.txt...\n",
            "Error when dowwloading page http://www.nanual.go.th/0x.txt: 404 Client Error: Not Found for url: http://www.nanual.go.th/0x.txt\n",
            "Failed to download page from http://www.nanual.go.th/0x.txt\n",
            "Downloading page http://www.wangchailocal.go.th/0x.txt...\n",
            "Error when dowwloading page http://www.wangchailocal.go.th/0x.txt: 403 Client Error: Forbidden for url: http://www.wangchailocal.go.th/0x.txt\n",
            "Failed to download page from http://www.wangchailocal.go.th/0x.txt\n",
            "Downloading page http://baovetreem.bacgiang.gov.vn/lib...\n",
            "Text saved to output/deface/baovetreem.bacgiang.gov.vn_lib.txt\n",
            "Downloading page http://www.dcc.gov.vn/lib/ckfinder/im...\n",
            "Error when dowwloading page http://www.dcc.gov.vn/lib/ckfinder/im: 404 Client Error: Not Found for url: http://www.dcc.gov.vn/lib/ckfinder/im\n",
            "Failed to download page from http://www.dcc.gov.vn/lib/ckfinder/im\n",
            "Downloading page http://www.nimec.gov.vn/lib/ckfinder/...\n",
            "Error when dowwloading page http://www.nimec.gov.vn/lib/ckfinder/: 403 Client Error: Forbidden for url: http://www.nimec.gov.vn/lib/ckfinder/\n",
            "Failed to download page from http://www.nimec.gov.vn/lib/ckfinder/\n",
            "Downloading page http://thanhdoan.bacgiang.gov.vn/lib/...\n",
            "Text saved to output/deface/thanhdoan.bacgiang.gov.vn_lib_.txt\n",
            "Downloading page http://observatorio.regiontumbes.gob...\n",
            "Error when dowwloading page http://observatorio.regiontumbes.gob: HTTPConnectionPool(host='observatorio.regiontumbes.gob', port=80): Max retries exceeded with url: / (Caused by NameResolutionError(\"<urllib3.connection.HTTPConnection object at 0x7e148365ca60>: Failed to resolve 'observatorio.regiontumbes.gob' ([Errno -2] Name or service not known)\"))\n",
            "Failed to download page from http://observatorio.regiontumbes.gob\n",
            "Downloading page http://dukcapil.tapselkab.go.id/0x.txt...\n",
            "Error when dowwloading page http://dukcapil.tapselkab.go.id/0x.txt: 502 Server Error: Bad Gateway for url: http://dukcapil.tapselkab.go.id/0x.txt\n",
            "Failed to download page from http://dukcapil.tapselkab.go.id/0x.txt\n",
            "Downloading page http://www.comune.airasca.to.it/cgi-b...\n"
          ]
        },
        {
          "output_type": "stream",
          "name": "stderr",
          "text": [
            "/usr/local/lib/python3.10/dist-packages/urllib3/connectionpool.py:1099: InsecureRequestWarning: Unverified HTTPS request is being made to host 'www.comune.airasca.to.it'. Adding certificate verification is strongly advised. See: https://urllib3.readthedocs.io/en/latest/advanced-usage.html#tls-warnings\n",
            "  warnings.warn(\n"
          ]
        },
        {
          "output_type": "stream",
          "name": "stdout",
          "text": [
            "Text saved to output/deface/www.comune.airasca.to.it_cgi-b.txt\n",
            "Downloading page http://www.comune.villafrancapiemonte...\n",
            "Error when dowwloading page http://www.comune.villafrancapiemonte: HTTPConnectionPool(host='www.comune.villafrancapiemonte', port=80): Max retries exceeded with url: / (Caused by NameResolutionError(\"<urllib3.connection.HTTPConnection object at 0x7e14839c10c0>: Failed to resolve 'www.comune.villafrancapiemonte' ([Errno -2] Name or service not known)\"))\n",
            "Failed to download page from http://www.comune.villafrancapiemonte\n",
            "Downloading page http://www.comune.villarperosa.to.it/...\n",
            "Text saved to output/deface/www.comune.villarperosa.to.it_.txt\n",
            "Downloading page http://www.comune.vigone.to.it/cgi-bi...\n"
          ]
        },
        {
          "output_type": "stream",
          "name": "stderr",
          "text": [
            "/usr/local/lib/python3.10/dist-packages/urllib3/connectionpool.py:1099: InsecureRequestWarning: Unverified HTTPS request is being made to host 'www.comune.vigone.to.it'. Adding certificate verification is strongly advised. See: https://urllib3.readthedocs.io/en/latest/advanced-usage.html#tls-warnings\n",
            "  warnings.warn(\n"
          ]
        },
        {
          "output_type": "stream",
          "name": "stdout",
          "text": [
            "Text saved to output/deface/www.comune.vigone.to.it_cgi-bi.txt\n",
            "Downloading page http://www.comune.verzuolo.cn.it/cgi-...\n"
          ]
        },
        {
          "output_type": "stream",
          "name": "stderr",
          "text": [
            "/usr/local/lib/python3.10/dist-packages/urllib3/connectionpool.py:1099: InsecureRequestWarning: Unverified HTTPS request is being made to host 'www.comune.verzuolo.cn.it'. Adding certificate verification is strongly advised. See: https://urllib3.readthedocs.io/en/latest/advanced-usage.html#tls-warnings\n",
            "  warnings.warn(\n"
          ]
        },
        {
          "output_type": "stream",
          "name": "stdout",
          "text": [
            "Text saved to output/deface/www.comune.verzuolo.cn.it_cgi-.txt\n",
            "Downloading page http://www.comune.venasca.cn.it/cgi-b...\n"
          ]
        },
        {
          "output_type": "stream",
          "name": "stderr",
          "text": [
            "/usr/local/lib/python3.10/dist-packages/urllib3/connectionpool.py:1099: InsecureRequestWarning: Unverified HTTPS request is being made to host 'www.comune.venasca.cn.it'. Adding certificate verification is strongly advised. See: https://urllib3.readthedocs.io/en/latest/advanced-usage.html#tls-warnings\n",
            "  warnings.warn(\n"
          ]
        },
        {
          "output_type": "stream",
          "name": "stdout",
          "text": [
            "Text saved to output/deface/www.comune.venasca.cn.it_cgi-b.txt\n",
            "Downloading page http://www.comune.trinita.cn.it/cgi-b...\n"
          ]
        },
        {
          "output_type": "stream",
          "name": "stderr",
          "text": [
            "/usr/local/lib/python3.10/dist-packages/urllib3/connectionpool.py:1099: InsecureRequestWarning: Unverified HTTPS request is being made to host 'www.comune.trinita.cn.it'. Adding certificate verification is strongly advised. See: https://urllib3.readthedocs.io/en/latest/advanced-usage.html#tls-warnings\n",
            "  warnings.warn(\n"
          ]
        },
        {
          "output_type": "stream",
          "name": "stdout",
          "text": [
            "Text saved to output/deface/www.comune.trinita.cn.it_cgi-b.txt\n",
            "Downloading page http://www.comune.torrepellice.to.it/...\n"
          ]
        },
        {
          "output_type": "stream",
          "name": "stderr",
          "text": [
            "/usr/local/lib/python3.10/dist-packages/urllib3/connectionpool.py:1099: InsecureRequestWarning: Unverified HTTPS request is being made to host 'www.comune.torrepellice.to.it'. Adding certificate verification is strongly advised. See: https://urllib3.readthedocs.io/en/latest/advanced-usage.html#tls-warnings\n",
            "  warnings.warn(\n"
          ]
        },
        {
          "output_type": "stream",
          "name": "stdout",
          "text": [
            "Text saved to output/deface/www.comune.torrepellice.to.it_.txt\n",
            "Downloading page http://www.comune.sommarivaperno.cn.i...\n",
            "Error when dowwloading page http://www.comune.sommarivaperno.cn.i: HTTPConnectionPool(host='www.comune.sommarivaperno.cn.i', port=80): Max retries exceeded with url: / (Caused by NameResolutionError(\"<urllib3.connection.HTTPConnection object at 0x7e1486a713f0>: Failed to resolve 'www.comune.sommarivaperno.cn.i' ([Errno -2] Name or service not known)\"))\n",
            "Failed to download page from http://www.comune.sommarivaperno.cn.i\n",
            "Downloading page http://www.comune.sommarivadelbosco.c...\n",
            "Error when dowwloading page http://www.comune.sommarivadelbosco.c: HTTPConnectionPool(host='www.comune.sommarivadelbosco.c', port=80): Max retries exceeded with url: / (Caused by NameResolutionError(\"<urllib3.connection.HTTPConnection object at 0x7e1486a72e30>: Failed to resolve 'www.comune.sommarivadelbosco.c' ([Errno -2] Name or service not known)\"))\n",
            "Failed to download page from http://www.comune.sommarivadelbosco.c\n",
            "Downloading page http://www.comune.sennariolo.or.it/cg...\n"
          ]
        },
        {
          "output_type": "stream",
          "name": "stderr",
          "text": [
            "/usr/local/lib/python3.10/dist-packages/urllib3/connectionpool.py:1099: InsecureRequestWarning: Unverified HTTPS request is being made to host 'www.comune.sennariolo.or.it'. Adding certificate verification is strongly advised. See: https://urllib3.readthedocs.io/en/latest/advanced-usage.html#tls-warnings\n",
            "  warnings.warn(\n"
          ]
        },
        {
          "output_type": "stream",
          "name": "stdout",
          "text": [
            "Text saved to output/deface/www.comune.sennariolo.or.it_cg.txt\n",
            "Downloading page http://www.comune.scarnafigi.cn.it/cg...\n"
          ]
        },
        {
          "output_type": "stream",
          "name": "stderr",
          "text": [
            "/usr/local/lib/python3.10/dist-packages/urllib3/connectionpool.py:1099: InsecureRequestWarning: Unverified HTTPS request is being made to host 'www.comune.scarnafigi.cn.it'. Adding certificate verification is strongly advised. See: https://urllib3.readthedocs.io/en/latest/advanced-usage.html#tls-warnings\n",
            "  warnings.warn(\n"
          ]
        },
        {
          "output_type": "stream",
          "name": "stdout",
          "text": [
            "Text saved to output/deface/www.comune.scarnafigi.cn.it_cg.txt\n",
            "Downloading page http://www.comune.santavittoriadalba...\n",
            "Error when dowwloading page http://www.comune.santavittoriadalba: HTTPConnectionPool(host='www.comune.santavittoriadalba', port=80): Max retries exceeded with url: / (Caused by NameResolutionError(\"<urllib3.connection.HTTPConnection object at 0x7e14838c64d0>: Failed to resolve 'www.comune.santavittoriadalba' ([Errno -2] Name or service not known)\"))\n",
            "Failed to download page from http://www.comune.santavittoriadalba\n",
            "Downloading page http://www.comune.sanfront.cn.it/cgi-...\n"
          ]
        },
        {
          "output_type": "stream",
          "name": "stderr",
          "text": [
            "/usr/local/lib/python3.10/dist-packages/urllib3/connectionpool.py:1099: InsecureRequestWarning: Unverified HTTPS request is being made to host 'www.comune.sanfront.cn.it'. Adding certificate verification is strongly advised. See: https://urllib3.readthedocs.io/en/latest/advanced-usage.html#tls-warnings\n",
            "  warnings.warn(\n"
          ]
        },
        {
          "output_type": "stream",
          "name": "stdout",
          "text": [
            "Text saved to output/deface/www.comune.sanfront.cn.it_cgi-.txt\n",
            "Downloading page http://www.comune.sampeyre.cn.it/cgi-...\n"
          ]
        },
        {
          "output_type": "stream",
          "name": "stderr",
          "text": [
            "/usr/local/lib/python3.10/dist-packages/urllib3/connectionpool.py:1099: InsecureRequestWarning: Unverified HTTPS request is being made to host 'www.comune.sampeyre.cn.it'. Adding certificate verification is strongly advised. See: https://urllib3.readthedocs.io/en/latest/advanced-usage.html#tls-warnings\n",
            "  warnings.warn(\n"
          ]
        },
        {
          "output_type": "stream",
          "name": "stdout",
          "text": [
            "Text saved to output/deface/www.comune.sampeyre.cn.it_cgi-.txt\n",
            "Downloading page http://www.comune.salzadipinerolo.to...\n",
            "Error when dowwloading page http://www.comune.salzadipinerolo.to: HTTPConnectionPool(host='www.comune.salzadipinerolo.to', port=80): Max retries exceeded with url: / (Caused by NameResolutionError(\"<urllib3.connection.HTTPConnection object at 0x7e148468ef50>: Failed to resolve 'www.comune.salzadipinerolo.to' ([Errno -2] Name or service not known)\"))\n",
            "Failed to download page from http://www.comune.salzadipinerolo.to\n",
            "Downloading page http://www.comune.rossana.cn.it/cgi-b...\n",
            "Text saved to output/deface/www.comune.rossana.cn.it_cgi-b.txt\n",
            "Downloading page http://www.comune.roccafortemondovi.c...\n",
            "Error when dowwloading page http://www.comune.roccafortemondovi.c: HTTPConnectionPool(host='www.comune.roccafortemondovi.c', port=80): Max retries exceeded with url: / (Caused by NameResolutionError(\"<urllib3.connection.HTTPConnection object at 0x7e148384a560>: Failed to resolve 'www.comune.roccafortemondovi.c' ([Errno -2] Name or service not known)\"))\n",
            "Failed to download page from http://www.comune.roccafortemondovi.c\n",
            "Downloading page http://www.comune.roccabruna.cn.it/cg...\n"
          ]
        },
        {
          "output_type": "stream",
          "name": "stderr",
          "text": [
            "/usr/local/lib/python3.10/dist-packages/urllib3/connectionpool.py:1099: InsecureRequestWarning: Unverified HTTPS request is being made to host 'www.comune.roccabruna.cn.it'. Adding certificate verification is strongly advised. See: https://urllib3.readthedocs.io/en/latest/advanced-usage.html#tls-warnings\n",
            "  warnings.warn(\n"
          ]
        },
        {
          "output_type": "stream",
          "name": "stdout",
          "text": [
            "Text saved to output/deface/www.comune.roccabruna.cn.it_cg.txt\n",
            "Downloading page http://www.comune.rifreddo.cn.it/cgi-...\n"
          ]
        },
        {
          "output_type": "stream",
          "name": "stderr",
          "text": [
            "/usr/local/lib/python3.10/dist-packages/urllib3/connectionpool.py:1099: InsecureRequestWarning: Unverified HTTPS request is being made to host 'www.comune.rifreddo.cn.it'. Adding certificate verification is strongly advised. See: https://urllib3.readthedocs.io/en/latest/advanced-usage.html#tls-warnings\n",
            "  warnings.warn(\n"
          ]
        },
        {
          "output_type": "stream",
          "name": "stdout",
          "text": [
            "Text saved to output/deface/www.comune.rifreddo.cn.it_cgi-.txt\n",
            "Downloading page http://www.comune.racconigi.cn.it/cgi...\n"
          ]
        },
        {
          "output_type": "stream",
          "name": "stderr",
          "text": [
            "/usr/local/lib/python3.10/dist-packages/urllib3/connectionpool.py:1099: InsecureRequestWarning: Unverified HTTPS request is being made to host 'www.comune.racconigi.cn.it'. Adding certificate verification is strongly advised. See: https://urllib3.readthedocs.io/en/latest/advanced-usage.html#tls-warnings\n",
            "  warnings.warn(\n"
          ]
        },
        {
          "output_type": "stream",
          "name": "stdout",
          "text": [
            "Text saved to output/deface/www.comune.racconigi.cn.it_cgi.txt\n",
            "Downloading page http://www.comune.porte.to.it/cgi-bin...\n"
          ]
        },
        {
          "output_type": "stream",
          "name": "stderr",
          "text": [
            "/usr/local/lib/python3.10/dist-packages/urllib3/connectionpool.py:1099: InsecureRequestWarning: Unverified HTTPS request is being made to host 'www.comune.porte.to.it'. Adding certificate verification is strongly advised. See: https://urllib3.readthedocs.io/en/latest/advanced-usage.html#tls-warnings\n",
            "  warnings.warn(\n",
            "/usr/local/lib/python3.10/dist-packages/urllib3/connectionpool.py:1099: InsecureRequestWarning: Unverified HTTPS request is being made to host 'www.comune.porte.to.it'. Adding certificate verification is strongly advised. See: https://urllib3.readthedocs.io/en/latest/advanced-usage.html#tls-warnings\n",
            "  warnings.warn(\n"
          ]
        },
        {
          "output_type": "stream",
          "name": "stdout",
          "text": [
            "Text saved to output/deface/www.comune.porte.to.it_cgi-bin.txt\n",
            "Downloading page http://www.comune.pramollo.to.it/cgi-...\n"
          ]
        },
        {
          "output_type": "stream",
          "name": "stderr",
          "text": [
            "/usr/local/lib/python3.10/dist-packages/urllib3/connectionpool.py:1099: InsecureRequestWarning: Unverified HTTPS request is being made to host 'www.comune.pramollo.to.it'. Adding certificate verification is strongly advised. See: https://urllib3.readthedocs.io/en/latest/advanced-usage.html#tls-warnings\n",
            "  warnings.warn(\n"
          ]
        },
        {
          "output_type": "stream",
          "name": "stdout",
          "text": [
            "Text saved to output/deface/www.comune.pramollo.to.it_cgi-.txt\n",
            "Downloading page http://www.comune.pomaretto.to.it/cgi...\n"
          ]
        },
        {
          "output_type": "stream",
          "name": "stderr",
          "text": [
            "/usr/local/lib/python3.10/dist-packages/urllib3/connectionpool.py:1099: InsecureRequestWarning: Unverified HTTPS request is being made to host 'www.comune.pomaretto.to.it'. Adding certificate verification is strongly advised. See: https://urllib3.readthedocs.io/en/latest/advanced-usage.html#tls-warnings\n",
            "  warnings.warn(\n"
          ]
        },
        {
          "output_type": "stream",
          "name": "stdout",
          "text": [
            "Text saved to output/deface/www.comune.pomaretto.to.it_cgi.txt\n",
            "Downloading page http://www.comune.perrero.to.it/cgi-b...\n"
          ]
        },
        {
          "output_type": "stream",
          "name": "stderr",
          "text": [
            "/usr/local/lib/python3.10/dist-packages/urllib3/connectionpool.py:1099: InsecureRequestWarning: Unverified HTTPS request is being made to host 'www.comune.perrero.to.it'. Adding certificate verification is strongly advised. See: https://urllib3.readthedocs.io/en/latest/advanced-usage.html#tls-warnings\n",
            "  warnings.warn(\n"
          ]
        },
        {
          "output_type": "stream",
          "name": "stdout",
          "text": [
            "Text saved to output/deface/www.comune.perrero.to.it_cgi-b.txt\n",
            "Downloading page http://www.comune.perosaargentina.to...\n",
            "Error when dowwloading page http://www.comune.perosaargentina.to: HTTPConnectionPool(host='www.comune.perosaargentina.to', port=80): Max retries exceeded with url: / (Caused by NameResolutionError(\"<urllib3.connection.HTTPConnection object at 0x7e1483ae8a90>: Failed to resolve 'www.comune.perosaargentina.to' ([Errno -2] Name or service not known)\"))\n",
            "Failed to download page from http://www.comune.perosaargentina.to\n",
            "Downloading page http://www.comune.perlo.cn.it/cgi-bin...\n",
            "Text saved to output/deface/www.comune.perlo.cn.it_cgi-bin.txt\n",
            "Downloading page http://www.comune.nucetto.cn.it/cgi-b...\n"
          ]
        },
        {
          "output_type": "stream",
          "name": "stderr",
          "text": [
            "/usr/local/lib/python3.10/dist-packages/urllib3/connectionpool.py:1099: InsecureRequestWarning: Unverified HTTPS request is being made to host 'www.comune.nucetto.cn.it'. Adding certificate verification is strongly advised. See: https://urllib3.readthedocs.io/en/latest/advanced-usage.html#tls-warnings\n",
            "  warnings.warn(\n"
          ]
        },
        {
          "output_type": "stream",
          "name": "stdout",
          "text": [
            "Text saved to output/deface/www.comune.nucetto.cn.it_cgi-b.txt\n",
            "Downloading page http://www.comune.moretta.cn.it/cgi-b...\n"
          ]
        },
        {
          "output_type": "stream",
          "name": "stderr",
          "text": [
            "/usr/local/lib/python3.10/dist-packages/urllib3/connectionpool.py:1099: InsecureRequestWarning: Unverified HTTPS request is being made to host 'www.comune.moretta.cn.it'. Adding certificate verification is strongly advised. See: https://urllib3.readthedocs.io/en/latest/advanced-usage.html#tls-warnings\n",
            "  warnings.warn(\n"
          ]
        },
        {
          "output_type": "stream",
          "name": "stdout",
          "text": [
            "Text saved to output/deface/www.comune.moretta.cn.it_cgi-b.txt\n",
            "Downloading page http://www.comune.montanera.cn.it/cgi...\n"
          ]
        },
        {
          "output_type": "stream",
          "name": "stderr",
          "text": [
            "/usr/local/lib/python3.10/dist-packages/urllib3/connectionpool.py:1099: InsecureRequestWarning: Unverified HTTPS request is being made to host 'www.comune.montanera.cn.it'. Adding certificate verification is strongly advised. See: https://urllib3.readthedocs.io/en/latest/advanced-usage.html#tls-warnings\n",
            "  warnings.warn(\n"
          ]
        },
        {
          "output_type": "stream",
          "name": "stdout",
          "text": [
            "Text saved to output/deface/www.comune.montanera.cn.it_cgi.txt\n",
            "Downloading page http://www.comune.melle.cn.it/cgi-bin...\n"
          ]
        },
        {
          "output_type": "stream",
          "name": "stderr",
          "text": [
            "/usr/local/lib/python3.10/dist-packages/urllib3/connectionpool.py:1099: InsecureRequestWarning: Unverified HTTPS request is being made to host 'www.comune.melle.cn.it'. Adding certificate verification is strongly advised. See: https://urllib3.readthedocs.io/en/latest/advanced-usage.html#tls-warnings\n",
            "  warnings.warn(\n",
            "/usr/local/lib/python3.10/dist-packages/urllib3/connectionpool.py:1099: InsecureRequestWarning: Unverified HTTPS request is being made to host 'www.comune.melle.cn.it'. Adding certificate verification is strongly advised. See: https://urllib3.readthedocs.io/en/latest/advanced-usage.html#tls-warnings\n",
            "  warnings.warn(\n"
          ]
        },
        {
          "output_type": "stream",
          "name": "stdout",
          "text": [
            "Text saved to output/deface/www.comune.melle.cn.it_cgi-bin.txt\n",
            "Downloading page http://www.comune.massello.to.it/cgi-...\n"
          ]
        },
        {
          "output_type": "stream",
          "name": "stderr",
          "text": [
            "/usr/local/lib/python3.10/dist-packages/urllib3/connectionpool.py:1099: InsecureRequestWarning: Unverified HTTPS request is being made to host 'www.comune.massello.to.it'. Adding certificate verification is strongly advised. See: https://urllib3.readthedocs.io/en/latest/advanced-usage.html#tls-warnings\n",
            "  warnings.warn(\n"
          ]
        },
        {
          "output_type": "stream",
          "name": "stdout",
          "text": [
            "Text saved to output/deface/www.comune.massello.to.it_cgi-.txt\n",
            "Downloading page http://www.comune.martinianapo.cn.it/...\n"
          ]
        },
        {
          "output_type": "stream",
          "name": "stderr",
          "text": [
            "/usr/local/lib/python3.10/dist-packages/urllib3/connectionpool.py:1099: InsecureRequestWarning: Unverified HTTPS request is being made to host 'www.comune.martinianapo.cn.it'. Adding certificate verification is strongly advised. See: https://urllib3.readthedocs.io/en/latest/advanced-usage.html#tls-warnings\n",
            "  warnings.warn(\n"
          ]
        },
        {
          "output_type": "stream",
          "name": "stdout",
          "text": [
            "Text saved to output/deface/www.comune.martinianapo.cn.it_.txt\n",
            "Downloading page http://www.comune.marene.cn.it/cgi-bi...\n",
            "Text saved to output/deface/www.comune.marene.cn.it_cgi-bi.txt\n",
            "Downloading page http://www.comune.manta.cn.it/cgi-bin...\n"
          ]
        },
        {
          "output_type": "stream",
          "name": "stderr",
          "text": [
            "/usr/local/lib/python3.10/dist-packages/urllib3/connectionpool.py:1099: InsecureRequestWarning: Unverified HTTPS request is being made to host 'www.comune.manta.cn.it'. Adding certificate verification is strongly advised. See: https://urllib3.readthedocs.io/en/latest/advanced-usage.html#tls-warnings\n",
            "  warnings.warn(\n"
          ]
        },
        {
          "output_type": "stream",
          "name": "stdout",
          "text": [
            "Error when dowwloading page http://www.comune.manta.cn.it/cgi-bin: 403 Client Error: Forbidden for url: https://www.comune.manta.cn.it//cgi-bin\n",
            "Failed to download page from http://www.comune.manta.cn.it/cgi-bin\n",
            "Downloading page http://www.comune.lusernetta.to.it/cg...\n"
          ]
        },
        {
          "output_type": "stream",
          "name": "stderr",
          "text": [
            "/usr/local/lib/python3.10/dist-packages/urllib3/connectionpool.py:1099: InsecureRequestWarning: Unverified HTTPS request is being made to host 'www.comune.lusernetta.to.it'. Adding certificate verification is strongly advised. See: https://urllib3.readthedocs.io/en/latest/advanced-usage.html#tls-warnings\n",
            "  warnings.warn(\n"
          ]
        },
        {
          "output_type": "stream",
          "name": "stdout",
          "text": [
            "Text saved to output/deface/www.comune.lusernetta.to.it_cg.txt\n",
            "Downloading page http://www.comune.luserna.to.it/cgi-b...\n"
          ]
        },
        {
          "output_type": "stream",
          "name": "stderr",
          "text": [
            "/usr/local/lib/python3.10/dist-packages/urllib3/connectionpool.py:1099: InsecureRequestWarning: Unverified HTTPS request is being made to host 'www.comune.luserna.to.it'. Adding certificate verification is strongly advised. See: https://urllib3.readthedocs.io/en/latest/advanced-usage.html#tls-warnings\n",
            "  warnings.warn(\n"
          ]
        },
        {
          "output_type": "stream",
          "name": "stdout",
          "text": [
            "Text saved to output/deface/www.comune.luserna.to.it_cgi-b.txt\n",
            "Downloading page http://www.comune.lagnasco.cn.it/cgi-...\n"
          ]
        },
        {
          "output_type": "stream",
          "name": "stderr",
          "text": [
            "/usr/local/lib/python3.10/dist-packages/urllib3/connectionpool.py:1099: InsecureRequestWarning: Unverified HTTPS request is being made to host 'www.comune.lagnasco.cn.it'. Adding certificate verification is strongly advised. See: https://urllib3.readthedocs.io/en/latest/advanced-usage.html#tls-warnings\n",
            "  warnings.warn(\n"
          ]
        },
        {
          "output_type": "stream",
          "name": "stdout",
          "text": [
            "Text saved to output/deface/www.comune.lagnasco.cn.it_cgi-.txt\n",
            "Downloading page http://www.comune.laloggia.to.it/cgi-...\n"
          ]
        },
        {
          "output_type": "stream",
          "name": "stderr",
          "text": [
            "/usr/local/lib/python3.10/dist-packages/urllib3/connectionpool.py:1099: InsecureRequestWarning: Unverified HTTPS request is being made to host 'www.comune.laloggia.to.it'. Adding certificate verification is strongly advised. See: https://urllib3.readthedocs.io/en/latest/advanced-usage.html#tls-warnings\n",
            "  warnings.warn(\n"
          ]
        },
        {
          "output_type": "stream",
          "name": "stdout",
          "text": [
            "Text saved to output/deface/www.comune.laloggia.to.it_cgi-.txt\n",
            "Downloading page http://www.comune.isasca.cn.it/cgi-bi...\n"
          ]
        },
        {
          "output_type": "stream",
          "name": "stderr",
          "text": [
            "/usr/local/lib/python3.10/dist-packages/urllib3/connectionpool.py:1099: InsecureRequestWarning: Unverified HTTPS request is being made to host 'www.comune.isasca.cn.it'. Adding certificate verification is strongly advised. See: https://urllib3.readthedocs.io/en/latest/advanced-usage.html#tls-warnings\n",
            "  warnings.warn(\n"
          ]
        },
        {
          "output_type": "stream",
          "name": "stdout",
          "text": [
            "Text saved to output/deface/www.comune.isasca.cn.it_cgi-bi.txt\n",
            "Downloading page http://www.comune.garzigliana.to.it/c...\n"
          ]
        },
        {
          "output_type": "stream",
          "name": "stderr",
          "text": [
            "/usr/local/lib/python3.10/dist-packages/urllib3/connectionpool.py:1099: InsecureRequestWarning: Unverified HTTPS request is being made to host 'www.comune.garzigliana.to.it'. Adding certificate verification is strongly advised. See: https://urllib3.readthedocs.io/en/latest/advanced-usage.html#tls-warnings\n",
            "  warnings.warn(\n"
          ]
        },
        {
          "output_type": "stream",
          "name": "stdout",
          "text": [
            "Text saved to output/deface/www.comune.garzigliana.to.it_c.txt\n",
            "Downloading page http://www.comune.gambasca.cn.it/cgi-...\n",
            "Text saved to output/deface/www.comune.gambasca.cn.it_cgi-.txt\n",
            "Downloading page http://www.comune.frossasco.to.it/cgi...\n"
          ]
        },
        {
          "output_type": "stream",
          "name": "stderr",
          "text": [
            "/usr/local/lib/python3.10/dist-packages/urllib3/connectionpool.py:1099: InsecureRequestWarning: Unverified HTTPS request is being made to host 'www.comune.frossasco.to.it'. Adding certificate verification is strongly advised. See: https://urllib3.readthedocs.io/en/latest/advanced-usage.html#tls-warnings\n",
            "  warnings.warn(\n"
          ]
        },
        {
          "output_type": "stream",
          "name": "stdout",
          "text": [
            "Text saved to output/deface/www.comune.frossasco.to.it_cgi.txt\n",
            "Downloading page http://www.comune.frassino.cn.it/cgi-...\n"
          ]
        },
        {
          "output_type": "stream",
          "name": "stderr",
          "text": [
            "/usr/local/lib/python3.10/dist-packages/urllib3/connectionpool.py:1099: InsecureRequestWarning: Unverified HTTPS request is being made to host 'www.comune.frassino.cn.it'. Adding certificate verification is strongly advised. See: https://urllib3.readthedocs.io/en/latest/advanced-usage.html#tls-warnings\n",
            "  warnings.warn(\n"
          ]
        },
        {
          "output_type": "stream",
          "name": "stdout",
          "text": [
            "Text saved to output/deface/www.comune.frassino.cn.it_cgi-.txt\n",
            "Downloading page http://www.comune.fontanettopo.vc.it/...\n"
          ]
        },
        {
          "output_type": "stream",
          "name": "stderr",
          "text": [
            "/usr/local/lib/python3.10/dist-packages/urllib3/connectionpool.py:1099: InsecureRequestWarning: Unverified HTTPS request is being made to host 'www.comune.fontanettopo.vc.it'. Adding certificate verification is strongly advised. See: https://urllib3.readthedocs.io/en/latest/advanced-usage.html#tls-warnings\n",
            "  warnings.warn(\n"
          ]
        },
        {
          "output_type": "stream",
          "name": "stdout",
          "text": [
            "Text saved to output/deface/www.comune.fontanettopo.vc.it_.txt\n",
            "Downloading page http://www.comune.fenestrelle.to.it/c...\n",
            "Text saved to output/deface/www.comune.fenestrelle.to.it_c.txt\n",
            "Downloading page http://www.comune.dianodalba.cn.it/cg...\n"
          ]
        },
        {
          "output_type": "stream",
          "name": "stderr",
          "text": [
            "/usr/local/lib/python3.10/dist-packages/urllib3/connectionpool.py:1099: InsecureRequestWarning: Unverified HTTPS request is being made to host 'www.comune.dianodalba.cn.it'. Adding certificate verification is strongly advised. See: https://urllib3.readthedocs.io/en/latest/advanced-usage.html#tls-warnings\n",
            "  warnings.warn(\n"
          ]
        },
        {
          "output_type": "stream",
          "name": "stdout",
          "text": [
            "Text saved to output/deface/www.comune.dianodalba.cn.it_cg.txt\n",
            "Downloading page http://www.comune.crissolo.cn.it/cgi-...\n"
          ]
        },
        {
          "output_type": "stream",
          "name": "stderr",
          "text": [
            "/usr/local/lib/python3.10/dist-packages/urllib3/connectionpool.py:1099: InsecureRequestWarning: Unverified HTTPS request is being made to host 'www.comune.crissolo.cn.it'. Adding certificate verification is strongly advised. See: https://urllib3.readthedocs.io/en/latest/advanced-usage.html#tls-warnings\n",
            "  warnings.warn(\n"
          ]
        },
        {
          "output_type": "stream",
          "name": "stdout",
          "text": [
            "Text saved to output/deface/www.comune.crissolo.cn.it_cgi-.txt\n",
            "Downloading page http://www.comune.prali.to.it/cgi-bin...\n"
          ]
        },
        {
          "output_type": "stream",
          "name": "stderr",
          "text": [
            "/usr/local/lib/python3.10/dist-packages/urllib3/connectionpool.py:1099: InsecureRequestWarning: Unverified HTTPS request is being made to host 'www.comune.prali.to.it'. Adding certificate verification is strongly advised. See: https://urllib3.readthedocs.io/en/latest/advanced-usage.html#tls-warnings\n",
            "  warnings.warn(\n",
            "/usr/local/lib/python3.10/dist-packages/urllib3/connectionpool.py:1099: InsecureRequestWarning: Unverified HTTPS request is being made to host 'www.comune.prali.to.it'. Adding certificate verification is strongly advised. See: https://urllib3.readthedocs.io/en/latest/advanced-usage.html#tls-warnings\n",
            "  warnings.warn(\n"
          ]
        },
        {
          "output_type": "stream",
          "name": "stdout",
          "text": [
            "Text saved to output/deface/www.comune.prali.to.it_cgi-bin.txt\n",
            "Downloading page http://www.comune.buriasco.to.it/cgi-...\n"
          ]
        },
        {
          "output_type": "stream",
          "name": "stderr",
          "text": [
            "/usr/local/lib/python3.10/dist-packages/urllib3/connectionpool.py:1099: InsecureRequestWarning: Unverified HTTPS request is being made to host 'www.comune.buriasco.to.it'. Adding certificate verification is strongly advised. See: https://urllib3.readthedocs.io/en/latest/advanced-usage.html#tls-warnings\n",
            "  warnings.warn(\n"
          ]
        },
        {
          "output_type": "stream",
          "name": "stdout",
          "text": [
            "Text saved to output/deface/www.comune.buriasco.to.it_cgi-.txt\n",
            "Downloading page http://www.comune.cantalupa.to.it/cgi...\n"
          ]
        },
        {
          "output_type": "stream",
          "name": "stderr",
          "text": [
            "/usr/local/lib/python3.10/dist-packages/urllib3/connectionpool.py:1099: InsecureRequestWarning: Unverified HTTPS request is being made to host 'www.comune.cantalupa.to.it'. Adding certificate verification is strongly advised. See: https://urllib3.readthedocs.io/en/latest/advanced-usage.html#tls-warnings\n",
            "  warnings.warn(\n"
          ]
        },
        {
          "output_type": "stream",
          "name": "stdout",
          "text": [
            "Text saved to output/deface/www.comune.cantalupa.to.it_cgi.txt\n",
            "Downloading page http://www.comune.castellettostura.cn...\n",
            "Error when dowwloading page http://www.comune.castellettostura.cn: HTTPConnectionPool(host='www.comune.castellettostura.cn', port=80): Max retries exceeded with url: / (Caused by NameResolutionError(\"<urllib3.connection.HTTPConnection object at 0x7e14837aab30>: Failed to resolve 'www.comune.castellettostura.cn' ([Errno -2] Name or service not known)\"))\n",
            "Failed to download page from http://www.comune.castellettostura.cn\n",
            "Downloading page http://www.comune.cercenasco.to.it/cg...\n"
          ]
        },
        {
          "output_type": "stream",
          "name": "stderr",
          "text": [
            "/usr/local/lib/python3.10/dist-packages/urllib3/connectionpool.py:1099: InsecureRequestWarning: Unverified HTTPS request is being made to host 'www.comune.cercenasco.to.it'. Adding certificate verification is strongly advised. See: https://urllib3.readthedocs.io/en/latest/advanced-usage.html#tls-warnings\n",
            "  warnings.warn(\n"
          ]
        },
        {
          "output_type": "stream",
          "name": "stdout",
          "text": [
            "Text saved to output/deface/www.comune.cercenasco.to.it_cg.txt\n",
            "Downloading page http://www.comune.cherasco.cn.it/cgi-...\n"
          ]
        },
        {
          "output_type": "stream",
          "name": "stderr",
          "text": [
            "/usr/local/lib/python3.10/dist-packages/urllib3/connectionpool.py:1099: InsecureRequestWarning: Unverified HTTPS request is being made to host 'www.comune.cherasco.cn.it'. Adding certificate verification is strongly advised. See: https://urllib3.readthedocs.io/en/latest/advanced-usage.html#tls-warnings\n",
            "  warnings.warn(\n"
          ]
        },
        {
          "output_type": "stream",
          "name": "stdout",
          "text": [
            "Text saved to output/deface/www.comune.cherasco.cn.it_cgi-.txt\n",
            "Downloading page http://www.comune.cocconato.at.it/cgi...\n"
          ]
        },
        {
          "output_type": "stream",
          "name": "stderr",
          "text": [
            "/usr/local/lib/python3.10/dist-packages/urllib3/connectionpool.py:1099: InsecureRequestWarning: Unverified HTTPS request is being made to host 'www.comune.cocconato.at.it'. Adding certificate verification is strongly advised. See: https://urllib3.readthedocs.io/en/latest/advanced-usage.html#tls-warnings\n",
            "  warnings.warn(\n"
          ]
        },
        {
          "output_type": "stream",
          "name": "stdout",
          "text": [
            "Text saved to output/deface/www.comune.cocconato.at.it_cgi.txt\n",
            "Downloading page http://www.comune.costigliolesaluzzo...\n",
            "Error when dowwloading page http://www.comune.costigliolesaluzzo: HTTPConnectionPool(host='www.comune.costigliolesaluzzo', port=80): Max retries exceeded with url: / (Caused by NameResolutionError(\"<urllib3.connection.HTTPConnection object at 0x7e1483024af0>: Failed to resolve 'www.comune.costigliolesaluzzo' ([Errno -2] Name or service not known)\"))\n",
            "Failed to download page from http://www.comune.costigliolesaluzzo\n",
            "Downloading page http://www.comune.baldisserodalba.cn...\n",
            "Error when dowwloading page http://www.comune.baldisserodalba.cn: HTTPConnectionPool(host='www.comune.baldisserodalba.cn', port=80): Max retries exceeded with url: / (Caused by NameResolutionError(\"<urllib3.connection.HTTPConnection object at 0x7e14830252d0>: Failed to resolve 'www.comune.baldisserodalba.cn' ([Errno -2] Name or service not known)\"))\n",
            "Failed to download page from http://www.comune.baldisserodalba.cn\n",
            "Downloading page http://www.comune.brossasco.cn.it/cgi...\n"
          ]
        },
        {
          "output_type": "stream",
          "name": "stderr",
          "text": [
            "/usr/local/lib/python3.10/dist-packages/urllib3/connectionpool.py:1099: InsecureRequestWarning: Unverified HTTPS request is being made to host 'www.comune.brossasco.cn.it'. Adding certificate verification is strongly advised. See: https://urllib3.readthedocs.io/en/latest/advanced-usage.html#tls-warnings\n",
            "  warnings.warn(\n"
          ]
        },
        {
          "output_type": "stream",
          "name": "stdout",
          "text": [
            "Text saved to output/deface/www.comune.brossasco.cn.it_cgi.txt\n",
            "Downloading page http://www.comune.bellino.cn.it/cgi-b...\n"
          ]
        },
        {
          "output_type": "stream",
          "name": "stderr",
          "text": [
            "/usr/local/lib/python3.10/dist-packages/urllib3/connectionpool.py:1099: InsecureRequestWarning: Unverified HTTPS request is being made to host 'www.comune.bellino.cn.it'. Adding certificate verification is strongly advised. See: https://urllib3.readthedocs.io/en/latest/advanced-usage.html#tls-warnings\n",
            "  warnings.warn(\n"
          ]
        },
        {
          "output_type": "stream",
          "name": "stdout",
          "text": [
            "Text saved to output/deface/www.comune.bellino.cn.it_cgi-b.txt\n",
            "Downloading page http://www.comune.borgosandalmazzo.cn...\n",
            "Error when dowwloading page http://www.comune.borgosandalmazzo.cn: HTTPConnectionPool(host='www.comune.borgosandalmazzo.cn', port=80): Max retries exceeded with url: / (Caused by NameResolutionError(\"<urllib3.connection.HTTPConnection object at 0x7e148426f070>: Failed to resolve 'www.comune.borgosandalmazzo.cn' ([Errno -2] Name or service not known)\"))\n",
            "Failed to download page from http://www.comune.borgosandalmazzo.cn\n",
            "Downloading page http://clr.kerala.gov.in/Err0r.html...\n",
            "Error when dowwloading page http://clr.kerala.gov.in/Err0r.html: HTTPConnectionPool(host='clr.kerala.gov.in', port=80): Max retries exceeded with url: /Err0r.html (Caused by ConnectTimeoutError(<urllib3.connection.HTTPConnection object at 0x7e148426f850>, 'Connection to clr.kerala.gov.in timed out. (connect timeout=10)'))\n",
            "Failed to download page from http://clr.kerala.gov.in/Err0r.html\n",
            "Downloading page http://www.nmie.gov.et...\n",
            "Error when dowwloading page http://www.nmie.gov.et: HTTPConnectionPool(host='www.nmie.gov.et', port=80): Max retries exceeded with url: / (Caused by ConnectTimeoutError(<urllib3.connection.HTTPConnection object at 0x7e1483ae0040>, 'Connection to www.nmie.gov.et timed out. (connect timeout=10)'))\n",
            "Failed to download page from http://www.nmie.gov.et\n",
            "Downloading page http://kudhaecity.go.th/err.html...\n",
            "Text saved to output/deface/kudhaecity.go.th_err.html.txt\n",
            "Downloading page http://regiontumbes.gob.pe/0x.txt...\n",
            "Text saved to output/deface/regiontumbes.gob.pe_0x.txt.txt\n",
            "Downloading page http://pa-fakfak.go.id/pwn.txt...\n",
            "Error when dowwloading page http://pa-fakfak.go.id/pwn.txt: 404 Client Error: Not Found for url: http://pa-fakfak.go.id/pwn.txt\n",
            "Failed to download page from http://pa-fakfak.go.id/pwn.txt\n",
            "Downloading page http://invivo.mit.edu...\n",
            "Error when dowwloading page http://invivo.mit.edu: HTTPConnectionPool(host='invivo.mit.edu', port=80): Max retries exceeded with url: / (Caused by ConnectTimeoutError(<urllib3.connection.HTTPConnection object at 0x7e1483ae1ea0>, 'Connection to invivo.mit.edu timed out. (connect timeout=10)'))\n",
            "Failed to download page from http://invivo.mit.edu\n",
            "Downloading page http://www.juventude.com.br...\n"
          ]
        },
        {
          "output_type": "stream",
          "name": "stderr",
          "text": [
            "/usr/local/lib/python3.10/dist-packages/urllib3/connectionpool.py:1099: InsecureRequestWarning: Unverified HTTPS request is being made to host 'www.juventude.com.br'. Adding certificate verification is strongly advised. See: https://urllib3.readthedocs.io/en/latest/advanced-usage.html#tls-warnings\n",
            "  warnings.warn(\n"
          ]
        },
        {
          "output_type": "stream",
          "name": "stdout",
          "text": [
            "Text saved to output/deface/www.juventude.com.br.txt\n",
            "Downloading page http://www.chamrae.go.th/evil.txt...\n",
            "Text saved to output/deface/www.chamrae.go.th_evil.txt.txt\n",
            "Downloading page http://www.namphu.go.th/evil.txt...\n",
            "Text saved to output/deface/www.namphu.go.th_evil.txt.txt\n",
            "Downloading page http://www.bankokubon.go.th/evil.txt...\n",
            "Text saved to output/deface/www.bankokubon.go.th_evil.txt.txt\n",
            "Downloading page http://nangaritza.gob.ec/0x.txt...\n"
          ]
        },
        {
          "output_type": "stream",
          "name": "stderr",
          "text": [
            "/usr/local/lib/python3.10/dist-packages/urllib3/connectionpool.py:1099: InsecureRequestWarning: Unverified HTTPS request is being made to host 'nangaritza.gob.ec'. Adding certificate verification is strongly advised. See: https://urllib3.readthedocs.io/en/latest/advanced-usage.html#tls-warnings\n",
            "  warnings.warn(\n"
          ]
        },
        {
          "output_type": "stream",
          "name": "stdout",
          "text": [
            "Error when dowwloading page http://nangaritza.gob.ec/0x.txt: 404 Client Error: Not Found for url: https://nangaritza.gob.ec/0x.txt\n",
            "Failed to download page from http://nangaritza.gob.ec/0x.txt\n",
            "Downloading page http://ulipurmunicipality.gov.bd/back...\n"
          ]
        },
        {
          "output_type": "stream",
          "name": "stderr",
          "text": [
            "/usr/local/lib/python3.10/dist-packages/urllib3/connectionpool.py:1099: InsecureRequestWarning: Unverified HTTPS request is being made to host 'ulipurmunicipality.gov.bd'. Adding certificate verification is strongly advised. See: https://urllib3.readthedocs.io/en/latest/advanced-usage.html#tls-warnings\n",
            "  warnings.warn(\n"
          ]
        },
        {
          "output_type": "stream",
          "name": "stdout",
          "text": [
            "Error when dowwloading page http://ulipurmunicipality.gov.bd/back: 404 Client Error: Not Found for url: https://ulipurmunicipality.gov.bd/back\n",
            "Failed to download page from http://ulipurmunicipality.gov.bd/back\n",
            "Downloading page http://nabiganjpaurashava.gov.bd/back...\n"
          ]
        },
        {
          "output_type": "stream",
          "name": "stderr",
          "text": [
            "/usr/local/lib/python3.10/dist-packages/urllib3/connectionpool.py:1099: InsecureRequestWarning: Unverified HTTPS request is being made to host 'nabiganjpaurashava.gov.bd'. Adding certificate verification is strongly advised. See: https://urllib3.readthedocs.io/en/latest/advanced-usage.html#tls-warnings\n",
            "  warnings.warn(\n"
          ]
        },
        {
          "output_type": "stream",
          "name": "stdout",
          "text": [
            "Error when dowwloading page http://nabiganjpaurashava.gov.bd/back: 404 Client Error: Not Found for url: https://nabiganjpaurashava.gov.bd/back\n",
            "Failed to download page from http://nabiganjpaurashava.gov.bd/back\n",
            "Downloading page http://neta.gov.et...\n"
          ]
        },
        {
          "output_type": "stream",
          "name": "stderr",
          "text": [
            "/usr/local/lib/python3.10/dist-packages/urllib3/connectionpool.py:1099: InsecureRequestWarning: Unverified HTTPS request is being made to host 'neta.gov.et'. Adding certificate verification is strongly advised. See: https://urllib3.readthedocs.io/en/latest/advanced-usage.html#tls-warnings\n",
            "  warnings.warn(\n"
          ]
        },
        {
          "output_type": "stream",
          "name": "stdout",
          "text": [
            "Text saved to output/deface/neta.gov.et.txt\n",
            "Downloading page http://traditions.go.ug/87.txt...\n",
            "Error when dowwloading page http://traditions.go.ug/87.txt: ('Connection aborted.', RemoteDisconnected('Remote end closed connection without response'))\n",
            "Failed to download page from http://traditions.go.ug/87.txt\n",
            "Downloading page http://cms.kntc.go.ke/2.txt...\n"
          ]
        },
        {
          "output_type": "stream",
          "name": "stderr",
          "text": [
            "/usr/local/lib/python3.10/dist-packages/urllib3/connectionpool.py:1099: InsecureRequestWarning: Unverified HTTPS request is being made to host 'cms.kntc.go.ke'. Adding certificate verification is strongly advised. See: https://urllib3.readthedocs.io/en/latest/advanced-usage.html#tls-warnings\n",
            "  warnings.warn(\n"
          ]
        },
        {
          "output_type": "stream",
          "name": "stdout",
          "text": [
            "Text saved to output/deface/cms.kntc.go.ke_2.txt.txt\n",
            "Downloading page http://ifmis.kntc.go.ke/2.txt...\n",
            "Text saved to output/deface/ifmis.kntc.go.ke_2.txt.txt\n",
            "Downloading page http://muhoronisugar.kntc.go.ke/2.txt...\n",
            "Text saved to output/deface/muhoronisugar.kntc.go.ke_2.txt.txt\n",
            "Downloading page http://kntc.go.ke/2.txt...\n"
          ]
        },
        {
          "output_type": "stream",
          "name": "stderr",
          "text": [
            "/usr/local/lib/python3.10/dist-packages/urllib3/connectionpool.py:1099: InsecureRequestWarning: Unverified HTTPS request is being made to host 'kntc.go.ke'. Adding certificate verification is strongly advised. See: https://urllib3.readthedocs.io/en/latest/advanced-usage.html#tls-warnings\n",
            "  warnings.warn(\n"
          ]
        },
        {
          "output_type": "stream",
          "name": "stdout",
          "text": [
            "Text saved to output/deface/kntc.go.ke_2.txt.txt\n",
            "Downloading page http://malukubaratdayakab.go.id/zs.txt...\n",
            "Error when dowwloading page http://malukubaratdayakab.go.id/zs.txt: 404 Client Error: Not Found for url: https://malukubaratdayakab.go.id/zs.txt\n",
            "Failed to download page from http://malukubaratdayakab.go.id/zs.txt\n",
            "Downloading page http://antimonopolio.gob.ve/87.txt...\n"
          ]
        },
        {
          "output_type": "stream",
          "name": "stderr",
          "text": [
            "/usr/local/lib/python3.10/dist-packages/urllib3/connectionpool.py:1099: InsecureRequestWarning: Unverified HTTPS request is being made to host 'malukubaratdayakab.go.id'. Adding certificate verification is strongly advised. See: https://urllib3.readthedocs.io/en/latest/advanced-usage.html#tls-warnings\n",
            "  warnings.warn(\n"
          ]
        },
        {
          "output_type": "stream",
          "name": "stdout",
          "text": [
            "Error when dowwloading page http://antimonopolio.gob.ve/87.txt: 404 Client Error: Not Found for url: http://antimonopolio.gob.ve/87.txt\n",
            "Failed to download page from http://antimonopolio.gob.ve/87.txt\n",
            "Downloading page http://www.biblioteca.comune.carignan...\n",
            "Error when dowwloading page http://www.biblioteca.comune.carignan: HTTPConnectionPool(host='www.biblioteca.comune.carignan', port=80): Max retries exceeded with url: / (Caused by NameResolutionError(\"<urllib3.connection.HTTPConnection object at 0x7e14869d41f0>: Failed to resolve 'www.biblioteca.comune.carignan' ([Errno -2] Name or service not known)\"))\n",
            "Failed to download page from http://www.biblioteca.comune.carignan\n",
            "Downloading page http://totem.comune.sangermanochisone...\n",
            "Error when dowwloading page http://totem.comune.sangermanochisone: HTTPConnectionPool(host='totem.comune.sangermanochisone', port=80): Max retries exceeded with url: / (Caused by NameResolutionError(\"<urllib3.connection.HTTPConnection object at 0x7e14869d4580>: Failed to resolve 'totem.comune.sangermanochisone' ([Errno -2] Name or service not known)\"))\n",
            "Failed to download page from http://totem.comune.sangermanochisone\n",
            "Downloading page http://totem.comune.roure.to.it/alba.txt...\n",
            "Error when dowwloading page http://totem.comune.roure.to.it/alba.txt: 404 Client Error: Not Found for url: http://totem.comune.roure.to.it/alba.txt\n",
            "Failed to download page from http://totem.comune.roure.to.it/alba.txt\n",
            "Downloading page http://totem.comune.pinasca.to.it/alb...\n"
          ]
        },
        {
          "output_type": "stream",
          "name": "stderr",
          "text": [
            "/usr/local/lib/python3.10/dist-packages/urllib3/connectionpool.py:1099: InsecureRequestWarning: Unverified HTTPS request is being made to host 'totem.comune.pinasca.to.it'. Adding certificate verification is strongly advised. See: https://urllib3.readthedocs.io/en/latest/advanced-usage.html#tls-warnings\n",
            "  warnings.warn(\n"
          ]
        },
        {
          "output_type": "stream",
          "name": "stdout",
          "text": [
            "Error when dowwloading page http://totem.comune.pinasca.to.it/alb: 404 Client Error: Not Found for url: https://totem.comune.pinasca.to.it/alb\n",
            "Failed to download page from http://totem.comune.pinasca.to.it/alb\n",
            "Downloading page http://totem.comune.cumiana.to.it/alb...\n"
          ]
        },
        {
          "output_type": "stream",
          "name": "stderr",
          "text": [
            "/usr/local/lib/python3.10/dist-packages/urllib3/connectionpool.py:1099: InsecureRequestWarning: Unverified HTTPS request is being made to host 'totem.comune.cumiana.to.it'. Adding certificate verification is strongly advised. See: https://urllib3.readthedocs.io/en/latest/advanced-usage.html#tls-warnings\n",
            "  warnings.warn(\n"
          ]
        },
        {
          "output_type": "stream",
          "name": "stdout",
          "text": [
            "Error when dowwloading page http://totem.comune.cumiana.to.it/alb: 404 Client Error: Not Found for url: https://totem.comune.cumiana.to.it/alb\n",
            "Failed to download page from http://totem.comune.cumiana.to.it/alb\n",
            "Downloading page http://totem.comune.inversopinasca.to...\n",
            "Error when dowwloading page http://totem.comune.inversopinasca.to: HTTPConnectionPool(host='totem.comune.inversopinasca.to', port=80): Max retries exceeded with url: / (Caused by NameResolutionError(\"<urllib3.connection.HTTPConnection object at 0x7e14869d65f0>: Failed to resolve 'totem.comune.inversopinasca.to' ([Errno -2] Name or service not known)\"))\n",
            "Failed to download page from http://totem.comune.inversopinasca.to\n",
            "Downloading page http://totem.comune.carignano.to.it/a...\n",
            "Error when dowwloading page http://totem.comune.carignano.to.it/a: 404 Client Error: Not Found for url: http://totem.comune.carignano.to.it/a\n",
            "Failed to download page from http://totem.comune.carignano.to.it/a\n",
            "Downloading page http://totem.comune.barbaresco.cn.it/...\n",
            "Text saved to output/deface/totem.comune.barbaresco.cn.it_.txt\n",
            "Downloading page http://www.comune.siapiccia.or.it/alb...\n",
            "Text saved to output/deface/www.comune.siapiccia.or.it_alb.txt\n",
            "Downloading page http://www.comune.sanbartolomeoalmare...\n",
            "Error when dowwloading page http://www.comune.sanbartolomeoalmare: HTTPConnectionPool(host='www.comune.sanbartolomeoalmare', port=80): Max retries exceeded with url: / (Caused by NameResolutionError(\"<urllib3.connection.HTTPConnection object at 0x7e1484f7cbb0>: Failed to resolve 'www.comune.sanbartolomeoalmare' ([Errno -2] Name or service not known)\"))\n",
            "Failed to download page from http://www.comune.sanbartolomeoalmare\n",
            "Downloading page http://comune.peveragno.cn.it/alba.txt...\n"
          ]
        },
        {
          "output_type": "stream",
          "name": "stderr",
          "text": [
            "/usr/local/lib/python3.10/dist-packages/urllib3/connectionpool.py:1099: InsecureRequestWarning: Unverified HTTPS request is being made to host 'comune.peveragno.cn.it'. Adding certificate verification is strongly advised. See: https://urllib3.readthedocs.io/en/latest/advanced-usage.html#tls-warnings\n",
            "  warnings.warn(\n"
          ]
        },
        {
          "output_type": "stream",
          "name": "stdout",
          "text": [
            "Error when dowwloading page http://comune.peveragno.cn.it/alba.txt: 404 Client Error: Not Found for url: https://comune.peveragno.cn.it/alba.txt\n",
            "Failed to download page from http://comune.peveragno.cn.it/alba.txt\n",
            "Downloading page http://www.comune.morozzo.cn.it/alba.txt...\n"
          ]
        },
        {
          "output_type": "stream",
          "name": "stderr",
          "text": [
            "/usr/local/lib/python3.10/dist-packages/urllib3/connectionpool.py:1099: InsecureRequestWarning: Unverified HTTPS request is being made to host 'www.comune.morozzo.cn.it'. Adding certificate verification is strongly advised. See: https://urllib3.readthedocs.io/en/latest/advanced-usage.html#tls-warnings\n",
            "  warnings.warn(\n"
          ]
        },
        {
          "output_type": "stream",
          "name": "stdout",
          "text": [
            "Error when dowwloading page http://www.comune.morozzo.cn.it/alba.txt: 404 Client Error: Not Found for url: https://www.comune.morozzo.cn.it/alba.txt\n",
            "Failed to download page from http://www.comune.morozzo.cn.it/alba.txt\n",
            "Downloading page http://turismo.comune.benevagienna.cn...\n",
            "Error when dowwloading page http://turismo.comune.benevagienna.cn: HTTPConnectionPool(host='turismo.comune.benevagienna.cn', port=80): Max retries exceeded with url: / (Caused by NameResolutionError(\"<urllib3.connection.HTTPConnection object at 0x7e1484f7c100>: Failed to resolve 'turismo.comune.benevagienna.cn' ([Errno -2] Name or service not known)\"))\n",
            "Failed to download page from http://turismo.comune.benevagienna.cn\n",
            "Downloading page http://www.munilayo.gob.pe/87.txt...\n",
            "Error when dowwloading page http://www.munilayo.gob.pe/87.txt: HTTPConnectionPool(host='www.munilayo.gob.pe', port=80): Max retries exceeded with url: /87.txt (Caused by NameResolutionError(\"<urllib3.connection.HTTPConnection object at 0x7e1484f7df00>: Failed to resolve 'www.munilayo.gob.pe' ([Errno -2] Name or service not known)\"))\n",
            "Failed to download page from http://www.munilayo.gob.pe/87.txt\n",
            "Downloading page http://itapuapoty.gov.py...\n",
            "Text saved to output/deface/itapuapoty.gov.py.txt\n",
            "Downloading page http://comune.vottignasco.cn.it/alba.txt...\n"
          ]
        },
        {
          "output_type": "stream",
          "name": "stderr",
          "text": [
            "/usr/local/lib/python3.10/dist-packages/urllib3/connectionpool.py:1099: InsecureRequestWarning: Unverified HTTPS request is being made to host 'www.comune.vottignasco.cn.it'. Adding certificate verification is strongly advised. See: https://urllib3.readthedocs.io/en/latest/advanced-usage.html#tls-warnings\n",
            "  warnings.warn(\n"
          ]
        },
        {
          "output_type": "stream",
          "name": "stdout",
          "text": [
            "Error when dowwloading page http://comune.vottignasco.cn.it/alba.txt: 404 Client Error: Not Found for url: https://www.comune.vottignasco.cn.it/alba.txt\n",
            "Failed to download page from http://comune.vottignasco.cn.it/alba.txt\n",
            "Downloading page http://comune.villafalletto.cn.it/alb...\n"
          ]
        },
        {
          "output_type": "stream",
          "name": "stderr",
          "text": [
            "/usr/local/lib/python3.10/dist-packages/urllib3/connectionpool.py:1099: InsecureRequestWarning: Unverified HTTPS request is being made to host 'comune.villafalletto.cn.it'. Adding certificate verification is strongly advised. See: https://urllib3.readthedocs.io/en/latest/advanced-usage.html#tls-warnings\n",
            "  warnings.warn(\n"
          ]
        },
        {
          "output_type": "stream",
          "name": "stdout",
          "text": [
            "Text saved to output/deface/comune.villafalletto.cn.it_alb.txt\n",
            "Downloading page http://www.comune.scalenghe.to.it/alb...\n"
          ]
        },
        {
          "output_type": "stream",
          "name": "stderr",
          "text": [
            "/usr/local/lib/python3.10/dist-packages/urllib3/connectionpool.py:1099: InsecureRequestWarning: Unverified HTTPS request is being made to host 'www.comune.scalenghe.to.it'. Adding certificate verification is strongly advised. See: https://urllib3.readthedocs.io/en/latest/advanced-usage.html#tls-warnings\n",
            "  warnings.warn(\n"
          ]
        },
        {
          "output_type": "stream",
          "name": "stdout",
          "text": [
            "Error when dowwloading page http://www.comune.scalenghe.to.it/alb: 404 Client Error: Not Found for url: https://www.comune.scalenghe.to.it/alb\n",
            "Failed to download page from http://www.comune.scalenghe.to.it/alb\n",
            "Downloading page http://www.comune.vicoforte.cn.it/alb...\n"
          ]
        },
        {
          "output_type": "stream",
          "name": "stderr",
          "text": [
            "/usr/local/lib/python3.10/dist-packages/urllib3/connectionpool.py:1099: InsecureRequestWarning: Unverified HTTPS request is being made to host 'www.comune.vicoforte.cn.it'. Adding certificate verification is strongly advised. See: https://urllib3.readthedocs.io/en/latest/advanced-usage.html#tls-warnings\n",
            "  warnings.warn(\n"
          ]
        },
        {
          "output_type": "stream",
          "name": "stdout",
          "text": [
            "Text saved to output/deface/www.comune.vicoforte.cn.it_alb.txt\n",
            "Downloading page http://comune.torresangiorgio.cn.it/a...\n"
          ]
        },
        {
          "output_type": "stream",
          "name": "stderr",
          "text": [
            "/usr/local/lib/python3.10/dist-packages/urllib3/connectionpool.py:1099: InsecureRequestWarning: Unverified HTTPS request is being made to host 'comune.torresangiorgio.cn.it'. Adding certificate verification is strongly advised. See: https://urllib3.readthedocs.io/en/latest/advanced-usage.html#tls-warnings\n",
            "  warnings.warn(\n"
          ]
        },
        {
          "output_type": "stream",
          "name": "stdout",
          "text": [
            "Error when dowwloading page http://comune.torresangiorgio.cn.it/a: 404 Client Error: Not Found for url: https://comune.torresangiorgio.cn.it/a\n",
            "Failed to download page from http://comune.torresangiorgio.cn.it/a\n",
            "Downloading page http://comune.villanova-mondovi.cn.it...\n"
          ]
        },
        {
          "output_type": "stream",
          "name": "stderr",
          "text": [
            "/usr/local/lib/python3.10/dist-packages/urllib3/connectionpool.py:1099: InsecureRequestWarning: Unverified HTTPS request is being made to host 'comune.villanova-mondovi.cn.it'. Adding certificate verification is strongly advised. See: https://urllib3.readthedocs.io/en/latest/advanced-usage.html#tls-warnings\n",
            "  warnings.warn(\n"
          ]
        },
        {
          "output_type": "stream",
          "name": "stdout",
          "text": [
            "Text saved to output/deface/comune.villanova-mondovi.cn.it.txt\n",
            "Downloading page http://comune.piasco.cn.it/alba.txt...\n"
          ]
        },
        {
          "output_type": "stream",
          "name": "stderr",
          "text": [
            "/usr/local/lib/python3.10/dist-packages/urllib3/connectionpool.py:1099: InsecureRequestWarning: Unverified HTTPS request is being made to host 'comune.piasco.cn.it'. Adding certificate verification is strongly advised. See: https://urllib3.readthedocs.io/en/latest/advanced-usage.html#tls-warnings\n",
            "  warnings.warn(\n"
          ]
        },
        {
          "output_type": "stream",
          "name": "stdout",
          "text": [
            "Text saved to output/deface/comune.piasco.cn.it_alba.txt.txt\n",
            "Downloading page http://www.comune.roccavione.cn.it/al...\n"
          ]
        },
        {
          "output_type": "stream",
          "name": "stderr",
          "text": [
            "/usr/local/lib/python3.10/dist-packages/urllib3/connectionpool.py:1099: InsecureRequestWarning: Unverified HTTPS request is being made to host 'www.comune.roccavione.cn.it'. Adding certificate verification is strongly advised. See: https://urllib3.readthedocs.io/en/latest/advanced-usage.html#tls-warnings\n",
            "  warnings.warn(\n"
          ]
        },
        {
          "output_type": "stream",
          "name": "stdout",
          "text": [
            "Error when dowwloading page http://www.comune.roccavione.cn.it/al: 404 Client Error: Not Found for url: https://www.comune.roccavione.cn.it/al\n",
            "Failed to download page from http://www.comune.roccavione.cn.it/al\n",
            "Downloading page http://comune.barbaresco.cn.it/alba.txt...\n"
          ]
        },
        {
          "output_type": "stream",
          "name": "stderr",
          "text": [
            "/usr/local/lib/python3.10/dist-packages/urllib3/connectionpool.py:1099: InsecureRequestWarning: Unverified HTTPS request is being made to host 'comune.barbaresco.cn.it'. Adding certificate verification is strongly advised. See: https://urllib3.readthedocs.io/en/latest/advanced-usage.html#tls-warnings\n",
            "  warnings.warn(\n"
          ]
        },
        {
          "output_type": "stream",
          "name": "stdout",
          "text": [
            "Error when dowwloading page http://comune.barbaresco.cn.it/alba.txt: 404 Client Error: Not Found for url: https://comune.barbaresco.cn.it/alba.txt\n",
            "Failed to download page from http://comune.barbaresco.cn.it/alba.txt\n",
            "Downloading page http://comune.inversopinasca.to.it/al...\n"
          ]
        },
        {
          "output_type": "stream",
          "name": "stderr",
          "text": [
            "/usr/local/lib/python3.10/dist-packages/urllib3/connectionpool.py:1099: InsecureRequestWarning: Unverified HTTPS request is being made to host 'comune.inversopinasca.to.it'. Adding certificate verification is strongly advised. See: https://urllib3.readthedocs.io/en/latest/advanced-usage.html#tls-warnings\n",
            "  warnings.warn(\n"
          ]
        },
        {
          "output_type": "stream",
          "name": "stdout",
          "text": [
            "Error when dowwloading page http://comune.inversopinasca.to.it/al: 404 Client Error: Not Found for url: https://comune.inversopinasca.to.it/al\n",
            "Failed to download page from http://comune.inversopinasca.to.it/al\n",
            "Downloading page http://www.comune.paesana.cn.it/alba.txt...\n"
          ]
        },
        {
          "output_type": "stream",
          "name": "stderr",
          "text": [
            "/usr/local/lib/python3.10/dist-packages/urllib3/connectionpool.py:1099: InsecureRequestWarning: Unverified HTTPS request is being made to host 'www.comune.paesana.cn.it'. Adding certificate verification is strongly advised. See: https://urllib3.readthedocs.io/en/latest/advanced-usage.html#tls-warnings\n",
            "  warnings.warn(\n"
          ]
        },
        {
          "output_type": "stream",
          "name": "stdout",
          "text": [
            "Error when dowwloading page http://www.comune.paesana.cn.it/alba.txt: 404 Client Error: Not Found for url: https://www.comune.paesana.cn.it/alba.txt\n",
            "Failed to download page from http://www.comune.paesana.cn.it/alba.txt\n",
            "Downloading page http://comune.cavallermaggiore.cn.it/...\n"
          ]
        },
        {
          "output_type": "stream",
          "name": "stderr",
          "text": [
            "/usr/local/lib/python3.10/dist-packages/urllib3/connectionpool.py:1099: InsecureRequestWarning: Unverified HTTPS request is being made to host 'comune.cavallermaggiore.cn.it'. Adding certificate verification is strongly advised. See: https://urllib3.readthedocs.io/en/latest/advanced-usage.html#tls-warnings\n",
            "  warnings.warn(\n"
          ]
        },
        {
          "output_type": "stream",
          "name": "stdout",
          "text": [
            "Text saved to output/deface/comune.cavallermaggiore.cn.it_.txt\n",
            "Downloading page http://www.comune.occhieppo-inferiore...\n",
            "Error when dowwloading page http://www.comune.occhieppo-inferiore: HTTPConnectionPool(host='www.comune.occhieppo-inferiore', port=80): Max retries exceeded with url: / (Caused by NameResolutionError(\"<urllib3.connection.HTTPConnection object at 0x7e1484255900>: Failed to resolve 'www.comune.occhieppo-inferiore' ([Errno -2] Name or service not known)\"))\n",
            "Failed to download page from http://www.comune.occhieppo-inferiore\n",
            "Downloading page http://www.comune.castellar.cn.it/alb...\n",
            "Text saved to output/deface/www.comune.castellar.cn.it_alb.txt\n",
            "Downloading page http://www.comune.pagno.cn.it/alba.txt...\n"
          ]
        },
        {
          "output_type": "stream",
          "name": "stderr",
          "text": [
            "/usr/local/lib/python3.10/dist-packages/urllib3/connectionpool.py:1099: InsecureRequestWarning: Unverified HTTPS request is being made to host 'www.comune.pagno.cn.it'. Adding certificate verification is strongly advised. See: https://urllib3.readthedocs.io/en/latest/advanced-usage.html#tls-warnings\n",
            "  warnings.warn(\n"
          ]
        },
        {
          "output_type": "stream",
          "name": "stdout",
          "text": [
            "Text saved to output/deface/www.comune.pagno.cn.it_alba.txt.txt\n",
            "Downloading page http://municipalidad.gualeguay.gob.ar...\n"
          ]
        },
        {
          "output_type": "stream",
          "name": "stderr",
          "text": [
            "/usr/local/lib/python3.10/dist-packages/urllib3/connectionpool.py:1099: InsecureRequestWarning: Unverified HTTPS request is being made to host 'municipalidad.gualeguay.gob.ar'. Adding certificate verification is strongly advised. See: https://urllib3.readthedocs.io/en/latest/advanced-usage.html#tls-warnings\n",
            "  warnings.warn(\n"
          ]
        },
        {
          "output_type": "stream",
          "name": "stdout",
          "text": [
            "Text saved to output/deface/municipalidad.gualeguay.gob.ar.txt\n",
            "Downloading page http://fmckeffi.gov.ng...\n",
            "Error when dowwloading page http://fmckeffi.gov.ng: ('Connection aborted.', RemoteDisconnected('Remote end closed connection without response'))\n",
            "Failed to download page from http://fmckeffi.gov.ng\n",
            "Downloading page http://elcomunicador.scspr.gob.gt...\n",
            "Error when dowwloading page http://elcomunicador.scspr.gob.gt: 403 Client Error: Forbidden for url: http://elcomunicador.scspr.gob.gt/\n",
            "Failed to download page from http://elcomunicador.scspr.gob.gt\n",
            "Downloading page http://qr.scspr.gob.gt...\n",
            "Error when dowwloading page http://qr.scspr.gob.gt: 403 Client Error: Forbidden for url: http://qr.scspr.gob.gt/\n",
            "Failed to download page from http://qr.scspr.gob.gt\n",
            "Downloading page http://serviciosgenerales.scspr.gob.gt...\n",
            "Text saved to output/deface/serviciosgenerales.scspr.gob.gt.txt\n",
            "Downloading page http://tlacojalpan.gob.mx/back.txt...\n"
          ]
        },
        {
          "output_type": "stream",
          "name": "stderr",
          "text": [
            "/usr/local/lib/python3.10/dist-packages/urllib3/connectionpool.py:1099: InsecureRequestWarning: Unverified HTTPS request is being made to host 'tlacojalpan.gob.mx'. Adding certificate verification is strongly advised. See: https://urllib3.readthedocs.io/en/latest/advanced-usage.html#tls-warnings\n",
            "  warnings.warn(\n"
          ]
        },
        {
          "output_type": "stream",
          "name": "stdout",
          "text": [
            "Error when dowwloading page http://tlacojalpan.gob.mx/back.txt: 404 Client Error: Not Found for url: https://tlacojalpan.gob.mx/back.txt\n",
            "Failed to download page from http://tlacojalpan.gob.mx/back.txt\n",
            "Downloading page http://confluencias.go.cr/tigan.html...\n",
            "Error when dowwloading page http://confluencias.go.cr/tigan.html: 403 Client Error: Forbidden for url: http://confluencias.go.cr/tigan.html\n",
            "Failed to download page from http://confluencias.go.cr/tigan.html\n",
            "Downloading page http://cgb.gov.co/0x.txt...\n",
            "Error when dowwloading page http://cgb.gov.co/0x.txt: 404 Client Error: Not Found for url: http://cgb.gov.co/0x.txt\n",
            "Failed to download page from http://cgb.gov.co/0x.txt\n",
            "Downloading page http://nsrmea.gov.ng/0x.txt...\n"
          ]
        },
        {
          "output_type": "stream",
          "name": "stderr",
          "text": [
            "/usr/local/lib/python3.10/dist-packages/urllib3/connectionpool.py:1099: InsecureRequestWarning: Unverified HTTPS request is being made to host 'nsrmea.gov.ng'. Adding certificate verification is strongly advised. See: https://urllib3.readthedocs.io/en/latest/advanced-usage.html#tls-warnings\n",
            "  warnings.warn(\n"
          ]
        },
        {
          "output_type": "stream",
          "name": "stdout",
          "text": [
            "Text saved to output/deface/nsrmea.gov.ng_0x.txt.txt\n",
            "Downloading page http://feriacervecera.gualeguay.gob.a...\n",
            "Error when dowwloading page http://feriacervecera.gualeguay.gob.a: HTTPConnectionPool(host='feriacervecera.gualeguay.gob.a', port=80): Max retries exceeded with url: / (Caused by NameResolutionError(\"<urllib3.connection.HTTPConnection object at 0x7e14838d7e20>: Failed to resolve 'feriacervecera.gualeguay.gob.a' ([Errno -2] Name or service not known)\"))\n",
            "Failed to download page from http://feriacervecera.gualeguay.gob.a\n",
            "Downloading page http://corso.gualeguay.gob.ar/index.html...\n",
            "Error when dowwloading page http://corso.gualeguay.gob.ar/index.html: 404 Client Error: Not Found for url: http://corso.gualeguay.gob.ar/index.html\n",
            "Failed to download page from http://corso.gualeguay.gob.ar/index.html\n",
            "Downloading page http://concejo.gualeguay.gob.ar/index...\n",
            "Error when dowwloading page http://concejo.gualeguay.gob.ar/index: 404 Client Error: Not Found for url: http://concejo.gualeguay.gob.ar/index\n",
            "Failed to download page from http://concejo.gualeguay.gob.ar/index\n",
            "Downloading page http://beta.gualeguay.gob.ar/index.html...\n",
            "Error when dowwloading page http://beta.gualeguay.gob.ar/index.html: 404 Client Error: Not Found for url: http://beta.gualeguay.gob.ar/index.html\n",
            "Failed to download page from http://beta.gualeguay.gob.ar/index.html\n",
            "Downloading page http://alpha.gualeguay.gob.ar/index.html...\n",
            "Error when dowwloading page http://alpha.gualeguay.gob.ar/index.html: 404 Client Error: Not Found for url: http://alpha.gualeguay.gob.ar/index.html\n",
            "Failed to download page from http://alpha.gualeguay.gob.ar/index.html\n",
            "Downloading page http://gualeguay.gob.ar/index.html...\n"
          ]
        },
        {
          "output_type": "stream",
          "name": "stderr",
          "text": [
            "/usr/local/lib/python3.10/dist-packages/urllib3/connectionpool.py:1099: InsecureRequestWarning: Unverified HTTPS request is being made to host 'municipalidad.gualeguay.gob.ar'. Adding certificate verification is strongly advised. See: https://urllib3.readthedocs.io/en/latest/advanced-usage.html#tls-warnings\n",
            "  warnings.warn(\n"
          ]
        },
        {
          "output_type": "stream",
          "name": "stdout",
          "text": [
            "No valid text from http://gualeguay.gob.ar/index.html\n",
            "Downloading page http://defensorsantiago.gob.ar/0x.txt...\n",
            "Error when dowwloading page http://defensorsantiago.gob.ar/0x.txt: 404 Client Error: Not Found for url: http://defensorsantiago.gob.ar/0x.txt\n",
            "Failed to download page from http://defensorsantiago.gob.ar/0x.txt\n",
            "Downloading page http://www.banmaeka.go.th...\n",
            "Error when dowwloading page http://www.banmaeka.go.th: 403 Client Error: Forbidden for url: http://www.banmaeka.go.th/\n",
            "Failed to download page from http://www.banmaeka.go.th\n",
            "Downloading page http://thepnimit-kpp.go.th/index.php...\n",
            "Text saved to output/deface/thepnimit-kpp.go.th_index.php.txt\n",
            "Downloading page http://psweps.gov.gh/0x.txt...\n",
            "Text saved to output/deface/psweps.gov.gh_0x.txt.txt\n",
            "Downloading page http://phomakkhaeng.go.th...\n"
          ]
        },
        {
          "output_type": "stream",
          "name": "stderr",
          "text": [
            "/usr/local/lib/python3.10/dist-packages/urllib3/connectionpool.py:1099: InsecureRequestWarning: Unverified HTTPS request is being made to host 'phomakkhaeng.go.th'. Adding certificate verification is strongly advised. See: https://urllib3.readthedocs.io/en/latest/advanced-usage.html#tls-warnings\n",
            "  warnings.warn(\n"
          ]
        },
        {
          "output_type": "stream",
          "name": "stdout",
          "text": [
            "Text saved to output/deface/phomakkhaeng.go.th.txt\n",
            "Downloading page http://archivonacional.gob.pa...\n",
            "Error when dowwloading page http://archivonacional.gob.pa: HTTPConnectionPool(host='archivonacional.gob.pa', port=80): Max retries exceeded with url: / (Caused by ConnectTimeoutError(<urllib3.connection.HTTPConnection object at 0x7e1484606440>, 'Connection to archivonacional.gob.pa timed out. (connect timeout=10)'))\n",
            "Failed to download page from http://archivonacional.gob.pa\n",
            "Downloading page http://loterianacional.gob.do...\n"
          ]
        },
        {
          "output_type": "stream",
          "name": "stderr",
          "text": [
            "/usr/local/lib/python3.10/dist-packages/urllib3/connectionpool.py:1099: InsecureRequestWarning: Unverified HTTPS request is being made to host 'loterianacional.gob.do'. Adding certificate verification is strongly advised. See: https://urllib3.readthedocs.io/en/latest/advanced-usage.html#tls-warnings\n",
            "  warnings.warn(\n"
          ]
        },
        {
          "output_type": "stream",
          "name": "stdout",
          "text": [
            "Error when dowwloading page http://loterianacional.gob.do: 406 Client Error: Not Acceptable for url: https://loterianacional.gob.do/\n",
            "Failed to download page from http://loterianacional.gob.do\n",
            "Downloading page http://ict.foreign.gov.ly...\n",
            "Error when dowwloading page http://ict.foreign.gov.ly: HTTPConnectionPool(host='ict.foreign.gov.ly', port=80): Max retries exceeded with url: / (Caused by NameResolutionError(\"<urllib3.connection.HTTPConnection object at 0x7e1484605c30>: Failed to resolve 'ict.foreign.gov.ly' ([Errno -2] Name or service not known)\"))\n",
            "Failed to download page from http://ict.foreign.gov.ly\n",
            "Downloading page http://www.email.lmac.gov.ly...\n",
            "Error when dowwloading page http://www.email.lmac.gov.ly: HTTPConnectionPool(host='www.email.lmac.gov.ly', port=80): Max retries exceeded with url: / (Caused by NameResolutionError(\"<urllib3.connection.HTTPConnection object at 0x7e1484605750>: Failed to resolve 'www.email.lmac.gov.ly' ([Errno -2] Name or service not known)\"))\n",
            "Failed to download page from http://www.email.lmac.gov.ly\n",
            "Downloading page http://cccl4.gov.ly/pages/commite_rq...\n",
            "Error when dowwloading page http://cccl4.gov.ly/pages/commite_rq: HTTPConnectionPool(host='cccl4.gov.ly', port=80): Max retries exceeded with url: /pages/commite_rq (Caused by NameResolutionError(\"<urllib3.connection.HTTPConnection object at 0x7e1484604b20>: Failed to resolve 'cccl4.gov.ly' ([Errno -2] Name or service not known)\"))\n",
            "Failed to download page from http://cccl4.gov.ly/pages/commite_rq\n",
            "Downloading page http://www.ardo.gov.ly/phpstuff/?page...\n",
            "Error when dowwloading page http://www.ardo.gov.ly/phpstuff/?page: 404 Client Error: Not Found for url: http://ardo.gov.ly/phpstuff/?page\n",
            "Failed to download page from http://www.ardo.gov.ly/phpstuff/?page\n",
            "Downloading page http://ict.foreign.gov.ly...\n",
            "Error when dowwloading page http://ict.foreign.gov.ly: HTTPConnectionPool(host='ict.foreign.gov.ly', port=80): Max retries exceeded with url: / (Caused by NameResolutionError(\"<urllib3.connection.HTTPConnection object at 0x7e1484605ae0>: Failed to resolve 'ict.foreign.gov.ly' ([Errno -2] Name or service not known)\"))\n",
            "Failed to download page from http://ict.foreign.gov.ly\n",
            "Downloading page http://hec.gov.sy/e-services/record.html...\n",
            "Error when dowwloading page http://hec.gov.sy/e-services/record.html: HTTPConnectionPool(host='hec.gov.sy', port=80): Max retries exceeded with url: /e-services/record.html (Caused by ConnectTimeoutError(<urllib3.connection.HTTPConnection object at 0x7e1484605240>, 'Connection to hec.gov.sy timed out. (connect timeout=10)'))\n",
            "Failed to download page from http://hec.gov.sy/e-services/record.html\n",
            "Downloading page http://www.acessibilidade.gov.pt/acce...\n"
          ]
        },
        {
          "output_type": "stream",
          "name": "stderr",
          "text": [
            "/usr/local/lib/python3.10/dist-packages/urllib3/connectionpool.py:1099: InsecureRequestWarning: Unverified HTTPS request is being made to host 'www.acessibilidade.gov.pt'. Adding certificate verification is strongly advised. See: https://urllib3.readthedocs.io/en/latest/advanced-usage.html#tls-warnings\n",
            "  warnings.warn(\n"
          ]
        },
        {
          "output_type": "stream",
          "name": "stdout",
          "text": [
            "Error when dowwloading page http://www.acessibilidade.gov.pt/acce: 404 Client Error: Not Found for url: https://www.acessibilidade.gov.pt:443/acce\n",
            "Failed to download page from http://www.acessibilidade.gov.pt/acce\n",
            "Downloading page http://www.sabha.gov.ly...\n",
            "Error when dowwloading page http://www.sabha.gov.ly: HTTPConnectionPool(host='www.sabha.gov.ly', port=80): Max retries exceeded with url: / (Caused by NameResolutionError(\"<urllib3.connection.HTTPConnection object at 0x7e14846048e0>: Failed to resolve 'www.sabha.gov.ly' ([Errno -2] Name or service not known)\"))\n",
            "Failed to download page from http://www.sabha.gov.ly\n",
            "Downloading page http://audit.gov.ly/home/...\n"
          ]
        },
        {
          "output_type": "stream",
          "name": "stderr",
          "text": [
            "/usr/local/lib/python3.10/dist-packages/urllib3/connectionpool.py:1099: InsecureRequestWarning: Unverified HTTPS request is being made to host 'audit.gov.ly'. Adding certificate verification is strongly advised. See: https://urllib3.readthedocs.io/en/latest/advanced-usage.html#tls-warnings\n",
            "  warnings.warn(\n"
          ]
        },
        {
          "output_type": "stream",
          "name": "stdout",
          "text": [
            "Error when dowwloading page http://audit.gov.ly/home/: 403 Client Error: Forbidden for url: https://audit.gov.ly/home/\n",
            "Failed to download page from http://audit.gov.ly/home/\n",
            "Downloading page http://tourism.gov.ly/site/...\n"
          ]
        },
        {
          "output_type": "stream",
          "name": "stderr",
          "text": [
            "/usr/local/lib/python3.10/dist-packages/urllib3/connectionpool.py:1099: InsecureRequestWarning: Unverified HTTPS request is being made to host 'tourism.gov.ly'. Adding certificate verification is strongly advised. See: https://urllib3.readthedocs.io/en/latest/advanced-usage.html#tls-warnings\n",
            "  warnings.warn(\n"
          ]
        },
        {
          "output_type": "stream",
          "name": "stdout",
          "text": [
            "Error when dowwloading page http://tourism.gov.ly/site/: 404 Client Error: Not Found for url: https://tourism.gov.ly/site/\n",
            "Failed to download page from http://tourism.gov.ly/site/\n",
            "Downloading page http://libembse.foreign.gov.ly...\n",
            "Error when dowwloading page http://libembse.foreign.gov.ly: HTTPConnectionPool(host='libembse.foreign.gov.ly', port=80): Max retries exceeded with url: / (Caused by NameResolutionError(\"<urllib3.connection.HTTPConnection object at 0x7e14846066e0>: Failed to resolve 'libembse.foreign.gov.ly' ([Errno -2] Name or service not known)\"))\n",
            "Failed to download page from http://libembse.foreign.gov.ly\n",
            "Downloading page http://agajk.gov.pk...\n"
          ]
        },
        {
          "output_type": "stream",
          "name": "stderr",
          "text": [
            "/usr/local/lib/python3.10/dist-packages/urllib3/connectionpool.py:1099: InsecureRequestWarning: Unverified HTTPS request is being made to host 'agajk.gov.pk'. Adding certificate verification is strongly advised. See: https://urllib3.readthedocs.io/en/latest/advanced-usage.html#tls-warnings\n",
            "  warnings.warn(\n"
          ]
        },
        {
          "output_type": "stream",
          "name": "stdout",
          "text": [
            "Error when dowwloading page http://agajk.gov.pk: 403 Client Error: Forbidden for url: https://agajk.gov.pk/\n",
            "Failed to download page from http://agajk.gov.pk\n",
            "Downloading page http://mirzapurpourashava.gov.bd...\n"
          ]
        },
        {
          "output_type": "stream",
          "name": "stderr",
          "text": [
            "/usr/local/lib/python3.10/dist-packages/urllib3/connectionpool.py:1099: InsecureRequestWarning: Unverified HTTPS request is being made to host 'mirzapurpourashava.gov.bd'. Adding certificate verification is strongly advised. See: https://urllib3.readthedocs.io/en/latest/advanced-usage.html#tls-warnings\n",
            "  warnings.warn(\n"
          ]
        },
        {
          "output_type": "stream",
          "name": "stdout",
          "text": [
            "Text saved to output/deface/mirzapurpourashava.gov.bd.txt\n",
            "Downloading page http://concejocuruzucuatia.gob.ar/pro...\n",
            "Error when dowwloading page http://concejocuruzucuatia.gob.ar/pro: 500 Server Error: Internal Server Error for url: http://concejocuruzucuatia.gob.ar/pro\n",
            "Failed to download page from http://concejocuruzucuatia.gob.ar/pro\n",
            "Downloading page http://pusdikkowad.kodiklat-tniad.mil...\n",
            "Error when dowwloading page http://pusdikkowad.kodiklat-tniad.mil: HTTPConnectionPool(host='pusdikkowad.kodiklat-tniad.mil', port=80): Max retries exceeded with url: / (Caused by NameResolutionError(\"<urllib3.connection.HTTPConnection object at 0x7e148406d000>: Failed to resolve 'pusdikkowad.kodiklat-tniad.mil' ([Errno -2] Name or service not known)\"))\n",
            "Failed to download page from http://pusdikkowad.kodiklat-tniad.mil\n",
            "Downloading page http://pn-polewali.go.id/proof.txt...\n",
            "Error when dowwloading page http://pn-polewali.go.id/proof.txt: 404 Client Error: Not Found for url: http://pn-polewali.go.id/proof.txt\n",
            "Failed to download page from http://pn-polewali.go.id/proof.txt\n",
            "Downloading page http://ms-blangpidie.go.id/proof.txt...\n"
          ]
        },
        {
          "output_type": "stream",
          "name": "stderr",
          "text": [
            "/usr/local/lib/python3.10/dist-packages/urllib3/connectionpool.py:1099: InsecureRequestWarning: Unverified HTTPS request is being made to host 'ms-blangpidie.go.id'. Adding certificate verification is strongly advised. See: https://urllib3.readthedocs.io/en/latest/advanced-usage.html#tls-warnings\n",
            "  warnings.warn(\n"
          ]
        },
        {
          "output_type": "stream",
          "name": "stdout",
          "text": [
            "Error when dowwloading page http://ms-blangpidie.go.id/proof.txt: 404 Client Error: Artikel tidak ditemukan for url: https://ms-blangpidie.go.id/proof.txt\n",
            "Failed to download page from http://ms-blangpidie.go.id/proof.txt\n",
            "Downloading page http://bpkad.sultengprov.go.id/proof.txt...\n",
            "Error when dowwloading page http://bpkad.sultengprov.go.id/proof.txt: 404 Client Error: Not Found for url: http://bpkad.sultengprov.go.id/proof.txt\n",
            "Failed to download page from http://bpkad.sultengprov.go.id/proof.txt\n",
            "Downloading page http://meteo.gov.lk/proof.txt...\n"
          ]
        },
        {
          "output_type": "stream",
          "name": "stderr",
          "text": [
            "/usr/local/lib/python3.10/dist-packages/urllib3/connectionpool.py:1099: InsecureRequestWarning: Unverified HTTPS request is being made to host 'meteo.gov.lk'. Adding certificate verification is strongly advised. See: https://urllib3.readthedocs.io/en/latest/advanced-usage.html#tls-warnings\n",
            "  warnings.warn(\n",
            "/usr/local/lib/python3.10/dist-packages/urllib3/connectionpool.py:1099: InsecureRequestWarning: Unverified HTTPS request is being made to host 'meteo.gov.lk'. Adding certificate verification is strongly advised. See: https://urllib3.readthedocs.io/en/latest/advanced-usage.html#tls-warnings\n",
            "  warnings.warn(\n"
          ]
        },
        {
          "output_type": "stream",
          "name": "stdout",
          "text": [
            "Text saved to output/deface/meteo.gov.lk_proof.txt.txt\n",
            "Downloading page http://bcbontang.beacukai.go.id/evil...\n",
            "Error when dowwloading page http://bcbontang.beacukai.go.id/evil: HTTPConnectionPool(host='bcbontang.beacukai.go.id', port=80): Max retries exceeded with url: /evil (Caused by NewConnectionError('<urllib3.connection.HTTPConnection object at 0x7e1483eadb10>: Failed to establish a new connection: [Errno 111] Connection refused'))\n",
            "Failed to download page from http://bcbontang.beacukai.go.id/evil\n",
            "Downloading page http://asistencia.gobernacionnapo.gob...\n",
            "Error when dowwloading page http://asistencia.gobernacionnapo.gob: HTTPConnectionPool(host='asistencia.gobernacionnapo.gob', port=80): Max retries exceeded with url: / (Caused by NameResolutionError(\"<urllib3.connection.HTTPConnection object at 0x7e1483eae2f0>: Failed to resolve 'asistencia.gobernacionnapo.gob' ([Errno -2] Name or service not known)\"))\n",
            "Failed to download page from http://asistencia.gobernacionnapo.gob\n",
            "Downloading page http://attendance.gobernacionnapo.gob...\n",
            "Error when dowwloading page http://attendance.gobernacionnapo.gob: HTTPConnectionPool(host='attendance.gobernacionnapo.gob', port=80): Max retries exceeded with url: / (Caused by NameResolutionError(\"<urllib3.connection.HTTPConnection object at 0x7e1483eaead0>: Failed to resolve 'attendance.gobernacionnapo.gob' ([Errno -2] Name or service not known)\"))\n",
            "Failed to download page from http://attendance.gobernacionnapo.gob\n",
            "Downloading page http://capacitacion.gobernacionnapo.g...\n",
            "Error when dowwloading page http://capacitacion.gobernacionnapo.g: HTTPConnectionPool(host='capacitacion.gobernacionnapo.g', port=80): Max retries exceeded with url: / (Caused by NameResolutionError(\"<urllib3.connection.HTTPConnection object at 0x7e1483eadde0>: Failed to resolve 'capacitacion.gobernacionnapo.g' ([Errno -2] Name or service not known)\"))\n",
            "Failed to download page from http://capacitacion.gobernacionnapo.g\n",
            "Downloading page http://controlflash.gobernacionnapo.g...\n",
            "Error when dowwloading page http://controlflash.gobernacionnapo.g: HTTPConnectionPool(host='controlflash.gobernacionnapo.g', port=80): Max retries exceeded with url: / (Caused by NameResolutionError(\"<urllib3.connection.HTTPConnection object at 0x7e1483ead630>: Failed to resolve 'controlflash.gobernacionnapo.g' ([Errno -2] Name or service not known)\"))\n",
            "Failed to download page from http://controlflash.gobernacionnapo.g\n",
            "Downloading page http://encuestas.gobernacionnapo.gob...\n",
            "Error when dowwloading page http://encuestas.gobernacionnapo.gob: HTTPConnectionPool(host='encuestas.gobernacionnapo.gob', port=80): Max retries exceeded with url: / (Caused by NameResolutionError(\"<urllib3.connection.HTTPConnection object at 0x7e1483eaf2b0>: Failed to resolve 'encuestas.gobernacionnapo.gob' ([Errno -2] Name or service not known)\"))\n",
            "Failed to download page from http://encuestas.gobernacionnapo.gob\n",
            "Downloading page http://pendientes.gobernacionnapo.gob...\n",
            "Error when dowwloading page http://pendientes.gobernacionnapo.gob: HTTPConnectionPool(host='pendientes.gobernacionnapo.gob', port=80): Max retries exceeded with url: / (Caused by NameResolutionError(\"<urllib3.connection.HTTPConnection object at 0x7e1483eafa90>: Failed to resolve 'pendientes.gobernacionnapo.gob' ([Errno -2] Name or service not known)\"))\n",
            "Failed to download page from http://pendientes.gobernacionnapo.gob\n",
            "Downloading page http://permisos.gobernacionnapo.gob.e...\n",
            "Error when dowwloading page http://permisos.gobernacionnapo.gob.e: HTTPConnectionPool(host='permisos.gobernacionnapo.gob.e', port=80): Max retries exceeded with url: / (Caused by NameResolutionError(\"<urllib3.connection.HTTPConnection object at 0x7e1483e442b0>: Failed to resolve 'permisos.gobernacionnapo.gob.e' ([Errno -2] Name or service not known)\"))\n",
            "Failed to download page from http://permisos.gobernacionnapo.gob.e\n",
            "Downloading page http://proyectos.gobernacionnapo.gob...\n",
            "Error when dowwloading page http://proyectos.gobernacionnapo.gob: HTTPConnectionPool(host='proyectos.gobernacionnapo.gob', port=80): Max retries exceeded with url: / (Caused by NameResolutionError(\"<urllib3.connection.HTTPConnection object at 0x7e1483eafcd0>: Failed to resolve 'proyectos.gobernacionnapo.gob' ([Errno -2] Name or service not known)\"))\n",
            "Failed to download page from http://proyectos.gobernacionnapo.gob\n",
            "Downloading page http://prueba.gobernacionnapo.gob.ec/...\n"
          ]
        },
        {
          "output_type": "stream",
          "name": "stderr",
          "text": [
            "/usr/local/lib/python3.10/dist-packages/urllib3/connectionpool.py:1099: InsecureRequestWarning: Unverified HTTPS request is being made to host 'prueba.gobernacionnapo.gob.ec'. Adding certificate verification is strongly advised. See: https://urllib3.readthedocs.io/en/latest/advanced-usage.html#tls-warnings\n",
            "  warnings.warn(\n",
            "/usr/local/lib/python3.10/dist-packages/urllib3/connectionpool.py:1099: InsecureRequestWarning: Unverified HTTPS request is being made to host 'registros.gobernacionnapo.gob.ec'. Adding certificate verification is strongly advised. See: https://urllib3.readthedocs.io/en/latest/advanced-usage.html#tls-warnings\n",
            "  warnings.warn(\n"
          ]
        },
        {
          "output_type": "stream",
          "name": "stdout",
          "text": [
            "Text saved to output/deface/prueba.gobernacionnapo.gob.ec_.txt\n",
            "Downloading page http://registros.gobernacionnapo.gob...\n",
            "Error when dowwloading page http://registros.gobernacionnapo.gob: HTTPConnectionPool(host='registros.gobernacionnapo.gob', port=80): Max retries exceeded with url: / (Caused by NameResolutionError(\"<urllib3.connection.HTTPConnection object at 0x7e1483eafaf0>: Failed to resolve 'registros.gobernacionnapo.gob' ([Errno -2] Name or service not known)\"))\n",
            "Failed to download page from http://registros.gobernacionnapo.gob\n",
            "Downloading page http://soporte.gobernacionnapo.gob.ec...\n"
          ]
        },
        {
          "output_type": "stream",
          "name": "stderr",
          "text": [
            "/usr/local/lib/python3.10/dist-packages/urllib3/connectionpool.py:1099: InsecureRequestWarning: Unverified HTTPS request is being made to host 'soporte.gobernacionnapo.gob.ec'. Adding certificate verification is strongly advised. See: https://urllib3.readthedocs.io/en/latest/advanced-usage.html#tls-warnings\n",
            "  warnings.warn(\n"
          ]
        },
        {
          "output_type": "stream",
          "name": "stdout",
          "text": [
            "Text saved to output/deface/soporte.gobernacionnapo.gob.ec.txt\n",
            "Downloading page http://teletrabajo.gobernacionnapo.go...\n",
            "Error when dowwloading page http://teletrabajo.gobernacionnapo.go: HTTPConnectionPool(host='teletrabajo.gobernacionnapo.go', port=80): Max retries exceeded with url: / (Caused by NameResolutionError(\"<urllib3.connection.HTTPConnection object at 0x7e1483eae170>: Failed to resolve 'teletrabajo.gobernacionnapo.go' ([Errno -2] Name or service not known)\"))\n",
            "Failed to download page from http://teletrabajo.gobernacionnapo.go\n",
            "Downloading page http://spp.swdajk.gov.pk/kurd.html...\n",
            "Error when dowwloading page http://spp.swdajk.gov.pk/kurd.html: 404 Client Error: Not Found for url: http://spp.swdajk.gov.pk/kurd.html\n",
            "Failed to download page from http://spp.swdajk.gov.pk/kurd.html\n",
            "Downloading page http://drr12.drr.go.th/87.txt...\n",
            "Error when dowwloading page http://drr12.drr.go.th/87.txt: HTTPConnectionPool(host='drr12.drr.go.th', port=80): Max retries exceeded with url: /87.txt (Caused by ConnectTimeoutError(<urllib3.connection.HTTPConnection object at 0x7e1483ead8d0>, 'Connection to drr12.drr.go.th timed out. (connect timeout=10)'))\n",
            "Failed to download page from http://drr12.drr.go.th/87.txt\n",
            "Downloading page http://swdajk.gov.pk/kurd.html...\n",
            "Error when dowwloading page http://swdajk.gov.pk/kurd.html: 404 Client Error: Not Found for url: http://swdajk.gov.pk/kurd.html\n",
            "Failed to download page from http://swdajk.gov.pk/kurd.html\n",
            "Downloading page http://gobernacionnapo.gob.ec/kurd.html...\n"
          ]
        },
        {
          "output_type": "stream",
          "name": "stderr",
          "text": [
            "/usr/local/lib/python3.10/dist-packages/urllib3/connectionpool.py:1099: InsecureRequestWarning: Unverified HTTPS request is being made to host 'gobernacionnapo.gob.ec'. Adding certificate verification is strongly advised. See: https://urllib3.readthedocs.io/en/latest/advanced-usage.html#tls-warnings\n",
            "  warnings.warn(\n"
          ]
        },
        {
          "output_type": "stream",
          "name": "stdout",
          "text": [
            "Error when dowwloading page http://gobernacionnapo.gob.ec/kurd.html: 404 Client Error: Not Found for url: https://gobernacionnapo.gob.ec/kurd.html\n",
            "Failed to download page from http://gobernacionnapo.gob.ec/kurd.html\n",
            "Downloading page http://wonosari-tekung.lumajangkab.go.id...\n"
          ]
        },
        {
          "output_type": "stream",
          "name": "stderr",
          "text": [
            "/usr/local/lib/python3.10/dist-packages/urllib3/connectionpool.py:1099: InsecureRequestWarning: Unverified HTTPS request is being made to host 'wonosari-tekung.lumajangkab.go.id'. Adding certificate verification is strongly advised. See: https://urllib3.readthedocs.io/en/latest/advanced-usage.html#tls-warnings\n",
            "  warnings.warn(\n"
          ]
        },
        {
          "output_type": "stream",
          "name": "stdout",
          "text": [
            "Failed to download page from http://wonosari-tekung.lumajangkab.go.id\n",
            "Downloading page http://www.indembassysweden.gov.in...\n"
          ]
        },
        {
          "output_type": "stream",
          "name": "stderr",
          "text": [
            "/usr/local/lib/python3.10/dist-packages/urllib3/connectionpool.py:1099: InsecureRequestWarning: Unverified HTTPS request is being made to host 'www.indembassysweden.gov.in'. Adding certificate verification is strongly advised. See: https://urllib3.readthedocs.io/en/latest/advanced-usage.html#tls-warnings\n",
            "  warnings.warn(\n"
          ]
        },
        {
          "output_type": "stream",
          "name": "stdout",
          "text": [
            "Text saved to output/deface/www.indembassysweden.gov.in.txt\n",
            "Downloading page http://www.indianembassybaku.gov.in...\n"
          ]
        },
        {
          "output_type": "stream",
          "name": "stderr",
          "text": [
            "/usr/local/lib/python3.10/dist-packages/urllib3/connectionpool.py:1099: InsecureRequestWarning: Unverified HTTPS request is being made to host 'www.indianembassybaku.gov.in'. Adding certificate verification is strongly advised. See: https://urllib3.readthedocs.io/en/latest/advanced-usage.html#tls-warnings\n",
            "  warnings.warn(\n"
          ]
        },
        {
          "output_type": "stream",
          "name": "stdout",
          "text": [
            "Text saved to output/deface/www.indianembassybaku.gov.in.txt\n",
            "Downloading page http://ssc.mof.gov.vn/acms/ckfinder/a...\n"
          ]
        },
        {
          "output_type": "stream",
          "name": "stderr",
          "text": [
            "/usr/local/lib/python3.10/dist-packages/urllib3/connectionpool.py:1099: InsecureRequestWarning: Unverified HTTPS request is being made to host 'ssc.gov.vn'. Adding certificate verification is strongly advised. See: https://urllib3.readthedocs.io/en/latest/advanced-usage.html#tls-warnings\n",
            "  warnings.warn(\n"
          ]
        },
        {
          "output_type": "stream",
          "name": "stdout",
          "text": [
            "Error when dowwloading page http://ssc.mof.gov.vn/acms/ckfinder/a: 404 Client Error: Not Found for url: https://ssc.gov.vn/acms/ckfinder/a\n",
            "Failed to download page from http://ssc.mof.gov.vn/acms/ckfinder/a\n",
            "Downloading page http://ssc.gov.vn/acms/ckfinder/anony...\n"
          ]
        },
        {
          "output_type": "stream",
          "name": "stderr",
          "text": [
            "/usr/local/lib/python3.10/dist-packages/urllib3/connectionpool.py:1099: InsecureRequestWarning: Unverified HTTPS request is being made to host 'ssc.gov.vn'. Adding certificate verification is strongly advised. See: https://urllib3.readthedocs.io/en/latest/advanced-usage.html#tls-warnings\n",
            "  warnings.warn(\n"
          ]
        },
        {
          "output_type": "stream",
          "name": "stdout",
          "text": [
            "Error when dowwloading page http://ssc.gov.vn/acms/ckfinder/anony: 404 Client Error: Not Found for url: https://ssc.gov.vn/acms/ckfinder/anony\n",
            "Failed to download page from http://ssc.gov.vn/acms/ckfinder/anony\n",
            "Downloading page http://abuja.mirco.gov.na/saudi.html...\n",
            "Error when dowwloading page http://abuja.mirco.gov.na/saudi.html: 503 Server Error: Service Temporarily Unavailable for url: http://abuja.mirco.gov.na/saudi.html\n",
            "Failed to download page from http://abuja.mirco.gov.na/saudi.html\n",
            "Downloading page http://luanda.mirco.gov.na...\n"
          ]
        },
        {
          "output_type": "stream",
          "name": "stderr",
          "text": [
            "/usr/local/lib/python3.10/dist-packages/urllib3/connectionpool.py:1099: InsecureRequestWarning: Unverified HTTPS request is being made to host 'luanda.mirco.gov.na'. Adding certificate verification is strongly advised. See: https://urllib3.readthedocs.io/en/latest/advanced-usage.html#tls-warnings\n",
            "  warnings.warn(\n"
          ]
        },
        {
          "output_type": "stream",
          "name": "stdout",
          "text": [
            "Error when dowwloading page http://luanda.mirco.gov.na: 503 Server Error: Service Temporarily Unavailable for url: https://luanda.mirco.gov.na/\n",
            "Failed to download page from http://luanda.mirco.gov.na\n",
            "Downloading page http://dakar.mirco.gov.na/518.html...\n",
            "Error when dowwloading page http://dakar.mirco.gov.na/518.html: 503 Server Error: Service Temporarily Unavailable for url: http://dakar.mirco.gov.na/518.html\n",
            "Failed to download page from http://dakar.mirco.gov.na/518.html\n",
            "Downloading page http://brazzaville.mirco.gov.na/518.html...\n",
            "Error when dowwloading page http://brazzaville.mirco.gov.na/518.html: 503 Server Error: Service Temporarily Unavailable for url: http://brazzaville.mirco.gov.na/518.html\n",
            "Failed to download page from http://brazzaville.mirco.gov.na/518.html\n",
            "Downloading page http://www.accra.mirco.gov.na/518.html...\n",
            "Error when dowwloading page http://www.accra.mirco.gov.na/518.html: 404 Client Error: Not Found for url: http://accra.mirco.gov.na/518.html\n",
            "Failed to download page from http://www.accra.mirco.gov.na/518.html\n",
            "Downloading page http://pretoria.mirco.gov.na/518.html...\n",
            "Error when dowwloading page http://pretoria.mirco.gov.na/518.html: 503 Server Error: Service Temporarily Unavailable for url: http://pretoria.mirco.gov.na/518.html\n",
            "Failed to download page from http://pretoria.mirco.gov.na/518.html\n",
            "Downloading page http://paris.mirco.gov.na/518.html...\n",
            "Error when dowwloading page http://paris.mirco.gov.na/518.html: 503 Server Error: Service Temporarily Unavailable for url: http://paris.mirco.gov.na/518.html\n",
            "Failed to download page from http://paris.mirco.gov.na/518.html\n",
            "Downloading page http://ondjiva.mirco.gov.na/518.html...\n",
            "Error when dowwloading page http://ondjiva.mirco.gov.na/518.html: 503 Server Error: Service Temporarily Unavailable for url: http://ondjiva.mirco.gov.na/518.html\n",
            "Failed to download page from http://ondjiva.mirco.gov.na/518.html\n",
            "Downloading page http://newyork.mirco.gov.na/518.html...\n",
            "Error when dowwloading page http://newyork.mirco.gov.na/518.html: 503 Server Error: Service Temporarily Unavailable for url: http://newyork.mirco.gov.na/518.html\n",
            "Failed to download page from http://newyork.mirco.gov.na/518.html\n",
            "Downloading page http://namdiaspora.gov.na/518.html...\n",
            "Error when dowwloading page http://namdiaspora.gov.na/518.html: 500 Server Error: Internal Server Error for url: http://namdiaspora.gov.na/518.html\n",
            "Failed to download page from http://namdiaspora.gov.na/518.html\n",
            "Downloading page http://moscow.mirco.gov.na/518.html...\n",
            "Error when dowwloading page http://moscow.mirco.gov.na/518.html: 503 Server Error: Service Temporarily Unavailable for url: http://moscow.mirco.gov.na/518.html\n",
            "Failed to download page from http://moscow.mirco.gov.na/518.html\n",
            "Downloading page http://menongue.mirco.gov.na/518.html...\n",
            "Error when dowwloading page http://menongue.mirco.gov.na/518.html: 503 Server Error: Service Temporarily Unavailable for url: http://menongue.mirco.gov.na/518.html\n",
            "Failed to download page from http://menongue.mirco.gov.na/518.html\n",
            "Downloading page http://london.mirco.gov.na/518.html...\n",
            "Error when dowwloading page http://london.mirco.gov.na/518.html: 503 Server Error: Service Temporarily Unavailable for url: http://london.mirco.gov.na/518.html\n",
            "Failed to download page from http://london.mirco.gov.na/518.html\n",
            "Downloading page http://kualalumpur.mirco.gov.na/518.html...\n",
            "Error when dowwloading page http://kualalumpur.mirco.gov.na/518.html: 503 Server Error: Service Temporarily Unavailable for url: http://kualalumpur.mirco.gov.na/518.html\n",
            "Failed to download page from http://kualalumpur.mirco.gov.na/518.html\n",
            "Downloading page http://kinshasa.mirco.gov.na/518.html...\n",
            "Error when dowwloading page http://kinshasa.mirco.gov.na/518.html: 503 Server Error: Service Temporarily Unavailable for url: http://kinshasa.mirco.gov.na/518.html\n",
            "Failed to download page from http://kinshasa.mirco.gov.na/518.html\n",
            "Downloading page http://helsinki.mirco.gov.na/518.html...\n",
            "Error when dowwloading page http://helsinki.mirco.gov.na/518.html: 503 Server Error: Service Temporarily Unavailable for url: http://helsinki.mirco.gov.na/518.html\n",
            "Failed to download page from http://helsinki.mirco.gov.na/518.html\n",
            "Downloading page http://havana.mirco.gov.na/518.html...\n",
            "Error when dowwloading page http://havana.mirco.gov.na/518.html: 503 Server Error: Service Temporarily Unavailable for url: http://havana.mirco.gov.na/518.html\n",
            "Failed to download page from http://havana.mirco.gov.na/518.html\n",
            "Downloading page http://harare.mirco.gov.na/518.html...\n",
            "Error when dowwloading page http://harare.mirco.gov.na/518.html: 503 Server Error: Service Temporarily Unavailable for url: http://harare.mirco.gov.na/518.html\n",
            "Failed to download page from http://harare.mirco.gov.na/518.html\n",
            "Downloading page http://geneva.mirco.gov.na/518.html...\n",
            "Error when dowwloading page http://geneva.mirco.gov.na/518.html: 404 Client Error: Not Found for url: http://geneva.mirco.gov.na/518.html\n",
            "Failed to download page from http://geneva.mirco.gov.na/518.html\n",
            "Downloading page http://gaborone.mirco.gov.na/518.html...\n",
            "Error when dowwloading page http://gaborone.mirco.gov.na/518.html: 503 Server Error: Service Temporarily Unavailable for url: http://gaborone.mirco.gov.na/518.html\n",
            "Failed to download page from http://gaborone.mirco.gov.na/518.html\n",
            "Downloading page http://www.health.gov.mw/87.txt...\n",
            "Error when dowwloading page http://www.health.gov.mw/87.txt: 404 Client Error: Not Found for url: http://www.health.gov.mw/87.txt\n",
            "Failed to download page from http://www.health.gov.mw/87.txt\n",
            "Downloading page http://encuestas.senda.gob.cl/0x.txt...\n"
          ]
        },
        {
          "output_type": "stream",
          "name": "stderr",
          "text": [
            "/usr/local/lib/python3.10/dist-packages/urllib3/connectionpool.py:1099: InsecureRequestWarning: Unverified HTTPS request is being made to host 'encuestas.senda.gob.cl'. Adding certificate verification is strongly advised. See: https://urllib3.readthedocs.io/en/latest/advanced-usage.html#tls-warnings\n",
            "  warnings.warn(\n"
          ]
        },
        {
          "output_type": "stream",
          "name": "stdout",
          "text": [
            "Error when dowwloading page http://encuestas.senda.gob.cl/0x.txt: 404 Client Error: Not Found for url: https://encuestas.senda.gob.cl/0x.txt\n",
            "Failed to download page from http://encuestas.senda.gob.cl/0x.txt\n",
            "Downloading page http://sistemas.senda.gob.cl/0x.txt...\n"
          ]
        },
        {
          "output_type": "stream",
          "name": "stderr",
          "text": [
            "/usr/local/lib/python3.10/dist-packages/urllib3/connectionpool.py:1099: InsecureRequestWarning: Unverified HTTPS request is being made to host 'sistemas.senda.gob.cl'. Adding certificate verification is strongly advised. See: https://urllib3.readthedocs.io/en/latest/advanced-usage.html#tls-warnings\n",
            "  warnings.warn(\n"
          ]
        },
        {
          "output_type": "stream",
          "name": "stdout",
          "text": [
            "Error when dowwloading page http://sistemas.senda.gob.cl/0x.txt: 404 Client Error: Not Found for url: https://sistemas.senda.gob.cl/0x.txt\n",
            "Failed to download page from http://sistemas.senda.gob.cl/0x.txt\n",
            "Downloading page http://finance.sec40.go.th/will.html...\n",
            "Error when dowwloading page http://finance.sec40.go.th/will.html: 404 Client Error: Not Found for url: http://finance.sec40.go.th/will.html\n",
            "Failed to download page from http://finance.sec40.go.th/will.html\n",
            "Downloading page http://www.baankhong.go.th...\n",
            "Text saved to output/deface/www.baankhong.go.th.txt\n",
            "Downloading page http://www.mcil.gov.ws/hook.htm...\n"
          ]
        },
        {
          "output_type": "stream",
          "name": "stderr",
          "text": [
            "/usr/local/lib/python3.10/dist-packages/urllib3/connectionpool.py:1099: InsecureRequestWarning: Unverified HTTPS request is being made to host 'www.mcil.gov.ws'. Adding certificate verification is strongly advised. See: https://urllib3.readthedocs.io/en/latest/advanced-usage.html#tls-warnings\n",
            "  warnings.warn(\n"
          ]
        },
        {
          "output_type": "stream",
          "name": "stdout",
          "text": [
            "Error when dowwloading page http://www.mcil.gov.ws/hook.htm: 404 Client Error: Not Found for url: https://www.mcil.gov.ws/hook.htm\n",
            "Failed to download page from http://www.mcil.gov.ws/hook.htm\n",
            "Downloading page http://www.camarasjriopardo.sp.gov.br...\n"
          ]
        },
        {
          "output_type": "stream",
          "name": "stderr",
          "text": [
            "/usr/local/lib/python3.10/dist-packages/urllib3/connectionpool.py:1099: InsecureRequestWarning: Unverified HTTPS request is being made to host 'www.camarasjriopardo.sp.gov.br'. Adding certificate verification is strongly advised. See: https://urllib3.readthedocs.io/en/latest/advanced-usage.html#tls-warnings\n",
            "  warnings.warn(\n",
            "/usr/local/lib/python3.10/dist-packages/urllib3/connectionpool.py:1099: InsecureRequestWarning: Unverified HTTPS request is being made to host 'camarasjriopardo.sp.gov.br'. Adding certificate verification is strongly advised. See: https://urllib3.readthedocs.io/en/latest/advanced-usage.html#tls-warnings\n",
            "  warnings.warn(\n",
            "/usr/local/lib/python3.10/dist-packages/urllib3/connectionpool.py:1099: InsecureRequestWarning: Unverified HTTPS request is being made to host 'camarasjriopardo.sp.gov.br'. Adding certificate verification is strongly advised. See: https://urllib3.readthedocs.io/en/latest/advanced-usage.html#tls-warnings\n",
            "  warnings.warn(\n"
          ]
        },
        {
          "output_type": "stream",
          "name": "stdout",
          "text": [
            "Text saved to output/deface/www.camarasjriopardo.sp.gov.br.txt\n",
            "Downloading page http://www.muqui.es.gov.br...\n",
            "Error when dowwloading page http://www.muqui.es.gov.br: ('Connection aborted.', ConnectionResetError(104, 'Connection reset by peer'))\n",
            "Failed to download page from http://www.muqui.es.gov.br\n",
            "Downloading page http://www.camaracerrogrande.rs.gov.br...\n"
          ]
        },
        {
          "output_type": "stream",
          "name": "stderr",
          "text": [
            "/usr/local/lib/python3.10/dist-packages/urllib3/connectionpool.py:1099: InsecureRequestWarning: Unverified HTTPS request is being made to host 'www.camaracerrogrande.rs.gov.br'. Adding certificate verification is strongly advised. See: https://urllib3.readthedocs.io/en/latest/advanced-usage.html#tls-warnings\n",
            "  warnings.warn(\n",
            "/usr/local/lib/python3.10/dist-packages/urllib3/connectionpool.py:1099: InsecureRequestWarning: Unverified HTTPS request is being made to host 'cerrogrande.rs.leg.br'. Adding certificate verification is strongly advised. See: https://urllib3.readthedocs.io/en/latest/advanced-usage.html#tls-warnings\n",
            "  warnings.warn(\n"
          ]
        },
        {
          "output_type": "stream",
          "name": "stdout",
          "text": [
            "Error when dowwloading page http://www.camaracerrogrande.rs.gov.br: 520 Server Error:  for url: https://cerrogrande.rs.leg.br/\n",
            "Failed to download page from http://www.camaracerrogrande.rs.gov.br\n",
            "Downloading page http://www.camarabrasilnovo.com.br...\n",
            "Error when dowwloading page http://www.camarabrasilnovo.com.br: HTTPConnectionPool(host='www.camarabrasilnovo.com.br', port=80): Max retries exceeded with url: / (Caused by NameResolutionError(\"<urllib3.connection.HTTPConnection object at 0x7e1482654850>: Failed to resolve 'www.camarabrasilnovo.com.br' ([Errno -2] Name or service not known)\"))\n",
            "Failed to download page from http://www.camarabrasilnovo.com.br\n",
            "Downloading page http://www.cmxambre.pr.gov.br...\n",
            "Error when dowwloading page http://www.cmxambre.pr.gov.br: ('Connection aborted.', ConnectionResetError(104, 'Connection reset by peer'))\n",
            "Failed to download page from http://www.cmxambre.pr.gov.br\n",
            "Downloading page http://www.camaratrabiju.sp.gov.br...\n"
          ]
        },
        {
          "output_type": "stream",
          "name": "stderr",
          "text": [
            "/usr/local/lib/python3.10/dist-packages/urllib3/connectionpool.py:1099: InsecureRequestWarning: Unverified HTTPS request is being made to host 'www.camaratrabiju.sp.gov.br'. Adding certificate verification is strongly advised. See: https://urllib3.readthedocs.io/en/latest/advanced-usage.html#tls-warnings\n",
            "  warnings.warn(\n",
            "/usr/local/lib/python3.10/dist-packages/urllib3/connectionpool.py:1099: InsecureRequestWarning: Unverified HTTPS request is being made to host 'trabiju.sp.leg.br'. Adding certificate verification is strongly advised. See: https://urllib3.readthedocs.io/en/latest/advanced-usage.html#tls-warnings\n",
            "  warnings.warn(\n"
          ]
        },
        {
          "output_type": "stream",
          "name": "stdout",
          "text": [
            "Error when dowwloading page http://www.camaratrabiju.sp.gov.br: 520 Server Error:  for url: https://trabiju.sp.leg.br/\n",
            "Failed to download page from http://www.camaratrabiju.sp.gov.br\n",
            "Downloading page http://www.moju.pa.gov.br...\n"
          ]
        },
        {
          "output_type": "stream",
          "name": "stderr",
          "text": [
            "/usr/local/lib/python3.10/dist-packages/urllib3/connectionpool.py:1099: InsecureRequestWarning: Unverified HTTPS request is being made to host 'www.moju.pa.gov.br'. Adding certificate verification is strongly advised. See: https://urllib3.readthedocs.io/en/latest/advanced-usage.html#tls-warnings\n",
            "  warnings.warn(\n",
            "/usr/local/lib/python3.10/dist-packages/urllib3/connectionpool.py:1099: InsecureRequestWarning: Unverified HTTPS request is being made to host 'moju.pa.gov.br'. Adding certificate verification is strongly advised. See: https://urllib3.readthedocs.io/en/latest/advanced-usage.html#tls-warnings\n",
            "  warnings.warn(\n"
          ]
        },
        {
          "output_type": "stream",
          "name": "stdout",
          "text": [
            "Text saved to output/deface/www.moju.pa.gov.br.txt\n",
            "Downloading page http://crepn.gov.mz/Elz.html...\n",
            "Error when dowwloading page http://crepn.gov.mz/Elz.html: HTTPConnectionPool(host='crepn.gov.mz', port=80): Max retries exceeded with url: /Elz.html (Caused by ConnectTimeoutError(<urllib3.connection.HTTPConnection object at 0x7e14826212a0>, 'Connection to crepn.gov.mz timed out. (connect timeout=10)'))\n",
            "Failed to download page from http://crepn.gov.mz/Elz.html\n",
            "Downloading page http://crepm.gov.mz/Elz.html...\n",
            "Error when dowwloading page http://crepm.gov.mz/Elz.html: HTTPConnectionPool(host='crepm.gov.mz', port=80): Max retries exceeded with url: /Elz.html (Caused by ConnectTimeoutError(<urllib3.connection.HTTPConnection object at 0x7e1482620ac0>, 'Connection to crepm.gov.mz timed out. (connect timeout=10)'))\n",
            "Failed to download page from http://crepm.gov.mz/Elz.html\n",
            "Downloading page http://crepg.gov.mz/Elz.html...\n",
            "Error when dowwloading page http://crepg.gov.mz/Elz.html: HTTPConnectionPool(host='crepg.gov.mz', port=80): Max retries exceeded with url: /Elz.html (Caused by ConnectTimeoutError(<urllib3.connection.HTTPConnection object at 0x7e14826217e0>, 'Connection to crepg.gov.mz timed out. (connect timeout=10)'))\n",
            "Failed to download page from http://crepg.gov.mz/Elz.html\n",
            "Downloading page http://crepz.gov.mz/Elz.html...\n",
            "Error when dowwloading page http://crepz.gov.mz/Elz.html: HTTPConnectionPool(host='crepz.gov.mz', port=80): Max retries exceeded with url: /Elz.html (Caused by ConnectTimeoutError(<urllib3.connection.HTTPConnection object at 0x7e1482620040>, 'Connection to crepz.gov.mz timed out. (connect timeout=10)'))\n",
            "Failed to download page from http://crepz.gov.mz/Elz.html\n",
            "Downloading page http://crept.gov.mz/Elz.html...\n",
            "Error when dowwloading page http://crept.gov.mz/Elz.html: HTTPConnectionPool(host='crept.gov.mz', port=80): Max retries exceeded with url: /Elz.html (Caused by ConnectTimeoutError(<urllib3.connection.HTTPConnection object at 0x7e14825e0550>, 'Connection to crept.gov.mz timed out. (connect timeout=10)'))\n",
            "Failed to download page from http://crept.gov.mz/Elz.html\n",
            "Downloading page http://mophrh.gov.mz/elz.html...\n",
            "Error when dowwloading page http://mophrh.gov.mz/elz.html: HTTPConnectionPool(host='mophrh.gov.mz', port=80): Max retries exceeded with url: /elz.html (Caused by ConnectTimeoutError(<urllib3.connection.HTTPConnection object at 0x7e14825e0d00>, 'Connection to mophrh.gov.mz timed out. (connect timeout=10)'))\n",
            "Failed to download page from http://mophrh.gov.mz/elz.html\n",
            "Downloading page http://crepnia.gov.mz/Elz.html...\n",
            "Error when dowwloading page http://crepnia.gov.mz/Elz.html: HTTPConnectionPool(host='crepnia.gov.mz', port=80): Max retries exceeded with url: /Elz.html (Caused by ConnectTimeoutError(<urllib3.connection.HTTPConnection object at 0x7e14825e14b0>, 'Connection to crepnia.gov.mz timed out. (connect timeout=10)'))\n",
            "Failed to download page from http://crepnia.gov.mz/Elz.html\n",
            "Downloading page http://creps.gov.mz/Elz.html...\n",
            "Error when dowwloading page http://creps.gov.mz/Elz.html: HTTPConnectionPool(host='creps.gov.mz', port=80): Max retries exceeded with url: /Elz.html (Caused by ConnectTimeoutError(<urllib3.connection.HTTPConnection object at 0x7e1482620610>, 'Connection to creps.gov.mz timed out. (connect timeout=10)'))\n",
            "Failed to download page from http://creps.gov.mz/Elz.html\n",
            "Downloading page http://crepi.gov.mz/Elz.html...\n",
            "Error when dowwloading page http://crepi.gov.mz/Elz.html: HTTPConnectionPool(host='crepi.gov.mz', port=80): Max retries exceeded with url: /Elz.html (Caused by ConnectTimeoutError(<urllib3.connection.HTTPConnection object at 0x7e1482620fa0>, 'Connection to crepi.gov.mz timed out. (connect timeout=10)'))\n",
            "Failed to download page from http://crepi.gov.mz/Elz.html\n",
            "Downloading page http://pertanian.lomboktengahkab.go.id...\n"
          ]
        },
        {
          "output_type": "stream",
          "name": "stderr",
          "text": [
            "/usr/local/lib/python3.10/dist-packages/urllib3/connectionpool.py:1099: InsecureRequestWarning: Unverified HTTPS request is being made to host 'pertanian.lomboktengahkab.go.id'. Adding certificate verification is strongly advised. See: https://urllib3.readthedocs.io/en/latest/advanced-usage.html#tls-warnings\n",
            "  warnings.warn(\n"
          ]
        },
        {
          "output_type": "stream",
          "name": "stdout",
          "text": [
            "Text saved to output/deface/pertanian.lomboktengahkab.go.id.txt\n",
            "Downloading page http://karimunkab.go.id...\n",
            "Text saved to output/deface/karimunkab.go.id.txt\n",
            "Downloading page http://testdomain23.gov.zw/ZED.htm...\n"
          ]
        },
        {
          "output_type": "stream",
          "name": "stderr",
          "text": [
            "/usr/local/lib/python3.10/dist-packages/urllib3/connectionpool.py:1099: InsecureRequestWarning: Unverified HTTPS request is being made to host 'testdomain23.gov.zw'. Adding certificate verification is strongly advised. See: https://urllib3.readthedocs.io/en/latest/advanced-usage.html#tls-warnings\n",
            "  warnings.warn(\n"
          ]
        },
        {
          "output_type": "stream",
          "name": "stdout",
          "text": [
            "Error when dowwloading page http://testdomain23.gov.zw/ZED.htm: 404 Client Error: Not Found for url: https://testdomain23.gov.zw/ZED.htm\n",
            "Failed to download page from http://testdomain23.gov.zw/ZED.htm\n",
            "Downloading page http://video.nema.gov.mn/ZED.htm...\n",
            "Error when dowwloading page http://video.nema.gov.mn/ZED.htm: 404 Client Error: Not Found for url: http://video.nema.gov.mn/ZED.htm\n",
            "Failed to download page from http://video.nema.gov.mn/ZED.htm\n",
            "Downloading page http://doh.go.th...\n"
          ]
        },
        {
          "output_type": "stream",
          "name": "stderr",
          "text": [
            "/usr/local/lib/python3.10/dist-packages/urllib3/connectionpool.py:1099: InsecureRequestWarning: Unverified HTTPS request is being made to host 'doh.go.th'. Adding certificate verification is strongly advised. See: https://urllib3.readthedocs.io/en/latest/advanced-usage.html#tls-warnings\n",
            "  warnings.warn(\n"
          ]
        },
        {
          "output_type": "stream",
          "name": "stdout",
          "text": [
            "Text saved to output/deface/doh.go.th.txt\n",
            "Downloading page http://cvl.gov.np...\n",
            "Error when dowwloading page http://cvl.gov.np: 404 Client Error: Not Found for url: http://cvl.gov.np/\n",
            "Failed to download page from http://cvl.gov.np\n",
            "Downloading page http://satudata.pagaralamkota.go.id/d...\n",
            "Error when dowwloading page http://satudata.pagaralamkota.go.id/d: 404 Client Error: Not Found for url: http://satudata.pagaralamkota.go.id/d\n",
            "Failed to download page from http://satudata.pagaralamkota.go.id/d\n",
            "Downloading page http://satuadmin.pagaralamkota.go.id/...\n",
            "Text saved to output/deface/satuadmin.pagaralamkota.go.id_.txt\n",
            "Downloading page http://webdev.pagaralamkota.go.id/dua...\n",
            "Text saved to output/deface/webdev.pagaralamkota.go.id_dua.txt\n",
            "Downloading page http://www.pagaralamkota.go.id/duar.txt...\n",
            "Error when dowwloading page http://www.pagaralamkota.go.id/duar.txt: 404 Client Error: Not Found for url: http://www.pagaralamkota.go.id/duar.txt\n",
            "Failed to download page from http://www.pagaralamkota.go.id/duar.txt\n",
            "Downloading page http://www.potipisan.go.th...\n"
          ]
        },
        {
          "output_type": "stream",
          "name": "stderr",
          "text": [
            "/usr/local/lib/python3.10/dist-packages/urllib3/connectionpool.py:1099: InsecureRequestWarning: Unverified HTTPS request is being made to host 'www.potipisan.go.th'. Adding certificate verification is strongly advised. See: https://urllib3.readthedocs.io/en/latest/advanced-usage.html#tls-warnings\n",
            "  warnings.warn(\n"
          ]
        },
        {
          "output_type": "stream",
          "name": "stdout",
          "text": [
            "Text saved to output/deface/www.potipisan.go.th.txt\n",
            "Downloading page http://www.naphokusuman.go.th...\n"
          ]
        },
        {
          "output_type": "stream",
          "name": "stderr",
          "text": [
            "/usr/local/lib/python3.10/dist-packages/urllib3/connectionpool.py:1099: InsecureRequestWarning: Unverified HTTPS request is being made to host 'www.naphokusuman.go.th'. Adding certificate verification is strongly advised. See: https://urllib3.readthedocs.io/en/latest/advanced-usage.html#tls-warnings\n",
            "  warnings.warn(\n"
          ]
        },
        {
          "output_type": "stream",
          "name": "stdout",
          "text": [
            "Text saved to output/deface/www.naphokusuman.go.th.txt\n",
            "Downloading page http://bappeda.belitung.go.id/SMok.txt...\n",
            "Error when dowwloading page http://bappeda.belitung.go.id/SMok.txt: HTTPConnectionPool(host='lamanlabuh.aduankonten.id', port=80): Max retries exceeded with url: / (Caused by ConnectTimeoutError(<urllib3.connection.HTTPConnection object at 0x7e14835b0e80>, 'Connection to lamanlabuh.aduankonten.id timed out. (connect timeout=10)'))\n",
            "Failed to download page from http://bappeda.belitung.go.id/SMok.txt\n",
            "Downloading page http://dikbud.belitung.go.id/SMok.txt...\n"
          ]
        },
        {
          "output_type": "stream",
          "name": "stderr",
          "text": [
            "/usr/local/lib/python3.10/dist-packages/urllib3/connectionpool.py:1099: InsecureRequestWarning: Unverified HTTPS request is being made to host 'dikbud.belitung.go.id'. Adding certificate verification is strongly advised. See: https://urllib3.readthedocs.io/en/latest/advanced-usage.html#tls-warnings\n",
            "  warnings.warn(\n"
          ]
        },
        {
          "output_type": "stream",
          "name": "stdout",
          "text": [
            "Error when dowwloading page http://dikbud.belitung.go.id/SMok.txt: 404 Client Error: Not Found for url: https://dikbud.belitung.go.id/SMok.txt\n",
            "Failed to download page from http://dikbud.belitung.go.id/SMok.txt\n",
            "Downloading page http://pn-jakartatimur.go.id/images/d...\n",
            "Error when dowwloading page http://pn-jakartatimur.go.id/images/d: 403 Client Error: Forbidden for url: https://pn-jakartatimur.go.id/images/d\n",
            "Failed to download page from http://pn-jakartatimur.go.id/images/d\n",
            "Downloading page http://zpnetrokona.gov.bd/and.txt...\n"
          ]
        },
        {
          "output_type": "stream",
          "name": "stderr",
          "text": [
            "/usr/local/lib/python3.10/dist-packages/urllib3/connectionpool.py:1099: InsecureRequestWarning: Unverified HTTPS request is being made to host 'pn-jakartatimur.go.id'. Adding certificate verification is strongly advised. See: https://urllib3.readthedocs.io/en/latest/advanced-usage.html#tls-warnings\n",
            "  warnings.warn(\n",
            "/usr/local/lib/python3.10/dist-packages/urllib3/connectionpool.py:1099: InsecureRequestWarning: Unverified HTTPS request is being made to host 'zpnetrokona.gov.bd'. Adding certificate verification is strongly advised. See: https://urllib3.readthedocs.io/en/latest/advanced-usage.html#tls-warnings\n",
            "  warnings.warn(\n"
          ]
        },
        {
          "output_type": "stream",
          "name": "stdout",
          "text": [
            "Error when dowwloading page http://zpnetrokona.gov.bd/and.txt: 500 Server Error: Internal Server Error for url: https://zpnetrokona.gov.bd/and.txt\n",
            "Failed to download page from http://zpnetrokona.gov.bd/and.txt\n",
            "Downloading page http://www.jdih.pa-pasirpengaraian.go...\n",
            "Error when dowwloading page http://www.jdih.pa-pasirpengaraian.go: HTTPConnectionPool(host='www.jdih.pa-pasirpengaraian.go', port=80): Max retries exceeded with url: / (Caused by NameResolutionError(\"<urllib3.connection.HTTPConnection object at 0x7e14835b0e50>: Failed to resolve 'www.jdih.pa-pasirpengaraian.go' ([Errno -2] Name or service not known)\"))\n",
            "Failed to download page from http://www.jdih.pa-pasirpengaraian.go\n",
            "Downloading page http://sipp.pa-pasirpengaraian.go.id/...\n",
            "Error when dowwloading page http://sipp.pa-pasirpengaraian.go.id/: ('Connection aborted.', RemoteDisconnected('Remote end closed connection without response'))\n",
            "Failed to download page from http://sipp.pa-pasirpengaraian.go.id/\n",
            "Downloading page http://dispensasinikah.pa-pasirpengar.gob.pe...\n",
            "Error when dowwloading page http://dispensasinikah.pa-pasirpengar.gob.pe: HTTPConnectionPool(host='dispensasinikah.pa-pasirpengar.gob.pe', port=80): Max retries exceeded with url: / (Caused by NameResolutionError(\"<urllib3.connection.HTTPConnection object at 0x7e14835b1f60>: Failed to resolve 'dispensasinikah.pa-pasirpengar.gob.pe' ([Errno -2] Name or service not known)\"))\n",
            "Failed to download page from http://dispensasinikah.pa-pasirpengar.gob.pe\n",
            "Downloading page http://pkm-salo.pinrangkab.go.id...\n",
            "Error when dowwloading page http://pkm-salo.pinrangkab.go.id: HTTPConnectionPool(host='pkm-salo.pinrangkab.go.id', port=80): Max retries exceeded with url: / (Caused by NameResolutionError(\"<urllib3.connection.HTTPConnection object at 0x7e1483ddf550>: Failed to resolve 'pkm-salo.pinrangkab.go.id' ([Errno -2] Name or service not known)\"))\n",
            "Failed to download page from http://pkm-salo.pinrangkab.go.id\n",
            "Downloading page http://sidapedes.cilacapkab.go.id...\n"
          ]
        },
        {
          "output_type": "stream",
          "name": "stderr",
          "text": [
            "/usr/local/lib/python3.10/dist-packages/urllib3/connectionpool.py:1099: InsecureRequestWarning: Unverified HTTPS request is being made to host 'sidapedes.cilacapkab.go.id'. Adding certificate verification is strongly advised. See: https://urllib3.readthedocs.io/en/latest/advanced-usage.html#tls-warnings\n",
            "  warnings.warn(\n"
          ]
        },
        {
          "output_type": "stream",
          "name": "stdout",
          "text": [
            "Error when dowwloading page http://sidapedes.cilacapkab.go.id: HTTPSConnectionPool(host='sidapedes.cilacapkab.go.id', port=443): Read timed out. (read timeout=10)\n",
            "Failed to download page from http://sidapedes.cilacapkab.go.id\n",
            "Downloading page http://mycc_staging.jkm.gov.my/duar.txt...\n",
            "Error when dowwloading page http://mycc_staging.jkm.gov.my/duar.txt: HTTPConnectionPool(host='mycc_staging.jkm.gov.my', port=80): Max retries exceeded with url: /duar.txt (Caused by ConnectTimeoutError(<urllib3.connection.HTTPConnection object at 0x7e14835b1180>, 'Connection to mycc_staging.jkm.gov.my timed out. (connect timeout=10)'))\n",
            "Failed to download page from http://mycc_staging.jkm.gov.my/duar.txt\n",
            "Downloading page http://private-rpjmn.bappenas.go.id/r...\n",
            "Error when dowwloading page http://private-rpjmn.bappenas.go.id/r: 404 Client Error: Not Found for url: https://private-rpjmn.bappenas.go.id/r\n",
            "Failed to download page from http://private-rpjmn.bappenas.go.id/r\n",
            "Downloading page http://nghiadan.kimdong.hungyen.gov.v...\n",
            "Error when dowwloading page http://nghiadan.kimdong.hungyen.gov.v: HTTPConnectionPool(host='nghiadan.kimdong.hungyen.gov.v', port=80): Max retries exceeded with url: / (Caused by NameResolutionError(\"<urllib3.connection.HTTPConnection object at 0x7e14835b0ee0>: Failed to resolve 'nghiadan.kimdong.hungyen.gov.v' ([Errno -2] Name or service not known)\"))\n",
            "Failed to download page from http://nghiadan.kimdong.hungyen.gov.v\n",
            "Downloading page http://pengunjung.pa-sukoharjo.go.id/...\n",
            "Error when dowwloading page http://pengunjung.pa-sukoharjo.go.id/: HTTPConnectionPool(host='pengunjung.pa-sukoharjo.go.id', port=80): Max retries exceeded with url: / (Caused by NameResolutionError(\"<urllib3.connection.HTTPConnection object at 0x7e14835b10c0>: Failed to resolve 'pengunjung.pa-sukoharjo.go.id' ([Errno -2] Name or service not known)\"))\n",
            "Failed to download page from http://pengunjung.pa-sukoharjo.go.id/\n",
            "Downloading page http://www.jdih.pa-sukoharjo.go.id/ka...\n"
          ]
        },
        {
          "output_type": "stream",
          "name": "stderr",
          "text": [
            "/usr/local/lib/python3.10/dist-packages/urllib3/connectionpool.py:1099: InsecureRequestWarning: Unverified HTTPS request is being made to host 'private-rpjmn.bappenas.go.id'. Adding certificate verification is strongly advised. See: https://urllib3.readthedocs.io/en/latest/advanced-usage.html#tls-warnings\n",
            "  warnings.warn(\n"
          ]
        },
        {
          "output_type": "stream",
          "name": "stdout",
          "text": [
            "Error when dowwloading page http://www.jdih.pa-sukoharjo.go.id/ka: HTTPConnectionPool(host='www.jdih.pa-sukoharjo.go.id', port=80): Max retries exceeded with url: /ka (Caused by NameResolutionError(\"<urllib3.connection.HTTPConnection object at 0x7e1483ddffa0>: Failed to resolve 'www.jdih.pa-sukoharjo.go.id' ([Errno -2] Name or service not known)\"))\n",
            "Failed to download page from http://www.jdih.pa-sukoharjo.go.id/ka\n",
            "Downloading page http://serasi.pa-sukoharjo.go.id/kapa...\n",
            "Error when dowwloading page http://serasi.pa-sukoharjo.go.id/kapa: HTTPConnectionPool(host='serasi.pa-sukoharjo.go.id', port=80): Max retries exceeded with url: /kapa (Caused by NameResolutionError(\"<urllib3.connection.HTTPConnection object at 0x7e14835b2410>: Failed to resolve 'serasi.pa-sukoharjo.go.id' ([Errno -2] Name or service not known)\"))\n",
            "Failed to download page from http://serasi.pa-sukoharjo.go.id/kapa\n",
            "Downloading page http://simasjid.pa-sukoharjo.go.id/ka...\n",
            "Error when dowwloading page http://simasjid.pa-sukoharjo.go.id/ka: HTTPConnectionPool(host='simasjid.pa-sukoharjo.go.id', port=80): Max retries exceeded with url: /ka (Caused by NameResolutionError(\"<urllib3.connection.HTTPConnection object at 0x7e14835b0fa0>: Failed to resolve 'simasjid.pa-sukoharjo.go.id' ([Errno -2] Name or service not known)\"))\n",
            "Failed to download page from http://simasjid.pa-sukoharjo.go.id/ka\n",
            "Downloading page http://sipinter.pa-sukoharjo.go.id/ka...\n",
            "Error when dowwloading page http://sipinter.pa-sukoharjo.go.id/ka: HTTPConnectionPool(host='sipinter.pa-sukoharjo.go.id', port=80): Max retries exceeded with url: /ka (Caused by NameResolutionError(\"<urllib3.connection.HTTPConnection object at 0x7e14835b16c0>: Failed to resolve 'sipinter.pa-sukoharjo.go.id' ([Errno -2] Name or service not known)\"))\n",
            "Failed to download page from http://sipinter.pa-sukoharjo.go.id/ka\n",
            "Downloading page http://sipp.pa-sukoharjo.go.id/kapanl...\n",
            "Error when dowwloading page http://sipp.pa-sukoharjo.go.id/kapanl: 403 Client Error: Forbidden for url: http://sipp.pa-sukoharjo.go.id/kapanl\n",
            "Failed to download page from http://sipp.pa-sukoharjo.go.id/kapanl\n",
            "Downloading page http://sakarat.go.th/doc/1729433555...\n"
          ]
        },
        {
          "output_type": "stream",
          "name": "stderr",
          "text": [
            "/usr/local/lib/python3.10/dist-packages/urllib3/connectionpool.py:1099: InsecureRequestWarning: Unverified HTTPS request is being made to host 'sakarat.go.th'. Adding certificate verification is strongly advised. See: https://urllib3.readthedocs.io/en/latest/advanced-usage.html#tls-warnings\n",
            "  warnings.warn(\n"
          ]
        },
        {
          "output_type": "stream",
          "name": "stdout",
          "text": [
            "Text saved to output/deface/sakarat.go.th_doc_1729433555.txt\n",
            "Downloading page http://www.changtong.go.th/doc/172943...\n"
          ]
        },
        {
          "output_type": "stream",
          "name": "stderr",
          "text": [
            "/usr/local/lib/python3.10/dist-packages/urllib3/connectionpool.py:1099: InsecureRequestWarning: Unverified HTTPS request is being made to host 'www.changtong.go.th'. Adding certificate verification is strongly advised. See: https://urllib3.readthedocs.io/en/latest/advanced-usage.html#tls-warnings\n",
            "  warnings.warn(\n"
          ]
        },
        {
          "output_type": "stream",
          "name": "stdout",
          "text": [
            "Error when dowwloading page http://www.changtong.go.th/doc/172943: 404 Client Error: Not Found for url: https://www.changtong.go.th/doc/172943\n",
            "Failed to download page from http://www.changtong.go.th/doc/172943\n",
            "Downloading page http://nongnguluam.go.th/doc/1729459641...\n"
          ]
        },
        {
          "output_type": "stream",
          "name": "stderr",
          "text": [
            "/usr/local/lib/python3.10/dist-packages/urllib3/connectionpool.py:1099: InsecureRequestWarning: Unverified HTTPS request is being made to host 'nongnguluam.go.th'. Adding certificate verification is strongly advised. See: https://urllib3.readthedocs.io/en/latest/advanced-usage.html#tls-warnings\n",
            "  warnings.warn(\n"
          ]
        },
        {
          "output_type": "stream",
          "name": "stdout",
          "text": [
            "Text saved to output/deface/nongnguluam.go.th_doc_1729459641.txt\n",
            "Downloading page http://pnst4.go.th...\n",
            "Error when dowwloading page http://pnst4.go.th: HTTPConnectionPool(host='pnst4.go.th', port=80): Max retries exceeded with url: / (Caused by NameResolutionError(\"<urllib3.connection.HTTPConnection object at 0x7e1483ddfbe0>: Failed to resolve 'pnst4.go.th' ([Errno -2] Name or service not known)\"))\n",
            "Failed to download page from http://pnst4.go.th\n",
            "Downloading page http://ouvidoria.apiai.sp.gov.br/avar...\n"
          ]
        },
        {
          "output_type": "stream",
          "name": "stderr",
          "text": [
            "/usr/local/lib/python3.10/dist-packages/urllib3/connectionpool.py:1099: InsecureRequestWarning: Unverified HTTPS request is being made to host 'ouvidoria.apiai.sp.gov.br'. Adding certificate verification is strongly advised. See: https://urllib3.readthedocs.io/en/latest/advanced-usage.html#tls-warnings\n",
            "  warnings.warn(\n"
          ]
        },
        {
          "output_type": "stream",
          "name": "stdout",
          "text": [
            "Error when dowwloading page http://ouvidoria.apiai.sp.gov.br/avar: 404 Client Error: Not Found for url: https://ouvidoria.apiai.sp.gov.br/avar\n",
            "Failed to download page from http://ouvidoria.apiai.sp.gov.br/avar\n",
            "Downloading page http://memorando.ribeiraogrande.sp.go...\n",
            "Error when dowwloading page http://memorando.ribeiraogrande.sp.go: HTTPConnectionPool(host='memorando.ribeiraogrande.sp.go', port=80): Max retries exceeded with url: / (Caused by NameResolutionError(\"<urllib3.connection.HTTPConnection object at 0x7e14835b04c0>: Failed to resolve 'memorando.ribeiraogrande.sp.go' ([Errno -2] Name or service not known)\"))\n",
            "Failed to download page from http://memorando.ribeiraogrande.sp.go\n",
            "Downloading page http://wmsc.rid.go.th/images/kapanlag...\n"
          ]
        },
        {
          "output_type": "stream",
          "name": "stderr",
          "text": [
            "/usr/local/lib/python3.10/dist-packages/urllib3/connectionpool.py:1099: InsecureRequestWarning: Unverified HTTPS request is being made to host 'wmsc.rid.go.th'. Adding certificate verification is strongly advised. See: https://urllib3.readthedocs.io/en/latest/advanced-usage.html#tls-warnings\n",
            "  warnings.warn(\n"
          ]
        },
        {
          "output_type": "stream",
          "name": "stdout",
          "text": [
            "Error when dowwloading page http://wmsc.rid.go.th/images/kapanlag: 404 Client Error: Not Found for url: https://wmsc.rid.go.th/images/kapanlag\n",
            "Failed to download page from http://wmsc.rid.go.th/images/kapanlag\n",
            "Downloading page http://pa-kabmadiun.go.id/images/kapa...\n",
            "Error when dowwloading page http://pa-kabmadiun.go.id/images/kapa: HTTPConnectionPool(host='www.yourjoomlawebsite.com', port=80): Max retries exceeded with url: /404.html (Caused by NameResolutionError(\"<urllib3.connection.HTTPConnection object at 0x7e14835b1180>: Failed to resolve 'www.yourjoomlawebsite.com' ([Errno -2] Name or service not known)\"))\n",
            "Failed to download page from http://pa-kabmadiun.go.id/images/kapa\n",
            "Downloading page http://selumakab.go.id/duar.txt...\n",
            "Error when dowwloading page http://selumakab.go.id/duar.txt: 404 Client Error: Not Found for url: https://selumakab.go.id/duar.txt\n",
            "Failed to download page from http://selumakab.go.id/duar.txt\n",
            "Downloading page http://sis.gov.eg/0x.txt...\n"
          ]
        },
        {
          "output_type": "stream",
          "name": "stderr",
          "text": [
            "/usr/local/lib/python3.10/dist-packages/urllib3/connectionpool.py:1099: InsecureRequestWarning: Unverified HTTPS request is being made to host 'selumakab.go.id'. Adding certificate verification is strongly advised. See: https://urllib3.readthedocs.io/en/latest/advanced-usage.html#tls-warnings\n",
            "  warnings.warn(\n",
            "/usr/local/lib/python3.10/dist-packages/urllib3/connectionpool.py:1099: InsecureRequestWarning: Unverified HTTPS request is being made to host 'sis.gov.eg'. Adding certificate verification is strongly advised. See: https://urllib3.readthedocs.io/en/latest/advanced-usage.html#tls-warnings\n",
            "  warnings.warn(\n"
          ]
        },
        {
          "output_type": "stream",
          "name": "stdout",
          "text": [
            "Failed to download page from http://sis.gov.eg/0x.txt\n",
            "Downloading page http://camarariqueza.sc.gov.br...\n",
            "Text saved to output/deface/camarariqueza.sc.gov.br.txt\n",
            "Downloading page http://sco.gov.et/back.txt...\n"
          ]
        },
        {
          "output_type": "stream",
          "name": "stderr",
          "text": [
            "/usr/local/lib/python3.10/dist-packages/urllib3/connectionpool.py:1099: InsecureRequestWarning: Unverified HTTPS request is being made to host 'sco.gov.et'. Adding certificate verification is strongly advised. See: https://urllib3.readthedocs.io/en/latest/advanced-usage.html#tls-warnings\n",
            "  warnings.warn(\n"
          ]
        },
        {
          "output_type": "stream",
          "name": "stdout",
          "text": [
            "Error when dowwloading page http://sco.gov.et/back.txt: 403 Client Error: Forbidden for url: https://sco.gov.et/back.txt\n",
            "Failed to download page from http://sco.gov.et/back.txt\n",
            "Downloading page http://www.vialidadsalta.gob.ar/hook.htm...\n",
            "Error when dowwloading page http://www.vialidadsalta.gob.ar/hook.htm: HTTPConnectionPool(host='www.vialidadsalta.gob.ar', port=80): Max retries exceeded with url: /hook.htm (Caused by ConnectTimeoutError(<urllib3.connection.HTTPConnection object at 0x7e14838292d0>, 'Connection to www.vialidadsalta.gob.ar timed out. (connect timeout=10)'))\n",
            "Failed to download page from http://www.vialidadsalta.gob.ar/hook.htm\n",
            "Downloading page http://thakasuem.go.th/captainsmok3r.jpg...\n",
            "Error when dowwloading page http://thakasuem.go.th/captainsmok3r.jpg: 404 Client Error: Not Found for url: http://thakasuem.go.th/captainsmok3r.jpg\n",
            "Failed to download page from http://thakasuem.go.th/captainsmok3r.jpg\n",
            "Downloading page http://nongian.go.th/captainsmok3r.jpg...\n",
            "Error when dowwloading page http://nongian.go.th/captainsmok3r.jpg: 404 Client Error: Not Found for url: http://nongian.go.th/captainsmok3r.jpg\n",
            "Failed to download page from http://nongian.go.th/captainsmok3r.jpg\n",
            "Downloading page http://kukum.go.th/captainsmok3r.jpg...\n",
            "Error when dowwloading page http://kukum.go.th/captainsmok3r.jpg: 404 Client Error: Not Found for url: http://kukum.go.th/captainsmok3r.jpg\n",
            "Failed to download page from http://kukum.go.th/captainsmok3r.jpg\n",
            "Downloading page http://thangiewcity.go.th/captainsmok...\n",
            "Error when dowwloading page http://thangiewcity.go.th/captainsmok: 404 Client Error: Not Found for url: http://thangiewcity.go.th/captainsmok\n",
            "Failed to download page from http://thangiewcity.go.th/captainsmok\n",
            "Downloading page http://rsudhbachtiardjafar.pemkomedan.gob.pe...\n",
            "Error when dowwloading page http://rsudhbachtiardjafar.pemkomedan.gob.pe: HTTPConnectionPool(host='rsudhbachtiardjafar.pemkomedan.gob.pe', port=80): Max retries exceeded with url: / (Caused by NameResolutionError(\"<urllib3.connection.HTTPConnection object at 0x7e1483829ab0>: Failed to resolve 'rsudhbachtiardjafar.pemkomedan.gob.pe' ([Errno -2] Name or service not known)\"))\n",
            "Failed to download page from http://rsudhbachtiardjafar.pemkomedan.gob.pe\n",
            "Downloading page http://cminhapim.mg.gov.br/mrz.php...\n"
          ]
        },
        {
          "output_type": "stream",
          "name": "stderr",
          "text": [
            "/usr/local/lib/python3.10/dist-packages/urllib3/connectionpool.py:1099: InsecureRequestWarning: Unverified HTTPS request is being made to host 'cminhapim.mg.gov.br'. Adding certificate verification is strongly advised. See: https://urllib3.readthedocs.io/en/latest/advanced-usage.html#tls-warnings\n",
            "  warnings.warn(\n"
          ]
        },
        {
          "output_type": "stream",
          "name": "stdout",
          "text": [
            "Error when dowwloading page http://cminhapim.mg.gov.br/mrz.php: 404 Client Error: Not Found for url: https://cminhapim.mg.gov.br/mrz.php\n",
            "Failed to download page from http://cminhapim.mg.gov.br/mrz.php\n",
            "Downloading page http://oscp.tacloban.gov.ph/mrz.html...\n",
            "Error when dowwloading page http://oscp.tacloban.gov.ph/mrz.html: HTTPConnectionPool(host='oscp.tacloban.gov.ph', port=80): Max retries exceeded with url: /mrz.html (Caused by NameResolutionError(\"<urllib3.connection.HTTPConnection object at 0x7e1483829d80>: Failed to resolve 'oscp.tacloban.gov.ph' ([Errno -5] No address associated with hostname)\"))\n",
            "Failed to download page from http://oscp.tacloban.gov.ph/mrz.html\n",
            "Downloading page http://computerization.mhada.gov.in/m...\n"
          ]
        },
        {
          "output_type": "stream",
          "name": "stderr",
          "text": [
            "/usr/local/lib/python3.10/dist-packages/urllib3/connectionpool.py:1099: InsecureRequestWarning: Unverified HTTPS request is being made to host 'computerization.mhada.gov.in'. Adding certificate verification is strongly advised. See: https://urllib3.readthedocs.io/en/latest/advanced-usage.html#tls-warnings\n",
            "  warnings.warn(\n"
          ]
        },
        {
          "output_type": "stream",
          "name": "stdout",
          "text": [
            "Error when dowwloading page http://computerization.mhada.gov.in/m: 404 Client Error: Not Found for url: https://computerization.mhada.gov.in:443/m\n",
            "Failed to download page from http://computerization.mhada.gov.in/m\n",
            "Downloading page http://paro12.dnp.go.th...\n"
          ]
        },
        {
          "output_type": "stream",
          "name": "stderr",
          "text": [
            "/usr/local/lib/python3.10/dist-packages/urllib3/connectionpool.py:1099: InsecureRequestWarning: Unverified HTTPS request is being made to host 'paro12.dnp.go.th'. Adding certificate verification is strongly advised. See: https://urllib3.readthedocs.io/en/latest/advanced-usage.html#tls-warnings\n",
            "  warnings.warn(\n"
          ]
        },
        {
          "output_type": "stream",
          "name": "stdout",
          "text": [
            "Text saved to output/deface/paro12.dnp.go.th.txt\n",
            "Downloading page http://songkhwae.nan.police.go.th...\n",
            "Error when dowwloading page http://songkhwae.nan.police.go.th: 502 Server Error: Bad Gateway for url: http://songkhwae.nan.police.go.th/\n",
            "Failed to download page from http://songkhwae.nan.police.go.th\n",
            "Downloading page http://munisanantoniodeputina.gob.pe/...\n",
            "Error when dowwloading page http://munisanantoniodeputina.gob.pe/: HTTPConnectionPool(host='munisanantoniodeputina.gob.pe', port=80): Max retries exceeded with url: / (Caused by NameResolutionError(\"<urllib3.connection.HTTPConnection object at 0x7e14844655d0>: Failed to resolve 'munisanantoniodeputina.gob.pe' ([Errno -2] Name or service not known)\"))\n",
            "Failed to download page from http://munisanantoniodeputina.gob.pe/\n",
            "Downloading page http://siga.valenca.ba.gov.br...\n",
            "Error when dowwloading page http://siga.valenca.ba.gov.br: 404 Client Error: Not Found for url: http://siga.valenca.ba.gov.br/\n",
            "Failed to download page from http://siga.valenca.ba.gov.br\n",
            "Downloading page http://dmc.fima.gov.bd/hook.htm...\n",
            "Error when dowwloading page http://dmc.fima.gov.bd/hook.htm: 406 Client Error: Not Acceptable for url: http://dmc.fima.gov.bd/hook.htm\n",
            "Failed to download page from http://dmc.fima.gov.bd/hook.htm\n",
            "Downloading page http://journal.fima.gov.bd/hook.htm...\n",
            "Error when dowwloading page http://journal.fima.gov.bd/hook.htm: 406 Client Error: Not Acceptable for url: http://journal.fima.gov.bd/hook.htm\n",
            "Failed to download page from http://journal.fima.gov.bd/hook.htm\n",
            "Downloading page http://ban-fima-web.fima.gov.bd/hook.htm...\n",
            "Error when dowwloading page http://ban-fima-web.fima.gov.bd/hook.htm: 406 Client Error: Not Acceptable for url: http://ban-fima-web.fima.gov.bd/hook.htm\n",
            "Failed to download page from http://ban-fima-web.fima.gov.bd/hook.htm\n",
            "Downloading page http://course.fima.gov.bd/hook.htm...\n",
            "Error when dowwloading page http://course.fima.gov.bd/hook.htm: 406 Client Error: Not Acceptable for url: http://course.fima.gov.bd/hook.htm\n",
            "Failed to download page from http://course.fima.gov.bd/hook.htm\n",
            "Downloading page http://www.nao.gov.zm...\n",
            "Error when dowwloading page http://www.nao.gov.zm: HTTPConnectionPool(host='www.nao.gov.zm', port=80): Max retries exceeded with url: / (Caused by NameResolutionError(\"<urllib3.connection.HTTPConnection object at 0x7e14844652a0>: Failed to resolve 'www.nao.gov.zm' ([Errno -5] No address associated with hostname)\"))\n",
            "Failed to download page from http://www.nao.gov.zm\n",
            "Downloading page http://bbdmp.gov.np...\n"
          ]
        },
        {
          "output_type": "stream",
          "name": "stderr",
          "text": [
            "/usr/local/lib/python3.10/dist-packages/urllib3/connectionpool.py:1099: InsecureRequestWarning: Unverified HTTPS request is being made to host 'bbdmp.gov.np'. Adding certificate verification is strongly advised. See: https://urllib3.readthedocs.io/en/latest/advanced-usage.html#tls-warnings\n",
            "  warnings.warn(\n"
          ]
        },
        {
          "output_type": "stream",
          "name": "stdout",
          "text": [
            "Text saved to output/deface/bbdmp.gov.np.txt\n",
            "Downloading page http://empalmevillaconstitucion.gob.ar...\n"
          ]
        },
        {
          "output_type": "stream",
          "name": "stderr",
          "text": [
            "/usr/local/lib/python3.10/dist-packages/urllib3/connectionpool.py:1099: InsecureRequestWarning: Unverified HTTPS request is being made to host 'empalmevillaconstitucion.gob.ar'. Adding certificate verification is strongly advised. See: https://urllib3.readthedocs.io/en/latest/advanced-usage.html#tls-warnings\n",
            "  warnings.warn(\n"
          ]
        },
        {
          "output_type": "stream",
          "name": "stdout",
          "text": [
            "Text saved to output/deface/empalmevillaconstitucion.gob.ar.txt\n",
            "Downloading page http://durande.mg.gov.br/mrz.php...\n"
          ]
        },
        {
          "output_type": "stream",
          "name": "stderr",
          "text": [
            "/usr/local/lib/python3.10/dist-packages/urllib3/connectionpool.py:1099: InsecureRequestWarning: Unverified HTTPS request is being made to host 'durande.mg.gov.br'. Adding certificate verification is strongly advised. See: https://urllib3.readthedocs.io/en/latest/advanced-usage.html#tls-warnings\n",
            "  warnings.warn(\n"
          ]
        },
        {
          "output_type": "stream",
          "name": "stdout",
          "text": [
            "Error when dowwloading page http://durande.mg.gov.br/mrz.php: 404 Client Error: Not Found for url: https://durande.mg.gov.br/mrz.php\n",
            "Failed to download page from http://durande.mg.gov.br/mrz.php\n",
            "Downloading page http://www.kukarkab.go.id/asu.txt...\n",
            "Error when dowwloading page http://www.kukarkab.go.id/asu.txt: HTTPConnectionPool(host='www.kukarkab.go.id', port=80): Max retries exceeded with url: /asu.txt (Caused by ConnectTimeoutError(<urllib3.connection.HTTPConnection object at 0x7e148406a740>, 'Connection to www.kukarkab.go.id timed out. (connect timeout=10)'))\n",
            "Failed to download page from http://www.kukarkab.go.id/asu.txt\n",
            "Downloading page http://dgaie.gov.bf/kurd.html...\n"
          ]
        },
        {
          "output_type": "stream",
          "name": "stderr",
          "text": [
            "/usr/local/lib/python3.10/dist-packages/urllib3/connectionpool.py:1099: InsecureRequestWarning: Unverified HTTPS request is being made to host 'dgaie.gov.bf'. Adding certificate verification is strongly advised. See: https://urllib3.readthedocs.io/en/latest/advanced-usage.html#tls-warnings\n",
            "  warnings.warn(\n"
          ]
        },
        {
          "output_type": "stream",
          "name": "stdout",
          "text": [
            "Error when dowwloading page http://dgaie.gov.bf/kurd.html: HTTPSConnectionPool(host='dgaie.gov.bf', port=443): Read timed out. (read timeout=10)\n",
            "Failed to download page from http://dgaie.gov.bf/kurd.html\n"
          ]
        }
      ]
    },
    {
      "cell_type": "markdown",
      "source": [
        "#Text Preprocessing & TF-IDF Calculation"
      ],
      "metadata": {
        "id": "23AVx0EogHQF"
      }
    },
    {
      "cell_type": "code",
      "source": [
        "import os\n",
        "import csv\n",
        "import re\n",
        "import pandas as pd\n",
        "from sklearn.feature_extraction.text import TfidfVectorizer\n",
        "\n",
        "# Path to the folders containing the downloaded files\n",
        "output_folder = '/content/drive/MyDrive/output'\n",
        "safe_folder = os.path.join(output_folder, 'safe')\n",
        "deface_folder = os.path.join(output_folder, 'deface')\n",
        "\n",
        "# Function to get all .txt files in a folder\n",
        "def get_text_files_from_folder(folder):\n",
        "    text_files = []\n",
        "    for root, dirs, files in os.walk(folder):\n",
        "        for file in files:\n",
        "            if file.endswith('.txt'):  # Check if the file is a .txt file\n",
        "                text_files.append(os.path.join(root, file))\n",
        "    return text_files\n",
        "\n",
        "# Preprocessing the text: removing punctuation and converting to lowercase\n",
        "def preprocess_text(text):\n",
        "    text = text.lower()  # Convert all to lowercase\n",
        "    text = re.sub(r'[^\\w\\s]', '', text)  # Remove all punctuation\n",
        "    text = re.sub(r'\\s+', ' ', text)  # Remove extra spaces\n",
        "    return text\n",
        "\n",
        "# Read the text files from the \"safe\" and \"deface\" folders\n",
        "safe_documents = get_text_files_from_folder(safe_folder)\n",
        "deface_documents = get_text_files_from_folder(deface_folder)\n",
        "\n",
        "# Preprocess the text and assign labels\n",
        "all_documents = []\n",
        "labels = []\n",
        "\n",
        "print(\"Processing the documents...\")\n",
        "\n",
        "# Read and preprocess documents from the \"safe\" folder\n",
        "for doc in safe_documents:\n",
        "    with open(doc, 'r', encoding='utf-8') as f:\n",
        "        text = f.read()  # Read the content of the .txt file\n",
        "        processed_text = preprocess_text(text)  # Preprocess the text\n",
        "        all_documents.append(processed_text)\n",
        "        labels.append(0)  # Label for \"safe\" is 0\n",
        "\n",
        "# Read and preprocess documents from the \"deface\" folder\n",
        "for doc in deface_documents:\n",
        "    with open(doc, 'r', encoding='utf-8') as f:\n",
        "        text = f.read()  # Read the content of the .txt file\n",
        "        processed_text = preprocess_text(text)  # Preprocess the text\n",
        "        all_documents.append(processed_text)\n",
        "        labels.append(1)  # Label for \"deface\" is 1\n",
        "\n",
        "# Calculate TF-IDF for all the documents\n",
        "print(\"Calculating TF-IDF...\")\n",
        "vectorizer = TfidfVectorizer(max_features=300, ngram_range=(1, 2), stop_words=None)  # Using unigrams and bigrams\n",
        "tfidf_matrix = vectorizer.fit_transform(all_documents)\n",
        "\n",
        "# Convert the sparse (CSR) matrix to a pandas DataFrame\n",
        "X_df = pd.DataFrame(tfidf_matrix.toarray(), columns=vectorizer.get_feature_names_out())"
      ],
      "metadata": {
        "colab": {
          "base_uri": "https://localhost:8080/"
        },
        "id": "GMY8nMCxhDP7",
        "outputId": "923c6bbb-fb1a-409c-ab89-4e6a67872215"
      },
      "execution_count": null,
      "outputs": [
        {
          "output_type": "stream",
          "name": "stdout",
          "text": [
            "Processing the documents...\n",
            "Calculating TF-IDF...\n"
          ]
        }
      ]
    },
    {
      "cell_type": "markdown",
      "source": [
        "#TRAIN MODELS"
      ],
      "metadata": {
        "id": "M4xYI3nYgOQo"
      }
    },
    {
      "cell_type": "markdown",
      "source": [],
      "metadata": {
        "id": "Trs7raDigOLT"
      }
    },
    {
      "cell_type": "code",
      "source": [
        "!pip install lazypredict"
      ],
      "metadata": {
        "id": "gd5KyMv-gJcb",
        "colab": {
          "base_uri": "https://localhost:8080/"
        },
        "outputId": "e125bbf4-b430-4184-d3b3-d3ba5e0e6c1f"
      },
      "execution_count": null,
      "outputs": [
        {
          "output_type": "stream",
          "name": "stdout",
          "text": [
            "Collecting lazypredict\n",
            "  Downloading lazypredict-0.2.13-py2.py3-none-any.whl.metadata (12 kB)\n",
            "Requirement already satisfied: click in /usr/local/lib/python3.10/dist-packages (from lazypredict) (8.1.7)\n",
            "Requirement already satisfied: scikit-learn in /usr/local/lib/python3.10/dist-packages (from lazypredict) (1.5.2)\n",
            "Requirement already satisfied: pandas in /usr/local/lib/python3.10/dist-packages (from lazypredict) (2.2.2)\n",
            "Requirement already satisfied: tqdm in /usr/local/lib/python3.10/dist-packages (from lazypredict) (4.66.6)\n",
            "Requirement already satisfied: joblib in /usr/local/lib/python3.10/dist-packages (from lazypredict) (1.4.2)\n",
            "Requirement already satisfied: lightgbm in /usr/local/lib/python3.10/dist-packages (from lazypredict) (4.5.0)\n",
            "Requirement already satisfied: xgboost in /usr/local/lib/python3.10/dist-packages (from lazypredict) (2.1.3)\n",
            "Requirement already satisfied: numpy>=1.17.0 in /usr/local/lib/python3.10/dist-packages (from lightgbm->lazypredict) (1.26.4)\n",
            "Requirement already satisfied: scipy in /usr/local/lib/python3.10/dist-packages (from lightgbm->lazypredict) (1.13.1)\n",
            "Requirement already satisfied: python-dateutil>=2.8.2 in /usr/local/lib/python3.10/dist-packages (from pandas->lazypredict) (2.8.2)\n",
            "Requirement already satisfied: pytz>=2020.1 in /usr/local/lib/python3.10/dist-packages (from pandas->lazypredict) (2024.2)\n",
            "Requirement already satisfied: tzdata>=2022.7 in /usr/local/lib/python3.10/dist-packages (from pandas->lazypredict) (2024.2)\n",
            "Requirement already satisfied: threadpoolctl>=3.1.0 in /usr/local/lib/python3.10/dist-packages (from scikit-learn->lazypredict) (3.5.0)\n",
            "Requirement already satisfied: nvidia-nccl-cu12 in /usr/local/lib/python3.10/dist-packages (from xgboost->lazypredict) (2.23.4)\n",
            "Requirement already satisfied: six>=1.5 in /usr/local/lib/python3.10/dist-packages (from python-dateutil>=2.8.2->pandas->lazypredict) (1.16.0)\n",
            "Downloading lazypredict-0.2.13-py2.py3-none-any.whl (12 kB)\n",
            "Installing collected packages: lazypredict\n",
            "Successfully installed lazypredict-0.2.13\n"
          ]
        }
      ]
    },
    {
      "cell_type": "code",
      "source": [
        "from sklearn.model_selection import train_test_split\n",
        "from lazypredict.Supervised import LazyClassifier  # Using LazyPredict\n",
        "from sklearn.metrics import accuracy_score\n",
        "# Split the data into training and testing sets\n",
        "X_train, X_test, y_train, y_test = train_test_split(X_df, labels, test_size=0.2, random_state=15)\n",
        "\n",
        "# Use LazyPredict to try different machine learning models\n",
        "print(\"Using LazyPredict to train models...\")\n",
        "clf = LazyClassifier()\n",
        "models, predictions = clf.fit(X_train, X_test, y_train, y_test)\n",
        "\n",
        "# Print the results from LazyPredict\n",
        "print(models)  # Display the results of models with their accuracies\n",
        "\n",
        "# Save the predictions to a CSV file\n",
        "predictions.to_csv('lazy_predictions.csv', index=False)\n"
      ],
      "metadata": {
        "id": "_S96X1E6fm5g",
        "colab": {
          "base_uri": "https://localhost:8080/"
        },
        "outputId": "27ab7ada-028c-4083-df8c-c54c3e3f058d"
      },
      "execution_count": null,
      "outputs": [
        {
          "output_type": "stream",
          "name": "stderr",
          "text": [
            "/usr/local/lib/python3.10/dist-packages/dask/dataframe/__init__.py:42: FutureWarning: \n",
            "Dask dataframe query planning is disabled because dask-expr is not installed.\n",
            "\n",
            "You can install it with `pip install dask[dataframe]` or `conda install dask`.\n",
            "This will raise in a future version.\n",
            "\n",
            "  warnings.warn(msg, FutureWarning)\n"
          ]
        },
        {
          "output_type": "stream",
          "name": "stdout",
          "text": [
            "Using LazyPredict to train models...\n"
          ]
        },
        {
          "output_type": "stream",
          "name": "stderr",
          "text": [
            " 97%|█████████▋| 30/31 [00:28<00:00,  4.49it/s]"
          ]
        },
        {
          "output_type": "stream",
          "name": "stdout",
          "text": [
            "[LightGBM] [Info] Number of positive: 250, number of negative: 862\n",
            "[LightGBM] [Info] Auto-choosing row-wise multi-threading, the overhead of testing was 0.003699 seconds.\n",
            "You can set `force_row_wise=true` to remove the overhead.\n",
            "And if memory is not enough, you can set `force_col_wise=true`.\n",
            "[LightGBM] [Info] Total Bins 18855\n",
            "[LightGBM] [Info] Number of data points in the train set: 1112, number of used features: 283\n",
            "[LightGBM] [Info] [binary:BoostFromScore]: pavg=0.224820 -> initscore=-1.237794\n",
            "[LightGBM] [Info] Start training from score -1.237794\n",
            "[LightGBM] [Warning] No further splits with positive gain, best gain: -inf\n",
            "[LightGBM] [Warning] No further splits with positive gain, best gain: -inf\n",
            "[LightGBM] [Warning] No further splits with positive gain, best gain: -inf\n"
          ]
        },
        {
          "output_type": "stream",
          "name": "stderr",
          "text": [
            "100%|██████████| 31/31 [00:29<00:00,  1.06it/s]"
          ]
        },
        {
          "output_type": "stream",
          "name": "stdout",
          "text": [
            "[LightGBM] [Warning] No further splits with positive gain, best gain: -inf\n",
            "[LightGBM] [Warning] No further splits with positive gain, best gain: -inf\n",
            "[LightGBM] [Warning] No further splits with positive gain, best gain: -inf\n",
            "                               Accuracy  Balanced Accuracy  ROC AUC  F1 Score  \\\n",
            "Model                                                                           \n",
            "RandomForestClassifier             0.94               0.89     0.89      0.94   \n",
            "PassiveAggressiveClassifier        0.94               0.89     0.89      0.94   \n",
            "ExtraTreesClassifier               0.94               0.89     0.89      0.94   \n",
            "XGBClassifier                      0.94               0.88     0.88      0.94   \n",
            "LogisticRegression                 0.94               0.88     0.88      0.93   \n",
            "LinearSVC                          0.92               0.88     0.88      0.92   \n",
            "LinearDiscriminantAnalysis         0.94               0.87     0.87      0.93   \n",
            "RidgeClassifier                    0.94               0.87     0.87      0.93   \n",
            "RidgeClassifierCV                  0.94               0.87     0.87      0.93   \n",
            "LGBMClassifier                     0.93               0.87     0.87      0.93   \n",
            "Perceptron                         0.92               0.87     0.87      0.92   \n",
            "AdaBoostClassifier                 0.93               0.87     0.87      0.93   \n",
            "DecisionTreeClassifier             0.93               0.87     0.87      0.93   \n",
            "KNeighborsClassifier               0.93               0.87     0.87      0.93   \n",
            "CalibratedClassifierCV             0.92               0.86     0.86      0.92   \n",
            "SGDClassifier                      0.92               0.85     0.85      0.92   \n",
            "SVC                                0.92               0.85     0.85      0.92   \n",
            "ExtraTreeClassifier                0.91               0.85     0.85      0.91   \n",
            "BaggingClassifier                  0.92               0.84     0.84      0.91   \n",
            "GaussianNB                         0.84               0.84     0.84      0.85   \n",
            "NearestCentroid                    0.72               0.80     0.80      0.75   \n",
            "BernoulliNB                        0.71               0.79     0.79      0.73   \n",
            "LabelSpreading                     0.89               0.77     0.77      0.88   \n",
            "LabelPropagation                   0.89               0.77     0.77      0.88   \n",
            "QuadraticDiscriminantAnalysis      0.82               0.73     0.73      0.82   \n",
            "DummyClassifier                    0.77               0.50     0.50      0.67   \n",
            "\n",
            "                               Time Taken  \n",
            "Model                                      \n",
            "RandomForestClassifier               0.39  \n",
            "PassiveAggressiveClassifier          0.06  \n",
            "ExtraTreesClassifier                 0.52  \n",
            "XGBClassifier                        0.63  \n",
            "LogisticRegression                   0.07  \n",
            "LinearSVC                            2.80  \n",
            "LinearDiscriminantAnalysis           0.27  \n",
            "RidgeClassifier                      0.06  \n",
            "RidgeClassifierCV                    0.16  \n",
            "LGBMClassifier                       0.42  \n",
            "Perceptron                           0.05  \n",
            "AdaBoostClassifier                   1.97  \n",
            "DecisionTreeClassifier               0.20  \n",
            "KNeighborsClassifier                 0.06  \n",
            "CalibratedClassifierCV              17.73  \n",
            "SGDClassifier                        0.09  \n",
            "SVC                                  0.19  \n",
            "ExtraTreeClassifier                  0.06  \n",
            "BaggingClassifier                    2.41  \n",
            "GaussianNB                           0.04  \n",
            "NearestCentroid                      0.04  \n",
            "BernoulliNB                          0.20  \n",
            "LabelSpreading                       0.19  \n",
            "LabelPropagation                     0.14  \n",
            "QuadraticDiscriminantAnalysis        0.14  \n",
            "DummyClassifier                      0.05  \n"
          ]
        },
        {
          "output_type": "stream",
          "name": "stderr",
          "text": [
            "\n"
          ]
        }
      ]
    },
    {
      "cell_type": "markdown",
      "source": [
        "#RANDOM FOREST MODEL"
      ],
      "metadata": {
        "id": "XeRCryzEgQKq"
      }
    },
    {
      "cell_type": "code",
      "source": [
        "from sklearn.ensemble import RandomForestClassifier\n",
        "from sklearn.metrics import accuracy_score\n",
        "from sklearn.model_selection import train_test_split\n",
        "\n",
        "# Create the RandomForestClassifier model\n",
        "model = RandomForestClassifier()\n",
        "\n",
        "# Train the model on the training set\n",
        "print(\"Training the RandomForestClassifier model...\")\n",
        "model.fit(X_train, y_train)\n",
        "\n",
        "# Make predictions on the test set\n",
        "y_pred = model.predict(X_test)\n",
        "\n",
        "# Evaluate the model\n",
        "accuracy = accuracy_score(y_test, y_pred)\n",
        "print(f\"Accuracy of the RandomForestClassifier model: {accuracy * 100:.2f}%\")\n"
      ],
      "metadata": {
        "colab": {
          "base_uri": "https://localhost:8080/"
        },
        "id": "9XzCCo2si7ct",
        "outputId": "2e181d7a-4761-4ef4-8114-b883e8b70761"
      },
      "execution_count": null,
      "outputs": [
        {
          "output_type": "stream",
          "name": "stdout",
          "text": [
            "Training the RandomForestClassifier model...\n",
            "Accuracy of the RandomForestClassifier model: 93.53%\n"
          ]
        }
      ]
    },
    {
      "cell_type": "markdown",
      "source": [
        "#SAVE MODELS"
      ],
      "metadata": {
        "id": "CVxFB6dLzNcG"
      }
    },
    {
      "cell_type": "code",
      "source": [
        "import joblib  # For saving the model and vectorizer"
      ],
      "metadata": {
        "id": "Ky0QdXPruzMX"
      },
      "execution_count": null,
      "outputs": []
    },
    {
      "cell_type": "code",
      "source": [
        "\n",
        "# Save the model and vectorizer\n",
        "joblib.dump(model, \"/content/drive/MyDrive/model/random_forest_model.pkl\")\n",
        "joblib.dump(vectorizer, \"/content/drive/MyDrive/model/tfidf_vectorizer.pkl\")"
      ],
      "metadata": {
        "colab": {
          "base_uri": "https://localhost:8080/"
        },
        "id": "JYNfTn-btiHm",
        "outputId": "8ce7aa33-6fac-4085-f461-52f851e79700"
      },
      "execution_count": null,
      "outputs": [
        {
          "output_type": "execute_result",
          "data": {
            "text/plain": [
              "['/content/drive/MyDrive/model/tfidf_vectorizer.pkl']"
            ]
          },
          "metadata": {},
          "execution_count": 21
        }
      ]
    },
    {
      "cell_type": "markdown",
      "source": [
        "#PREDICT"
      ],
      "metadata": {
        "id": "27BSZmqrgULv"
      }
    },
    {
      "cell_type": "code",
      "source": [
        "# Function to predict the class of a new URL\n",
        "def predict_url(url, model, vectorizer):\n",
        "    # Download the webpage content\n",
        "    html_content = download_page(url)\n",
        "\n",
        "    if html_content:\n",
        "        # Extract text from HTML\n",
        "        body_text = extract_text_from_html(html_content)\n",
        "\n",
        "        # Preprocess the text\n",
        "        processed_text = preprocess_text(body_text)\n",
        "\n",
        "        # Convert the text to a TF-IDF vector\n",
        "        tfidf_vector = vectorizer.transform([processed_text])\n",
        "\n",
        "        # Predict the label (0: safe, 1: deface)\n",
        "        prediction = model.predict(tfidf_vector)\n",
        "\n",
        "        return prediction[0]  # Return the predicted label (0 or 1)\n",
        "    else:\n",
        "        return None  # If the page cannot be loaded, return None"
      ],
      "metadata": {
        "id": "vUmobPUQjLnj"
      },
      "execution_count": null,
      "outputs": []
    },
    {
      "cell_type": "code",
      "source": [
        "# Example URL prediction\n",
        "test_url = \"https://vnexpress.net/\"  # Replace this URL with the one you want to check\n",
        "prediction = predict_url(test_url, model, vectorizer)\n",
        "\n",
        "if prediction is not None:\n",
        "    print(f\"URL: {test_url}\")\n",
        "    if prediction == 0:\n",
        "        print(\"Predicted class: Safe\")\n",
        "    else:\n",
        "        print(\"Predicted class: Deface\")\n",
        "else:\n",
        "    print(f\"Could not download the page from {test_url}\")"
      ],
      "metadata": {
        "colab": {
          "base_uri": "https://localhost:8080/"
        },
        "id": "1__HSieqV_OO",
        "outputId": "c3f7787f-d93e-48df-febe-613320f3d23f"
      },
      "execution_count": null,
      "outputs": [
        {
          "output_type": "stream",
          "name": "stdout",
          "text": [
            "URL: https://vnexpress.net/\n",
            "Predicted class: Safe\n"
          ]
        }
      ]
    },
    {
      "cell_type": "code",
      "source": [
        "# Example URL prediction\n",
        "test_url = \"https://primarias.voto/index.html\"  # Replace this URL with the one you want to check\n",
        "prediction = predict_url(test_url, model, vectorizer)\n",
        "\n",
        "if prediction is not None:\n",
        "    print(f\"URL: {test_url}\")\n",
        "    if prediction == 0:\n",
        "        print(\"Predicted class: Safe\")\n",
        "    else:\n",
        "        print(\"Predicted class: Deface\")\n",
        "else:\n",
        "    print(f\"Could not download the page from {test_url}\")\n"
      ],
      "metadata": {
        "colab": {
          "base_uri": "https://localhost:8080/"
        },
        "id": "8NkxhUGBWBgC",
        "outputId": "43bb3ffa-03a5-4873-b725-f4f527bf4a50"
      },
      "execution_count": null,
      "outputs": [
        {
          "output_type": "stream",
          "name": "stdout",
          "text": [
            "URL: https://primarias.voto/index.html\n",
            "Predicted class: Deface\n"
          ]
        }
      ]
    },
    {
      "cell_type": "markdown",
      "source": [
        "#WEB\n"
      ],
      "metadata": {
        "id": "h2d-3AxVzSLN"
      }
    },
    {
      "cell_type": "code",
      "source": [
        "!pip install pyngrok\n"
      ],
      "metadata": {
        "colab": {
          "base_uri": "https://localhost:8080/"
        },
        "id": "dEGEOy2lu-Pr",
        "outputId": "10f67038-13a2-4ee2-8a05-f626549bb4c4"
      },
      "execution_count": null,
      "outputs": [
        {
          "output_type": "stream",
          "name": "stdout",
          "text": [
            "Collecting pyngrok\n",
            "  Downloading pyngrok-7.2.1-py3-none-any.whl.metadata (8.3 kB)\n",
            "Requirement already satisfied: PyYAML>=5.1 in /usr/local/lib/python3.10/dist-packages (from pyngrok) (6.0.2)\n",
            "Downloading pyngrok-7.2.1-py3-none-any.whl (22 kB)\n",
            "Installing collected packages: pyngrok\n",
            "Successfully installed pyngrok-7.2.1\n"
          ]
        }
      ]
    },
    {
      "cell_type": "code",
      "source": [
        "from flask import Flask, request, render_template, jsonify\n",
        "from pyngrok import ngrok\n",
        "import joblib\n",
        "import requests\n",
        "from bs4 import BeautifulSoup\n",
        "import re\n",
        "import os\n",
        "# Ensure the URL has a proper scheme\n",
        "from urllib.parse import urlparse, unquote\n",
        "\n",
        "# Load the model and vectorizer\n",
        "model = joblib.load(\"/content/drive/MyDrive/model/random_forest_model.pkl\")  # Ensure the file is uploaded correctly in Colab\n",
        "vectorizer = joblib.load(\"/content/drive/MyDrive/model/tfidf_vectorizer.pkl\")\n",
        "\n",
        "# Flask app\n",
        "app = Flask(__name__, template_folder='/content/drive/MyDrive')  # Provide the correct template folder path\n",
        "\n",
        "def download_page(url):\n",
        "    try:\n",
        "        response = requests.get(url, timeout=10)\n",
        "        response.raise_for_status()\n",
        "        return response.text\n",
        "    except requests.exceptions.RequestException as e:\n",
        "        print(f\"Error when downloading page {url}: {e}\")\n",
        "        return None\n",
        "\n",
        "# Preprocessing function\n",
        "def clean_text(text):\n",
        "    text = text.lower()  # Convert to lowercase\n",
        "    text = re.sub(r'[^\\w\\s]', '', text)  # Remove all punctuation\n",
        "    text = re.sub(r'\\s+', ' ', text)  # Remove extra spaces\n",
        "    return text\n",
        "\n",
        "# Extract text from HTML content\n",
        "def extract_text_from_html(html_content):\n",
        "    soup = BeautifulSoup(html_content, 'html.parser')\n",
        "\n",
        "    # Extract <body>\n",
        "    body_text = soup.body.get_text(separator=' ', strip=True) if soup.body else \"\"\n",
        "\n",
        "    # Extract <title>\n",
        "    if not body_text:\n",
        "        title = soup.title.get_text(separator=' ', strip=True) if soup.title else \"\"\n",
        "        body_text = title\n",
        "\n",
        "    # Extract main content (e.g., <article>, <section>, <p>, <h1>, <h2>, <h3>)\n",
        "    if not body_text:\n",
        "        paragraphs = soup.find_all(['article', 'section', 'p', 'h1', 'h2', 'h3'])\n",
        "        if paragraphs:\n",
        "            body_text = ' '.join([p.get_text(separator=' ', strip=True) for p in paragraphs])\n",
        "\n",
        "    # Extract <header>, <footer> if necessary\n",
        "    if not body_text:\n",
        "        header_footer = soup.find_all(['header', 'footer'])\n",
        "        if header_footer:\n",
        "            body_text = ' '.join([hf.get_text(separator=' ', strip=True) for hf in header_footer])\n",
        "\n",
        "    # Extract <meta name=\"description\">\n",
        "    if not body_text:\n",
        "        meta_desc = soup.find('meta', {'name': 'description'})\n",
        "        if meta_desc and meta_desc.get('content'):\n",
        "            body_text = meta_desc['content']\n",
        "\n",
        "    # Extract <main>\n",
        "    if not body_text:\n",
        "        main_content = soup.find('main')\n",
        "        if main_content:\n",
        "            body_text = main_content.get_text(separator=' ', strip=True)\n",
        "\n",
        "    # Extract others if nothing is found\n",
        "    if not body_text:\n",
        "        body_text = soup.get_text(separator=' ', strip=True)\n",
        "\n",
        "    return clean_text(body_text)\n",
        "\n",
        "def preprocess_text(text):\n",
        "    text = text.lower()  # Convert all to lowercase\n",
        "    text = re.sub(r'[^\\w\\s]', '', text)  # Remove all punctuation\n",
        "    text = re.sub(r'\\s+', ' ', text)  # Remove extra spaces\n",
        "    return text\n",
        "\n",
        "\n",
        "\n",
        "def ensure_https(url):\n",
        "    # Remove spaces and decode encoded spaces\n",
        "    url = unquote(url).strip()  # Decode '%20' into actual spaces and remove unnecessary spaces\n",
        "    parsed_url = urlparse(url)\n",
        "\n",
        "    if not parsed_url.scheme:\n",
        "        url = \"https://\" + url\n",
        "    return url\n",
        "\n",
        "\n",
        "\n",
        "@app.route(\"/\", methods=[\"GET\", \"POST\"])\n",
        "def home():\n",
        "    if request.method == \"POST\":\n",
        "        url = request.form.get(\"url\", \"\")\n",
        "        if not url:\n",
        "            return render_template(\"index.html\", result=\"URL is required.\", result_class=\"error\")\n",
        "\n",
        "        # Ensure URL has the correct scheme\n",
        "        url = ensure_https(url)\n",
        "\n",
        "        html_content = download_page(url)\n",
        "        if html_content:\n",
        "            body_text = extract_text_from_html(html_content)\n",
        "            processed_text = preprocess_text(body_text)\n",
        "\n",
        "            tfidf_vector = vectorizer.transform([processed_text])\n",
        "            prediction = model.predict(tfidf_vector)[0]\n",
        "\n",
        "            if prediction == 0:\n",
        "                result = \"Safe (No Defacement Detected)\"\n",
        "                result_class = \"safe\"\n",
        "            else:\n",
        "                result = \"Deface Detected!\"\n",
        "                result_class = \"deface\"\n",
        "        else:\n",
        "            result = f\"Could not download the page from {url}.\"\n",
        "            result_class = \"error\"\n",
        "\n",
        "        return render_template(\"index.html\", result=result, result_class=result_class)\n",
        "    return render_template(\"index.html\", result=None)\n",
        "\n",
        "\n",
        "if __name__ == \"__main__\":\n",
        "    ngrok.set_auth_token(\"2q1Br34fuBE00tx7ALzcygJbJOG_gurkXnznNgBjaj1e5mAU\")\n",
        "    public_url = ngrok.connect(5000)\n",
        "    print(f\"Public URL: {public_url}\")\n",
        "    app.run()\n"
      ],
      "metadata": {
        "colab": {
          "base_uri": "https://localhost:8080/"
        },
        "id": "ExNzXtUOu41C",
        "outputId": "1e87fb76-131b-4f88-9672-828797a5a144"
      },
      "execution_count": null,
      "outputs": [
        {
          "metadata": {
            "tags": null
          },
          "name": "stdout",
          "output_type": "stream",
          "text": [
            "Public URL: NgrokTunnel: \"https://9006-34-16-186-74.ngrok-free.app\" -> \"http://localhost:5000\"\n",
            " * Serving Flask app '__main__'\n",
            " * Debug mode: off\n"
          ]
        },
        {
          "metadata": {
            "tags": null
          },
          "name": "stderr",
          "output_type": "stream",
          "text": [
            "INFO:werkzeug:\u001b[31m\u001b[1mWARNING: This is a development server. Do not use it in a production deployment. Use a production WSGI server instead.\u001b[0m\n",
            " * Running on http://127.0.0.1:5000\n",
            "INFO:werkzeug:\u001b[33mPress CTRL+C to quit\u001b[0m\n",
            "INFO:werkzeug:127.0.0.1 - - [10/Dec/2024 13:59:10] \"GET / HTTP/1.1\" 200 -\n",
            "INFO:werkzeug:127.0.0.1 - - [10/Dec/2024 13:59:10] \"\u001b[33mGET /favicon.ico HTTP/1.1\u001b[0m\" 404 -\n",
            "INFO:werkzeug:127.0.0.1 - - [10/Dec/2024 13:59:15] \"POST / HTTP/1.1\" 200 -\n",
            "INFO:werkzeug:127.0.0.1 - - [10/Dec/2024 13:59:28] \"POST / HTTP/1.1\" 200 -\n"
          ]
        }
      ]
    }
  ]
}